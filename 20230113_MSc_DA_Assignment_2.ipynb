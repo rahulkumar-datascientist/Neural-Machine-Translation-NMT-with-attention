{
  "nbformat": 4,
  "nbformat_minor": 0,
  "metadata": {
    "colab": {
      "name": "20230113_MSc_DA_Assignment_2.ipynb",
      "provenance": [],
      "collapsed_sections": [],
      "machine_shape": "hm",
      "include_colab_link": true
    },
    "kernelspec": {
      "display_name": "Python 3",
      "language": "python",
      "name": "python3"
    },
    "language_info": {
      "codemirror_mode": {
        "name": "ipython",
        "version": 3
      },
      "file_extension": ".py",
      "mimetype": "text/x-python",
      "name": "python",
      "nbconvert_exporter": "python",
      "pygments_lexer": "ipython3",
      "version": "3.8.3"
    },
    "accelerator": "TPU"
  },
  "cells": [
    {
      "cell_type": "markdown",
      "metadata": {
        "id": "view-in-github",
        "colab_type": "text"
      },
      "source": [
        "<a href=\"https://colab.research.google.com/github/rahulkumar-datascientist/Neural-Machine-Translation-NMT-with-attention/blob/main/20230113_MSc_DA_Assignment_2.ipynb\" target=\"_parent\"><img src=\"https://colab.research.google.com/assets/colab-badge.svg\" alt=\"Open In Colab\"/></a>"
      ]
    },
    {
      "cell_type": "markdown",
      "metadata": {
        "id": "BYQt0nUEbAgN"
      },
      "source": [
        "**Assignment 2** focuses on the training on a Neural Machine Translation (NMT) system with an attention model.\n",
        "\n",
        "This is an **individual assignment** and usual rules for plagiarism apply! With this you agree that: \"In submitting this work I confirm that it is entirely my own. I acknowledge that I may be invited to online interview if there is any concern in relation to the integrity of my exam.\" \n",
        "\n",
        "**Write comments and documentation.**\n",
        "\n"
      ]
    },
    {
      "cell_type": "markdown",
      "metadata": {
        "id": "edpSZ3reAGs1"
      },
      "source": [
        "## Mounting Drive and setting paths"
      ]
    },
    {
      "cell_type": "code",
      "metadata": {
        "colab": {
          "base_uri": "https://localhost:8080/"
        },
        "id": "AeIEe9pD2-WX",
        "outputId": "4d4cbf1f-e3a1-4dd8-b44f-4e53552d276f"
      },
      "source": [
        "from tensorflow.python import keras\n",
        "print(keras.__version__)"
      ],
      "execution_count": null,
      "outputs": [
        {
          "output_type": "stream",
          "text": [
            "2.5.0\n"
          ],
          "name": "stdout"
        }
      ]
    },
    {
      "cell_type": "code",
      "metadata": {
        "colab": {
          "base_uri": "https://localhost:8080/"
        },
        "id": "Kdi-y9QtAYMY",
        "outputId": "54644daf-8878-45ae-f7f4-db556de3ebb3"
      },
      "source": [
        "from google.colab import drive\n",
        "drive.mount('/content/drive')"
      ],
      "execution_count": null,
      "outputs": [
        {
          "output_type": "stream",
          "text": [
            "Drive already mounted at /content/drive; to attempt to forcibly remount, call drive.mount(\"/content/drive\", force_remount=True).\n"
          ],
          "name": "stdout"
        }
      ]
    },
    {
      "cell_type": "code",
      "metadata": {
        "id": "EJSwrfddJyCX",
        "colab": {
          "base_uri": "https://localhost:8080/"
        },
        "outputId": "4cc8de8e-5650-4faa-f3cc-c00f324b0099"
      },
      "source": [
        "#Changing the directory on file to access the files\n",
        "%cd /content/drive/MyDrive/Colab Notebooks/NUIG/NLP/Assignment 2"
      ],
      "execution_count": null,
      "outputs": [
        {
          "output_type": "stream",
          "text": [
            "/content/drive/MyDrive/Colab Notebooks/NUIG/NLP/Assignment 2\n"
          ],
          "name": "stdout"
        }
      ]
    },
    {
      "cell_type": "markdown",
      "metadata": {
        "id": "d33hukl0w-Nh"
      },
      "source": [
        "## Section 1- Data Collection and Preprocessing \n",
        "\n",
        "\n",
        "---\n"
      ]
    },
    {
      "cell_type": "code",
      "metadata": {
        "id": "UDo8Z-Yi_L8b"
      },
      "source": [
        "# Loading necessary libraries\n",
        "\n",
        "import pandas as pd\n",
        "import numpy as np, array\n",
        "import keras\n",
        "import string\n",
        "import matplotlib.pyplot as plt\n",
        "from sklearn.model_selection import train_test_split\n",
        "from keras.models import Model\n",
        "from keras.layers import Input, LSTM, Dense, Embedding, Activation, dot, concatenate, TimeDistributed\n",
        "import nltk"
      ],
      "execution_count": null,
      "outputs": []
    },
    {
      "cell_type": "markdown",
      "metadata": {
        "id": "uAFJXKQaeN-d"
      },
      "source": [
        "**Task 1  (5 marks)**\n",
        "\n",
        "---\n",
        "\n",
        "There are few datasets to train an NMT system available from the OPUS project (http://opus.nlpl.eu/).\n",
        "\n",
        "*  Download a language pair (preferably European language) and **extract** the file(s) and upload it to CoLab\n",
        "*  Create a list of lines by splitting the text file at every occurrence accordingly, i.e. source and target language\n",
        "*  Print number of sentences\n",
        "*  Limit the number of sentences to 10,000 lines (but more than 5,000 lines)\n",
        "*  Split the data into train, development and test set\n",
        "*  Print 100th sentence in original script for source and target language"
      ]
    },
    {
      "cell_type": "markdown",
      "metadata": {
        "id": "Z_N99HYlCFFc"
      },
      "source": [
        "\n",
        "---\n",
        "Language Selected: **English - Dutch**\n",
        "\n",
        "Source: https://opus.nlpl.eu/ \n",
        "\n",
        "**Corpus: Tatoeba v2021-03-10 -- en(English) - nl(Dutch)** \n",
        "\n",
        "NOTE: Downloaded zip file from moses link -> extracted files and renamed them to **english.txt** and **dutch.txt** \n",
        "\n",
        "---"
      ]
    },
    {
      "cell_type": "code",
      "metadata": {
        "id": "dwBg6wTSEcg3"
      },
      "source": [
        "# extracting the source and target lines from the text file\n",
        "\n",
        "# SOURCE Language : list of lines\n",
        "with open(\"English - Dutch/english.txt\" , 'r', encoding='utf-8') as english_file:\n",
        "  source = english_file.read().split('\\n')         \n",
        "\n",
        "# TARGET Language : list of lines\n",
        "with open(\"English - Dutch/dutch.txt\" , 'r', encoding='utf-8') as dutch_file:\n",
        "  target = dutch_file.read().split('\\n')         "
      ],
      "execution_count": null,
      "outputs": []
    },
    {
      "cell_type": "code",
      "metadata": {
        "id": "wIxhddYKZUam"
      },
      "source": [
        "# Since there are long sentences in the file, choosing 10K random sentences \n",
        "# is resulting in huge vocabulary and google colab is crashing.  \n",
        "# Thus filter sentences which have max length <= 8\n",
        "\n",
        "source_lines = []            # The filtered SOURCE sentences \n",
        "target_lines = []            # The filtered TARGET sentences\n",
        "\n",
        "# loop to filter the sentences\n",
        "for line in range(len(source)):\n",
        "  if(len(source[line].split()) > 0 and len(source[line].split()) <=8  and len(target[line].split()) > 0 and len(target[line].split()) <= 8):\n",
        "    source_lines.append(source[line])\n",
        "    target_lines.append(target[line])\n",
        "    \n",
        "    # if no. of sentences == 10K -> stop filtering\n",
        "    if(len(source_lines) == 10000): \n",
        "      break "
      ],
      "execution_count": null,
      "outputs": []
    },
    {
      "cell_type": "code",
      "metadata": {
        "colab": {
          "base_uri": "https://localhost:8080/"
        },
        "id": "ZWU6XYDqY6qs",
        "outputId": "b347c7a0-3d62-4387-b983-2b3ba8eef894"
      },
      "source": [
        "# Original number of sentences in SOURCE and TARGET files \n",
        "print(\"Source (English): Total Number of Sentences:\", len(source))                      # 74058 sentences\n",
        "print(\"Target (Dutch): Total Number of Sentences:\", len(target))                        # 74058 sentences\n",
        "\n",
        "# Filtered number of sentences in SOURCE and TARGET files \n",
        "print(\"\\nSource (English): Filtered Number of Sentences:\", len(source_lines))           # 10000 sentences                       \n",
        "print(\"Target (Dutch): Filtered Number of Sentences:\", len(target_lines))               # 10000 sentences\n",
        "\n",
        "# Print 100th sentence in original SOURCE and TARGET files\n",
        "print(\"\\nSource (English): 100th Sentence: \", source_lines[99])\n",
        "print(\"Target (Dutch): 100th Sentence: \", target_lines[99])"
      ],
      "execution_count": null,
      "outputs": [
        {
          "output_type": "stream",
          "text": [
            "Source (English): Total Number of Sentences: 74058\n",
            "Target (Dutch): Total Number of Sentences: 74058\n",
            "\n",
            "Source (English): Filtered Number of Sentences: 10000\n",
            "Target (Dutch): Filtered Number of Sentences: 10000\n",
            "\n",
            "Source (English): 100th Sentence:  Can it be phrased in another way? \n",
            "Target (Dutch): 100th Sentence:  Kan het op een andere manier verwoord worden? \n"
          ],
          "name": "stdout"
        }
      ]
    },
    {
      "cell_type": "markdown",
      "metadata": {
        "id": "XHECLqIDBowC"
      },
      "source": [
        "**NOTE**: I have performed Train-Test-validation spilt in next section after all the text pre-processing"
      ]
    },
    {
      "cell_type": "markdown",
      "metadata": {
        "id": "x63IEWjUxkJj"
      },
      "source": [
        "---\n",
        "**Task 2 (5 marks)** \n",
        "\n",
        "---\n",
        "\n",
        "* Add '<bof\\>' to denote beginning of sentence and '<eos\\>' to denote the end of the sentence to each target line.\n",
        "* Perform the pre-processing step of the text.\n",
        "* Print the last 5 sentences of the preprocessed text.\n",
        "* Print statistics on the selected dataset:\n",
        "  * Number of samples\n",
        "  * Number of unique source language tokens\n",
        "  * Number of unique target language tokens\n",
        "  * Max sequence length of source language\n",
        "  * Max sequence length of target language\n",
        "  * Source Vocabulary\n",
        "  * Target Vocabulary\n",
        "\n",
        "\n",
        "\n"
      ]
    },
    {
      "cell_type": "code",
      "metadata": {
        "id": "DKWLu6vwXTV1"
      },
      "source": [
        "# PREPROCESSING - function to remove punctuation characters from the sentences\n",
        "# This is done because punctuations interfere during translation , Thus removing for simplicity\n",
        "def punctuations(sentence):\n",
        "  punct_chars =  '''!\"@€#$%&()*+,-./:;<=>?@[\\]^_`{|}~„''' \n",
        "\n",
        "  # remove punctuation from the string\n",
        "  no_punct = \"\"\n",
        "  for char in sentence:\n",
        "    if char not in punct_chars:\n",
        "      no_punct = no_punct + char\n",
        "  \n",
        "  return(no_punct)"
      ],
      "execution_count": null,
      "outputs": []
    },
    {
      "cell_type": "code",
      "metadata": {
        "id": "KtpvTTIcifPI"
      },
      "source": [
        "# Defining the SOURCE & TARGET sets to store the vocabulary of complete dataset\n",
        "source_vocab = set()\n",
        "target_vocab = set()\n",
        "\n",
        "# Pre-processing the SOURCE and TARGET sentences for the original lines\n",
        "# Converting to lowercase and removing leading and trailing whitespaces\n",
        "source_lines = [line.lower().strip() for line in source_lines]\n",
        "target_lines = [line.lower().strip() for line in target_lines]\n",
        "\n",
        "# removing punctuations\n",
        "source_lines = [punctuations(line) for line in source_lines]\n",
        "target_lines = [punctuations(line) for line in target_lines]\n",
        "\n",
        "# Adding '<bof>' to denote beginning of sentence and '<eos>' to denote the end of the sentence to each target line.\n",
        "target_lines = ['<bof> ' + target + ' <eos>' for target in target_lines]\n",
        "\n",
        "# creating the vocab set for SOURCE\n",
        "for line in source_lines:                        # for each line in source\n",
        "  words_per_line = line.split()                  # split the line to get the individual words\n",
        "  for word in words_per_line:                    # for each individual words\n",
        "    if word not in source_vocab:                 # add to dictionary if not already present\n",
        "      source_vocab.add(word)\n",
        "\n",
        "# creating the vocab set for TARGET, same as above\n",
        "for line in target_lines:                        \n",
        "  words_per_line = line.split()\n",
        "  for word in words_per_line:\n",
        "    if word not in target_vocab:\n",
        "      target_vocab.add(word)"
      ],
      "execution_count": null,
      "outputs": []
    },
    {
      "cell_type": "code",
      "metadata": {
        "colab": {
          "base_uri": "https://localhost:8080/"
        },
        "id": "3-tI3AMWvKiK",
        "outputId": "e4235d40-ac01-4f78-bfd7-08e40ef1b88c"
      },
      "source": [
        "# Last 5 sentences after preprocessing\n",
        "# SOURCE lines\n",
        "print(\"Last 5 sentences from preprocessed SOURCE - English\")\n",
        "i = 4\n",
        "for line in source_lines[-5:]:\n",
        "  print(\"sentence \", len(source_lines)-i, \": \", line)\n",
        "  i-=1\n",
        "\n",
        "# TARGET lines\n",
        "print(\"\\nLast 5 sentences from preprocessed TARGET - Dutch\")\n",
        "i = 4\n",
        "for line in target_lines[-5:]:\n",
        "  print(\"sentence \", len(target_lines)-i, \": \", line)\n",
        "  i-=1 "
      ],
      "execution_count": null,
      "outputs": [
        {
          "output_type": "stream",
          "text": [
            "Last 5 sentences from preprocessed SOURCE - English\n",
            "sentence  9996 :  money counts for much in political circles\n",
            "sentence  9997 :  what is the relationship between politics and war\n",
            "sentence  9998 :  the government was overthrown\n",
            "sentence  9999 :  government officials inspected all factories\n",
            "sentence  10000 :  stars are shining in the sky\n",
            "\n",
            "Last 5 sentences from preprocessed TARGET - Dutch\n",
            "sentence  9996 :  <bof> geld is erg belangrijk in politieke kringen <eos>\n",
            "sentence  9997 :  <bof> wat is de relatie tussen politiek en oorlog <eos>\n",
            "sentence  9998 :  <bof> de regering werd omvergeworpen <eos>\n",
            "sentence  9999 :  <bof> regeringsleden inspecteerden alle fabrieken <eos>\n",
            "sentence  10000 :  <bof> sterren stralen aan de hemel <eos>\n"
          ],
          "name": "stdout"
        }
      ]
    },
    {
      "cell_type": "code",
      "metadata": {
        "id": "nUBiQSX81-wY",
        "colab": {
          "base_uri": "https://localhost:8080/"
        },
        "outputId": "60b80298-d536-4480-8d30-bda065648437"
      },
      "source": [
        "# Statistics of the dataset -- Reference Lab 8\n",
        "# SOURCE and TARGET vocabulary as sorted list \n",
        "source_vocab = sorted(list(source_vocab))            \n",
        "target_vocab = sorted(list(target_vocab))\n",
        "\n",
        "# Number of Encoder and Decoder tokens\n",
        "len_source_vocab = len(source_vocab)+1                # 4483 tokens\n",
        "len_target_vocab = len(target_vocab)+1                # 5597 tokens\n",
        "\n",
        "# Max sequence length for Encoder and Decoder\n",
        "max_seq_len_source = max([len(line.split()) for line in source_lines])      # 8\n",
        "max_seq_len_target = max([len(line.split()) for line in target_lines])      # 10\n",
        "\n",
        "print('Number of samples\\t\\t\\t:', len(source_lines))\n",
        "print('Number of unique SOURCE language tokens\\t:', len_source_vocab)\n",
        "print('Number of unique TARGET language tokens\\t:', len_target_vocab)\n",
        "print('Max sequence length of SOURCE language\\t:', max_seq_len_source)\n",
        "print('Max sequence length of TARGET language\\t:', max_seq_len_target)\n",
        "print(\"Source Vocabulary\\t\\t\\t:\",source_vocab)\n",
        "print(\"Target Vocabulary\\t\\t\\t:\",target_vocab)"
      ],
      "execution_count": null,
      "outputs": [
        {
          "output_type": "stream",
          "text": [
            "Number of samples\t\t\t: 10000\n",
            "Number of unique SOURCE language tokens\t: 4483\n",
            "Number of unique TARGET language tokens\t: 5597\n",
            "Max sequence length of SOURCE language\t: 8\n",
            "Max sequence length of TARGET language\t: 10\n",
            "Source Vocabulary\t\t\t: [\"''\", \"'a'\", \"'ahhh'\", \"'and'\", \"'b'\", '0', '1', '10', '100', '1000', '10000', '10minute', '1100', '111', '119', '12', '1245', '133', '15', '1603', '1650', '1853', '1888', '19', '1910', '1920', '1939', '1943', '1945', '1955', '1957', '1963', '1970', '1972', '1975', '1976', '1977', '1979', '1985', '1990', '2', '20', '200', '2000', '20000', '213', '22', '25', '25000', '25th', '26', '27', '28th', '3', '30', '37', '4', '5', '50', '500', '54', '6', '60', '600', '61', '8', '80', '810', '830', '839', '9', '900', 'a', \"a's\", 'abandon', 'abating', 'abbreviation', 'abc', 'ability', 'able', 'abnormal', 'abnormality', 'aboard', 'abolish', 'abolished', 'abortions', 'abound', 'abounds', 'about', 'above', 'abroad', 'absence', 'absent', 'absented', 'absolutely', 'absolves', 'absorbs', 'abstained', 'abused', 'accelerate', 'accept', 'acceptable', 'accepted', 'access', 'accessible', 'accident', 'accidents', 'accompanied', 'accompany', 'accord', 'according', 'account', 'accounts', 'accurate', 'accused', 'accustomed', 'ache', 'achieved', 'acid', 'acquaintance', 'acquainted', 'acquired', 'across', 'act', 'acted', 'action', 'actions', 'active', 'activity', 'actor', 'actress', 'acts', 'actual', 'actually', 'adapted', 'add', 'addict', 'addition', 'address', 'adds', 'adequate', 'adjacent', 'adjoins', 'admire', 'admirers', 'admit', 'adolescents', 'adore', 'adorn', 'adulterated', 'advance', 'advanced', 'advantage', 'advice', 'advise', 'advised', 'affair', 'afford', 'afraid', 'africa', 'after', 'afternoon', 'again', 'against', 'age', 'agency', 'agent', 'ages', 'aggravate', 'aggressive', 'ago', 'agree', 'ah', 'ahead', 'aids', 'aim', 'aimed', \"ain't\", 'air', 'airlines', 'airplane', 'airport', 'airship', 'akiko', 'akin', 'alarm', 'album', 'alcohol', 'alex', 'alice', 'aliens', 'alike', 'alive', 'all', \"all's\", 'allen', 'allergic', 'allergy', 'alley', 'alliance', 'allied', 'allow', 'allowed', 'alloy', 'almost', 'alone', 'along', 'alphabet', 'alps', 'already', 'also', 'alternative', 'always', 'am', 'amazed', 'amazing', 'ambulance', 'amend', 'amended', 'america', 'american', 'americans', 'among', 'amount', 'amounted', 'amplifier', 'amused', 'an', 'analogous', 'ancient', 'and', 'andy', 'angel', 'angeles', 'anger', 'angola', 'angry', 'animal', 'animals', 'ann', 'anne', 'announced', 'announcer', 'announcers', 'annoyed', 'another', 'answer', 'answered', 'answers', 'anthony', 'antigua', 'antique', 'anxious', 'any', 'anybody', 'anyhow', 'anymore', 'anyone', 'anything', 'anyway', 'anywhere', 'apartment', 'apologize', 'appeal', 'appearance', 'appearances', 'appeared', 'appears', 'appeased', 'appetite', 'applauded', 'apple', 'apples', 'application', 'applications', 'applied', 'apply', 'appointed', 'appreciates', 'appreciation', 'apr', 'april', 'archer', 'arctic', 'are', 'area', \"aren't\", 'argh', 'argued', 'argument', 'arithmetic', 'arizona', 'arm', 'armies', 'arms', 'army', 'arnie', 'arose', 'around', 'arrested', 'arrive', 'arrived', 'arrogant', 'arrow', 'art', 'article', 'articles', 'artificial', 'artist', 'artists', 'as', 'ash', 'ashamed', 'ashes', 'asia', 'aside', 'ask', 'asked', 'asking', 'asks', 'asleep', 'asphalt', 'aspirin', 'assignment', 'assistant', 'associate', 'astronomy', 'astrophysicist', 'at', 'ate', 'atmosphere', 'atomic', 'attach', 'attached', 'attack', 'attacked', 'attempted', 'attempts', 'attend', 'attended', 'attention', 'attract', 'attractive', 'audacity', 'audience', 'aunt', \"aunt's\", 'australia', 'australians', 'austria', 'author', 'autographs', 'automatic', 'automatically', 'automobile', 'automobiles', 'autumn', 'available', 'average', 'avert', 'avoid', 'awaited', 'awaiting', 'awake', 'away', 'awful', 'awfully', 'awkward', 'b', 'baby', 'back', 'background', 'backhand', 'bad', 'badly', 'bag', 'baggage', 'bags', 'baker', 'bakes', 'balcony', 'ball', 'ballot', 'balloted', 'balls', 'bamboo', 'banana', 'bananas', 'band', 'banished', 'bank', 'bankrupt', 'banks', 'baptize', 'barber', 'barbershop', 'bargain', 'barked', 'barking', 'base', 'baseball', 'based', 'basket', 'basketball', 'bat', 'bath', 'bathed', 'bathroom', 'bathwater', 'bats', 'battery', 'battled', 'be', 'beach', 'beamed', 'beans', 'bear', 'beard', 'bearing', 'bears', 'beasts', 'beat', 'beautiful', 'beauty', 'became', 'because', 'become', 'becomes', 'bed', 'bedroom', 'beef', 'been', 'beer', 'beers', 'bees', 'before', 'beg', 'began', 'beggar', 'begin', 'beginners', 'beginning', 'begins', 'begun', 'behave', 'behavior', 'behind', 'being', 'beings', 'belgium', 'belief', 'believe', 'believed', 'believer', 'believes', 'bell', 'bells', 'belong', 'belongs', 'below', 'belt', 'ben', 'bench', 'bern', 'beside', 'best', 'betray', 'betrayed', 'better', 'betty', 'between', 'beware', 'beyond', 'bible', 'bicycle', 'bicycles', 'big', 'bigger', 'biggest', 'bike', 'bikinis', 'bill', \"bill's\", 'billion', 'billions', 'bin', 'binds', 'biochemistry', 'biology', 'bird', \"bird's\", 'birds', 'birth', 'birthday', 'births', 'bit', 'bite', 'biting', 'bitter', 'black', 'blame', 'blanket', 'blankets', 'bleed', 'bleeding', 'bless', 'blessed', 'blew', 'blind', 'blizzards', 'blocks', 'blondes', 'blood', 'bloody', 'bloom', 'blossoms', 'blouse', 'blowing', 'blue', 'blurred', 'board', 'boarding', 'boast', 'boastful', 'boat', 'bob', 'body', 'boil', 'boiled', 'boiling', 'boils', 'bombed', 'bone', 'bones', 'book', 'booked', 'bookkeeping', 'books', 'bookworm', 'boots', 'borders', 'bored', 'bores', 'boring', 'born', 'borrow', 'borrowed', 'boss', 'boston', 'both', 'bother', 'bothering', 'bottle', 'bottles', 'bottom', 'bottoms', 'bought', 'bound', 'bounded', 'bowl', 'box', 'boxing', 'boy', 'boyfriend', 'boyish', 'boys', 'brake', 'brakes', 'branch', 'branches', 'brand', 'branded', 'brasilia', 'brass', 'brave', 'brazil', 'bread', 'break', 'breakfast', 'breaking', 'breaks', 'breast', 'breath', 'breathe', 'breed', 'brian', 'bride', 'bridge', 'brief', 'briefly', 'bright', 'brightened', 'brightly', 'brilliant', 'bring', 'brink', 'britain', 'broke', 'broken', 'brother', 'brothers', 'brought', 'brown', 'brush', 'bucket', 'buckets', 'buckingham', 'buffalo', 'building', 'buildings', 'builds', 'built', 'bunches', 'bundle', 'bunny', 'buoyant', 'burglar', 'buried', 'buries', 'burn', 'burned', 'burning', 'burns', 'burnt', 'burst', 'bury', 'bus', 'buses', 'bush', 'business', 'busy', 'but', 'butter', 'butterflies', 'butterfly', 'button', 'buttons', 'buy', 'buying', 'buys', 'by', 'c', 'cabinet', 'cafeteria', 'cage', 'cake', 'cakes', 'calculated', 'calculator', 'call', 'called', 'calling', 'calls', 'calm', 'calmed', 'came', 'camera', 'cameras', 'camp', 'camping', 'can', \"can't\", 'canada', 'canceled', 'cancelled', 'cancer', 'candidate', 'candlelight', 'candles', 'candy', 'cannot', 'canoe', 'cap', 'capable', 'capacity', 'capital', 'capitals', 'capsized', 'captain', 'captured', 'car', 'card', 'cards', 'care', 'careful', 'carefully', 'carelessly', 'carelessness', 'cares', 'carl', 'carlos', 'carol', 'carpet', 'carpets', 'carried', 'carries', 'carrots', 'carry', 'carrying', 'cars', 'case', 'cash', 'castle', 'castles', 'cat', 'catch', 'catches', 'catching', 'catholic', 'catholics', 'cats', 'caught', 'cause', 'caused', 'causing', 'cave', 'caviar', 'cd', 'cds', 'celebrated', 'celsius', 'cemetery', 'center', 'centigrade', 'centimeter', 'cents', 'ceremony', 'certain', 'chained', 'chair', 'chairs', 'chalk', 'challenge', 'chance', 'change', 'changed', 'changes', 'changing', 'channel', 'chapter', 'characters', 'charge', 'charged', 'charming', 'chat', 'cheap', 'cheaper', 'cheapest', 'cheating', 'check', 'checkin', 'checkout', 'checkup', 'cheeks', 'cheer', 'cheers', 'cheese', 'chemical', 'chemistry', 'cherry', 'chess', 'chest', 'chew', 'chicago', 'chicken', 'child', 'childhood', 'childish', 'children', 'chimney', 'china', 'chinese', 'chocolate', 'choice', 'cholera', 'choose', 'chopin', 'chose', 'christ', 'christianity', 'christians', 'christmas', 'church', 'cigarette', 'cigarettes', 'cinema', 'circle', 'circles', 'cities', 'citizen', 'city', 'cityscapes', 'civilize', 'civilized', 'claim', 'clapped', 'class', 'classes', 'classical', 'classify', 'classmates', 'classroom', 'claus', 'clean', 'cleaned', 'clear', 'clearing', 'clearly', 'cliff', 'climate', 'climb', 'climbed', 'climbing', 'clobbered', 'clock', 'close', 'closed', 'closely', 'cloth', 'clothes', 'clothing', 'cloud', 'cloudless', 'clouds', 'cloudy', 'clover', 'club', 'clubs', 'clung', 'coal', 'coat', 'cocoa', 'cocoons', 'coffee', 'coffees', 'coin', 'coincidence', 'coins', 'coke', 'cold', 'colder', 'colds', 'collapse', 'collapsed', 'colleagues', 'collect', 'collecting', 'collects', 'college', 'color', 'colorblind', 'colors', 'columbus', 'comb', 'combination', 'come', 'comedies', 'comes', 'comfort', 'comfortable', 'comic', 'coming', 'commissioner', 'commit', 'committed', 'committee', \"committee's\", 'common', 'communicate', 'communication', 'communist', 'company', 'compare', 'competed', 'complain', 'complete', 'completely', 'complex', 'composer', 'composers', 'composition', 'comprehension', 'compute', 'computer', 'computers', 'concede', 'concern', 'concerned', 'concert', 'condition', 'conditioner', 'conditioning', 'conditions', 'condom', 'confidence', 'confident', 'confucius', 'confuse', 'congratulate', 'congratulations', 'conquer', 'consciousness', 'consecutive', 'consent', 'consequence', 'conservative', 'consider', 'considerably', 'consideration', 'considered', 'consistent', 'consists', 'constant', 'constantly', 'constitution', 'construction', 'consumed', 'consumes', 'contact', 'contacted', 'contain', 'contains', 'contamination', 'content', 'context', 'continent', 'continued', 'continuous', 'continuously', 'contract', 'contrary', 'control', 'convenient', 'conversation', 'convey', 'convinced', 'convulsions', 'cook', 'cooked', 'cooker', 'cookie', \"cookie's\", 'cookies', 'cooking', 'cool', 'cooperation', 'copies', 'copper', 'copy', 'corner', 'corns', 'correct', 'corrected', 'corresponded', 'corresponds', 'cost', 'costs', 'cotton', 'cough', 'could', \"could've\", \"couldn't\", 'count', 'counted', 'counter', 'counting', 'countries', 'country', 'counts', 'couple', 'courage', 'course', 'cousin', 'cousins', 'cover', 'covered', 'cow', 'cows', 'crack', 'crafty', 'cranes', 'crashed', 'crawl', 'crawling', 'crazies', 'crazy', 'cream', 'creams', 'create', 'created', 'creationism', 'creature', 'credit', 'creep', 'crew', 'cried', 'crime', 'criminal', 'crisis', 'criticism', 'criticize', 'criticizing', 'crooked', 'crops', 'cross', 'crossed', 'crossing', 'crossroad', 'crow', 'crowd', 'crumbles', 'cry', 'crying', 'cubic', 'cucumber', 'cup', 'cupboard', 'cups', 'cured', 'curie', 'curiosity', 'curious', 'curry', 'curtain', 'curtis', 'customer', 'customers', 'customs', 'cut', 'cute', 'cuter', 'cuts', 'cutting', 'cycle', 'dad', 'daddy', 'daily', 'dam', 'damage', 'damn', 'damon', 'damp', 'dance', 'dancer', 'dancing', 'danes', 'danger', 'dangerous', 'dare', 'dared', 'dark', 'darker', 'darling', 'date', 'daughter', \"daughter's\", 'daughters', 'dave', 'day', 'days', 'dead', 'deadend', 'deaf', 'deal', 'deals', 'dear', 'death', 'deaths', 'debt', 'debts', 'deceive', 'deceived', 'december', 'decide', 'decided', 'decision', 'declare', 'declined', 'declining', 'decorated', 'deep', 'deer', 'defeated', 'defense', 'define', 'definitely', 'degas', 'degrees', 'delicious', 'deliver', 'delivered', 'deluge', 'demand', 'demanded', 'demands', 'democracy', 'democratic', 'demonstration', 'den', 'denied', 'denmark', 'dentist', 'departed', 'department', 'depend', 'depends', 'deposit', 'depressed', 'deprived', 'depth', 'derailed', 'derived', 'describe', 'described', 'description', 'desert', 'deserve', 'deserves', 'designed', 'desire', 'desired', 'desk', 'despair', 'desperate', 'despised', 'dessert', 'destroyed', 'detail', 'detected', 'detroit', 'developed', 'dew', 'dial', 'diamond', 'diarrhea', 'diary', 'dick', 'dictionaries', 'dictionary', 'did', \"didn't\", 'die', 'died', 'diego', 'dies', 'diet', 'differ', 'difference', 'different', 'differently', 'differs', 'difficult', 'difficulty', 'digest', 'digging', 'diligent', 'diminishing', 'dinner', \"dinner's\", 'dinosaurs', 'diplomat', 'direct', 'direction', 'directions', 'dirt', 'dirty', 'disagree', 'disappear', 'disappeared', 'disappearing', 'disappointed', 'disappoints', 'discipline', 'disco', 'discourage', 'discovered', 'discretion', 'discuss', 'discussed', 'discussing', 'discussion', 'disease', 'disgusting', 'dish', 'dishes', 'dislike', 'disneyland', 'disposal', 'disposes', 'dispute', 'disputes', 'dissolves', 'distance', 'distant', 'distinguish', 'disturbed', 'dived', 'divide', 'divided', 'divorce', 'do', 'doctor', 'doctors', 'document', 'does', \"doesn't\", 'dog', \"dog's\", 'dogs', 'doing', 'doll', 'dollar', 'dollars', 'dolls', 'dolphin', \"don't\", 'done', 'door', 'doors', 'double', 'doubt', 'dove', 'down', 'downs', 'downtown', 'dozen', 'dozens', 'drain', 'drama', 'dramatic', 'drank', 'drastically', 'draw', 'drawer', 'drawers', 'drawing', 'draws', 'dreadful', 'dream', 'dreamed', 'dreams', 'dreamt', 'dress', 'dressed', 'dressing', 'drift', 'drill', 'drink', 'drinking', 'drinks', 'drive', 'driver', \"driver's\", 'drivers', 'drives', 'driving', 'drop', 'dropped', 'drove', 'drowned', 'drowning', 'drugs', 'drugstore', 'drunk', 'dry', 'drying', 'due', 'duke', 'durable', 'during', 'dust', 'dutch', 'duties', 'duty', 'dying', 'each', 'ear', 'earache', 'earlier', 'early', 'ears', 'earth', \"earth's\", 'earthquake', 'earthquakes', 'easier', 'easily', 'east', 'easter', 'easy', 'eat', 'eaten', 'eating', 'eats', 'echoed', 'economically', 'economy', 'edgar', 'edison', 'edition', 'editorial', 'educated', 'education', 'edward', 'effect', 'effects', 'effort', 'efforts', 'egg', 'eggs', 'egypt', 'eight', 'eighth', 'eightthirty', 'eighty', 'either', 'elected', 'election', 'electric', 'electrical', 'electricity', 'elementary', 'elephant', 'elephants', 'elevator', 'elevators', 'eleven', 'elizabeth', 'ellen', 'else', 'email', 'embarrassed', 'embarrassing', 'emerged', 'emi', 'emotions', 'empire', 'empty', 'encyclopedia', 'end', 'ended', 'ends', 'endure', 'enemy', 'energy', 'engaged', 'engagement', 'engine', 'engineer', 'england', 'english', 'englishman', 'enhances', 'enjoy', 'enjoyed', 'enormous', 'enough', 'enter', 'entered', 'entering', 'entertain', 'entertaining', 'entrance', 'environment', 'environmental', 'envy', 'equal', 'equipment', 'equipped', 'era', 'erase', 'eric', 'error', 'errors', 'eruption', 'escape', 'escaped', 'especially', 'essential', 'established', 'estimate', 'estimated', 'etc', 'europe', 'european', 'europeans', 'evans', 'eve', 'even', 'evening', 'events', 'eventually', 'ever', 'every', 'everybody', 'everyone', 'everything', 'everywhere', 'evil', 'exactly', 'exam', 'examination', 'examined', 'example', 'examples', 'exams', 'excel', 'excellent', 'except', 'exception', 'exchange', 'exchanged', 'excited', 'exciting', 'excuse', 'excused', 'excuses', 'executives', 'exercise', 'exhausted', 'exhibition', 'existence', 'exists', 'expands', 'expect', 'expected', 'expecting', 'expense', 'expensive', 'experience', 'experiment', 'experiments', 'expire', 'explain', 'explained', 'explanation', 'exports', 'express', 'extinct', 'extraordinary', 'extreme', 'extremely', 'eye', 'eyes', 'fabre', 'face', 'faces', 'facing', 'fact', 'factories', 'factory', 'facts', 'fail', 'failed', 'fails', 'failure', 'faint', 'fainted', 'faintest', 'fair', 'fairly', 'fall', 'fallen', 'falling', 'falls', 'false', 'fame', 'familiar', 'families', 'family', 'famine', 'famous', 'fan', 'fantasy', 'far', 'fare', 'farm', 'farmer', 'farther', 'fascinating', 'fashion', 'fast', 'fasten', 'faster', 'fastest', 'fat', 'fatal', 'fate', 'father', \"father's\", 'fatigue', 'fault', 'faults', 'favor', 'favorite', 'favour', 'favourite', 'fear', 'fears', 'feathers', 'features', 'february', 'fed', 'feel', 'feeling', 'feelings', 'feels', 'feet', 'fell', 'felt', 'fence', 'festival', 'festivals', 'fetch', 'fever', 'few', 'fiber', 'fiction', 'fictitious', 'fifth', 'fifty', 'fighters', 'fighting', 'file', 'filipino', 'fill', 'filled', 'film', 'final', 'finally', 'financial', 'find', 'finds', 'fine', 'fingers', 'finish', 'finished', 'finland', 'fire', 'fired', 'firefighter', 'firemen', 'fires', 'fireworks', 'first', 'firstyear', 'fish', 'fishing', 'fit', 'five', 'fix', 'fixed', 'fixing', 'flag', 'flags', 'flat', 'flavor', 'flesh', 'flew', 'flexible', 'flies', 'flight', 'floated', 'flock', 'flood', 'floor', 'floors', 'florence', 'florida', 'flour', 'flower', 'flowers', 'flows', 'flu', 'fluctuates', 'fluent', 'fluently', 'fluids', 'fly', 'flying', 'focus', 'folded', 'folder', 'follow', 'followed', 'following', 'follows', 'fond', 'food', 'foods', 'fool', 'foolish', 'foot', 'football', 'footsteps', 'for', 'forbidden', 'forced', 'forearmed', 'foreign', 'foreigner', 'foreigners', 'foresee', 'forever', 'forewarned', 'forget', 'forgetting', 'forgive', 'forgot', 'forgotten', 'fork', 'forks', 'form', 'formal', 'formality', 'former', 'formula', 'fortunate', 'fortunately', 'fortune', 'forty', 'forward', 'fought', 'foul', 'found', 'four', 'fourleaf', 'fourth', 'fox', 'fragrance', 'france', 'francisco', 'frank', 'fred', 'free', 'freedom', 'freeman', 'freeze', 'freezes', 'freezing', 'french', 'fresh', 'friday', 'friend', \"friend's\", 'friendly', 'friends', 'friendship', 'frightened', 'frog', 'frogs', 'from', 'front', 'frowned', 'froze', 'frozen', 'fruit', \"fuckin'\", 'fuji', 'fukuoka', 'full', 'fun', 'function', 'funny', 'furniture', 'further', 'fuss', 'future', 'gained', 'galaxies', 'galaxy', 'gallery', 'game', 'games', 'garden', 'gardening', 'gardens', 'garlic', 'garments', 'garrison', 'gas', 'gases', 'gasoline', 'gate', 'gather', 'gathering', 'gave', 'general', 'generally', 'generation', 'genuine', 'george', 'georgia', 'german', 'germans', 'germany', 'get', 'gets', 'getting', 'ghosts', 'giant', 'giants', 'gift', 'gifu', 'girl', \"girl's\", 'girlfriend', 'girlfriends', 'girls', 'give', 'given', 'gives', 'glad', 'gladly', 'glance', 'glass', 'glasses', 'glitters', 'glowing', 'go', 'goal', 'god', 'goes', 'going', 'gold', 'golden', 'golf', 'gone', 'gonna', 'good', 'goodbye', 'goodbyes', 'goods', 'gorgeous', 'got', 'gotten', 'governed', 'government', 'grace', 'grades', 'graham', 'grain', 'grammar', 'grammatically', 'grandfather', 'grandmother', 'grapes', 'grass', 'grateful', 'gratifies', 'grave', 'gravity', 'gray', 'great', 'greatest', 'greatly', 'greek', 'green', 'greene', 'greenland', 'gripped', 'grooming', 'ground', 'grounds', 'group', 'grow', 'growing', 'grownup', 'grownups', 'grows', 'growth', 'grumbling', 'guardian', 'guess', 'guessed', 'guest', 'guests', 'guide', 'guidebooks', 'guilty', 'guitar', 'gums', 'gun', 'gunpowder', 'gusts', 'guts', 'guy', 'gym', 'habits', 'had', \"hadn't\", 'hair', 'haircut', 'hakone', 'half', 'hall', 'halloween', 'halves', 'hamburger', 'hamburgers', 'hamlet', 'hanako', 'hand', 'handkerchief', 'handkerchiefs', 'handle', 'handled', 'handles', 'hands', 'handwriting', 'hang', 'hanging', 'hangover', 'hangs', 'happen', 'happened', 'happening', 'happens', 'happiest', 'happily', 'happiness', 'happy', 'harbor', 'hard', 'harder', 'hardest', 'hardly', 'hardware', 'hardworking', 'harm', 'harmful', 'harmless', 'harsh', 'haruko', 'has', 'hashimoto', 'haste', 'hastened', 'hasty', 'hat', 'hate', 'hatred', 'haunted', 'have', \"haven't\", 'having', 'hawaii', 'hay', 'he', \"he'll\", \"he's\", 'head', 'headache', 'headed', 'healed', 'heals', 'health', 'healthy', 'heap', 'hear', 'heard', 'hearing', 'heart', 'heat', 'heated', 'heating', 'heaven', 'heavens', 'heavier', 'heavy', 'hebrew', 'height', 'heir', 'held', 'helen', \"helen's\", 'hell', 'hello', 'help', 'helped', 'helps', 'hen', 'henry', \"henry's\", 'her', 'here', \"here's\", 'hereditary', 'hero', 'hers', 'herself', 'hesitate', 'hesitated', 'hey', 'hi', 'hid', 'hidden', 'hide', 'hideous', 'hiding', 'high', 'higher', 'highly', 'hikers', 'hill', 'hills', 'hilton', 'him', 'himself', 'hire', 'hiroko', 'hiromi', 'hiroshi', 'hiroshima', 'his', 'hisashi', 'historic', 'history', 'hit', 'hitler', 'hitomi', 'hobbies', 'hobby', 'hockey', 'hokkaido', 'hold', 'holding', 'holds', 'hole', 'holiday', 'holidays', 'hollow', 'holy', 'home', 'homesick', 'homework', 'homophones', 'honest', 'honesty', 'honey', 'hong', 'honor', 'hope', 'hopeless', 'hopes', 'hoping', 'hopkins', 'horizon', 'horror', 'horse', 'horses', 'hospital', 'hospitality', 'hospitalized', 'hostel', 'hot', 'hotel', 'hotels', 'hottest', 'hour', \"hour's\", 'hours', 'house', 'houses', 'housewife', 'housework', 'how', \"how's\", 'howling', 'huge', 'human', 'humanity', 'humans', 'hundred', 'hundreds', 'hung', 'hungary', 'hunger', 'hungry', 'hurried', 'hurry', 'hurt', 'hurting', 'hurts', 'husband', 'hydrogen', 'hyogo', 'hysterical', 'h₂o', 'i', \"i'd\", \"i'll\", \"i'm\", \"i've\", 'ice', 'iceland', 'id', 'idea', 'ideas', 'idle', 'if', 'ignorant', 'ii', 'ill', 'illness', 'imaginary', 'imagination', 'imitate', 'immediate', 'immediately', 'immigrants', 'immortality', 'immune', 'impatient', 'import', 'importance', 'important', 'impossible', 'impression', 'improve', 'improved', 'in', 'inca', 'incapable', 'incident', 'include', 'included', 'includes', 'incomplete', 'incorrect', 'increase', 'increased', 'increasing', 'incredible', 'indeed', 'independent', 'india', 'indifferent', 'indispensable', 'indonesia', 'indoors', 'industrial', 'industrialization', 'industrialized', 'industry', 'inexpensive', 'infamous', 'infancy', 'infection', 'infections', 'infinite', 'inflation', 'inflected', 'influence', 'influenced', 'information', 'informed', 'ingenious', 'inherited', 'injured', 'ink', 'innocence', 'innocent', 'innumerable', 'insanely', 'insects', 'inseparable', 'inside', 'insists', 'inspected', 'inspiration', 'inspired', 'instead', 'insurance', 'intend', 'intention', 'intentionally', 'interest', 'interested', 'interesting', 'interfere', 'international', 'interpreted', 'interrupt', 'interview', 'into', 'intrigue', 'intriguing', 'introduce', 'introduced', 'intrude', 'intruder', 'invaded', 'invented', 'invention', 'inventor', 'investigating', 'invisible', 'invitation', 'invite', 'invited', 'inviting', 'involuntarily', 'involve', 'involved', 'iran', 'ireland', 'iris', 'iron', 'ironed', 'irregular', 'irresistible', 'irritated', 'is', 'island', 'islands', \"isn't\", 'isolated', 'issued', 'it', \"it'll\", \"it's\", 'italian', 'italy', 'ito', 'its', 'itself', 'jack', \"jack's\", 'jacket', 'jakarta', 'jam', 'jane', \"jane's\", 'january', 'japan', 'japanese', 'japaneseenglish', 'jay', 'jazz', 'jealousy', 'jean', 'jeff', 'jesus', 'jet', 'jiffy', 'jill', 'jim', \"jim's\", 'jimmy', 'joan', 'job', 'jobs', 'joel', 'jogging', 'john', 'johnnie', 'join', 'jointly', 'joints', 'joke', 'jokes', 'joking', 'jones', 'jordan', 'journalist', 'joy', 'jst', 'judge', \"judge's\", 'judy', 'juice', \"julia's\", 'july', 'jump', 'jumped', 'jumping', 'june', 'jungle', 'junior', 'jupiter', 'just', 'justice', 'justifies', 'kakogawa', 'kanazawa', 'kanda', 'kangaroo', 'karaoke', 'karen', 'kate', 'kato', 'kawagoe', 'keep', 'keeps', 'keiko', 'keller', 'ken', 'kenji', \"kenji's\", 'kenya', 'kept', 'key', 'keys', 'kicking', 'kid', 'kidding', 'kidney', 'kids', 'kill', 'killed', 'killing', 'kilometers', 'kilos', 'kind', 'kindness', 'kinds', 'king', 'kingdom', 'kings', 'kitchen', 'kitchens', 'kite', 'kites', 'klein', 'knew', 'knife', 'knit', 'knives', 'knock', 'knocking', 'know', 'knowledge', 'known', 'knows', 'koala', 'koalas', 'kobe', 'kojima', 'koko', 'kong', 'korea', 'kumiko', 'kuwait', 'kyoto', 'kyushu', 'la', 'labor', 'laboratory', 'lace', 'lack', 'lacks', 'ladies', 'lady', 'lag', 'lake', 'lamp', 'lamps', 'land', 'landed', 'landing', 'language', 'languages', 'lansing', 'laptop', 'large', 'larger', 'largest', 'lasagna', 'last', 'lasted', 'late', 'later', 'latest', 'latin', 'laugh', 'laughed', 'laughing', 'laughs', 'laughter', 'launched', 'law', 'lawyer', 'lay', 'lead', 'leader', 'leads', 'leaf', 'leaks', 'lean', 'leaned', 'learn', 'learned', 'learning', 'least', 'leather', 'leave', 'leaves', 'leaving', 'lecture', 'left', 'leftovers', 'leg', 'legs', 'lemon', 'lemons', 'lend', 'lends', 'length', 'lenses', 'lent', 'leopards', 'less', 'lesson', 'lessons', 'lest', 'let', \"let's\", 'letter', 'letters', 'level', 'liberty', 'library', 'license', 'lie', 'lies', 'life', 'lifestyle', 'lift', 'light', 'lighter', 'lights', 'like', 'liked', 'likely', 'likes', 'lilies', 'limit', 'limited', 'lincoln', \"lincoln's\", 'linda', 'line', 'lines', 'lining', 'link', 'lion', 'lions', 'lip', 'liquid', 'liquids', 'lisa', 'list', 'listen', 'listened', 'listening', 'liter', 'literally', 'liters', 'little', 'live', 'lived', 'lively', 'lives', 'living', 'liz', 'loaf', 'loaned', 'loaves', 'lock', 'locked', 'locker', 'locks', 'logged', 'london', 'lonely', 'long', 'longer', 'longest', 'longing', 'look', 'looked', 'looking', 'looks', 'loose', 'loosened', 'los', 'lose', 'loses', 'losing', 'loss', 'losses', 'lost', 'lot', 'lots', 'lottery', 'loud', 'louder', 'loudly', 'louise', 'love', 'loved', 'lovely', 'loves', 'loving', 'low', 'luck', 'luckily', 'lucky', 'lucy', 'luggage', 'lunch', 'lung', 'lungs', 'luxury', 'lying', 'lynn', \"ma'am\", 'mac', 'macbeth', 'machine', 'machinery', 'mad', 'made', 'magazine', 'magazines', 'magic', 'magician', 'magnificent', 'mail', 'mailbox', 'main', 'major', 'majoring', 'make', 'makes', 'maki', 'making', 'malaria', 'malaysia', 'mammal', 'man', \"man's\", 'managed', \"manager's\", 'manners', 'manpower', 'manufactured', 'manufactures', 'many', 'map', 'march', 'marched', 'marconi', 'mari', 'maria', 'marie', 'marine', \"mario's\", 'mark', 'market', 'marks', 'marriage', 'married', 'marry', 'mars', 'marvelous', 'mary', \"mary's\", 'masao', 'massage', 'master', 'masterpieces', 'match', 'matches', 'material', 'materials', 'math', 'mathematics', 'maths', 'matter', 'matters', 'mature', 'may', 'maya', 'mayas', 'maybe', 'mayor', 'mayuko', \"mcdonald's\", 'me', 'meadow', 'meal', 'meals', 'mean', 'meaning', 'meaningless', 'meanings', 'means', 'meant', 'measles', 'meat', 'medal', 'medical', 'medicine', 'medium', 'meet', 'meeting', 'meetings', 'meg', 'melody', 'melon', 'melons', 'member', 'members', 'memories', 'memory', 'men', 'menstrual', 'mention', 'mentioned', 'mentor', 'menu', 'mere', 'merely', 'merest', 'merrier', 'merrily', 'merry', 'message', 'messages', 'met', 'metal', 'meter', 'meters', 'method', 'mexican', 'mexico', 'mice', 'michigan', 'mickle', 'microsoft', 'midnight', 'might', 'mightier', 'mike', 'mild', 'mildly', 'miles', 'military', 'milk', 'mill', 'miller', 'million', 'millionaire', 'millions', 'mimi', 'mind', 'minds', 'mine', 'minerals', 'minimum', 'miniskirts', 'minorities', 'minute', 'minutes', 'mirror', 'mirrored', 'miscarriage', 'misfortunes', 'mishima', 'miss', 'missed', 'missing', 'mistake', 'mistakes', 'misunderstanding', 'mix', 'mixture', 'model', 'moderation', 'modern', 'molly', 'mom', 'moment', 'mommy', 'monday', 'money', 'monkey', 'monkeys', 'monotonous', 'monster', 'montero', 'month', 'months', \"months'\", 'mood', 'moon', 'more', 'morning', 'mosquito', 'mosquitoes', 'most', 'mostly', 'mother', \"mother's\", 'motherinlaw', 'motor', 'motorcycle', 'mountain', 'mountaineering', 'mountains', 'mouse', 'mouth', 'move', 'moved', 'moves', 'movie', 'movies', \"mozart's\", 'mp3', 'mr', 'mrs', 'ms', 'mt', 'much', 'muiriel', 'multiplied', 'mumble', 'mummy', 'murder', 'murderer', 'museum', 'music', 'musical', 'musician', 'musicians', 'must', 'mustache', \"mustn't\", 'mutton', 'mutual', 'my', 'myself', 'mysterious', 'mystery', 'nagasaki', 'nail', 'nails', 'nakano', 'name', 'named', 'names', 'nancy', 'naoko', 'naples', 'napoleon', \"napoleon's\", 'nara', 'narita', 'narrow', 'nasty', 'nation', 'national', 'nations', 'native', 'natural', 'nature', 'natures', 'naughty', 'near', 'nearby', 'nearest', 'nearly', 'neat', 'necessarily', 'necessary', 'necessity', 'neck', 'necktie', 'need', 'needed', 'needless', 'needs', 'neglected', 'neighborhood', 'neither', 'nephew', 'nerves', 'nervous', 'nessie', 'netherlands', 'neutral', 'never', 'new', 'news', 'newspaper', 'newspapers', 'next', 'nice', 'nick', 'night', 'nights', 'nikon', 'nine', 'no', 'nobody', 'noise', 'noises', 'noisy', 'non', 'nonalcoholic', 'none', 'nonsense', 'nonsmoking', 'nonstop', 'noon', 'nor', 'normally', 'north', 'nose', 'not', 'notebook', 'notebooks', 'nothing', \"nothing's\", 'noticed', 'notorious', 'nourishing', 'novel', 'novels', 'now', 'nowadays', 'nowhere', 'nuclear', 'number', 'numbers', 'nurse', 'nurses', 'nuts', \"o'clock\", \"o's\", 'oak', 'obey', 'object', 'objection', 'observation', 'observe', 'observers', 'obtain', 'occasion', 'occupation', 'ocean', 'october', 'odd', 'of', 'off', 'offense', 'offer', 'office', 'officials', 'often', 'ogawa', 'oh', 'oil', 'ok', 'okay', 'okinawa', 'old', 'older', 'oldest', 'olive', 'olympics', 'omelets', 'omit', 'on', 'once', 'one', \"one's\", 'ones', 'oneself', 'oneway', 'onions', 'only', 'open', 'opened', 'opening', 'opens', 'operate', 'operated', 'opinion', 'opinions', 'opium', 'opponent', 'opportunity', 'opposed', 'optimist', 'optimistic', 'options', 'or', 'oral', 'orange', 'oranges', 'order', 'ordered', 'organ', 'organization', 'organized', 'original', 'origins', 'osaka', 'ostriches', 'other', 'others', 'otherwise', 'ottawa', 'ought', 'our', 'ours', 'ourselves', 'out', 'outdoors', 'outer', 'outside', 'outspoken', 'outstanding', 'over', 'overcoat', 'overestimate', 'overestimated', 'overflow', 'overnight', 'overslept', 'overthrown', 'overworked', 'owe', 'owes', 'own', 'oxford', 'oxygen', 'oysters', 'package', 'packed', 'paco', 'page', 'pages', 'paid', 'pain', 'paint', 'painted', 'painter', 'painting', 'paintings', 'pair', 'palace', 'pale', 'pancakes', 'pandas', 'pants', 'paper', 'paradise', 'parallel', 'paralyzed', 'parcel', 'pardon', 'parents', \"parents'\", 'paris', 'park', 'parking', 'parks', 'part', 'participated', 'parts', 'parttime', 'party', 'pass', 'passed', 'passengers', 'passes', 'passport', 'password', 'past', 'pastime', 'patience', 'patient', 'patients', 'paul', 'paved', 'pay', 'payment', 'peace', 'peacefully', 'peaceloving', 'peaches', 'peak', 'pear', 'pearls', 'peekaboo', 'pen', 'penalty', 'pencil', 'pencils', 'penguin', 'pens', 'pension', 'people', 'pepper', 'percent', 'perfect', 'perfectly', 'perhaps', 'period', 'permitted', 'perry', 'person', \"person's\", 'personal', 'personally', 'persuaded', 'peru', 'pet', 'peter', 'pets', 'pharmacy', 'philippine', 'phoenix', 'phone', 'phoned', 'photo', 'photograph', 'photographer', 'photography', 'photos', 'phrase', 'phrased', 'physical', 'physically', 'physics', 'piano', 'picasso', 'pick', 'picked', 'pickpocket', 'pickpockets', 'picnic', 'picture', 'pictures', 'picturesque', 'pie', 'piece', 'pieces', 'pigsty', 'pilot', 'pingpong', 'pink', 'pinocchio', 'pipe', 'piss', 'pitch', 'pity', 'pizza', 'place', 'places', 'plan', 'plane', 'planes', 'planets', 'plans', 'plant', 'planted', 'plants', 'plastic', 'plate', 'play', 'played', 'player', 'players', 'playing', 'plays', 'plaza', 'pleasant', 'please', 'pleased', 'pleasure', 'plentiful', 'plenty', 'pneumonia', 'pochi', 'pocket', 'pockets', 'poem', 'poems', 'poet', 'poetry', 'poets', 'point', 'pointed', 'poland', 'polar', 'police', 'policeman', 'policy', 'polished', 'polite', 'political', 'politically', 'politician', 'politicians', 'politics', 'pollen', 'pollute', 'polluted', 'pollutes', 'pollution', 'pond', 'pool', 'poor', 'pop', 'pope', 'popular', 'population', 'populous', 'port', 'portrait', 'portuguese', 'positive', 'possibility', 'possible', 'possibly', 'post', 'posted', 'posters', 'postman', 'postponed', 'pot', 'potato', 'potatoes', 'potential', 'pound', 'pounds', 'pours', 'poverty', 'power', 'practical', 'practically', 'practice', 'practiced', 'praises', 'preach', 'precious', 'precise', 'prefer', 'pregnant', 'preparation', 'prepare', 'prepared', 'preparing', 'present', 'preserved', 'president', 'press', 'pressure', 'pretend', 'prettier', 'pretty', 'prevented', 'price', 'prices', 'priests', 'prince', 'principles', 'print', 'printed', 'prior', 'priorities', 'prison', 'prisoner', 'prize', 'prizes', 'probably', 'problem', 'problems', 'process', 'proclaimed', 'produce', 'produces', 'product', 'products', 'professional', 'professor', 'profits', 'program', 'progress', 'prohibited', 'project', 'promise', 'promised', 'pronounce', 'properly', 'property', 'proposal', 'propose', 'proposes', 'protect', 'proud', 'prove', 'proved', 'proverb', 'provide', 'provided', 'pseudoscience', 'psychology', 'pub', 'public', 'published', 'pulled', 'pulse', 'pump', 'pun', 'punctual', 'punished', 'punishment', 'pupils', 'purchase', 'pure', 'purpose', 'purposes', 'purse', 'put', 'quality', 'quarreled', 'queen', 'question', 'questions', 'quick', 'quickly', 'quiet', 'quieter', 'quietly', 'quit', 'quite', 'quotations', 'rabbit', 'rabbits', 'race', 'racket', 'radical', 'radio', 'radium', 'rail', 'railroad', 'rain', 'rainbow', 'raincoat', 'rained', 'raining', 'rains', 'rainy', 'raise', 'ran', 'rap', 'rapidly', 'rare', 'rarely', 'rat', 'rate', 'rates', 'rather', 'rats', 'raw', 'raúl', 'reach', 'reached', 'read', 'reading', 'ready', 'real', 'reality', 'really', 'reap', 'reason', 'reasons', 'receive', 'received', 'receiving', 'recent', 'recently', 'reception', 'recipe', 'recognized', 'recommend', 'record', 'recover', 'recovery', 'recurrence', 'red', 'redeemed', 'redhanded', 'reduce', 'reducing', 'refer', 'referring', 'reflects', 'regard', 'regarded', 'regards', 'regret', 'regular', 'regularly', 'rejected', 'related', 'relationship', 'relax', 'relief', 'relieved', 'religion', 'religious', 'rely', 'remain', 'remained', 'remains', 'remark', 'remarkable', 'remember', 'remind', 'reminded', 'reminds', 'remote', 'removed', 'renewed', 'rent', 'rented', 'repair', 'repaired', 'repairing', 'repeat', 'repeated', 'repeats', 'replaced', 'replied', 'reply', 'report', 'representative', 'republic', 'request', 'require', 'requires', 'research', 'resemble', 'resembles', 'reservation', 'reservations', 'reserve', 'reserved', 'resign', 'resistant', 'resolution', 'resolve', 'resort', 'resources', 'respect', 'response', 'responsibility', 'responsible', 'rest', 'restaurant', 'restaurants', 'rested', 'restroom', 'rests', 'result', 'resulted', 'results', 'retire', 'retired', 'retires', 'retreat', 'return', 'returned', 'revised', 'revision', 'revolution', 'revolve', 'revolves', 'reward', 'rhine', 'rhinitis', 'ribbon', 'rice', 'rich', 'riddance', 'ride', 'ridiculous', 'right', 'rights', 'rigid', 'ring', 'ringing', 'rings', 'ripe', 'rips', 'rising', 'risks', 'rite', 'river', 'rivers', 'road', 'robber', 'robbery', 'robert', 'rock', 'rocker', 'rocket', 'roger', 'role', 'rollerskate', 'rolling', 'roman', 'rome', 'roof', 'room', 'rooms', 'root', 'rope', 'rosa', 'rose', 'roses', 'rosé', 'rotten', 'rough', 'round', 'royal', 'rub', 'rubber', 'rubbish', 'rubén', 'rude', 'ruining', 'rule', 'ruler', 'rules', 'rumor', 'run', 'running', 'runny', 'runs', 'rush', 'rushed', 'russia', 'russian', 'rust', 'ruth', 'rye', 'sachiko', 'sack', 'sacred', 'sad', 'sadako', 'safe', 'safety', 'said', 'sailing', 'sailors', 'saitama', 'saitou', 'salad', 'sale', 'salesman', 'sally', 'salmon', 'salsa', 'salt', 'salty', 'sam', 'same', 'san', 'sand', 'sanda', 'sandwich', 'sandwiches', 'sang', 'santa', 'sapporo', 'sasaki', 'sasayama', 'sat', 'satisfied', 'sato', 'saturday', 'sauce', 'save', 'saved', 'saving', 'saw', 'say', 'saying', 'sayings', 'sayoko', 'says', 'scarce', 'scarcely', 'scenario', 'scene', 'scenery', 'scenes', 'schedule', 'scholar', 'school', 'schoolbooks', 'schools', 'science', 'scientists', 'scissors', 'scolded', 'scope', 'scores', 'scotland', 'scrap', 'scream', 'screwdriver', 'sea', 'sean', 'searches', 'season', 'seat', 'seated', 'seating', 'seats', 'seattle', 'second', 'secret', 'secretary', 'secrets', 'section', 'secure', 'see', 'seeds', 'seeing', 'seeks', 'seem', 'seemed', 'seems', 'seen', 'seiko', 'seine', 'seldom', 'selfishness', 'selforiented', 'selfservice', 'sell', 'selling', 'send', 'sense', 'sensible', 'sensitive', 'sent', 'sentence', 'sentences', 'september', 'serious', 'seriously', 'serve', 'served', 'server', 'serves', 'service', 'set', 'sets', 'settled', 'settling', 'seven', 'seventeen', 'several', 'sew', 'sewing', 'sexually', 'sexy', 'shadow', 'shake', 'shakespeare', \"shakespeare's\", 'shall', 'shame', 'shampoo', 'shape', 'share', 'shared', 'sharks', 'sharp', 'sharpening', 'shave', 'she', \"she's\", 'sheep', \"sheep's\", 'sheer', 'sheet', 'shelf', 'shellfish', 'shelves', 'shikoku', 'shinano', 'shine', 'shines', 'shining', 'shinkansen', \"shinko's\", 'ship', 'shipped', 'shipping', 'ships', 'shirt', 'shirts', 'shizuoka', 'shoe', 'shoelaces', 'shoes', 'shone', 'shoot', 'shop', 'shopping', 'short', 'shorter', 'shot', 'should', \"should've\", 'shoulder', 'shoulders', \"shouldn't\", 'shounan', 'shouted', 'show', 'showed', 'shower', 'showered', 'showers', 'showing', 'shrine', 'shuddered', 'shut', 'shy', 'sick', 'side', 'sighed', 'sight', 'sign', 'signal', 'signaled', 'signals', 'silence', 'silent', 'silk', 'silkworms', 'silly', 'silver', 'similar', 'simple', 'simply', 'sin', 'since', 'sing', 'singapore', 'singer', 'singing', 'single', 'singly', 'sings', 'sinking', 'sir', 'sister', \"sister's\", 'sisters', 'sit', 'sitting', 'situation', 'six', 'sixteen', 'sixteenth', 'sixty', 'size', 'skate', 'skates', 'skating', 'sketch', 'ski', 'skied', 'skiing', 'skin', 'skirt', 'sky', 'slapped', 'slavery', 'slaves', 'sleep', 'sleeping', 'sleepless', 'slept', 'slices', 'slight', 'slightly', 'sloane', 'slope', 'slow', 'slowly', 'small', 'smaller', 'smart', 'smell', 'smelled', 'smells', 'smile', 'smiled', 'smiling', 'smith', 'smiths', 'smog', 'smoke', 'smokes', 'smoking', 'smooth', 'smoothly', 'snake', 'snakes', 'snapped', 'sneeze', 'snow', 'snowing', 'snowy', 'so', 'soandso', 'soared', 'soccer', 'society', 'sock', 'socks', 'sofa', 'soft', 'solar', 'sold', 'soldier', 'soldiers', 'solid', 'solo', 'solution', 'solve', 'solved', 'solving', 'some', 'somebody', 'someday', 'someone', 'something', 'sometime', 'sometimes', 'somewhat', 'somewhere', 'son', 'song', 'songs', 'sons', 'sony', 'soon', 'sooner', 'sore', 'sorry', 'sort', 'soul', 'sound', 'sounds', 'soup', 'sour', 'source', 'south', 'sow', 'sown', 'space', 'spaceship', 'spain', 'span', 'spaniards', 'spanish', 'spare', 'speak', 'speaker', 'speaking', 'speaks', 'special', 'specialty', 'spectacular', 'speech', 'speechless', 'speed', 'speeding', 'speeds', 'spell', 'spend', 'spent', 'spider', 'spiders', 'spike', 'spilled', 'spilt', 'spin', 'spinach', 'spite', 'spitting', 'splashing', 'spoiled', 'spoke', 'spoken', 'sponge', 'spoons', 'sport', 'sports', 'spot', 'spread', 'spring', 'springs', 'spy', 'square', 'squirrel', 'staff', 'stage', 'stamp', 'stamps', 'stand', 'standard', 'stands', 'star', 'stared', 'stars', 'starshaped', 'start', 'started', 'starts', 'starved', 'starving', 'state', 'states', 'statesman', 'station', 'stay', 'stayed', 'staying', 'steady', 'steak', 'steal', 'steam', 'steep', 'stem', 'step', 'stepped', 'sterilized', 'steve', 'stiff', 'still', 'stimulated', 'stinks', 'stock', 'stole', 'stolen', 'stomach', 'stomachache', 'stone', 'stood', 'stop', 'stoplight', 'stopped', 'stops', 'store', 'stories', 'storm', 'stormy', 'story', 'straight', 'strange', 'stranger', 'strangers', 'strawberries', 'street', 'streets', 'strengths', 'stress', 'stressed', 'stretched', 'strictly', 'strike', 'stroke', 'strong', 'stronger', 'strongminded', 'struck', 'stubbornness', 'student', 'students', 'studied', 'studies', 'study', 'studying', 'stuff', 'stupid', 'style', 'subject', 'subjects', 'subtract', 'suburbs', 'subway', 'succeed', 'succeeded', 'success', 'such', 'suddenly', 'sue', 'suffering', 'suffers', 'sufficient', 'sugar', 'suggest', 'suicide', 'suit', 'suitable', 'suitcase', 'suits', 'sum', 'summer', 'summertime', 'sumo', 'sun', 'sunday', 'sundays', 'sunflower', 'sunglasses', 'sunlight', 'sunny', 'sunrise', 'sunset', 'sunshine', 'superman', 'supermarket', 'supersonic', 'superstition', 'supper', 'supplies', 'supply', 'support', 'supported', 'supports', 'suppose', 'supposed', 'sure', 'surely', 'surface', 'surgeon', 'surgery', 'surnames', 'surprise', 'surprised', 'surprising', 'surrender', 'surrounded', 'survived', 'susan', 'sushi', 'susie', 'suspect', 'suspicious', 'suspiciously', 'swallow', 'swallowed', 'swam', 'swan', 'swarm', 'sweater', 'sweating', 'sweden', 'sweet', 'sweetener', 'sweeter', 'sweetheart', 'sweets', 'swiftly', 'swim', 'swimmer', 'swimming', 'swims', 'switzerland', 'sword', 'symbol', 'symbolizes', 'symptoms', 'syringe', 'system', 'table', 'tablecloth', 'tadpoles', 'tail', 'tails', 'take', 'taken', 'takes', 'taking', 'talk', 'talked', 'talking', 'talks', 'tall', 'taller', 'tallest', 'tampa', 'tanker', 'tap', 'taro', 'task', 'taste', 'tasted', 'tastes', 'tax', 'taxes', 'taxi', 'taxis', 'tea', 'teach', 'teacher', 'teachers', 'teaches', 'teaching', 'team', 'tears', 'teas', 'technology', 'teeth', 'telephone', 'telephoned', 'television', 'tell', 'tells', 'temp', 'temperature', 'temple', 'temples', 'temporarily', 'temporary', 'tempts', 'tempura', 'ten', 'tend', 'tenminute', 'tennis', 'tenth', 'tenthirty', 'teresa', 'terminal', 'terms', 'terrible', 'terribly', 'terrific', 'territory', 'test', 'texas', 'textbook', 'thai', 'thailand', 'thames', 'than', 'thank', 'thanks', 'thanksgiving', 'that', \"that's\", 'the', 'theater', 'theft', 'their', 'theirs', 'them', 'then', 'theoretically', 'theory', 'there', \"there's\", 'therein', 'thermometer', 'these', 'they', \"they're\", 'thick', 'thicker', 'thief', 'thieves', 'thing', 'things', 'think', 'thinking', 'third', 'thirsty', 'thirteen', 'thirty', 'this', 'those', 'thought', 'thousand', 'thousands', 'thread', 'threat', 'threatened', 'three', 'threeheaded', 'threequarters', 'threw', 'throat', 'through', 'throw', 'thumbs', 'thunder', 'ticket', 'tickets', 'tickle', 'tie', 'tigers', 'tight', 'till', 'tim', 'time', \"time's\", 'times', 'timetable', 'tin', 'tip', 'tire', 'tired', 'tires', 'to', 'toast', 'today', \"today's\", 'toes', 'together', 'toilet', 'tokyo', 'told', 'tolerate', 'tolstoy', 'tom', \"tom's\", 'tomato', 'tomatoes', 'tomoko', 'tomorrow', 'tongue', 'tonight', 'tony', \"tony's\", 'too', 'took', 'tooth', 'toothache', 'toothless', 'toothpaste', 'top', 'topic', 'total', 'totoro', 'touch', 'tough', 'tourist', 'toward', 'towel', 'tower', 'town', 'toy', 'toys', 'trace', 'track', 'tracks', 'tracy', 'traditions', 'traffic', 'tragedies', 'tragedy', 'train', 'training', 'trains', 'traitor', 'translate', 'translated', 'translation', 'translations', 'transmitted', 'transports', 'travel', 'traveled', 'traveling', 'traveller', 'travelling', 'travels', 'treading', 'treated', 'tree', 'trees', 'trial', 'trials', 'tribe', 'trick', 'tried', 'tries', 'trifle', 'trigger', 'trip', 'tropical', 'trouble', 'troubled', 'trousers', 'truck', 'true', 'truly', 'trust', 'truth', 'try', 'trying', 'tshirt', 'tuesday', 'tulips', 'tuna', 'tune', 'tunnel', 'turkey', 'turn', 'turned', 'turning', 'turns', 'tv', 'twelve', 'twenty', 'twentyfour', 'twice', 'twins', 'two', 'type', 'typewriter', 'ua', 'ueno', 'ufo', 'ufos', 'ugly', 'uh', 'ultimate', 'umbrella', 'umbrellas', 'un', 'unbearable', 'unbelievable', 'unchanged', 'uncle', 'uncomfortable', 'unconscious', 'under', 'underestimate', 'underground', 'underlined', 'underrated', 'understand', 'understands', 'understood', 'undone', 'undressing', 'unemployment', 'unexpected', 'unfavourable', 'unfortunately', 'unhappy', 'unhealthy', 'unidentified', 'uniform', 'uniforms', 'unit', 'united', 'universal', 'universe', 'universes', 'university', 'unless', 'unlikely', 'unreasonable', 'unsolved', 'unsuccessful', 'until', 'unusual', 'unwise', 'up', 'upon', 'upper', 'ups', 'uraga', 'urban', 'urgent', 'urinate', 'us', 'usa', 'usable', 'use', 'used', 'useful', 'using', 'usual', 'usually', 'vacation', 'vain', \"valentine's\", 'valid', 'valor', 'valuable', 'value', 'vancouver', 'vanilla', 'various', 'vase', 'vcr', 'vegetable', 'vegetables', 'vegetarian', 'vegetarians', 'venice', 'verbs', 'very', 'victory', 'video', 'view', 'views', 'village', 'vinegar', 'violent', 'violin', 'virtue', 'visa', 'visions', 'visit', 'visited', 'visiting', 'visitors', 'vitamin', 'vitamins', 'voice', 'voices', 'volcanic', 'volleyball', 'volume', 'vote', 'voted', 'voyage', 'wages', 'wagging', 'wait', 'waited', 'waiter', 'waiting', 'waitress', 'wake', 'wales', 'walk', 'walked', 'walking', 'walks', 'wall', 'wallet', 'walls', 'wang', 'wanna', 'want', 'wanted', 'wanting', 'wants', 'war', 'warm', 'warmer', 'warming', 'warn', 'wars', 'was', 'wash', 'washed', 'washing', \"wasn't\", 'waste', 'wasted', 'watch', 'watched', 'watches', 'watching', 'watchman', 'water', 'watermelon', 'waterproof', 'waters', 'waved', 'way', 'we', \"we'd\", \"we'll\", \"we're\", \"we've\", 'weak', 'weaker', 'weakness', 'weaknesses', 'wealth', 'weapons', 'wear', 'wearing', 'wears', 'weather', 'webs', 'wedding', 'wednesday', 'weeds', 'week', 'weekdays', 'weekend', 'weeks', 'weigh', 'weighs', 'weight', 'weird', 'welcome', 'welfare', 'well', 'wellington', 'wendy', 'went', 'wept', 'were', \"weren't\", 'west', 'western', 'wet', 'whale', 'what', \"what'd\", \"what're\", \"what's\", 'whatever', 'wheat', 'when', 'whenever', 'where', \"where's\", 'wherever', 'which', 'whichever', 'while', 'whiskey', 'whispered', 'white', 'who', \"who'd\", \"who's\", 'whoever', 'whole', 'whom', 'whomever', 'whose', 'why', 'wide', 'widen', 'wife', 'wild', 'will', 'willie', 'willing', 'win', 'wind', 'window', 'windows', 'windy', 'wine', 'wing', 'wink', 'winning', 'wins', 'winter', 'wise', 'wish', 'wishes', \"wit's\", 'with', 'within', 'without', 'witness', 'witnesses', \"wits'\", 'woke', 'wolf', 'wolves', 'woman', 'women', 'won', \"won't\", 'wonder', 'wonderful', 'wood', 'wooden', 'woods', 'wool', 'woolen', 'word', 'wordprocessor', 'words', 'work', 'workaholics', 'worked', 'worker', 'workers', 'working', 'works', 'world', \"world's\", 'worldwide', 'worm', 'worms', 'worn', 'worried', 'worry', 'worse', 'worst', 'worth', 'worthwhile', 'worthy', 'would', 'wound', 'wounded', 'wounds', 'wow', 'write', 'writer', 'writes', 'writing', 'written', 'wrong', 'wrote', 'xray', 'yacht', 'yachts', 'yamada', 'yamamoto', 'yard', 'year', 'years', 'yeast', 'yell', 'yelling', 'yellow', 'yen', 'yes', 'yesterday', \"yesterday's\", 'yet', 'yield', 'yielded', 'yogurt', 'yokohama', 'york', 'you', \"you'd\", \"you'll\", \"you're\", \"you've\", 'young', 'younger', 'your', 'yours', 'yourself', 'youth', 'yugoslavia', 'yukina', 'yukio', 'yumi', 'zambia', 'zealand', 'zero', 'zinc', 'zoo', '°c']\n",
            "Target Vocabulary\t\t\t: [\"''air''\", \"''de\", \"''fall''\", \"''heir''\", \"''kijk''\", \"''unidentified\", \"'aaa'\", \"'m\", \"'s\", \"'t\", '0', '1', '10', '100', '1000', '10000', '11', '111', '119', '11u', '12', '1200', '1245', '133', '15', '1603', '1650', '1853', '1888', '19', '1910', '1920', '1939', '1943', '1945', '1955', '1957', '1963', '1970', '1972', '1975', '1976', '1977', '1979', '1985', '1990', '2', '20', '200', '20000', '213', '22', '25', '25000', '26', '28', '2de', '3', '30', '37', '4', '5', '50', '500', '54', '6', '60', '600', '61', '7', '8', '80', '810', '839', '9', '<bof>', '<eos>', 'a', \"a's\", 'aaa', 'aan', 'aanbevelen', 'aanbieden', 'aanbod', 'aanbouw', 'aanbrengen', 'aandacht', 'aandelenmarkt', 'aandoening', 'aangeboden', 'aangeduid', 'aangedurfd', 'aangekomen', 'aangekondigd', 'aangelegenheid', 'aangenaam', 'aangereden', 'aangerend', 'aanhouden', 'aankomen', 'aankomt', 'aankopen', 'aankwam', 'aanmelding', 'aanmeren', 'aanmerking', 'aannemen', 'aanplakbiljetten', 'aanraden', 'aanraken', 'aanrichten', 'aansluiten', 'aansteker', 'aantal', 'aantreffen', 'aantrekkelijk', 'aantrekken', 'aanvaard', 'aanvaarden', 'aanvaardt', 'aanval', 'aanvallen', 'aanvraag', 'aanvragen', 'aanwezig', 'aanzetten', 'aanzien', 'aanzienlijk', 'aanzitten', 'aap', 'aardappel', 'aardappelen', 'aardappels', 'aardappelsla', 'aardbeien', 'aardbeving', 'aardbevingen', 'aarde', 'aardig', 'aardoppervlak', 'aarzel', 'aarzelde', 'abc', 'abnormale', 'abortus', 'absoluut', 'absorberen', 'accepteer', 'accepteerde', 'accepteren', 'acht', 'achter', 'achtergelaten', 'achtergrond', 'achterlaten', 'achternaam', 'achternamen', 'achtste', 'acteur', 'actie', 'actief', 'actrice', 'adem', 'ademen', 'adres', 'advies', 'advocaat', 'advokaat', 'af', 'afbeelding', 'afdeling', 'afdoen', 'affiches', 'afgebrand', 'afgehaald', 'afgehandeld', 'afgelegen', 'afgelopen', 'afgemaakt', 'afgereisd', 'afgeschaft', 'afgewezen', 'afhangt', 'afkorting', 'aflossen', 'afmelden', 'afrika', 'afschaffen', 'afscheid', 'afslanken', 'afspraak', 'afstand', 'afstanden', 'afstandsbediening', 'afsterven', 'aftrekken', 'afvallen', 'afwas', 'afwezig', 'afwezigen', 'afwezigheid', 'afwijking', 'afzetten', 'agent', 'agressief', 'ah', 'aidsonderzoek', 'airconditioner', 'airconditioning', 'airlines', 'ajuin', 'akiko', 'akkoord', 'al', 'album', 'alcohol', 'aldus', 'alex', 'alfabet', 'algemeen', 'algemene', 'alice', 'alkohol', 'alle', 'allebei', 'alleen', 'allemaal', 'allen', 'allergisch', 'allergische', 'alles', 'alpen', 'als', 'alsjeblief', 'alsjeblieft', 'alsmede', 'alsof', 'alstublieft', 'altaar', 'altijd', 'alvast', 'alvorens', 'alweer', 'ambtenaar', 'amerika', 'amerikaans', 'amerikaanse', 'amerikanen', 'amper', 'amuseer', 'an', 'ana', 'ander', 'andere', 'anderen', 'anders', 'andy', 'angeles', 'angola', 'angst', 'ann', 'anna', 'anne', 'anthony', 'antieke', 'antigua', 'antwoord', 'antwoordde', 'antwoorden', 'apen', 'apotheek', 'apparaat', 'apparatuur', 'appartement', 'appel', 'appelbomen', 'appels', 'appelsien', 'appeltaart', 'appeltje', 'applaudisseerde', 'applaudisseerden', 'apple', 'apr', 'april', 'arbeiders', 'archiefkast', 'argument', 'argwanend', 'arizona', 'arm', 'arme', 'armeluisgewas', 'armen', 'arnie', 'arresteerde', 'arriveerden', 'arrogant', 'artiesten', 'artikel', 'artikels', 'arts', 'as', 'aspirine', 'assistent', 'associëren', 'astrofysicus', 'astronomie', 'at', 'aten', 'atoomenergie', 'atoomnummer', 'atoomtijdperk', 'aub', 'australië', 'australiërs', 'australië”', 'auteur', 'authentiek', 'auto', \"auto's\", 'autobatterij', 'autoindustrie', 'automarkt', 'automatisch', 'automatische', 'autoonderdelen', 'autoraam', 'autorijden', 'autoverkoop', 'avond', 'avondeten', 'avondkleding', 'avondmaal', 'avonds', 'azijn', 'azië', 'b', 'baan', 'baard', 'baart', 'baas', 'baasje', 'baby', 'babypinguïn', 'backhand', 'bad', 'baden', 'badkamer', 'badwater', 'bagage', 'bagatel', 'bakken', 'bakker', 'bakt', 'bal', 'balkon', 'ballen', 'balpen', 'bamboe', 'bananen', 'bananentaart', 'band', 'banden', 'bang', 'bank', 'banken', 'barst', 'barstte', 'baseball', 'baseballclub', 'baseballwedstrijd', 'baseert', 'basketbal', 'basketballen', 'batterij', 'beantwoord', 'beantwoorden', 'bed', 'bedankt', 'bedek', 'bedekt', 'bedelaar', 'bedenken', 'bederven', 'bedien', 'bediende', 'bedierf', 'bedoel', 'bedoelde', 'bedoeling', 'bedoelt', 'bedorven', 'bedraagt', 'bedrag', 'bedreigde', 'bedreiging', 'bedriegen', 'bedrijf', 'bedroefd', 'bedroeg', 'bedroevend', 'bedrogen', 'bedwingen', 'beeldt', 'been', 'beer', 'beesten', 'beet', 'beetje', 'begaafd', 'begaan', 'begeleidde', 'begeleiden', 'begin', 'beginnen', 'beginners', 'begint', 'begon', 'begonnen', 'begraaft', 'begraven', 'begrepen', 'begrijp', 'begrijpen', 'begrijpt', 'behaal', 'behalen', 'behalve', 'behandeld', 'behandelde', 'behandelden', 'beheersen', 'behoedzame', 'behoorde', 'behoort', 'behoren', 'behouden', 'beide', 'beiden', 'bekaf', 'bekend', 'bekende', 'bekeurd', 'bekijk', 'bekijken', 'beklimmen', 'beklimt', 'beklommen', 'bel', 'belachelijk', 'belang', 'belangrijk', 'belangrijke', 'belangrijker', 'belasting', 'belastingen', 'belde', 'beledigen', 'beleefd', 'beleefder', 'beleefdheid', 'belegde', 'beleid', 'belgië', 'bell', 'bellen', 'belletje', 'belofte', 'beloning', 'beloofde', 'beluisteren', 'bemachtigd', 'bemachtigen', 'bemanning', 'bemerkte', 'bemoei', 'ben', 'beneden', 'benen', 'benieuwd', 'benijd', 'bent', 'benzine', 'benzinestation', 'bepaald', 'bepaalde', 'beperkt', 'bereid', 'bereiden', 'bereidt', 'bereik', 'bereikbaar', 'bereiken', 'bereikte', 'bereikten', 'berekende', 'berekenen', 'beren', 'berg', 'bergen', 'bergsport', 'bergtop', 'berichten', 'bern', 'beroemd', 'beroemde', 'beroemdheid', 'beroep', 'beroepservaring', 'beroerte', 'berucht', 'berust', 'beschaafde', 'beschaamd', 'beschamend', 'beschamende', 'beschaving', 'bescherme', 'beschermen', 'beschermer', 'beschikbaar', 'beschikking', 'beschikt', 'beschouw', 'beschouwen', 'beschreef', 'beschrijven', 'beschuldigde', 'beschuldigen', 'besefte', 'beslag', 'beslechten', 'beslissing', 'beslissingen', 'besloot', 'besloten', 'bespaart', 'bespeelt', 'bespraken', 'bespreken', 'best', 'bestaan', 'bestaat', 'bestand', 'beste', 'besteden', 'besteed', 'besteld', 'bestelde', 'bestellen', 'bestelling', 'bestemd', 'bestemming', 'bestudeerde', 'bestuderen', 'besturen', 'bestuurde', 'bestuurder', 'betaald', 'betaalde', 'betalen', 'betaling', 'betekenis', 'betekenissen', 'betekent', 'beter', 'betere', 'beters', 'betrad', 'betrapt', 'betreden', 'betreur', 'betrokken', 'betty', 'beurt', 'bevallen', 'bevalt', 'bevangen', 'bevat', 'bevatten', 'beveelt', 'bevindt', 'bevolking', 'bevolkingsomvang', 'bevriest', 'bevrijd', 'bevrijdde', 'bevroor', 'bevroren', 'bewaar', 'bewaker', 'beware', 'bewaren', 'beweegt', 'bewegen', 'beweging', 'bewijzen', 'bewolkt', 'bewonder', 'bewonderaars', 'bewonderenswaardig', 'bewusteloos', 'bewustzijn', 'bezaaid', 'bezet', 'bezig', 'bezit', 'bezocht', 'bezochten', 'bezoek', 'bezoeken', 'bezoekers', 'bezoekt', 'bezorgd', 'bezwaar', 'beïnvloed', 'bibliotheek', 'biefstuk', 'bien', 'bier', 'bierflesjes', 'biertje', 'biertjes', 'big', 'bij', 'bijbel', 'bijeen', 'bijeenkomst', 'bijen', 'bijgekomen', 'bijgeloof', 'bijgevoegd', 'bijhouden', 'bijna', 'bijt', 'bijten', 'bijwerkingen', 'bijwonen', 'bijzonder', 'bijzondere', \"bikini's\", 'bill', 'bin', 'binnen', 'binnenaf', 'binnengaan', 'binnengevallen', 'binnenkort', 'binnenkwam', 'binnenstad', 'binnenstebuiten', 'binnenweg', 'biochemie', 'biologie', 'bioscoop', 'bitter', 'blad', 'bladeren', 'bladzijde', 'bladzijdes', 'blaffende', 'blaft', 'blafte', 'blauw', 'blauwe', 'bleef', 'bleek', 'bleekjes', 'bleven', 'blij', 'blijdschap', 'blijf', 'blijft', 'blijkbaar', 'blijven', 'blik', 'blind', 'blinkt', 'bloed', 'bloeddorstig', 'bloeddruk', 'bloedgroep', 'bloedt', 'bloei', 'bloeien', 'bloem', 'bloemen', 'bloemenwinkel', 'bloes', 'blokken', 'blondines', 'blut', 'bob', 'boek', 'boeken', 'boekenwurm', 'boekhouden', 'boerderij', 'boete', 'boksen', 'bomen', 'bondgenoot', 'bonen', 'boodschap', 'boodschappen', 'boogschutter', 'boom', 'boontje', 'boord', 'boordevol', 'boos', 'boot', 'bord', 'borst', 'borstkas', 'bos', 'boston', 'boter', 'botste', 'botten', 'bouwde', 'bouwen', 'bouwt', 'boven', 'bovenaan', 'bovenal', 'bovendien', 'bovenlip', 'bovenste', 'bracht', 'brachtten', 'brak', 'brand', 'branden', 'brandende', 'brandoefening', 'brandt', 'brandweerlieden', 'brandweermannen', 'brandweervrouw', 'brasilia', 'brazilië', 'breed', 'breek', 'breien', 'breit', 'breken', 'breng', 'brengen', 'brengt', 'brian', 'bridge', 'brief', 'brieven', 'brievenbus', 'bril', 'briljant', 'brillen', 'brittannië', 'broden', 'broeders', 'broek', 'broekzakken', 'broer', 'broers', 'broertje', 'bronnen', 'brood', 'broodje', 'broodjes', 'brown', 'brug', 'bruid', 'bruikbaar', 'bruiloft', 'bruine', 'btw', 'buckingham', 'buffel', 'buik', 'buikpijn', 'buiten', 'buitenaardse', 'buitenaf', 'buitenland', 'buitenlander', 'buitenlanders', 'buitenlandse', 'buitenwijk', 'bukken', 'bureau', 'bureaulamp', 'bureaulampen', 'burgemeester', 'burger', 'bus', 'buschauffeurs', 'busdienst', 'bushalte', 'buskaartje', 'buskruit', 'buslijn', 'busreis', 'bussen', 'busstation', 'buurt', 'c', 'cacaobonen', 'cadeau', 'cafetaria', 'café', 'cake', 'camera', \"camera's\", 'canada', 'capaciteit', 'capitulatie', 'carl', 'carol', 'cashlimiet', 'cd', \"cd's\", 'cdspeler', 'cdspelers', 'celcius', 'celsius', 'cent', 'centimeter', 'centrum', 'ceremonie', 'chauffeur', 'checken', 'checkup', 'chemische', 'cheque', 'chicago', 'china', 'chinees', 'chinese', 'chirurg', 'chirurgie', 'chocola', 'chocolade', 'chocolademelk', 'cholera', 'chopin', 'christendom', 'christenen', 'christus', 'cinema', 'cirkel', 'citaten', 'citroen', 'citroenen', 'classificeer', 'club', 'cocons', 'cola', \"collega's\", 'college', 'columbus', 'combinatie', 'comité', 'commissaris', 'commissie', 'communicatie', 'communiceren', 'communist', 'componist', 'componisten', 'compositie', 'computer', 'computers', 'concert', 'concertkaartje', 'conditie', 'condoom', 'conflicten', 'confucius', 'consequent', 'conservatief', 'constant', 'contact', 'contacteer', 'contactlenzen', 'contant', 'context', 'continent', 'continu', 'contract', 'controleer', 'controleren', 'cookie', 'cool', 'coole', 'correct', 'correspondeerden', 'correspondeert', 'corrigeer', 'crashte', 'creationisme', 'creditcard', 'crisis', 'crème', 'cuit', 'curie', 'curry', 'curtis', \"da's\", 'daad', 'daadwerkelijk', 'daalde', 'daar', 'daaraan', 'daarbuiten', 'daarenboven', 'daarheen', 'daarmee', 'daarna', 'daarom', 'daarover', 'daarzo', 'dacht', 'dachten', 'dadelijk', 'daden', 'dag', 'dagboek', 'dagelijks', 'dagen', 'dak', 'dalende', 'dam', 'dame', 'dames', 'damon', 'dan', 'dank', 'dankbaar', 'danken', 'dankzij', 'dansen', 'danseres', 'danst', 'dapperheid', 'das', 'dat', 'datum', 'dauw', 'dave', 'de', 'december', 'deden', 'deed', 'deel', 'deelde', 'deeltijds', 'defecte', 'definitief', 'definiëren', 'degas', 'degene', 'degenen', 'dekens', 'dekken', 'delft', 'democratie', 'democratische', 'demonstratie', 'denemarken', 'denen', 'denk', 'denken', 'denkt', 'depressief', 'der', 'derde', 'dergelijke', 'dertien', 'dertig', 'detail', 'detroit', 'deugd', 'deur', 'deuren', 'deze', 'dezelfde', 'diamant', 'diarree', 'dicht', 'dichtbij', 'dichter', 'dichtgaan', 'dichtgedaan', 'dichtstbije', 'dichtstbijzijnde', 'dick', 'die', 'dieendie', 'dieet', 'dief', 'diefstal', 'diego', 'dienst', 'diep', 'diepe', 'dier', 'dierbaar', 'dieren', 'dierentuin', 'diersoorten', 'dieven', 'dik', 'dikker', 'dikwijls', 'dineren', 'ding', 'dingen', 'dingetje', 'dinosauriërs', 'dinosaurussen', 'dinsdag', 'diplomaat', 'direct', 'directeur', 'directeuren', 'directieleden', 'discipline', 'discomuziek', 'discussie', 'disneyland', 'dit', 'docent', 'dochter', 'dochters', 'document', 'dodelijke', 'doden', 'doe', 'doehetzelfzaak', 'doei', 'doek', 'doel', 'doeleinden', 'doelloos', 'doen', 'doet', 'dokter', 'dokters', 'dol', 'dolblij', 'dolfijn', 'dolgraag', 'dollar', 'dollarcent', 'dom', 'domme', 'donder', 'donderen', 'donker', 'donkerder', 'donkere', 'dood', 'doodde', 'doodgevroren', 'doodlopende', 'doodstraf', 'doof', 'dook', 'doop', 'door', 'doorbakken', 'doordat', 'doordeweeks', 'doorgaans', 'doorgeboekt', 'doorgebracht', 'doorgegeven', 'doormidden', 'doorzichtig', 'doos', 'dop', 'dorp', 'dorpje', 'dorst', 'douche', 'douchen', 'douches', 'dozijn', 'draadje', 'draaft', 'draag', 'draagt', 'draai', 'draait', 'dragen', 'drama', 'dramaclub', 'dramatische', 'dranken', 'drankje', 'drastisch', 'dreef', 'dressing', 'dreumes', 'drie', 'driekoppige', 'driekwart', 'drijfvermogen', 'dring', 'dringend', 'dringende', 'dringt', 'drink', 'drinkbaar', 'drinken', 'drinkt', 'droeg', 'droevig', 'drogen', 'dromen', 'dronk', 'dronken', 'droog', 'droom', 'drugs', 'druiven', 'druk', 'duidelijk', 'duif', 'duister', 'duits', 'duitsers', 'duitsland', 'duizend', 'duizenden', 'dure', 'duren', 'durf', 'dus', 'dusver', 'duur', 'duurde', 'duurder', 'duurkoop', 'duurs', 'duurt', 'duurzame', 'dwalen', 'dwongen', 'echt', 'echte', 'echtgenoot', 'echtpaar', 'echtscheiding', 'ecologische', 'economie', 'economisch', 'edgar', 'edison', 'edward', 'eekhoorn', 'eekhoorntje', 'een', 'eenmaal', 'eens', 'eentonige', 'eenvoudig', 'eenvoudige', 'eenzaam', 'eerder', 'eergisteren', 'eerlijk', 'eerst', 'eerste', 'eerstejaars', 'eersten', 'eet', 'eetlust', 'eeuwig', 'eeuwigheid', 'effect', 'egocentrisch', 'egoïsme', 'egypte', 'eh', 'ei', 'eieren', 'eigen', 'eigendom', 'eigenlijk', 'eikenhout', 'eiland', 'eilanden', 'eind', 'einde', 'eindelijk', 'eindigde', 'eindigen', 'eindigt', 'eindstreep', 'eisen', 'eiste', 'eiwit', 'elektricien', 'elektriciteit', 'elektrisch', 'elektrische', 'elf', 'elizabeth', \"elizabeth''\", 'elk', 'elkaar', 'elke', 'ellen', 'email', 'emailadres', 'emi', 'emmer', 'emoties', 'en', 'encyclopedie', 'ene', 'energie', 'energievraag', 'engel', 'engeland', 'engels', 'engelse', 'engelsman', 'engelstalige', 'engels”', 'enig', 'enige', 'enigszins', 'enkel', 'enkele', 'enorm', 'enorme', 'enz', 'er', 'eraan', 'erbuiten', 'ere', 'eregast', 'erfde', 'erfelijke', 'erg', 'erge', 'ergens', 'erger', 'ergste', 'eric', 'erin', 'erkennen', 'ermee', 'ernaar', 'ernstige', 'ernstigs', 'erop', 'erover', 'eruit', 'ervan', 'ervandoor', 'ervaring', 'ervoor', 'eten', 'etentje', 'europa', 'europeanen', 'europese', 'eva', 'evans', 'even', 'evenmin', 'examen', 'examens', 'excelbestand', 'excuseer', 'excuses', 'exemplaren', 'experiment', 'experimenten', 'exporteert', 'expres', 'extra', 'extreem', 'eén', 'fabre', 'fabriek', 'fabrieken', 'fabrieksafval', 'failliet', 'falen', 'familie', 'families', 'familietradities', 'fan', 'fantasie', 'fantastisch', 'fantastische', 'fascinerende', 'fataal', 'favoriete', 'februari', 'feest', 'feestdagen', 'feestje', 'feit', 'feiten', 'fel', 'feliciteren', 'festivals', 'fier', 'fiets', 'fietsen', 'fijne', 'file', 'filippijn', 'filippijnse', 'filippino', 'film', 'films', 'financiële', 'finland', 'firma', 'flauw', 'fles', 'flessen', 'flexibeler', 'flexie', 'flik', 'flink', 'florence', 'florida', 'fluctueert', 'fluisterde', 'fluitje', 'fluïda', 'flying', 'formaliteit', 'formele', 'formule', 'formulier', 'fortuin', 'foto', \"foto's\", 'fotocamera', 'fotograaf', 'fotograferen', 'fotografie', 'fototoestel', 'fout', 'fouten', 'foutje', 'francisco', 'frank', 'frankrijk', 'frans', 'franse', 'fransisco', 'fred', 'freeman', 'fris', 'frisse', 'frisser', 'fronste', 'fruit', 'fruitsap', 'fuji', 'fukuoka', 'fysiek', 'ga', 'gaan', 'gaande', 'gaat', 'gaf', 'gang', 'ganse', 'garnizoen', 'gassen', 'gasten', 'gastvrijheid', 'gat', 'gate', 'gaten', 'gauw', 'gaven', 'ge', 'geadviseerd', 'geamuseerd', 'geantwoord', 'gearresteerd', 'geasfalteerd', 'gebak', 'gebakken', 'gebaseerd', 'gebeld', 'gebeurd', 'gebeurde', 'gebeuren', 'gebeurt', 'gebeurtenis', 'gebied', 'geblaft', 'gebleven', 'geboekt', 'gebombardeerd', 'gebonden', 'geboortecontrole', 'geboortedag', 'geboorteland', 'geboortes', 'geboren', 'gebottelde', 'gebouw', 'gebouwd', 'gebouwen', 'gebracht', 'gebrek', 'gebroken', 'gebruik', 'gebruiken', 'gebruikmaken', 'gebruikt', 'gecompenseerd', 'geconfronteerd', 'gedaan', 'gedacht', 'gedachte', 'gedachten', 'gedag', 'gedane', 'gedicht', 'gedichten', 'gedood', 'gedoofd', 'gedoucht', 'gedraag', 'gedrag', 'gedragen', 'gedronken', 'gedroomd', 'gedrukt', 'geduld', 'geduldig', 'gedurende', 'gedwongen', 'geef', 'geeft', 'geel', 'geen', 'geesten', 'gefaald', 'gefeliciteerd', 'geformuleerd', 'gegaan', 'gegeten', 'gegeven', 'gegraveerd', 'gehaald', 'gehaast', 'gehad', 'gehakt', 'geheel', 'geheeld', 'geheim', 'geheimen', 'gehele', 'geheugen', 'geholpen', 'gehonkbald', 'gehoor', 'gehoord', 'gehoorzamen', 'gehouden', 'gehuild', 'gehuurd', 'gehuwd', 'gek', 'gekeken', 'geketend', 'gekke', 'gekken', 'gekleed', 'geklopt', 'gekocht', 'gekomen', 'gekost', 'gekozen', 'gekregen', 'gekruist', 'gekwetst', 'gelachen', 'geladen', 'gelanceerd', 'gelaten', 'geld', 'geldbedrag', 'geldig', 'geldt', 'gele', 'geleden', 'geleend', 'geleerd', 'geleerde', 'gelegd', 'gelegenheid', 'geleid', 'geleverd', 'gelezen', 'geliefd', 'gelieve', 'gelijk', 'gelijkaardig', 'gelijkspel', 'gelijkt', 'gelijkvloers', 'gelogen', 'geloof', 'geloofde', 'geloofden', 'gelooft', 'geloofwaardig', 'gelopen', 'geloven', 'gelovig', 'geluid', 'geluk', 'gelukbrengend', 'gelukkig', 'gelukkige', 'gelukkigste', 'gelukt', 'geluncht', 'gemaakt', 'gemakkelijk', 'gemakkelijke', 'gemakkelijker', 'gemeen', 'gemiddeld', 'gemist', 'gemorst', 'genaaid', 'geneesheer', 'geneesmiddel', 'generatie', 'genezen', 'genie', 'geniet', 'genoeg', 'genoegen', 'genoemd', 'genomen', 'genoot', 'genoteerd', 'genoten', 'geoefend', 'geoorloofd', 'geopend', 'george', 'georges', 'georgië', 'georgo', 'gepaard', 'gepakt', 'geplant', 'gepleegd', 'geprobeerd', 'geproduceerd', 'gepubliceerd', 'geraak', 'geraakt', 'geraden', 'gerechten', 'gerechtigheid', 'gered', 'gereed', 'geregeld', 'geregend', 'gerepareerd', 'gereserveerd', 'geresulteerd', 'gericht', 'geringste', 'geroemd', 'geroepen', 'geronnen', 'gerucht', 'gerund', 'gerust', 'geschapen', 'geschat', 'geschenk', 'geschiedenis', 'geschikt', 'geschil', 'geschilderd', 'geschreven', 'geserveerd', 'geslaagd', 'geslagen', 'geslepen', 'gesloten', 'gesneeuwd', 'gespeeld', 'gespen', 'gesprek', 'gesproken', 'gestegen', 'gestemd', 'gesteriliseerd', 'gestimuleerd', 'gestoken', 'gestolen', 'gestoord', 'gestopt', 'gestorven', 'gestraft', 'gestrest', 'gestudeerd', 'gestuurd', 'getal', 'getallen', 'geteisterd', 'geteld', 'getelefoneerd', 'getennist', 'getoond', 'getrouwd', 'getuige', 'getuigen', 'geur', 'gevaar', 'gevaarlijk', 'geval', 'gevallen', 'gevangen', 'gevangene', 'gevangenis', 'gevat', 'geven', 'geverfd', 'gevierd', 'gevoelens', 'gevoelig', 'gevoerd', 'gevolg', 'gevonden', 'gevormd', 'gevraagd', 'gevuld', 'gewaarschuwd', 'gewacht', 'gewas', 'gewassen', 'geweer', 'geweest', 'geweldig', 'geweldige', 'gewend', 'gewenst', 'gewerkt', 'gewicht', 'gewichtseenheid', 'gewiekst', 'gewijd', 'gewild', 'gewond', 'gewonde', 'gewonnen', 'gewoon', 'gewoond', 'gewoonlijk', 'gewoontes', 'gewoonweg', 'geworden', 'gewrichten', 'gezakt', 'gezegd', 'gezegend', 'gezelschap', 'gezet', 'gezeten', 'gezicht', 'gezichtspunt', 'gezichtsverlies', 'gezien', 'gezin', 'gezinnen', 'gezinsleden', 'gezinsleven', 'gezocht', 'gezond', 'gezondheid', 'gezongen', 'gezwommen', 'geëindigd', 'geërfd', 'geïndustrialiseerd', 'geïnteresseerd', 'geïntroduceerd', 'geïsoleerd', 'gids', 'giet', 'gifu', 'gigantische', 'gij', 'ginds', 'ging', 'gingen', 'gist', 'gister', 'gisteravond', 'gisteren', 'gisterenavond', 'gisternacht', 'gisterochtend', 'gitaar', 'glaasje', 'glas', 'glasscherven', 'glazen', 'glimlach', 'glimlachen', 'glimlachend', 'glimlacht', 'glimlachte', 'glimlachten', 'gloednieuw', 'god', 'goed', 'goede', 'goedemorgen', 'goedenacht', 'goedenavond', 'goederen', 'goedkoop', 'goedkoopste', 'goedkoper', 'goedkopere', 'goedkopers', 'goeiemorgen', 'goeierik', 'gok', 'golden', 'golf', 'golfbaan', 'golfclub', 'gooi', 'gooide', 'gordijn', 'gortig', 'goud', 'gouden', 'graag', 'grace', 'graden', 'graf', 'graham', 'grammatica', 'grammaticaal', 'grap', 'grapje', 'grappen', 'grappige', 'gras', 'gratis', 'graven', 'grazen', 'green', 'greene', 'greep', 'grens', 'grenst', 'grenzen', 'grieks', 'griep', 'grijze', 'groeide', 'groeien', 'groeiproces', 'groeit', 'groen', 'groenland', 'groente', 'groenten', 'groep', 'groeten', 'grond', 'gronden', 'grondstoffen', 'grondwet', 'groot', 'grootbrittannië', 'grootmoeder', 'grootste', 'grootvader', 'grot', 'grote', 'groter', 'gunst', 'gênante', 'haaien', 'haakjes', 'haal', 'haalde', 'haalt', 'haar', 'haartje', 'haarzelf', 'haast', 'haasten', 'haastige', 'haat', 'had', 'hadden', 'hadt', 'hakone', 'halen', 'half', 'halfzus', 'hallo', 'halloween', 'halt', 'halte', 'halve', 'hamburger', 'hamburgers', 'hamlet', 'hanako', 'hand', 'handdoek', 'handelde', 'handelen', 'handen', 'handig', 'handschrift', 'handtas', 'handtekeningen', 'hangt', 'hapje', 'hard', 'harde', 'harder', 'haren', 'hart', 'hartaanval', 'hartelijk', 'haruko', 'hashimoto', 'haten', 'haven', 'havenstad', 'hawaï', 'he', 'heb', 'hebben', 'hebbende', 'hebt', 'heden', 'heeft', 'heel', 'heelal', 'heelt', 'heen', 'heer', 'heerlijk', 'heerser', 'heet', 'heiligt', 'heimwee', 'heisa', 'hek', 'hekel', 'hel', 'helaas', 'held', 'helder', 'helderblauw', 'helderrood', 'hele', 'heleboel', 'helemaal', 'helen', 'helens', 'helft', 'helling', 'help', 'helpen', 'helpt', 'hem', 'hemd', 'hemdknoopje', 'hemel', 'hemzelf', 'hen', 'henry', 'herfst', 'herhaal', 'herhaalde', 'herhaalt', 'herhalen', 'herhaling', 'herinner', 'herinnerde', 'herinneren', 'herinneringen', 'herinnert', 'herkende', 'herrie', 'hersteld', 'herstellen', 'hert', 'hertog', 'herzien', 'herziene', 'herziening', 'het', 'heterdaad', 'hetzelfde', 'heuvel', 'heuvels', 'hield', 'hielden', 'hielp', 'hielpen', 'hier', 'hierheen', 'hierna', 'hierover', 'hieruit', 'hiervoor', 'hij', 'hijsen', 'hiltonhotel', 'hing', 'hingen', 'hiroko', 'hiromi', 'hiroshi', 'hiroshima', 'hisashi', 'historische', 'hit', 'hitler', 'hitomi', 'hitte', 'hobby', \"hobby's\", 'hoe', 'hoed', 'hoef', 'hoeft', 'hoek', 'hoekje', 'hoelang', 'hoeraatjes', 'hoest', 'hoeveel', 'hoezo', 'hoge', 'hoger', 'hogere', 'hoi', 'hok', 'hokkaido', 'homofonen', 'hond', 'honden', 'honderd', 'honderden', 'hong', 'hongarije', 'honger', 'hongerig', 'hongerige', 'hongersnood', 'honing', 'honkbal', 'honkballen', 'honkbalploeg', 'honkbalspeler', 'honkbalspelers', 'honkbalteam', 'honkbalwedstrijd', 'hoofd', 'hoofdkwartier', 'hoofdletters', 'hoofdpijn', 'hoofdstad', 'hoofdstuk', 'hoofdvak', 'hoog', 'hoogopgeleide', 'hoogte', 'hoogtepunt', 'hooikoorts', 'hoop', 'hoopvolle', 'hoor', 'hoorde', 'hoorden', 'hoost', 'hopeloos', 'hopen', 'hopkins', 'horen', 'horizon', 'horloge', 'horrorfilm', 'horrorfilms', 'hotdog', 'hotel', 'hotelreservering', 'hotels', 'hou', 'houd', 'houden', 'houdt', 'hout', 'houten', 'huil', 'huilde', 'huilen', 'huilt', 'huis', 'huisdier', 'huisdieren', 'huisdierenkerkhof', 'huishoudelijk', 'huisstof', 'huisvrouw', 'huiswerk', 'huizen', 'hulp', 'hulpbronnen', 'hulpkreet', 'hun', 'huren', 'huur', 'huurden', 'huwelijk', 'huwelijken', 'hyogo', 'hysterisch', 'hè', 'hé', 'h₂o', 'i', 'idee', 'ideeën', 'identiteitsbewijs', 'identiteitskaart', 'idioot', 'ie', 'ieder', 'iedere', 'iedereen', 'iemand', 'iemands', 'ierland', 'iets', 'ijs', 'ijsberen', 'ijshockey', 'ijsjes', 'ijskoud', 'ijsland', 'ijverig', 'ijzer', 'ijzerhandel', 'ijzerwarenwinkel', 'ik', 'imiteren', 'immigranten', 'immuun', 'importeren', 'in', 'inademen', 'inbegrepen', 'inbreker', \"inca's\", 'incarijk', 'inchecken', 'incident', 'inclusief', 'inderdaad', 'india', 'indonesië', 'indruk', 'indrukwekkend', 'industrialisering', 'industriële', 'inflatie', 'informatie', 'ingang', 'ingenieur', 'ingestapt', 'ingetreden', 'ingevoerd', 'ingewikkelde', 'injectienaald', 'inkt', 'inlichting', 'inschatten', 'insecten', 'inspanning', 'inspanningen', 'inspecteerden', 'inspiratie', 'inspiratiebron', 'instemmen', 'instorten', 'intelligent', 'interessant', 'interessante', 'interessants', 'interesse', 'interesseer', 'interesseert', 'interesseren', 'internationale', 'interpreteer', 'intersessant', 'intieme', 'intrigeren', 'invloed', 'inwoners', 'iran', 'iris', 'irriteerde', 'is', 'italiaan', 'italiaans', 'italiaanse', 'italië', 'ito', 'ivriet', 'ja', 'jaar', 'jachtclub', 'jachten', 'jack', 'jakarta', 'jakobo', 'jaloezie', 'jammer', 'jane', 'januari', 'japan', 'japanner', 'japanners', 'japans', 'japanse', 'japansengels', 'japanstandaardtijd', 'jaren', 'jarig', 'jas', 'jasje', 'jay', 'jazz', 'je', 'jean', 'jeff', 'jemig', 'jeminee', 'jesus', 'jetlag', 'jeugd', 'jeugdherberg', 'jezelf', 'jezus', 'jij', 'jill', 'jim', 'jimmy', 'jims', 'joan', 'job', 'joegoslavië', 'joel', 'joggen', 'john', 'johnnie', 'jon', 'jones', 'jong', 'jonge', 'jongeman', 'jongen', 'jongens', 'jonger', 'jongere', 'jongeren', 'jongetje', 'jordan', 'jou', 'journalist', 'jouw', 'jouwe', 'jst', 'judy', 'juf', 'juffrouw', 'juist', 'juiste', 'juli', 'julia', 'jullie', 'jumi', 'juni', 'jupiter', 'jurk', 'kaarsen', 'kaarslicht', 'kaart', 'kaarten', 'kaartje', 'kaartjes', 'kaas', 'kakogawa', 'kalkoen', 'kalm', 'kam', 'kamer', 'kamers', 'kamperen', 'kan', 'kanaal', 'kanazawa', 'kanda', 'kandidaat', 'kangoeroe', 'kanker', 'kano', 'kans', 'kant', 'kantoor', 'kapitein', 'kapot', 'kapotgemaakt', 'kapper', 'kapseisde', 'kapsel', 'karakter', 'karaoke', 'karen', 'karlo', 'kas', 'kassa', 'kast', 'kasteel', 'kastelen', 'kat', 'kate', 'kater', 'katholieke', 'katholieken', 'kato', 'katoen', 'katoenproducten', 'katten', 'kauwt', 'kaviaar', 'kawogoe', 'keek', 'keel', 'keelpijn', 'keer', 'keerde', 'keert', 'keihard', 'keiko', 'keken', 'keller', 'kelnerin', 'ken', 'kende', 'kenia', 'kenji', 'kennen', 'kennis', 'kent', 'kenzi', 'kerel', 'keren', 'kerk', 'kerkklokken', 'kernwapens', 'kersenbloesem', 'kerst', 'kerstboom', 'kerstcadeau', 'kerstfeest', 'kerstman', 'kerstmis', 'kerstvakantie', 'keuken', 'keukens', 'keuze', 'kiekeboe', 'kies', 'kietelen', 'kiezen', 'kijk', 'kijken', 'kijkt', 'kikker', 'kikkers', 'kikkervisjes', 'kilo', 'kilometer', 'kind', 'kinderachtig', 'kinderen', 'kinderschoenen', 'kinderspel', 'kindertijd', 'kindsheid', 'kioto', 'kip', 'kippenvel', 'klaar', 'klaarde', 'klaarmaken', 'klaarzetten', 'klagen', 'klant', 'klanten', 'klap', 'klas', 'klasgenoten', 'klaslokaal', 'klassieke', 'klavertjevier', 'klavier', 'kleding', 'kleed', 'kleedkamer', 'kleedt', 'klein', 'kleine', 'kleiner', 'kleiners', 'kleingeld', 'kleinigheid', 'kleintjes', 'kleren', 'kletsnat', 'kleur', 'kleuren', 'kleurenblind', 'klif', 'klimaat', 'klimmen', 'klinkt', 'klok', 'klokje', 'klom', 'kloppen', 'klopt', 'kluisje', 'knap', 'knappe', 'knapste', 'knettergek', 'knippen', 'knipt', 'knipte', 'knoflook', 'knop', 'knopen', 'knuppel', 'knuppels', \"koala's\", 'koalabeer', 'kobe', 'kocht', 'koe', 'koeien', 'koek', 'koeken', 'koekjes', 'koeweit', 'koffer', 'koffie', 'koffiepauze', 'koffies', 'kojima', 'kok', 'koken', 'kokkin', 'koko', 'kolen', 'kom', 'komedies', 'komen', 'komend', 'komende', 'komkommer', 'komt', 'kon', 'konden', 'kong', 'konijn', 'konijnen', 'koning', 'koningen', 'koningin', 'koninklijke', 'koninkrijk', 'kooi', 'kook', 'kookkunst', 'kookt', 'koop', 'koopt', 'koorts', 'koos', 'kop', 'kopen', 'koper', 'kopie', 'kopieën', 'kopiëren', 'kopje', 'koppen', 'koppigheid', 'korea', 'kort', 'korte', 'kortere', 'kost', 'kostbaar', 'kostbaarder', 'koste', 'kosten', 'kostte', 'kostuum', 'kou', 'koud', 'koude', 'koudegolf', 'kouder', 'kouds', 'kousen', 'kozijn', 'kraai', 'kraan', 'kraanvogels', 'kracht', 'krant', 'kranten', 'krap', 'kredietkaart', 'kreeg', 'kriebels', 'krijg', 'krijgen', 'krijgt', 'krijt', 'kring', 'kringen', 'krioelt', 'kritiek', 'krop', 'kruipen', 'kruipt', 'kruispunt', 'kubieke', 'kudde', 'kuisen', 'kumiko', 'kun', 'kunnen', 'kunst', 'kunstenaar', 'kunstgalerij', 'kunstmatig', 'kunstsneeuw', 'kunt', 'kwaad', 'kwaliteit', 'kwam', 'kwamen', 'kweekt', 'kwetsen', 'kwijt', 'kwispelend', 'kwispelende', 'kyoto', 'kyushu', 'la', 'laag', 'laagste', 'laarzen', 'laat', 'laatst', 'laatste', 'laboratorium', 'lach', 'lachen', 'lacht', 'lachte', 'laden', 'lag', 'lage', 'lagere', 'laken', 'lamp', 'lamsvlees', 'land', 'landde', 'landen', 'landing', 'landschap', 'landt', 'lang', 'lange', 'langer', 'langs', 'langst', 'langste', 'langzaam', 'langzamer', 'lansing', 'laptop', 'las', 'lasagne', 'last', 'lastig', 'lastigvallen', 'laten', 'later', 'latijn', 'lawaai', 'leden', 'leed', 'leef', 'leefde', 'leeft', 'leeftijd', 'leeg', 'leek', 'leen', 'leende', 'leent', 'leer', 'leerde', 'leerden', 'leerkracht', 'leerling', 'leerlingen', 'leermeester', 'leermethode', 'leert', 'lees', 'leesruimte', 'leest', 'leeuw', 'leeuwen', 'lef', 'leg', 'lege', 'leger', 'legering', 'leider', 'leidinggevenden', 'leidt', 'lek', 'lekke', 'lekker', 'lekkers', 'lekt', 'lelies', 'lelijk', 'lenen', 'lengte', 'lengtemaat', 'lente', 'lentes', 'leraar', 'lerares', 'leren', 'les', 'lesboek', 'lesgeeft', 'lesgeven', 'lessen', 'lessenaar', 'let', 'letten', 'letter', 'letterlijk', 'letters', 'leugens', 'leuk', 'leuke', 'leuks', 'leunde', 'leve', 'leven', 'levend', 'levende', 'levendig', 'levensdoel', 'levensgevaar', 'levensonderhoud', 'levensstijl', 'levensverhaal', 'levensverzekering', 'lever', 'leveren', 'levert', 'lezen', 'lezing', 'lichaam', 'lichamelijke', 'licht', 'lichtblauw', 'lichte', 'lichter', 'lichtjes', 'lid', 'lied', 'liedje', 'liedjes', 'lief', 'liefde', 'liefdesbrief', 'liefdesverhalen', 'liefhebben', 'liefst', 'lieftallige', 'lieg', 'liegt', 'liep', 'liepen', 'liet', 'lieten', 'lieve', 'lievelingsacteur', 'lievelingseten', 'lievelingsgerecht', 'lievelingsliedje', 'lievelingsschrijver', 'lievelingsseizoen', 'lievelingssmaak', 'lievelingsspel', 'lievelingsspeler', 'lievelingssport', 'lievelingsvak', 'lievelingsvakken', 'liever', 'lieverd', 'lift', 'liften', 'liggen', 'ligt', 'lijdt', 'lijk', 'lijken', 'lijkt', 'lijn', 'lijst', 'lincoln', 'lincolns', 'linda', 'linkerarm', 'linkerhanden', 'linkervoet', 'links', 'linksaf', 'lisa', 'liter', 'liz', 'logeer', 'lokaal', 'londen', 'london', 'longkanker', 'longontsteking', 'lood', 'looft', 'loog', 'look', 'loon', 'loont', 'loop', 'loopneus', 'loopt', 'lopen', 'lopend', 'loper', 'los', 'lossen', 'lost', 'loste', 'lot', 'loterij', 'louise', 'lucht', 'luchthaven', 'luchtkastelen', 'lucifer', 'lucy', 'lui', 'luid', 'luide', 'luiden', 'luider', 'luidt', 'luipaarden', 'luister', 'luisteren', 'lukken', 'lukt', 'lunch', 'lunchen', 'lust', 'luxe', 'lynn', 'm', \"m'n\", 'maagpijn', 'maak', 'maakt', 'maakte', 'maakten', 'maal', 'maalt', 'maaltijd', 'maaltijden', 'maan', 'maand', 'maandag', 'maande', 'maandelijks', 'maanden', 'maanraket', 'maar', 'maart', 'maat', 'maatregelen', 'mac', 'macbeth', 'machine', 'machines', 'machineschrijven', 'macht', 'machtiger', 'mag', 'magazine', 'majoeko', 'majoor', 'maken', 'maki', 'makkelijk', 'makkelijke', 'makkelijker', 'malaria', 'maleisië', 'mama', 'man', 'mand', 'mandje', 'manier', 'manieren', 'mannen', 'manpower', 'map', 'marconi', 'mari', 'maria', \"maria's\", 'marie', \"mario's\", 'markt', 'mars', 'mary', 'masao', 'massage', 'mate', 'materiaal', \"maya's\", 'mayapriesters', 'mayuko', 'mazelen', \"mcdonald's\", 'me', 'medaille', 'medelijden', 'medewerking', 'medicament', 'medicijn', 'medicijnen', 'medicijnfles', 'medisch', 'medische', 'medium', 'mee', 'meebrengen', 'meegaan', 'meegebracht', 'meekomen', 'meel', 'meen', 'meende', 'meenemen', 'meer', 'meerdere', 'meest', 'meestal', 'meeste', 'meesterwerken', 'meg', 'mei', 'meid', 'meisje', 'meisjes', 'melk', 'melkproducten', 'melkwegstelsel', 'melodie', 'meloen', 'meloenen', 'men', 'meneer', 'meng', 'mengsel', 'menigte', 'mening', 'mens', 'menselijk', 'mensen', 'mensheid', 'menstruatiecyclus', 'menu', 'merk', 'merkte', 'mes', 'messen', 'messing', 'met', 'metaal', 'meteen', 'meten', 'meter', 'methode', 'metrostation', 'meubels', 'meubilair', 'mevrouw', 'mexicaans', 'mexico', 'mezelf', 'michigan', 'microsoft', 'middag', 'middageten', 'middagpauze', 'middaguur', 'middel', 'middelbare', 'middelen', 'midden', 'middernacht', 'mij', 'mijl', 'mijn', 'mijne', 'mijnheer', 'mijzelf', 'mike', 'mild', 'milieu', 'milieuproblemen', 'milieuvervuiling', 'militaire', 'miljard', 'miljarden', 'miljoen', 'miljoenen', 'miljonair', 'miller', 'mimi', 'min', 'minder', 'minderheden', 'mineralen', 'minirokjes', 'minste', 'minstens', 'minuten', 'minuut', 'minuutje', 'mis', 'misbruik', 'misdaad', 'misdadiger', 'mishima', 'miskraam', 'mislukkingen', 'mislukt', 'misschien', 'misselijk', 'missen', 'mist', 'miste', 'misverstand', 'mocht', 'modder', 'mode', 'model', 'modelvliegtuigjes', 'moderne', 'moe', 'moed', 'moeder', 'moedermelk', 'moedertaal', 'moedig', 'moei', 'moeilijk', 'moeilijke', 'moeilijkheid', 'moeilijkste', 'moeite', 'moest', 'moet', 'moeten', 'moge', 'mogelijk', 'mogelijkheden', 'mogelijkheid', 'mogen', 'molly', 'moment', 'momenteel', 'mompel', 'mond', 'mondeling', 'monster', 'montero', 'moogt', 'mooi', 'mooie', 'mooier', 'moois', 'mooist', 'mooiste', 'moord', 'moordenaar', 'morgen', 'morgenmiddag', 'morgenochtend', 'morgens', 'morgenstond', 'morren', 'morste', 'moto', 'motor', 'mountainbike', 'mozart', 'mp3speler', 'mug', 'muggen', 'muiriel', 'muis', 'muizen', 'munten', 'muntjes', 'muntstuk', 'muren', 'museum', 'musici', 'musicus', 'muur', 'muziek', 'muzikaal', 'muzikant', 'mysterie', 'mysterieuse', 'mysterieuze', 'na', 'naaimachine', 'naam', 'naar', 'naartoe', 'naast', 'nacht', 'nachten', 'nachts', 'nadenken', 'naderde', 'nagasaki', 'nagel', 'nagelnieuw', 'nagels', 'nagerecht', 'nakano', 'nam', 'namen', 'namiddag', 'nancy', 'naoko', 'napels', 'napoleon', 'nara', 'narita', 'nat', 'naties', 'nationale', 'natte', 'nature', 'natuurkunde', 'natuurlijk', 'natuurlijke', 'nauw', 'nauwelijks', 'nauwkeurig', 'nederland', 'nederlanders', 'nederlands', 'nee', 'neef', 'neem', 'neemt', 'neen', 'neer', 'neerknallen', 'neerschieten', 'neerzetten', 'negen', 'negentien', 'nek', 'nemen', 'nergens', 'nerveus', 'nessie', 'net', 'netjes', 'neus', 'neutraal', 'neven', 'new', 'nicht', 'nichten', 'nick', 'niemand', 'nierprobleem', 'nies', 'niet', 'nietalcoholische', 'nietroker', 'nietrokers', 'niets', 'nietwaar', 'niet”', 'nieuw', 'nieuwe', 'nieuwjaar', 'nieuws', 'nieuwsgierig', 'nieuwsgierigheid', 'nieuwste', 'nieuwzeeland', 'nikon', 'niks', 'niveau', 'noch', 'nodig', 'nodigde', 'noem', 'noemde', 'noemden', 'noemen', 'noemt', 'nog', 'nogal', 'nogmaals', 'nood', 'noodzaak', 'nooit', 'noorden', 'noorderzon', 'noordpoolgebied', 'normaal', 'normaliter', 'noteer', 'noten', 'nou', 'nu', 'nul', 'nummer', 'nummers', 'nut', 'nutteloos', 'nuttig', 'o', \"o's\", 'ober', \"object''\", 'observatie', 'oceaan', 'ochtend', 'oefening', 'oefenkamp', 'oerwoud', 'oesters', 'oevers', 'of', 'offerte', 'ogawa', 'ogen', 'ogenblik', 'ogenblikje', 'oh', 'ok', 'okinawa', 'oktober', 'oké', 'olie', 'olifant', 'olifanten', 'olijftak', 'olympische', 'om', 'omdat', 'omdraaien', 'omgaan', 'omgekomen', 'omgeving', 'omhoog', 'omroeper', 'omroepers', 'omschrijven', 'omsingeld', 'omvergeworpen', 'omwisselen', 'onafhankelijk', 'onafhankelijker', 'onafscheidelijk', 'onbekende', 'onbeleefd', 'onbeschoft', 'onbewolkt', 'ondanks', 'onder', 'onderaan', 'onderbrak', 'onderbreken', 'ondergegaan', 'ondergesneeuwd', 'ondergrondse', 'onderhevig', 'onderling', 'onderschat', 'onderschatten', 'onderscheiden', 'ondersteun', 'ondersteunt', 'onderstreepte', 'ondervinding', 'onderweg', 'onderwerp', 'onderwijs', 'onderwijssysteem', 'onderwijzen', 'onderzocht', 'onderzoek', 'ondeugend', 'oneindig', 'oneven', 'ongebruikelijk', 'ongehuwd', 'ongelijk', 'ongelofelijk', 'ongelofelijke', 'ongelooflijk', 'ongeluk', 'ongelukken', 'ongelukkig', 'ongemakkelijk', 'ongevaarlijk', 'ongeval', 'ongeveer', 'ongewijzigd', 'ongezond', 'ongunstig', 'onkosten', 'onkruid', 'onlangs', 'onmiddellijk', 'onmisbaar', 'onmisbare', 'onmogelijk', 'onmogelijke', 'onnodige', 'onopgelost', 'onoplettendheid', 'onredelijk', 'onregelmatige', 'onroerend', 'ons', 'onscherp', 'onschuld', 'onschuldig', 'onsterfelijkheid', 'onszelf', 'ontbeten', 'ontbijt', 'ontbijten', 'ontbreekt', 'ontbreken', 'ontdek', 'ontdekt', 'ontdekte', 'ontelbaar', 'ontgoochel', 'onthaal', 'onthield', 'onthou', 'onthouden', 'ontkende', 'ontkomen', 'ontmoedigen', 'ontmoet', 'ontmoeten', 'ontmoeting', 'ontmoette', 'ontnam', 'ontslaat', 'ontslag', 'ontslagen', 'ontsnappen', 'ontsnapt', 'ontspan', 'ontspannen', 'ontspoord', 'ontstaan', 'ontstond', 'ontvangen', 'ontvangst', 'ontwijk', 'ontwikkelde', 'ontworpen', 'ontzettend', 'ontzettende', 'onverdraaglijk', 'onverstandig', 'onverwacht', 'onverwachte', 'onvolledig', 'onvrijwillig', 'onwaarschijnlijk', 'onweerstaanbaar', 'onze', 'onzichtbaar', 'onzin', 'oog', 'oogst', 'oogsten', 'ooit', 'ook', 'oom', 'oor', 'oordeel', 'oorinfecties', 'oorlog', 'oorontsteking', 'oorpijn', 'oorsprong', 'oorzaak', 'oost', 'oosten', 'oostenrijk', 'oostenrijkse', 'op', 'opa', 'opdracht', 'opeenvolgende', 'open', 'openbaar', 'opende', 'openen', 'opengelaten', 'openhartig', 'openingsceremonie', 'openstaande', 'opent', 'opereerde', 'opeten', 'opgave', 'opgebeld', 'opgebleven', 'opgegeten', 'opgegeven', 'opgegroeid', 'opgelost', 'opgelucht', 'opgemaakt', 'opgepakt', 'opgericht', 'opgeruimd', 'opgeslagen', 'opgestaan', 'opgesteld', 'opgeven', 'opgewacht', 'opgewassen', 'opgewonden', 'ophalen', 'opheffen', 'ophield', 'ophouden', 'opinie', 'opinies', 'opium', 'opklaren', 'opkomen', 'oplaten', 'opletten', 'oplossen', 'oplossing', 'opmerkelijke', 'opmerking', 'opnemen', 'opnieuw', 'oppakken', 'oppikken', 'opschepperij', 'opschrijven', 'opstaan', 'opstaat', 'opstond', 'optillen', 'optimist', 'optimistisch', 'opvoeding', 'opvolgen', 'opwarmen', 'opwinding', 'opzij', 'orde', 'oren', 'organisatie', 'orgel', 'origineel', 'originele', 'oriëntatievermogen', 'osaka', 'ottawa', 'oud', 'oude', 'ouder', 'oudere', 'ouderen', 'ouders', 'oudste', 'over', 'overal', 'overdraagbare', 'overeen', 'overgedragen', 'overgekookt', 'overgezet', 'overhaalden', 'overhemd', 'overhemden', 'overigens', 'overjas', 'overkwam', 'overleden', 'overleed', 'overleefden', 'overleggen', 'overlijdt', 'overmorgen', 'overnachten', 'overnachtten', 'overreden', 'overschat', 'overstak', 'overstappen', 'oversteken', 'overstromen', 'overstroming', 'overstromingen', 'overtreed', 'overtuigd', 'overtuigde', 'overvloed', 'overvloedige', 'overwegen', 'overwinnen', 'overwinning', 'overwint', 'overwoog', 'overzwemmen', 'oxford', 'paar', 'paard', 'paarden', 'paardrijden', 'paaseieren', 'pachter', 'paco', 'pagina', \"pagina's\", 'pak', 'pakje', 'pakken', 'pakketje', 'palace', 'paleis', 'pan', 'pannenkoeken', 'papa', 'papier', 'papieren', 'paradijs', 'parallel', 'paraplu', \"paraplu's\", 'pardon', 'parels', 'parijs', 'park', 'parken', 'parkeren', 'parking', 'partij', 'pas', 'pasen', 'paspoort', 'passagiers', 'passen', 'past', 'patiënt', 'patiënten', 'paul', 'paus', 'pauze', 'pauzeren', 'pauzes', 'pc', 'peer', 'pellen', 'pen', 'pennen', 'pensioen', 'peper', 'per', 'perfecte', 'perron', 'perry', 'personages', 'personen', 'persoon', 'persoonlijk', 'persoonlijke', 'peru', 'perziken', 'pet', 'peter', 'petje', 'petroleum', 'phoenix', 'piano', 'pianoles', 'pianosolo', 'pianospelen', 'picasso', 'pijl', 'pijn', 'pijpenstelen', 'pijpestelen', 'pikdonker', 'piknikken', 'pikzwart', 'piloot', 'pingpong', 'pinokkio', 'pistool', 'pittoreske', 'pizza', 'plaats', 'plaatsen', 'plaatshebben', 'plaatsnemen', 'plaatsvinden', 'plakten', 'plan', 'planeten', 'plank', 'planken', 'plannen', 'planning', 'plant', 'planten', 'plastic', 'plat', 'platteland', 'pleegde', 'plein', 'plek', 'plezier', 'plichten', 'ploeg', 'plonsen', 'plots', 'plotseling', 'pochi', 'poes', 'poets', 'poetsen', 'poetste', 'poging', 'pogingen', 'polen', 'politici', 'politicus', 'politie', 'politieagent', 'politieauto', 'politiebureau', 'politiek', 'politieke', 'politieman', 'pollen', 'pols', 'pomp', 'pond', 'pond”', 'poort', 'pop', 'popmuziek', 'poppen', 'populair', 'populairder', 'populaire', 'porseleinwinkel', 'portefeuille', 'portemonnee', 'portret', 'portugese', 'post', 'postbode', 'posters', 'postte', 'postzegel', 'postzegelalbum', 'postzegels', 'pot', 'poten', 'potentiële', 'potloden', 'potlood', 'poëten', 'poëzie', 'praat', 'prachtig', 'prachtige', 'practisch', 'praktijk', 'praktisch', 'praten', 'precies', 'precieze', 'preciezer', 'precise', 'president', 'prettig', 'prettige', 'pretty', 'prijs', 'prijzen', 'prikje', 'prima', 'principes', 'prins', 'printen', 'prioriteiten', 'probeer', 'probeerde', 'probeerden', 'probeert', 'proberen', 'probleem', 'problemen', 'procent', 'proces', 'produceert', 'produceren', 'product', 'professor', 'proficiat', 'programma', \"programma's\", 'project', 'projectgroep', 'pronounce', 'proost', 'proosten', 'propositie', 'prullenbak', 'pseudowetenschap', 'psychologie', 'pub', 'publiceerden', 'publiek', 'punt', 'punten', 'puntje', 'puree', 'put', 'qua', 'raad', 'raadde', 'raadden', 'raak', 'raakt', 'raakte', 'raam', 'raar', 'race', 'racket', 'radikaler', 'radio', 'radium', 'rainbow', 'raken', 'raket', 'rammel', 'rand', 'rap', 'rapport', 'rare', 'rat', 'ratten', 'rauw', 'rauwe', 'raúl', 'reageert', 'realiteit', 'recente', 'recept', 'recht', 'rechtdoor', 'rechten', 'rechter', 'rechterarm', 'rechterbeen', 'rechterhand', 'rechts', 'rechtsaf', 'rechtstreekse', 'redactie', 'redde', 'rede', 'redelijk', 'reden', 'redenen', 'rederij', 'reed', 'reflecteert', 'regeert', 'regel', 'regelmatig', 'regelmatige', 'regels', 'regen', 'regenachtig', 'regenboog', 'regendag', 'regende', 'regenen', 'regenjas', 'regenscherm', 'regenseizoen', 'regent', 'regering', 'regeringsleden', 'registreren', 'reis', 'reisde', 'reisden', 'reisgidsen', 'reizen', 'reiziger', 'reken', 'rekenen', 'rekening', 'rekeningnummer', 'rekenmachine', 'relatie', 'relaxen', 'religie', 'religieuze', 'rem', 'remmen', 'ren', 'rende', 'renden', 'rennen', 'rent', 'rente', 'rentevoeten', 'repareer', 'repareren', 'republiek', 'reserveren', 'resolutie', 'resoluut', 'respecteer', 'respecteren', 'rest', 'restaurant', 'restaurants', 'restjes', 'resultaat', 'resultaten', 'retourkaartje', 'reuzen', \"reuzenpanda's\", 'revolutie', 'richt', 'richtte', 'riep', 'rigide', 'rij', 'rijbewijs', 'rijden', 'rijdt', 'rijk', 'rijkdom', 'rijkdommen', 'rijn', 'rijp', 'rijpen', 'rijst', 'rijstkoker', 'rijtuigen', 'rilde', 'ring', 'rinitis', 'rinkelen', 'risico', \"risico's\", 'rite', 'rivier', 'rivieren', 'robert', 'rock', 'rockmuziek', 'rode', 'roep', 'roepen', 'roept', 'roest', 'roger', 'rogge', 'rok', 'roken', 'roker', 'rol', 'rolschaatsen', 'roman', 'romans', 'rome', 'romeinse', 'rond', 'rondom', 'rood', 'roods', 'rook', 'rookt', 'rookte', 'room', 'roos', 'rooskleurige', 'rooster', 'rosa', 'rosé', 'rot', 'roze', 'rozen', 'rubber', 'rubén', 'rug', 'ruige', 'ruik', 'ruiken', 'ruikt', 'ruilde', 'ruim', 'ruimte', 'ruimteschip', 'ruimtewetenschap', 'rundvlees', 'runnen', 'runt', 'rusland', 'russisch', 'rust', 'rusten', 'rustig', 'rustten', 'ruth', 'ruw', 'ruzie', 'röntgenfoto', 'saai', 'sachiko', 'sadako', 'saignant', 'saitama', 'saitou', 'salade', 'sally', 'salsa', 'sam', 'samen', 'samengesteld', 'samenleving', 'samenwerking', 'san', 'sanda', 'sandwichen', 'sap', 'sapporo', 'sasaki', 'sasayama', 'sato', 'saus', 'sayoko', 'schaadt', 'schaakspelen', 'schaal', 'schaam', 'schaamde', 'schaap', 'schaapskleren', 'schaar', 'schaars', 'schaats', 'schaatsen', 'schade', 'schaden', 'schaduw', 'schaffen', 'schaften', 'schaken', 'schamen', 'schapenmelk', 'scharen', 'schatje', 'schatten', 'schattig', 'schattige', 'schatting', 'scheef', 'scheelde', 'scheen', 'scheer', 'scheikunde', 'schelen', 'schelpdieren', 'schema', 'schepen', 'scheppen', 'scheren', 'scherp', 'scherpe', 'schets', 'scheurt', 'scheve', 'schiep', 'schiet', 'schieten', 'schietgraag', 'schijn', 'schijnbaar', 'schijnt', 'schilder', 'schilderde', 'schilderen', 'schilderijen', 'schillen', 'schip', 'schitterden', 'schmidt', 'schoen', 'schoenen', 'schoenmaat', 'schoenveters', 'schold', 'scholen', 'scholier', 'scholieren', 'schone', 'school', 'schoolboeken', 'schoolcijfers', 'schooltijd', 'schooluniform', 'schoon', 'schoongemaakt', 'schoonheid', 'schoonhouden', 'schoonmaken', 'schoonmoeder', 'schoorsteen', 'schopt', 'schot', 'schoten', 'schotland', 'schouder', 'schouders', 'schreef', 'schreeuw', 'schreeuwen', 'schreeuwerige', 'schreide', 'schriftelijk', 'schriften', 'schrijf', 'schrijft', 'schrijftafel', 'schrijfwerk', 'schrijven', 'schrik', 'schrikken', 'schroevendraaier', 'schuchtere', 'schud', 'schudden', 'schuif', 'schuilen', 'schuld', 'schulden', 'schuldig', 'schutter', 'sciencefiction', 'scène', 'scènes', 'se', 'sean', 'seattle', 'secretaris', 'seiko', 'seine', 'seizoen', 'seksueel', 'september', 'serieus', 'serveerster', 'serveert', 'server', 'sexy', 'sfeer', 'shakespeare', 'shikoku', 'shinano', 'shinkansen', \"shinko's\", 'shirts', 'shizuoka', 'shounan', 'sigaret', 'sigaretten', 'sigarettenas', 'signaal', 'simpelweg', 'sinaasappel', 'sinaasappelen', 'sinaasappels', 'sinaasappelsap', 'sinds', 'sindsdien', 'singapore', 'single', 'situatie', 'skaten', 'ski', 'skieden', 'skiën', 'sla', 'slaag', 'slaagden', 'slaan', 'slaap', 'slaapkamer', 'slaapplaats', 'slaapt', 'slaapwel', 'slaat', 'slagen', 'slang', 'slangen', 'slangen”', 'slapeloze', 'slapen', 'slapende', 'slapjes', 'slaven', 'slavernij', 'slecht', 'slechte', 'slechter', 'slechts', 'slechtste', 'sleutel', 'sleutels', 'slikte', 'slim', 'sloane', 'sloeg', 'sloot', 'slot', 'sluit', 'sluiten', 'sluw', 'smaak', 'smaakt', 'smaakte', 'smakelijk', 'smaken', 'smal', 'smeek', 'smeerkaas', 'smith', 'smoesjes', 'smog', 'smoorverliefd', 'sneden', 'sneeuw', 'sneeuwen', 'sneeuwig', 'sneeuwland', 'sneeuwstormen', 'sneeuwt', 'sneeuwvrij', 'snel', 'snelheden', 'snelle', 'sneller', 'snelst', 'snelste', 'snij', 'snijd', 'snijdt', 'snoep', 'snoepje', 'snor', 'soep', 'soepel', 'sofa', 'sok', 'sokken', 'soldaat', 'soldaten', 'sollicitatiegesprek', 'som', 'sommige', 'sommigen', 'soms', 'sony', 'soort', 'soorten', 'sorry', 'sorteer', 'spaanders', 'spaans', 'spaanse', 'spaart', 'spanjaarden', 'spanje', 'spannend', 'spannende', 'speciaal', 'speciaals', 'specialiteit', 'spectaculair', 'speel', 'speelde', 'speelden', 'speelfilm', 'speelgoed', 'speelt', 'speeltje', 'spel', 'spelen', 'spelende', 'spelers', 'spellen', 'spiegel', 'spieken', 'spijt', 'spijtig', 'spike', 'spin', 'spinazie', 'spinnen', 'spion', 'spitsuur', 'spoed', 'spoedden', 'spoedig', 'spoken', 'spons', 'spookt', 'spoor', 'spoorloos', 'sport', 'sporten', 'spot', 'sprak', 'sprakeloos', 'spraken', 'spreek', 'spreekt', 'spreekwoord', 'spreken', 'springen', 'sprong', 'spuit', 'spul', 'spullen', 'spuwen', 'square', 'sta', 'staan', 'staarde', 'staart', 'staarten', 'staat', 'staatsman', 'stad', 'stadscentrum', 'stadsgezichten', 'stadsplattegrond', 'stak', 'staking', 'stam', 'stand', 'standaard', 'stap', 'stapt', 'stapten', 'star', 'start', 'starten', 'startte', 'staten', 'station', 'stations', 'steak', 'stedelijke', 'steden', 'steeds', 'steeg', 'steek', 'steekhoudend', 'steekt', 'steel', 'steen', 'steenkolen', 'steenkool', 'steile', 'stel', 'stelen', 'stellen', 'stelt', 'stem', 'stembrieven', 'stemming', 'stemrecht', 'stemt', 'sterfgevallen', 'sterk', 'sterke', 'sterker', 'sterkste', 'sterren', 'sterrenbeeld', 'sterrenstelsels', 'sterven', 'stervende', 'steun', 'steunen', 'steve', 'stevig', 'stierf', 'stierven', 'stijf', 'stijl', 'stijve', 'stil', 'stilde', 'stille', 'stilte', 'stinkt', 'stipt', 'stoel', 'stoelen', 'stoelverbindingen', 'stof', 'stoffen', 'stom', 'stomheid', 'stond', 'stonden', 'stoom', 'stoor', 'stoort', 'stop', 'stoplicht', 'stoppen', 'stopt', 'stopte', 'storen', 'storm', 'stormachtig', 'stort', 'stortte', 'stoute', 'stoutmoedigheid', 'straalde', 'straalden', 'straat', 'straatje', 'straffe', 'strak', 'straks', 'stralen', 'strand', 'straten', 'streed', 'streek', 'streken', 'strekte', 'streng', 'stress', 'strijken', 'strik', 'stripboeken', 'stroomt', 'stropdas', 'struisvogels', 'studeer', 'studeerde', 'studeerden', 'studeert', 'student', 'studente', 'studenten', 'studeren', 'studiegebied', 'stuiptrekkingen', 'stuk', 'stukje', 'stukken', 'sturen', 'stuur', 'succes', 'suiker', 'sumoworstelen', 'superman', 'supermarkt', 'supersonische', 'susan', 'sushi', 'susie', 'swan', 'symboliseert', 'symbool', 'symptomen', 'taai', 'taak', 'taal', 'taart', 'taarten', 'tachtig', 'tafel', 'tafellaken', 'tafeltennis', 'takken', 'talen', 'tamelijk', 'tampa', 'tanabata', 'tand', 'tandarts', 'tanden', 'tandpasta', 'tandpijn', 'tandvleesbloedingen', 'tanker', 'tankstation', 'tante', 'tapijt', 'taro', 'tarwe', 'tas', 'tasje', 'tasjes', 'tassen', 'taxi', \"taxi's\", 'te', 'team', 'teamleider', 'technologie', 'tegelijkertijd', 'tegen', 'tegengekomen', 'tegenover', 'tegenovergestelde', 'tegenstander', 'tegenwoordig', 'teken', 'tekent', 'tekort', 'tekstverwerker', 'tel', 'telde', 'telefoneer', 'telefoneerde', 'telefoneren', 'telefonisch', 'telefoon', 'telefooncel', 'telefoonnummer', 'telefoontje', 'teleur', 'teleurgesteld', 'televisie', 'televisiekijken', 'televisieprogramma', 'tellen', 'telt', 'tempel', 'tempels', 'temperatuur', 'tempura', 'ten', 'tenen', 'tenminste', 'tennis', 'tennisles', 'tennissen', 'tennisspeler', 'tennist', 'tenniste', 'tenniswedstrijd', 'tentoonstelling', 'tenzij', 'ter', 'teresa', 'territorium', 'terug', 'terugbellen', 'teruggaan', 'teruggegaan', 'teruggekomen', 'teruggeven', 'terugkeert', 'terugkom', 'terugkomen', 'terugkomt', 'terugkwam', 'terugnemen', 'terugtrekken', 'terugzien', 'terwijl', 'test', 'testament', 'tevergeefs', 'tevreden', 'texas', 'thailand', 'thais', 'thaise', 'thames', 'thanksgiving', 'the', 'theater', 'thee', 'theelepels', 'thees', 'thema', 'theorie', 'thermometer', 'thuis', 'thuisadres', 'thuisgekomen', 'thuiskwam', 'ticket', 'tien', 'tienduizend', 'tienen', 'tientallen', 'tijd', 'tijdelijke', 'tijden', 'tijdens', 'tijdig', 'tijdje', 'tijdperk', 'tijdschema', 'tijdschrift', 'tijdschriften', 'tijdsverspilling', 'tijdverdrijf', 'tijdverspilling', 'tijgers', 'tikt', 'tim', 'times', 'tin', 'toch', 'toe', 'toegang', 'toegankelijk', 'toegepast', 'toegestaan', 'toekomst', 'toekomstplannen', 'toelaten', 'toen', 'toepassing', 'toeristenvisum', 'toeristische', 'toespraak', 'toestel', 'toestemmen', 'toeval', 'toevallig', 'tof', 'toilet', 'toiletpapier', 'tokio', 'tokyo', 'tolereren', 'tolstoj', 'tom', 'tomaat', 'tomaten', 'tomoko', 'toms', 'toneel', 'toneelstuk', 'tonen', 'tong', 'toni', 'tonijnvangst', 'tony', 'toon', 'toonden', 'topje', 'topper', 'toren', 'tot', 'totaal', 'totdat', 'totoro', 'touw', 'touwtjespringen', 'tovenaar', 'toveren', 'tower', 'traag', 'tracy', 'tradities', 'tragedie', 'trager', 'tranen', 'trapt', 'treffen', 'trein', 'treinen', 'treinstation', 'trek', 'trekjes', 'trekken', 'treurig', 'treurspelen', 'triest', 'trieste', 'triestig', 'triestige', 'troebel', 'troeteldier', 'trof', 'trok', 'troosten', 'tropisch', 'trossen', 'trots', 'trouw', 'trouwen', 'trouwens', 'truc', 'trui', 'tshirt', 'tuin', 'tuinieren', 'tuiniert', 'tulpen', 'tunnel', 'turnzaal', 'tussen', 'tv', 'tvgids', 'tvkijken', 'tvster', 'tvverslaafde', 'twaalf', 'twaalftal', 'twee', 'tweede', 'tweedehands', 'tweeduizend', 'tweehonderd', 'tweeling', 'tweemaal', 'tweeën', 'twijfel', 'twintig', 'type', 'typemachine', 'typen', 'u', 'ua', 'ueno', 'ufo', \"ufo's\", 'uh', 'uien', 'uit', 'uitdagen', 'uitdelen', 'uitdrukken', 'uitdrukking', 'uiteindelijk', 'uiteindelijke', 'uiterlijk', 'uitgaan', 'uitgang', 'uitgave', 'uitgebroken', 'uitgegaan', 'uitgehongerd', 'uitgekafferd', 'uitgelachen', 'uitgelegd', 'uitgelezen', 'uitgenodigd', 'uitgeput', 'uitgerust', 'uitgesteld', 'uitgestorven', 'uitgevallen', 'uitgeven', 'uitgevoerd', 'uitgevonden', 'uitje', 'uitleg', 'uitleggen', 'uitloggen', 'uitnodigde', 'uitnodiging', 'uitspraken', 'uitspreken', 'uitstaan', 'uitstekend', 'uitstekende', 'uittesten', 'uittrekken', 'uitverkocht', 'uitwissen', 'uitzendbureau', 'uitzicht', 'uitzondering', 'ultieme', 'un', 'uniform', 'uniformen', 'united', 'universa', 'universeel', 'universiteit', 'universum', 'uraga', 'uren', 'urenlang', 'urineer', 'uur', 'uurwerk', 'uw', 'uwe', 'vaak', 'vaart', 'vaarwel', 'vaas', 'vaat', 'vader', 'vak', 'vakantie', 'vaker', 'vakken', 'val', 'valentijnsdag', 'vallen', 'vals', 'valt', 'van', 'vanaf', 'vanavond', 'vancouver', 'vandaag', 'vandaan', 'vangen', 'vanilleijsjes', 'vanmiddag', 'vanmorgen', 'vannacht', 'vanochtend', 'vanop', 'vanuit', 'vanwege', 'vanzelf', 'varkensstal', 'vast', 'vastgelopen', 'vechten', 'veel', 'veel”', 'veertig', 'vegetarische', 'vegetariërs', 'veilig', 'veilige', 'veiligheid', 'veiligheidsgordel', 'vele', 'venetië', 'venster', 'vensters', 'vent', 'ver', 'veracht', 'verander', 'veranderd', 'veranderde', 'veranderen', 'verandering', 'verandert', 'verantwoordelijk', 'verantwoordelijkheden', 'verantwoordelijkheid', 'verbaasd', 'verbaast', 'verbannen', 'verbeelding', 'verbeeldingsvermogen', 'verbeter', 'verbeterd', 'verbetert', 'verbinden', 'verbindt', 'verbleven', 'verblijf', 'verblijft', 'verblijven', 'verboden', 'verbond', 'verborgen', 'verbrand', 'verbranden', 'verbrandt', 'verbruikt', 'verdacht', 'verdachte', 'verdediging', 'verdeel', 'verdeeld', 'verder', 'verdere', 'verdien', 'verdiend', 'verdiende', 'verdienen', 'verdient', 'verdieping', 'verdiepingen', 'verdorie', 'verdragen', 'verdrietig', 'verdrinking', 'verdrinkingsdood', 'verdronken', 'verdund', 'verdwaald', 'verdween', 'verdwenen', 'verdwijnen', 'vereist', 'veren', 'verenigd', 'verenigde', 'verergeren', 'verfde', 'vergaderen', 'vergadering', 'vergaderingen', 'vergat', 'vergeef', 'vergeeld', 'vergeet', 'vergelijk', 'vergelijkbaar', 'vergeten', 'vergezellen', 'vergissing', 'vergist', 'verhaal', 'verhalen', 'verheugt', 'verhoging', 'verhoogt', 'verhuis', 'verjaardag', 'verjaardagskaart', 'verjaardagstaart', 'verkeer', 'verkeerd', 'verkeerde', 'verkeerslicht', 'verkies', 'verkiezingen', 'verklaar', 'verklaard', 'verklaart', 'verklaren', 'verklaring', 'verkleurde', 'verkocht', 'verkoop', 'verkoopt', 'verkopen', 'verkoper', 'verkouden', 'verkoudheid', 'verkozen', 'verkrijgbaar', 'verkrijgen', 'verlangden', 'verlangen', 'verlaten', 'verleden', 'verlegen', 'verlegenheid', 'verleidt', 'verlengd', 'verlichtten', 'verliefd', 'verlies', 'verliet', 'verliezen', 'verloofd', 'verloor', 'verlopen', 'verloren', 'verloste', 'verloving', 'vermaakt', 'vermakelijk', 'vermaken', 'vermeld', 'vermenigvuldigd', 'vermenigvuldigen', 'vermijden', 'verminder', 'verminderen', 'vermindering', 'vermindert', 'vermoed', 'vermoedt', 'vermoeidheid', 'vermogen', 'vermoord', 'vermoordde', 'vernemen', 'vernietigd', 'vernoemd', 'veronderstel', 'verontschuldig', 'verontschuldiging', 'veroorloven', 'veroorzaakt', 'verouderd', 'verpest', 'verpesten', 'verplaats', 'verpleegster', 'verpleger', 'verplegers', 'verraden', 'verrader', 'verrassen', 'verrassend', 'verrassing', 'verrast', 'verre', 'verreweg', 'verricht', 'verrot', 'verruimen', 'vers', 'verscheen', 'verscheidene', 'verschiet', 'verschil', 'verschillen', 'verschillend', 'verschillende', 'verschilt', 'verschrikkelijk', 'verschrikkelijke', 'verschuldigd', 'verse', 'versier', 'versierd', 'verslag', 'verslagen', 'verslapen', 'verslechterd', 'versleten', 'versloeg', 'versloegen', 'versnelden', 'versnellen', 'verspild', 'verspillen', 'verspreidt', 'versta', 'verstaan', 'verstaanbaar', 'verstaat', 'verstandhouding', 'verstandige', 'versterker', 'verstijfd', 'verstoppen', 'verstopt', 'verstopte', 'verstrijkt', 'vertaal', 'vertaald', 'vertalen', 'vertaling', 'vertalingen', 'verte', 'verteerbaar', 'vertegenwoordiger', 'vertel', 'verteld', 'vertelde', 'vertellen', 'vertraagd', 'vertraging', 'vertrek', 'vertrekken', 'vertrekt', 'vertrok', 'vertrokken', 'vertrouw', 'vertrouwen', 'veruit', 'vervaardigd', 'vervalt', 'verveeld', 'verveelt', 'verving', 'vervingen', 'vervoert', 'vervolg', 'vervuild', 'vervuilde', 'vervuilen', 'vervuiling', 'vervuilt', 'vervuld', 'vervullen', 'verwaarloosd', 'verwacht', 'verwachten', 'verwachting', 'verwachtte', 'verwachtten', 'verwant', 'verwar', 'verwarmd', 'verwarmingssysteem', 'verwelken', 'verwend', 'verwierf', 'verwijderd', 'verwijst', 'verwijt', 'verwoest', 'verwoestte', 'verwoord', 'verzamel', 'verzamelen', 'verzamelt', 'verzekerd', 'verzetten', 'verzocht', 'verzoek', 'verzonnen', 'verzorgen', 'verzorgt', 'vest', 'veters', 'vezels', 'via', 'video', 'videorecorder', 'videospelletjes', 'viel', 'vier', 'vierde', 'vierden', 'vierentwintig', 'vies', 'vijand', 'vijf', 'vijfde', 'vijfentwintig', 'vijfenvijftig', 'vijfhonderd', 'vijftig', 'vijver', 'vind', 'vinden', 'vindt', 'ving', 'vingers', 'viool', 'vis', 'visa', 'visie', 'visioenen', 'vissen', 'visum', 'visvangst', 'vitamine', 'vitaminen', 'vitamines', 'vlag', 'vlaggen', 'vlak', 'vlakbij', 'vlam', 'vleermuis', 'vleermuizen', 'vlees', 'vleugel', 'vleugje', 'vliegen', 'vlieger', 'vliegeren', 'vliegt', 'vliegtuig', 'vliegveld', 'vlinder', 'vlinders', 'vloeiend', 'vloeistof', 'vloeistoffen', 'vloer', 'vloerkleden', 'vloog', 'vlooien', 'vlucht', 'vluchten', 'vluchtte', 'vlug', 'vlugger', 'vn', 'vocht', 'vochten', 'vochtige', 'voedingsmiddelen', 'voedsel', 'voedzaam', 'voeg', 'voegen', 'voel', 'voelde', 'voelen', 'voelt', 'voer', 'voerde', 'voeren', 'voert', 'voet', 'voetbal', 'voetballen', 'voetbalploeg', 'voetbalt', 'voetbalteam', 'voeten', 'voetstappen', 'vogel', 'vogels', 'vol', 'voldoende', 'volg', 'volgde', 'volgden', 'volgen', 'volgende', 'volgens', 'volgt', 'volhouden', 'volk', 'volkeren', 'volkomen', 'volle', 'volledig', 'volleybal', 'volleyballen', 'volmaakt', 'volop', 'volstaan', 'volstaat', 'volume', 'volwassen', 'volwassene', 'volwassenen', 'vond', 'vonden', 'voor', 'vooral', 'vooraleer', 'voorbaat', 'voorbeeld', 'voorbeelden', 'voorbehoud', 'voorbereid', 'voorbereiding', 'voorbij', 'voorbije', 'voorbijgegaan', 'voordat', 'voordeel', 'voordoen', 'voorgelezen', 'voorgoed', 'voorhand', 'voorjaar', 'voorlopig', 'voormalige', 'voormiddag', 'voorraad', 'voorspellen', 'voorstel', 'voorstellen', 'voorstelling', 'voort', 'voortaan', 'voortdurend', 'vooruit', 'vooruitgang', 'voorval', 'voorwaarde', 'voorwaarden', 'voorwerp', 'voorzagen', 'voorzichtig', 'voorzichtiger', 'voorzichtigheid', 'voorzien', 'voorziet', 'voorzitter', 'vorig', 'vorige', 'vork', 'vorken', 'vorm', 'vos', 'vouwde', 'vraag', 'vraagt', 'vrachtwagen', 'vragen', 'vrede', 'vredelievend', 'vreedzaam', 'vreemd', 'vreemde', 'vreemdeling', 'vreemdelingen', 'vreemden', 'vreemds', 'vrees', 'vreselijk', 'vreselijke', 'vreugd', 'vriend', 'vriendelijk', 'vriendelijkheid', 'vrienden', 'vriendin', 'vriendinnen', 'vriendje', 'vriendschap', 'vriezen', 'vrij', 'vrijdag', 'vrijdagmiddag', 'vrije', 'vrijgelaten', 'vrijgezel', 'vrijheid', 'vroeg', 'vroegen', 'vroeger', 'vrolijk', 'vrolijkt', 'vrouw', 'vrouwen', 'vrucht', 'vruchteloos', 'vruchten', 'vruchtensap', 'vsa', 'vuil', 'vul', 'vulde', 'vulkaanuitbarsting', 'vuur', 'vuurwerk', 'vóór', 'waaide', 'waar', 'waard', 'waarde', 'waardeert', 'waardering', 'waardevol', 'waarheid', 'waarin', 'waarmee', 'waarnaar', 'waarnemers', 'waarom', 'waarop', 'waarschijnlijk', 'waarschuwen', 'waart', 'waarvandaan', 'waarvoor', 'wablieft', 'wacht', 'wachten', 'wachtkamer', 'wachtte', 'wachtten', 'wachtwoord', 'wakker', 'wales', 'walgelijk', 'walvis', 'wandel', 'wandelaars', 'wandelde', 'wandelden', 'wandelen', 'wandeling', 'wang', 'wangen', 'wanhoop', 'wanneer', 'want', 'waren', 'warm', 'warme', 'warmer', 'warmste', 'warmte', 'wars', 'was', 'wassen', 'wasten', 'wat', 'water', 'waterbestendig', 'waterdicht', 'wateren', 'waterleiding', 'watermeloen', 'watermolen', 'waters', 'waterstof', 'waterverspilling', 'wc', 'we', 'webben', 'wederzijds', 'wedstrijd', 'wedstrijden', 'weeg', 'weegt', 'week', 'weekeinde', 'weekend', 'weende', 'weer', 'weergekeerd', 'weerhield', 'weersomstandigheden', 'weerspiegelde', 'weertje', 'weerziens', 'wees', 'weet', 'weeën', 'weg', 'wegen', 'wegens', 'weggaan', 'weggaat', 'weggelopen', 'weggespoeld', 'weggevlogen', 'weggooien', 'wegkomt', 'wegnemen', 'wegwezen', 'wei', 'weinig', 'wek', 'weken', 'wekker', 'wel', 'welbekend', 'welbevinden', 'weldra', 'welk', 'welke', 'welkom', 'wellicht', 'wellington', 'welterusten', 'welzijn', 'wending', 'wendy', 'wenen', 'wens', 'wensen', 'wenste', 'werd', 'werden', 'wereld', 'wereldfaam', 'wereldgezondheidsorganisatie', 'wereldoorlog', 'werk', 'werkaanbieding', 'werkelijk', 'werkelijke', 'werkelijkheid', 'werkeloosheid', 'werken', 'werker', 'werkervaring', 'werking', 'werkloosheidsgraad', 'werkt', 'werkte', 'werkwoorden', 'werp', 'werpt', 'west', 'westen', 'westeuropa', 'wet', 'weten', 'wetenschap', 'wetenschappers', 'wezens', 'whisky', 'white', 'who', 'wie', 'wiebelt', 'wiens', 'wierp', 'wij', 'wijd', 'wijn', 'wijs', 'wijze', 'wijzers', 'wijzigen', 'wikt', 'wil', 'wild', 'wilde', 'wilden', 'willen', 'willie', 'wilt', 'wind', 'winderig', 'windowsliefhebber', 'winkel', 'winkelcentrum', 'winnen', 'winter', 'wiskunde', 'wiskundehuiswerk', 'wiskundetoets', 'wisselen', 'wisselgeld', 'wisselkoers', 'wist', 'wit', 'witbrood', 'witte', 'woede', 'woedend', 'woensdag', 'woestijn', 'wol', 'wolf', 'wolk', 'wolken', 'wolkje', 'wollen', 'wolven', 'wond', 'wonde', 'wonden', 'wonderbaarlijke', 'wonen', 'woning', 'wood', 'woon', 'woonde', 'woont', 'woord', 'woorden', 'woordenboek', 'woordenboeken', 'woordspeling', 'word', 'worden', 'wordt', 'workaholics', 'wormen', 'wortel', 'wortelen', 'wou', 'wow', 'wrijven', 'wuifde', 'yamada', 'yamada”', 'yamamoto', 'yen', 'yoghurt', 'yokohama', 'york', 'yukina', 'yukio', 'yumi', 'zaait', 'zaak', 'zaal', 'zacht', 'zachter', 'zaden', 'zag', 'zagen', 'zak', 'zakdoek', 'zakdoeken', 'zaken', 'zakken', 'zakkenroller', 'zakkenrollers', 'zal', 'zalig', 'zalm', 'zambia', 'zand', 'zanger', 'zangeres', 'zat', 'zaten', 'zaterdag', 'zaterdagmiddag', 'zaterdagochtend', 'ze', 'zee', 'zeedier', 'zeelui', 'zeeniveau', 'zeer', 'zeewater', 'zeg', 'zegene', 'zeggen', 'zegt', 'zei', 'zeilclub', 'zeker', 'zekere', 'zekerheid', 'zelden', 'zeldzaam', 'zeldzame', 'zelf', 'zelfbedieningscafetaria', 'zelfmoord', 'zelfs', 'zenden', 'zenuwachtig', 'zenuwen', 'zes', 'zesde', 'zessen', 'zestien', 'zestiende', 'zestig', 'zet', 'zetel', 'zette', 'zetten', 'zeven', 'zevenduizend', 'zevenentwintig', 'zeventien', 'zich', 'zicht', 'zichtbaar', 'zichzelf', 'zie', 'ziek', 'zieke', 'zieken', 'ziekenhuis', 'ziekenwagen', 'ziekjes', 'ziekte', 'ziekteverzekering', 'ziel', 'zielen', 'zien', 'ziens', 'ziet', 'zij', 'zijden', 'zijderupsen', 'zijdezacht', 'zijn', 'zijne', 'zijt', 'zilver', 'zilveren', 'zin', 'zing', 'zingen', 'zingt', 'zink', 'zinkende', 'zinloos', 'zinnen', 'zit', 'zitplaats', 'zitplaatsen', 'zitten', 'zo', \"zo'n\", 'zoals', 'zocht', 'zodat', 'zoek', 'zoeken', 'zoekt', 'zoet', 'zoetekauw', 'zoeter', 'zoetigheden', 'zoetigheid', 'zoets', 'zoetstof', 'zoiets', 'zojuist', 'zolang', 'zomer', 'zomerartikelen', 'zomerdagen', 'zomerperiode', 'zomervakantie', 'zon', 'zondag', 'zondagochtend', 'zondags', 'zonde', 'zonder', 'zondvloed', 'zonen', 'zong', 'zongen', 'zonlicht', 'zonnebloem', 'zonnebril', 'zonneenergie', 'zonneschijn', 'zonnetje', 'zonnig', 'zonnige', 'zonsondergang', 'zonsopgang', 'zoogdier', 'zoon', 'zorg', 'zorgeloos', 'zorgen', 'zorgt', 'zorgvuldig', 'zou', 'zouden', 'zoudt', 'zout', 'zoveel', 'zowel', 'zuidamerika', 'zuiden', 'zuinig', 'zuiver', 'zul', 'zulke', 'zullen', 'zult', 'zure', 'zus', 'zussen', 'zuster', 'zusters', 'zuur', 'zuurstof', 'zwaar', 'zwaard', 'zwaarder', 'zwaartekracht', 'zwak', 'zwakke', 'zwakker', 'zwaluw', 'zwanger', 'zware', 'zwart', 'zwarte', 'zweden', 'zweetten', 'zwem', 'zwembad', 'zwemclub', 'zwemmen', 'zwemmer', 'zwemt', 'zwemvereniging', 'zwerm', 'zwijg', 'zwijgen', 'zwijgt', 'zwitserland', 'één', 'ík', 'überhaupt', '\\u200b\\u200bauto', '\\u200b\\u200bbus', '\\u200b\\u200bin', '\\u200b\\u200bkerstcadeau']\n"
          ],
          "name": "stdout"
        }
      ]
    },
    {
      "cell_type": "code",
      "metadata": {
        "id": "dZgG92rZhuOW",
        "colab": {
          "base_uri": "https://localhost:8080/"
        },
        "outputId": "e8838b55-38ff-4821-cd0b-211f7db7322d"
      },
      "source": [
        "# Splitting the data into Train(90%) and tests(10%)\n",
        "# will split the 90% Train into --> train(80%) and validation(10%) in model.fit()\n",
        "X_train, X_test, y_train, y_test = train_test_split(source_lines, target_lines, test_size = 0.1,  random_state = 42)\n",
        "\n",
        "print(\"No. of Training sentences: \", len(X_train), \"\\nNo. of Testing sentences: \", len(X_test)) #--- (9000, 1000)"
      ],
      "execution_count": null,
      "outputs": [
        {
          "output_type": "stream",
          "text": [
            "No. of Training sentences:  9000 \n",
            "No. of Testing sentences:  1000\n"
          ],
          "name": "stdout"
        }
      ]
    },
    {
      "cell_type": "markdown",
      "metadata": {
        "id": "CuQ7B78BhLrx"
      },
      "source": [
        "**Task 3 (15 marks)** \n",
        "\n",
        "---\n",
        "\n",
        "*  Assign each unique word an integer value (5 marks).\n",
        "*  Create word embedding for your vocabulary using pre-trained embeddings, for example GloVe or fastText (10 marks) (https://nlp.stanford.edu/projects/glove/ , https://fasttext.cc/docs/en/english-vectors.html)\n",
        "* Print the first line of the embeddings (see below) "
      ]
    },
    {
      "cell_type": "code",
      "metadata": {
        "id": "e-g6Z11GJBjl"
      },
      "source": [
        "# Assigning each word/token an integer value for both SOURCE and TARGET \n",
        "# starting the index from 1 because 0 represent no word present\n",
        "# or used as a padding to make the sentences of same length.\n",
        "source_vocab_index = dict([(word,i+1) for i, word in enumerate(source_vocab)])                  # 4483 tokens \n",
        "target_vocab_index = dict([(word,i+1) for i, word in enumerate(target_vocab)])                  # 5597 tokens "
      ],
      "execution_count": null,
      "outputs": []
    },
    {
      "cell_type": "markdown",
      "metadata": {
        "id": "26hAECPODtLG"
      },
      "source": [
        "Tried using various fastText word-embedding(smallest: \"wiki-news-300d-1M.vec.zip\") but the session always crashed after using all the available RAM on google colab.\n",
        "\n",
        "Thus using GloVe word-embedding --- Reference from Lab 2"
      ]
    },
    {
      "cell_type": "code",
      "metadata": {
        "id": "e8hLpA3WFQUx"
      },
      "source": [
        "# downloading the GloVe embedding\n",
        "# !wget http://nlp.stanford.edu/data/glove.6B.zip\n",
        "# !unzip -q glove.6B.zip"
      ],
      "execution_count": null,
      "outputs": []
    },
    {
      "cell_type": "code",
      "metadata": {
        "id": "2JuZyeSoFU3K"
      },
      "source": [
        "# extracting the GloVe embedding\n",
        "path_to_glove_file = \"/content/drive/MyDrive/Word Embeddings/GloVe/glove.6B.100d.txt\"\n",
        "\n",
        "glove_embeddings = {}\n",
        "with open(path_to_glove_file) as f:\n",
        "    for line in f:\n",
        "        word, coefs = line.split(maxsplit=1)\n",
        "        coefs = np.fromstring(coefs, \"f\", sep=\" \")\n",
        "        glove_embeddings[word] = coefs"
      ],
      "execution_count": null,
      "outputs": []
    },
    {
      "cell_type": "code",
      "metadata": {
        "id": "Ts9Gju9nMY4T"
      },
      "source": [
        "# Creating our own word-embedding from the pre-trained GloVe embedding\n",
        "\n",
        "# Embedding Shape - 100 - because the pretrained model selected has 100 dimensions\n",
        "# len(glove_embeddings['the'])\n",
        "embedding_shape = 100\n",
        "\n",
        "# source_embedding shape : (4483, 100) --- (source_tokens, vector dimensions)\n",
        "source_embedding = np.zeros((len(source_vocab_index)+1, embedding_shape))\n",
        "\n",
        "# for every source token present in GloVe embedding\n",
        "# extract the vector and assign it to our own word-embedding\n",
        "for word, index in source_vocab_index.items():\n",
        "  try:\n",
        "    vector = glove_embeddings[word]\n",
        "    source_embedding[index] = vector\n",
        "  except:\n",
        "    continue"
      ],
      "execution_count": null,
      "outputs": []
    },
    {
      "cell_type": "code",
      "metadata": {
        "colab": {
          "base_uri": "https://localhost:8080/"
        },
        "id": "Vx2hvFPI7szz",
        "outputId": "353053ff-e2de-454b-ae43-a91f0188ee5d"
      },
      "source": [
        "# Printing First line of embedding\n",
        "print(source_embedding[1])"
      ],
      "execution_count": null,
      "outputs": [
        {
          "output_type": "stream",
          "text": [
            "[ 0.16478001  0.17071     0.62111002 -1.21010005 -0.84062999  0.21893001\n",
            "  0.48122999 -0.15044001  0.36701    -0.20857    -0.23385     0.019356\n",
            " -0.045098    0.18001001  0.11995    -0.25622001 -0.026299    0.28472999\n",
            " -0.91321999  0.59811002  0.30248001  0.27972999  0.11444    -0.073628\n",
            "  0.88137001  1.06330001 -0.22115999 -0.79820001 -0.13699999 -0.29350001\n",
            "  0.30011001 -0.027594    0.13646001  0.0495      0.066336    0.62305999\n",
            "  0.4118      0.090881    0.20817    -1.13779998 -0.15726    -0.27827001\n",
            " -0.16412     0.50816    -0.75322998 -0.33559    -0.14432999 -0.85374999\n",
            " -0.76168001 -0.65671003  0.063944    0.046424    0.15267999  1.3671\n",
            "  0.057888   -2.76430011  0.45043001  0.95082998  1.95120001  0.66661\n",
            " -0.32556     1.16919994 -0.058985   -0.49759999  0.82273    -0.43086001\n",
            "  1.59469998  0.97728002  0.57046002 -0.012486    0.63458002 -0.67646003\n",
            " -0.22447    -0.41826001  0.48309001 -0.003709    0.040551    0.13703001\n",
            " -0.93291998 -0.24248999  0.69613999 -0.1772     -0.49188    -0.1192\n",
            " -1.36530006  0.082923   -0.26056001 -0.43171999 -0.28799    -0.56304002\n",
            "  0.065289   -0.56734997  0.22621     0.47139001 -0.48157001  0.56437999\n",
            "  0.34018999 -0.44047001 -0.10587     0.79509002]\n"
          ],
          "name": "stdout"
        }
      ]
    },
    {
      "cell_type": "markdown",
      "metadata": {
        "id": "2QfLgKEgazro"
      },
      "source": [
        "## Section 2 Translation Model training\n",
        "\n",
        "\n",
        "\n",
        "---\n",
        "\n"
      ]
    },
    {
      "cell_type": "markdown",
      "metadata": {
        "id": "Y8WnlX8d0RVj"
      },
      "source": [
        "**Task 4 (15 marks)**\n",
        "* Provide code for the encoder using Keras LSTM (5 marks)\n",
        "* Provide code for the decoder using Keras LSTM (5 marks)\n",
        "* Train the sequence2sequence (encoder-decoder) model (5 marks) \n"
      ]
    },
    {
      "cell_type": "code",
      "metadata": {
        "id": "YLSCI_zJDxtI"
      },
      "source": [
        "# Defining Encoder input data -> \n",
        "# each source line(9K) is considered having sentence length = 8 (This is the length of sentence with the max words in source)\n",
        "encoder_input_data   = np.zeros((len(X_train), max_seq_len_source), dtype='float32')\n",
        "\n",
        "# Defining Decoder input data -> \n",
        "# each target line(9K) is considered having sentence length = 10 (This is the length of sentence with the max words in target)\n",
        "decoder_input_data   = np.zeros((len(y_train), max_seq_len_target), dtype='float32')\n",
        "\n",
        "# Defining Decoder output data -> \n",
        "# each target line(9K) is considered having sentence length = 10 (This is the length of sentence with the max words in target)\n",
        "# and each of the words are represented as 1-hot encoded vector(of length 5597 - This helps in decoding the what word is predicted) \n",
        "decoder_target_data  = np.zeros((len(y_train), max_seq_len_target, len_target_vocab), dtype='float32')"
      ],
      "execution_count": null,
      "outputs": []
    },
    {
      "cell_type": "code",
      "metadata": {
        "colab": {
          "base_uri": "https://localhost:8080/"
        },
        "id": "LbJv5P4vERND",
        "outputId": "6e2677d3-b027-49b1-8f3e-96fc3edad957"
      },
      "source": [
        "# Converting the sentences into sequence of numbers - as required by the model\n",
        "for line_index, (source_indv_line, target_indv_line) in enumerate(zip(X_train, y_train)):\n",
        "  for token_index, token in enumerate(source_indv_line.split()):                             # for every word in source line\n",
        "    encoder_input_data[line_index, token_index] = source_vocab_index[token]                  # convert word to integer using the dictionary defined above\n",
        "\n",
        "  for token_index, token in enumerate(target_indv_line.split()):                             # same as above for decoder input data\n",
        "    decoder_input_data[line_index, token_index] = target_vocab_index[token]\n",
        "\n",
        "    if(token_index > 0):                                                                     # 1-hot encoding of decoder data\n",
        "      decoder_target_data[line_index, token_index - 1, target_vocab_index[token]] = 1\n",
        "\n",
        "# printing samples from each\n",
        "print(\"Encoder_input_data shape\\t: \", encoder_input_data.shape, \"\\nSentence\\t\\t\\t: \", X_train[0], \"\\nsample sequence\\t\\t\\t: \", encoder_input_data[0])\n",
        "print(\"\\nDecoder_input_data shape\\t: \", decoder_input_data.shape, \"\\nSentence\\t\\t\\t: \", y_train[0], \"\\nsample sequence\\t\\t\\t: \", decoder_input_data[0])\n",
        "print(\"\\nDecoder_output_data shape\\t: \", decoder_target_data.shape, \",\\nsample:\\n\", decoder_target_data[0])"
      ],
      "execution_count": null,
      "outputs": [
        {
          "output_type": "stream",
          "text": [
            "Encoder_input_data shape\t:  (9000, 8) \n",
            "Sentence\t\t\t:  ladies first \n",
            "sample sequence\t\t\t:  [2253. 1545.    0.    0.    0.    0.    0.    0.]\n",
            "\n",
            "Decoder_input_data shape\t:  (9000, 10) \n",
            "Sentence\t\t\t:  <bof> dames eerst <eos> \n",
            "sample sequence\t\t\t:  [  76.  936. 1175.   77.    0.    0.    0.    0.    0.    0.]\n",
            "\n",
            "Decoder_output_data shape\t:  (9000, 10, 5597) ,\n",
            "sample:\n",
            " [[0. 0. 0. ... 0. 0. 0.]\n",
            " [0. 0. 0. ... 0. 0. 0.]\n",
            " [0. 0. 0. ... 0. 0. 0.]\n",
            " ...\n",
            " [0. 0. 0. ... 0. 0. 0.]\n",
            " [0. 0. 0. ... 0. 0. 0.]\n",
            " [0. 0. 0. ... 0. 0. 0.]]\n"
          ],
          "name": "stdout"
        }
      ]
    },
    {
      "cell_type": "markdown",
      "metadata": {
        "id": "VXckXATMPGBz"
      },
      "source": [
        "Training Seq2Seq model"
      ]
    },
    {
      "cell_type": "code",
      "metadata": {
        "id": "IhrnpzAe_d5o"
      },
      "source": [
        "# Defining parameter values\n",
        "epochs          = 300\n",
        "batch_size      = 396\n",
        "latent_dim      = 1024\n",
        "embedding_shape = 100"
      ],
      "execution_count": null,
      "outputs": []
    },
    {
      "cell_type": "code",
      "metadata": {
        "id": "1C7UCV1J1Rna"
      },
      "source": [
        "# Defining Encoder Architecture\n",
        "encoder_input    = Input(shape = (max_seq_len_source,), name = 'Encoder_input')                             # input sequence\n",
        "embedded_encoder = Embedding(len_source_vocab, embedding_shape, weights=[source_embedding])(encoder_input)  # map each word in the sequence with the corresponding word embedding\n",
        "encoder_output, state_h, state_c = LSTM(latent_dim, return_state=True)(embedded_encoder)                    # pass the embedded input sequence into the LSTM layer\n",
        "encoder_state = [state_h,state_c]                                                                           # save the states"
      ],
      "execution_count": null,
      "outputs": []
    },
    {
      "cell_type": "code",
      "metadata": {
        "id": "qIXiwJbJ8j1N"
      },
      "source": [
        "# Defining Decoder Architecture\n",
        "decoder_input    = Input(shape = (max_seq_len_target,), name = 'Decoder_input')                             # output sequence\n",
        "embedded_decoder = Embedding(len_target_vocab, latent_dim)(decoder_input)                                   # map each word in the sequence with the corresponding latent dim\n",
        "decoder_output, _, _ = LSTM(latent_dim, return_sequences=True, return_state=True)(embedded_decoder, initial_state = encoder_state)    # pass the embedded decoder to LSTM\n",
        "\n",
        "# Using Softmax activation\n",
        "decoder_dense = Dense(len_target_vocab, activation='softmax', name = 'Decoder_Dense')                       # add dense layer and pass the decoder output sequence\n",
        "decoder_output = decoder_dense(decoder_output)"
      ],
      "execution_count": null,
      "outputs": []
    },
    {
      "cell_type": "code",
      "metadata": {
        "colab": {
          "base_uri": "https://localhost:8080/"
        },
        "id": "PUXbw-K3BaCM",
        "outputId": "494badc3-6358-45fd-b109-f56a5ef76ebe"
      },
      "source": [
        "model = Model(inputs = [encoder_input, decoder_input], outputs = decoder_output, name = 'Original_NMT_model')   # create the model\n",
        "model.summary()"
      ],
      "execution_count": null,
      "outputs": [
        {
          "output_type": "stream",
          "text": [
            "Model: \"Original_NMT_model\"\n",
            "__________________________________________________________________________________________________\n",
            "Layer (type)                    Output Shape         Param #     Connected to                     \n",
            "==================================================================================================\n",
            "Encoder_input (InputLayer)      [(None, 8)]          0                                            \n",
            "__________________________________________________________________________________________________\n",
            "Decoder_input (InputLayer)      [(None, 10)]         0                                            \n",
            "__________________________________________________________________________________________________\n",
            "embedding (Embedding)           (None, 8, 100)       448300      Encoder_input[0][0]              \n",
            "__________________________________________________________________________________________________\n",
            "embedding_1 (Embedding)         (None, 10, 1024)     5731328     Decoder_input[0][0]              \n",
            "__________________________________________________________________________________________________\n",
            "lstm (LSTM)                     [(None, 1024), (None 4608000     embedding[0][0]                  \n",
            "__________________________________________________________________________________________________\n",
            "lstm_1 (LSTM)                   [(None, 10, 1024), ( 8392704     embedding_1[0][0]                \n",
            "                                                                 lstm[0][1]                       \n",
            "                                                                 lstm[0][2]                       \n",
            "__________________________________________________________________________________________________\n",
            "Decoder_Dense (Dense)           (None, 10, 5597)     5736925     lstm_1[0][0]                     \n",
            "==================================================================================================\n",
            "Total params: 24,917,257\n",
            "Trainable params: 24,917,257\n",
            "Non-trainable params: 0\n",
            "__________________________________________________________________________________________________\n"
          ],
          "name": "stdout"
        }
      ]
    },
    {
      "cell_type": "code",
      "metadata": {
        "id": "zeZwoSHGBrry",
        "colab": {
          "base_uri": "https://localhost:8080/"
        },
        "outputId": "aec117a0-66aa-42b4-d4f6-eee4105ae858"
      },
      "source": [
        "# compile the model\n",
        "model.compile(optimizer = 'rmsprop' , loss = 'categorical_crossentropy', metrics=['accuracy'])\n",
        "\n",
        "# Callback to reduce the learning rate when the validation loss has stopped improving\n",
        "reduce_lr = keras.callbacks.ReduceLROnPlateau(monitor = 'val_loss', factor = 0.5, patience = 5, mode = 'min')\n",
        "\n",
        "# Callback to stop training the model when the validation loss has stopped improving\n",
        "early_stop = keras.callbacks.EarlyStopping(monitor = 'val_loss', patience = 15, mode = 'min')\n",
        "\n",
        "# Fitting the model\n",
        "model_history = model.fit([encoder_input_data, decoder_input_data], decoder_target_data,\n",
        "                          batch_size = batch_size , epochs = epochs, validation_split=0.12,\n",
        "                          callbacks=[early_stop,reduce_lr])\n",
        "\n",
        "model.save('English - Dutch/NMT_seq2seq_no_Attention.h5')"
      ],
      "execution_count": null,
      "outputs": [
        {
          "output_type": "stream",
          "text": [
            "Epoch 1/300\n",
            "20/20 [==============================] - 39s 979ms/step - loss: 4.3189 - accuracy: 0.0917 - val_loss: 3.5741 - val_accuracy: 0.1352\n",
            "Epoch 2/300\n",
            "20/20 [==============================] - 18s 903ms/step - loss: 3.5280 - accuracy: 0.1349 - val_loss: 3.4984 - val_accuracy: 0.1509\n",
            "Epoch 3/300\n",
            "20/20 [==============================] - 18s 913ms/step - loss: 3.4174 - accuracy: 0.1488 - val_loss: 3.4732 - val_accuracy: 0.1502\n",
            "Epoch 4/300\n",
            "20/20 [==============================] - 18s 925ms/step - loss: 3.3193 - accuracy: 0.1528 - val_loss: 3.4398 - val_accuracy: 0.1615\n",
            "Epoch 5/300\n",
            "20/20 [==============================] - 18s 920ms/step - loss: 3.1958 - accuracy: 0.1626 - val_loss: 3.3641 - val_accuracy: 0.1708\n",
            "Epoch 6/300\n",
            "20/20 [==============================] - 18s 903ms/step - loss: 3.0795 - accuracy: 0.1746 - val_loss: 3.2680 - val_accuracy: 0.1769\n",
            "Epoch 7/300\n",
            "20/20 [==============================] - 18s 928ms/step - loss: 2.9504 - accuracy: 0.1830 - val_loss: 3.2005 - val_accuracy: 0.1834\n",
            "Epoch 8/300\n",
            "20/20 [==============================] - 18s 926ms/step - loss: 2.8239 - accuracy: 0.1943 - val_loss: 3.1002 - val_accuracy: 0.1909\n",
            "Epoch 9/300\n",
            "20/20 [==============================] - 18s 896ms/step - loss: 2.6898 - accuracy: 0.2045 - val_loss: 3.0409 - val_accuracy: 0.1980\n",
            "Epoch 10/300\n",
            "20/20 [==============================] - 18s 921ms/step - loss: 2.5841 - accuracy: 0.2150 - val_loss: 2.9342 - val_accuracy: 0.2134\n",
            "Epoch 11/300\n",
            "20/20 [==============================] - 19s 930ms/step - loss: 2.4586 - accuracy: 0.2248 - val_loss: 2.8868 - val_accuracy: 0.2255\n",
            "Epoch 12/300\n",
            "20/20 [==============================] - 18s 878ms/step - loss: 2.3687 - accuracy: 0.2348 - val_loss: 2.8458 - val_accuracy: 0.2301\n",
            "Epoch 13/300\n",
            "20/20 [==============================] - 17s 870ms/step - loss: 2.2336 - accuracy: 0.2457 - val_loss: 2.7823 - val_accuracy: 0.2356\n",
            "Epoch 14/300\n",
            "20/20 [==============================] - 18s 911ms/step - loss: 2.1419 - accuracy: 0.2580 - val_loss: 2.7390 - val_accuracy: 0.2388\n",
            "Epoch 15/300\n",
            "20/20 [==============================] - 18s 889ms/step - loss: 2.0389 - accuracy: 0.2679 - val_loss: 2.6993 - val_accuracy: 0.2477\n",
            "Epoch 16/300\n",
            "20/20 [==============================] - 17s 854ms/step - loss: 1.9475 - accuracy: 0.2813 - val_loss: 2.6692 - val_accuracy: 0.2529\n",
            "Epoch 17/300\n",
            "20/20 [==============================] - 17s 844ms/step - loss: 1.8616 - accuracy: 0.2929 - val_loss: 2.7224 - val_accuracy: 0.2445\n",
            "Epoch 18/300\n",
            "20/20 [==============================] - 17s 832ms/step - loss: 1.7938 - accuracy: 0.3028 - val_loss: 2.6255 - val_accuracy: 0.2593\n",
            "Epoch 19/300\n",
            "20/20 [==============================] - 16s 825ms/step - loss: 1.7154 - accuracy: 0.3213 - val_loss: 2.5647 - val_accuracy: 0.2680\n",
            "Epoch 20/300\n",
            "20/20 [==============================] - 18s 903ms/step - loss: 1.6053 - accuracy: 0.3307 - val_loss: 2.5683 - val_accuracy: 0.2688\n",
            "Epoch 21/300\n",
            "20/20 [==============================] - 18s 912ms/step - loss: 1.5361 - accuracy: 0.3425 - val_loss: 2.5818 - val_accuracy: 0.2648\n",
            "Epoch 22/300\n",
            "20/20 [==============================] - 17s 870ms/step - loss: 1.4487 - accuracy: 0.3581 - val_loss: 2.5342 - val_accuracy: 0.2757\n",
            "Epoch 23/300\n",
            "20/20 [==============================] - 18s 883ms/step - loss: 1.3935 - accuracy: 0.3718 - val_loss: 2.5068 - val_accuracy: 0.2743\n",
            "Epoch 24/300\n",
            "20/20 [==============================] - 18s 905ms/step - loss: 1.3117 - accuracy: 0.3813 - val_loss: 2.4656 - val_accuracy: 0.2833\n",
            "Epoch 25/300\n",
            "20/20 [==============================] - 18s 900ms/step - loss: 1.2488 - accuracy: 0.3967 - val_loss: 2.4620 - val_accuracy: 0.2874\n",
            "Epoch 26/300\n",
            "20/20 [==============================] - 17s 875ms/step - loss: 1.1682 - accuracy: 0.4081 - val_loss: 2.4519 - val_accuracy: 0.2878\n",
            "Epoch 27/300\n",
            "20/20 [==============================] - 18s 894ms/step - loss: 1.0897 - accuracy: 0.4204 - val_loss: 2.4974 - val_accuracy: 0.2856\n",
            "Epoch 28/300\n",
            "20/20 [==============================] - 18s 904ms/step - loss: 1.0549 - accuracy: 0.4322 - val_loss: 2.4354 - val_accuracy: 0.2956\n",
            "Epoch 29/300\n",
            "20/20 [==============================] - 17s 873ms/step - loss: 0.9821 - accuracy: 0.4455 - val_loss: 2.4981 - val_accuracy: 0.2890\n",
            "Epoch 30/300\n",
            "20/20 [==============================] - 18s 880ms/step - loss: 0.9704 - accuracy: 0.4474 - val_loss: 2.4227 - val_accuracy: 0.2938\n",
            "Epoch 31/300\n",
            "20/20 [==============================] - 17s 866ms/step - loss: 0.8746 - accuracy: 0.4659 - val_loss: 2.4708 - val_accuracy: 0.2981\n",
            "Epoch 32/300\n",
            "20/20 [==============================] - 17s 876ms/step - loss: 0.8513 - accuracy: 0.4703 - val_loss: 2.4068 - val_accuracy: 0.2989\n",
            "Epoch 33/300\n",
            "20/20 [==============================] - 17s 866ms/step - loss: 0.7843 - accuracy: 0.4852 - val_loss: 2.4314 - val_accuracy: 0.2994\n",
            "Epoch 34/300\n",
            "20/20 [==============================] - 17s 873ms/step - loss: 0.7451 - accuracy: 0.4930 - val_loss: 2.3974 - val_accuracy: 0.3042\n",
            "Epoch 35/300\n",
            "20/20 [==============================] - 17s 874ms/step - loss: 0.6942 - accuracy: 0.5053 - val_loss: 2.4439 - val_accuracy: 0.3028\n",
            "Epoch 36/300\n",
            "20/20 [==============================] - 17s 865ms/step - loss: 0.6470 - accuracy: 0.5106 - val_loss: 2.4901 - val_accuracy: 0.2996\n",
            "Epoch 37/300\n",
            "20/20 [==============================] - 17s 862ms/step - loss: 0.6469 - accuracy: 0.5162 - val_loss: 2.5025 - val_accuracy: 0.2987\n",
            "Epoch 38/300\n",
            "20/20 [==============================] - 17s 867ms/step - loss: 0.6038 - accuracy: 0.5229 - val_loss: 2.4707 - val_accuracy: 0.3004\n",
            "Epoch 39/300\n",
            "20/20 [==============================] - 17s 860ms/step - loss: 0.5677 - accuracy: 0.5281 - val_loss: 2.4448 - val_accuracy: 0.3112\n",
            "Epoch 40/300\n",
            "20/20 [==============================] - 17s 832ms/step - loss: 0.4655 - accuracy: 0.5540 - val_loss: 2.3961 - val_accuracy: 0.3144\n",
            "Epoch 41/300\n",
            "20/20 [==============================] - 17s 864ms/step - loss: 0.4348 - accuracy: 0.5619 - val_loss: 2.4148 - val_accuracy: 0.3133\n",
            "Epoch 42/300\n",
            "20/20 [==============================] - 18s 883ms/step - loss: 0.4145 - accuracy: 0.5613 - val_loss: 2.4071 - val_accuracy: 0.3140\n",
            "Epoch 43/300\n",
            "20/20 [==============================] - 18s 889ms/step - loss: 0.4030 - accuracy: 0.5670 - val_loss: 2.4144 - val_accuracy: 0.3148\n",
            "Epoch 44/300\n",
            "20/20 [==============================] - 18s 885ms/step - loss: 0.3862 - accuracy: 0.5699 - val_loss: 2.4280 - val_accuracy: 0.3151\n",
            "Epoch 45/300\n",
            "20/20 [==============================] - 18s 886ms/step - loss: 0.3701 - accuracy: 0.5759 - val_loss: 2.4177 - val_accuracy: 0.3165\n",
            "Epoch 46/300\n",
            "20/20 [==============================] - 16s 813ms/step - loss: 0.3487 - accuracy: 0.5816 - val_loss: 2.4106 - val_accuracy: 0.3171\n",
            "Epoch 47/300\n",
            "20/20 [==============================] - 16s 827ms/step - loss: 0.3338 - accuracy: 0.5827 - val_loss: 2.4095 - val_accuracy: 0.3161\n",
            "Epoch 48/300\n",
            "20/20 [==============================] - 17s 836ms/step - loss: 0.3235 - accuracy: 0.5860 - val_loss: 2.4205 - val_accuracy: 0.3190\n",
            "Epoch 49/300\n",
            "20/20 [==============================] - 17s 840ms/step - loss: 0.3205 - accuracy: 0.5879 - val_loss: 2.4153 - val_accuracy: 0.3180\n",
            "Epoch 50/300\n",
            "20/20 [==============================] - 17s 850ms/step - loss: 0.3151 - accuracy: 0.5882 - val_loss: 2.4190 - val_accuracy: 0.3161\n",
            "Epoch 51/300\n",
            "20/20 [==============================] - 17s 877ms/step - loss: 0.2988 - accuracy: 0.5915 - val_loss: 2.4203 - val_accuracy: 0.3172\n",
            "Epoch 52/300\n",
            "20/20 [==============================] - 18s 879ms/step - loss: 0.2935 - accuracy: 0.5955 - val_loss: 2.4204 - val_accuracy: 0.3164\n",
            "Epoch 53/300\n",
            "20/20 [==============================] - 17s 868ms/step - loss: 0.2945 - accuracy: 0.5923 - val_loss: 2.4238 - val_accuracy: 0.3185\n",
            "Epoch 54/300\n",
            "20/20 [==============================] - 17s 872ms/step - loss: 0.2858 - accuracy: 0.5961 - val_loss: 2.4221 - val_accuracy: 0.3169\n",
            "Epoch 55/300\n",
            "20/20 [==============================] - 17s 875ms/step - loss: 0.2865 - accuracy: 0.5958 - val_loss: 2.4225 - val_accuracy: 0.3181\n"
          ],
          "name": "stdout"
        }
      ]
    },
    {
      "cell_type": "code",
      "metadata": {
        "id": "w5CsKTHvaNFd",
        "colab": {
          "base_uri": "https://localhost:8080/",
          "height": 573
        },
        "outputId": "b9372159-6f59-4560-c931-c08fc92a557f"
      },
      "source": [
        "# Plotting the training vs validation accuracy plot\n",
        "\n",
        "# list all data in history\n",
        "# print(model_history.history.keys())\n",
        "\n",
        "# summarize history for accuracy\n",
        "plt.plot(model_history.history['accuracy'])\n",
        "plt.plot(model_history.history['val_accuracy'])\n",
        "plt.title('Model Accuracy')\n",
        "plt.ylabel('Accuracy')\n",
        "plt.xlabel('Epoch')\n",
        "plt.legend(['Training', 'Validation'], loc='lower right')\n",
        "plt.show()\n",
        "\n",
        "# summarize history for loss\n",
        "plt.plot(model_history.history['loss'])\n",
        "plt.plot(model_history.history['val_loss'])\n",
        "plt.title('Model Loss')\n",
        "plt.ylabel('Loss')\n",
        "plt.xlabel('Epoch')\n",
        "plt.legend(['Training', 'Validation'], loc='best')\n",
        "plt.show()"
      ],
      "execution_count": null,
      "outputs": [
        {
          "output_type": "display_data",
          "data": {
            "image/png": "[encoded data removed]",
            "text/plain": [
              "<Figure size 432x288 with 1 Axes>"
            ]
          },
          "metadata": {
            "tags": [],
            "needs_background": "light"
          }
        },
        {
          "output_type": "display_data",
          "data": {
            "image/png": "[encoded data removed]",
            "text/plain": [
              "<Figure size 432x288 with 1 Axes>"
            ]
          },
          "metadata": {
            "tags": [],
            "needs_background": "light"
          }
        }
      ]
    },
    {
      "cell_type": "markdown",
      "metadata": {
        "id": "0Sy_WCp31x79"
      },
      "source": [
        "## Section 3 Testing\n",
        "\n",
        "---\n",
        "\n",
        "**Task 5 (20 marks)**\n",
        "\n",
        "* Use the trained model to translate the text from the source into the target language (10 marks). \n",
        "* Use the test/evaluation set (see Section 1) and perform an automatic evaluation with the BLEU metric (10 marks). \n",
        "You can use the NLTK library to calculate BLEU."
      ]
    },
    {
      "cell_type": "code",
      "metadata": {
        "id": "WldbuKmz9PPd"
      },
      "source": [
        "# Loading the saved model -- to be used in passing the inputs and layer configuration \n",
        "# from the trained model into the inference models\n",
        "model_inference = keras.models.load_model('English - Dutch/NMT_seq2seq_no_Attention.h5')"
      ],
      "execution_count": null,
      "outputs": []
    },
    {
      "cell_type": "markdown",
      "metadata": {
        "id": "ogflRj9FhxFe"
      },
      "source": [
        "To create the Encoder and Decoder models by using the trained model\n",
        "\n",
        "- Using **model_inference.input** to get the trained model's input configuration and,\n",
        "- Using **model_inference.layers** to get the trained model's layers \n",
        "\n",
        "\n",
        " "
      ]
    },
    {
      "cell_type": "code",
      "metadata": {
        "colab": {
          "base_uri": "https://localhost:8080/"
        },
        "id": "jUOf7lWqkBQ5",
        "outputId": "1e490080-4dac-4d8a-e726-4501e7e5fda0"
      },
      "source": [
        "for index, desc in enumerate(model_inference.input):\n",
        "  print(index,\": \", desc)"
      ],
      "execution_count": null,
      "outputs": [
        {
          "output_type": "stream",
          "text": [
            "0 :  KerasTensor(type_spec=TensorSpec(shape=(None, 8), dtype=tf.float32, name='Encoder_input'), name='Encoder_input', description=\"created by layer 'Encoder_input'\")\n",
            "1 :  KerasTensor(type_spec=TensorSpec(shape=(None, 10), dtype=tf.float32, name='Decoder_input'), name='Decoder_input', description=\"created by layer 'Decoder_input'\")\n"
          ],
          "name": "stdout"
        }
      ]
    },
    {
      "cell_type": "code",
      "metadata": {
        "colab": {
          "base_uri": "https://localhost:8080/"
        },
        "id": "mD7bAdHNj4y8",
        "outputId": "ad1ce988-f10b-4639-c38d-b39cbc853e49"
      },
      "source": [
        "for index, desc in enumerate(model_inference.layers):\n",
        "  print(index,\": \", desc)"
      ],
      "execution_count": null,
      "outputs": [
        {
          "output_type": "stream",
          "text": [
            "0 :  <keras.engine.input_layer.InputLayer object at 0x7f4accc09810>\n",
            "1 :  <keras.engine.input_layer.InputLayer object at 0x7f4accc09a90>\n",
            "2 :  <keras.layers.embeddings.Embedding object at 0x7f4accc09d50>\n",
            "3 :  <keras.layers.embeddings.Embedding object at 0x7f4accbdd690>\n",
            "4 :  <keras.layers.recurrent_v2.LSTM object at 0x7f4accbee350>\n",
            "5 :  <keras.layers.recurrent_v2.LSTM object at 0x7f4accc125d0>\n",
            "6 :  <keras.layers.core.Dense object at 0x7f4accc09c10>\n"
          ],
          "name": "stdout"
        }
      ]
    },
    {
      "cell_type": "code",
      "metadata": {
        "colab": {
          "base_uri": "https://localhost:8080/"
        },
        "id": "hJYjFoJzLW9D",
        "outputId": "08734f25-e882-4234-f2c7-e3de0dfe0016"
      },
      "source": [
        "# Encoder Inference\n",
        "# encoder_inference = Model(encoder_input, encoder_state, name = 'Encoder_Inference')\n",
        "encoder_inference = Model(model_inference.input[0], model_inference.layers[4].output[1:], name = 'Encoder_Inference')\n",
        "encoder_inference.summary()"
      ],
      "execution_count": null,
      "outputs": [
        {
          "output_type": "stream",
          "text": [
            "Model: \"Encoder_Inference\"\n",
            "_________________________________________________________________\n",
            "Layer (type)                 Output Shape              Param #   \n",
            "=================================================================\n",
            "Encoder_input (InputLayer)   [(None, 8)]               0         \n",
            "_________________________________________________________________\n",
            "embedding (Embedding)        (None, 8, 100)            448300    \n",
            "_________________________________________________________________\n",
            "lstm (LSTM)                  [(None, 1024), (None, 102 4608000   \n",
            "=================================================================\n",
            "Total params: 5,056,300\n",
            "Trainable params: 5,056,300\n",
            "Non-trainable params: 0\n",
            "_________________________________________________________________\n"
          ],
          "name": "stdout"
        }
      ]
    },
    {
      "cell_type": "code",
      "metadata": {
        "colab": {
          "base_uri": "https://localhost:8080/"
        },
        "id": "cx3GVvp3CEv_",
        "outputId": "446fe238-21aa-4167-dd55-5ae0b9d4ada1"
      },
      "source": [
        "# Decoder Inference\n",
        "decoder_input_h = Input(shape=(latent_dim,), name = 'decoder_input_h')\n",
        "decoder_input_c = Input(shape=(latent_dim,), name = 'decoder_input_c')\n",
        "decoder_state_input = [decoder_input_h, decoder_input_c]\n",
        "\n",
        "\n",
        "# WARNING:tensorflow:Model was constructed with shape (None, 30), but it was called on an input with incompatible shape (None, 1).\n",
        "# decoder_input_inference = model_inference.input[1] #--- changing this line of code to below to remove the above warning\n",
        "decoder_input_inference = Input(shape=(1,), name = 'Decoder_Input')\n",
        "\n",
        "# decoder_embed_inference = Embedding(len_target_vocab, latent_dim, mask_zero=True)(decoder_input_inference)\n",
        "decoder_embed_inference = model_inference.layers[3](decoder_input_inference)\n",
        "\n",
        "# decoder_output_inference, state_h_inf, state_c_inf = LSTM(latent_dim, return_sequences = True, return_state = True)(decoder_embed_inference, initial_state = decoder_state_input)\n",
        "decoder_output_inference, state_h_inf, state_c_inf = model_inference.layers[5](decoder_embed_inference, initial_state = decoder_state_input)\n",
        "\n",
        "decoder_state_output = [state_h_inf, state_c_inf]\n",
        "\n",
        "# decoder_output_final = decoder_dense(decoder_output_inference)\n",
        "decoder_output_final = model_inference.layers[6](decoder_output_inference)\n",
        "\n",
        "\n",
        "decoder_inference = Model([decoder_input_inference] + decoder_state_input,\n",
        "                          [decoder_output_final] + decoder_state_output, name = 'Decoder_Inference')\n",
        "\n",
        "decoder_inference.summary()"
      ],
      "execution_count": null,
      "outputs": [
        {
          "output_type": "stream",
          "text": [
            "Model: \"Decoder_Inference\"\n",
            "__________________________________________________________________________________________________\n",
            "Layer (type)                    Output Shape         Param #     Connected to                     \n",
            "==================================================================================================\n",
            "Decoder_Input (InputLayer)      [(None, 1)]          0                                            \n",
            "__________________________________________________________________________________________________\n",
            "embedding_1 (Embedding)         multiple             5731328     Decoder_Input[0][0]              \n",
            "__________________________________________________________________________________________________\n",
            "decoder_input_h (InputLayer)    [(None, 1024)]       0                                            \n",
            "__________________________________________________________________________________________________\n",
            "decoder_input_c (InputLayer)    [(None, 1024)]       0                                            \n",
            "__________________________________________________________________________________________________\n",
            "lstm_1 (LSTM)                   multiple             8392704     embedding_1[1][0]                \n",
            "                                                                 decoder_input_h[0][0]            \n",
            "                                                                 decoder_input_c[0][0]            \n",
            "__________________________________________________________________________________________________\n",
            "Decoder_Dense (Dense)           multiple             5736925     lstm_1[1][0]                     \n",
            "==================================================================================================\n",
            "Total params: 19,860,957\n",
            "Trainable params: 19,860,957\n",
            "Non-trainable params: 0\n",
            "__________________________________________________________________________________________________\n"
          ],
          "name": "stdout"
        }
      ]
    },
    {
      "cell_type": "code",
      "metadata": {
        "id": "2mt64ZQkELpO"
      },
      "source": [
        "# Reverse Dictionary to convert integer back to the respective token\n",
        "reverse_source_vocab_index = {index : token for token, index in source_vocab_index.items()}\n",
        "reverse_target_vocab_index = {index : token for token, index in target_vocab_index.items()}"
      ],
      "execution_count": null,
      "outputs": []
    },
    {
      "cell_type": "code",
      "metadata": {
        "id": "Xz4gUbihZhhR"
      },
      "source": [
        "def decode_sequence(input_seq):\n",
        "  # encode the input sequence to get the internal state vectors\n",
        "  states_value = encoder_inference.predict(input_seq)\n",
        "  \n",
        "  # generate empty target sequence of length 1 with only the start character\n",
        "  target_seq = np.zeros((1, 1))\n",
        "  target_seq[0, 0] = target_vocab_index['<bof>']\n",
        "  \n",
        "  # output sequence loop\n",
        "  stop_condition = False\n",
        "  decoded_sentence = ''\n",
        "  while not stop_condition:\n",
        "    output_tokens, h, c = decoder_inference.predict([target_seq] + states_value)\n",
        "    \n",
        "    # sample a token and add the corresponding character to the decoded sequence\n",
        "    sampled_token_index = np.argmax(output_tokens[0, -1, :])\n",
        "    sampled_token = reverse_target_vocab_index[sampled_token_index]\n",
        "        \n",
        "    # check for the exit condition: either hitting max length\n",
        "    # or predicting the 'stop' character\n",
        "    if (sampled_token == '<eos>' or len(decoded_sentence.split()) > max_seq_len_target):\n",
        "      stop_condition = True\n",
        "      break\n",
        "      \n",
        "\n",
        "    decoded_sentence += ' ' + sampled_token\n",
        "      \n",
        "    # update the target sequence (length 1).\n",
        "    target_seq[0, 0] = sampled_token_index\n",
        "    \n",
        "    # update states\n",
        "    states_value = [h, c]\n",
        "    \n",
        "  return decoded_sentence.strip()"
      ],
      "execution_count": null,
      "outputs": []
    },
    {
      "cell_type": "markdown",
      "metadata": {
        "id": "4W29-et7B302"
      },
      "source": [
        "Translating"
      ]
    },
    {
      "cell_type": "markdown",
      "metadata": {
        "id": "bBlCePX3BGQo"
      },
      "source": [
        "Converting Test data into same format as required by NMT model"
      ]
    },
    {
      "cell_type": "code",
      "metadata": {
        "colab": {
          "base_uri": "https://localhost:8080/"
        },
        "id": "a1t3Rzi45K1c",
        "outputId": "e85b489b-a949-4599-8b8b-2919b1a67596"
      },
      "source": [
        "encoder_input_test   = np.zeros((len(X_test), max_seq_len_source), dtype='float32')\n",
        "\n",
        "# Converting the test sentences into their respective integer sequence\n",
        "for line_index, (source_indv_line, target_indv_line) in enumerate(zip(X_test, y_test)):\n",
        "  for token_index, token in enumerate(source_indv_line.split()):\n",
        "    encoder_input_test[line_index, token_index] = source_vocab_index[token]\n",
        "\n",
        "print(\"Encoder_input_data shape\\t: \", encoder_input_test.shape, \"\\nSentence\\t\\t\\t: \", X_test[0], \"\\nsample sequence\\t\\t\\t: \", encoder_input_test[0])"
      ],
      "execution_count": null,
      "outputs": [
        {
          "output_type": "stream",
          "text": [
            "Encoder_input_data shape\t:  (1000, 8) \n",
            "Sentence\t\t\t:  write the alphabet in capitals \n",
            "sample sequence\t\t\t:  [4433. 3971.  208. 2022.  677.    0.    0.    0.]\n"
          ],
          "name": "stdout"
        }
      ]
    },
    {
      "cell_type": "code",
      "metadata": {
        "colab": {
          "base_uri": "https://localhost:8080/"
        },
        "id": "JJYLf6vPAoYK",
        "outputId": "26fb5323-67af-4bd9-fe83-847b286cb217"
      },
      "source": [
        "print('---'*15,'Translating sentences from Training Set','---'*15)\n",
        "for seq_index in range(5):\n",
        "  input_seq = encoder_input_data[seq_index: seq_index + 1]                  # pass the encoded input sequence\n",
        "  decoded_sentence = decode_sequence(input_seq)                             # call the function to return decoded sequence\n",
        "  print('----')\n",
        "  print('Source English\\t\\t:', X_train[seq_index])\n",
        "  print('Original Dutch\\t\\t:', ' '.join(y_train[seq_index].split()[1:-1]))\n",
        "  print('Translated Dutch\\t:', decoded_sentence)\n",
        "\n",
        "print('---'*15,'Translating sentences from Testing Set','---'*15)\n",
        "\n",
        "for seq_index in range(5,10):\n",
        "  input_seq = encoder_input_test[seq_index: seq_index + 1]                  # same as above\n",
        "  decoded_sentence = decode_sequence(input_seq)\n",
        "  print('----')\n",
        "  print('Source English\\t\\t:', X_test[seq_index])\n",
        "  print('Original Dutch\\t\\t:', ' '.join(y_test[seq_index].split()[1:-1]))\n",
        "  print('Translated Dutch\\t:', decoded_sentence)"
      ],
      "execution_count": null,
      "outputs": [
        {
          "output_type": "stream",
          "text": [
            "--------------------------------------------- Translating sentences from Training Set ---------------------------------------------\n",
            "----\n",
            "Source English\t\t: ladies first\n",
            "Original Dutch\t\t: dames eerst\n",
            "Translated Dutch\t: dames voor je\n",
            "----\n",
            "Source English\t\t: mr joel is now on duty\n",
            "Original Dutch\t\t: mijnheer joel is nu van dienst\n",
            "Translated Dutch\t: mijnheer joel is nu van school\n",
            "----\n",
            "Source English\t\t: he noticed a letter on the desk\n",
            "Original Dutch\t\t: hij bemerkte een brief op de schrijftafel\n",
            "Translated Dutch\t: hij bemerkte een brief op de schrijftafel\n",
            "----\n",
            "Source English\t\t: i could not see anything\n",
            "Original Dutch\t\t: ik kon niet alles zien\n",
            "Translated Dutch\t: ik kon niet alles te zien\n",
            "----\n",
            "Source English\t\t: i worked on a farm\n",
            "Original Dutch\t\t: ik werkte op een boerderij\n",
            "Translated Dutch\t: ik werkte op een boerderij\n",
            "--------------------------------------------- Translating sentences from Testing Set ---------------------------------------------\n",
            "----\n",
            "Source English\t\t: look at that building\n",
            "Original Dutch\t\t: kijk naar dat gebouw\n",
            "Translated Dutch\t: kijk naar het gebouw\n",
            "----\n",
            "Source English\t\t: they quarreled\n",
            "Original Dutch\t\t: ze maakten ruzie\n",
            "Translated Dutch\t: ze zijn\n",
            "----\n",
            "Source English\t\t: this sentence doesn't make sense\n",
            "Original Dutch\t\t: deze zin slaat nergens op\n",
            "Translated Dutch\t: dit woord kan niet alleen\n",
            "----\n",
            "Source English\t\t: the restaurant is always packed\n",
            "Original Dutch\t\t: het restaurant zit altijd vol\n",
            "Translated Dutch\t: de kamer is heel lang\n",
            "----\n",
            "Source English\t\t: hold on someone is knocking at my door\n",
            "Original Dutch\t\t: wacht er wordt aan mijn deur geklopt\n",
            "Translated Dutch\t: wacht iemand klopt aan mijn deur\n"
          ],
          "name": "stdout"
        }
      ]
    },
    {
      "cell_type": "markdown",
      "metadata": {
        "id": "oDksXrRRHpbX"
      },
      "source": [
        "Calculating the BLeU Scores\n",
        "- calculating both the Sentence Level and Corpus Level Bleu Scores for each of the 1/2/3/4 gram.\n",
        "- Reference mentioned below."
      ]
    },
    {
      "cell_type": "code",
      "metadata": {
        "colab": {
          "base_uri": "https://localhost:8080/"
        },
        "id": "NAGFCJilHq6O",
        "outputId": "41c3424a-1db3-41dd-cc91-53026a02b982"
      },
      "source": [
        "# Importing Blue\n",
        "from nltk.translate.bleu_score import sentence_bleu, corpus_bleu, SmoothingFunction\n",
        "smooth = SmoothingFunction().method4\n",
        "\n",
        "corpus_reference = []                               # list to store reference sentences for corpus level Belu\n",
        "corpus_hypothesis = []                              # list to store Hypothesis sentences for corpus level Belu\n",
        "\n",
        "sentence_reference = []                             # list to store reference sentences for sentence level Belu\n",
        "sentence_hypothesis = []                            # list to store Hypothesis sentences for corpus level Belu\n",
        "\n",
        "corpus_score_cumulative_bleu_1 = 0                  # initialising Bleu scores for each of the n gram at corpus level\n",
        "corpus_score_cumulative_bleu_2 = 0\n",
        "corpus_score_cumulative_bleu_3 = 0\n",
        "corpus_score_cumulative_bleu_4 = 0\n",
        "\n",
        "sen_score_cumulative_bleu_1 = []                    # list to store the Belu Score for each of the n gram at the sentence level              \n",
        "sen_score_cumulative_bleu_2 = []\n",
        "sen_score_cumulative_bleu_3 = []\n",
        "sen_score_cumulative_bleu_4 = []\n",
        "\n",
        "#Generating Bleu Score\n",
        "for line_index in range(len(X_test)):\n",
        "\n",
        "  line_data = encoder_input_test[line_index: line_index + 1]       # give the encoded test sentence\n",
        "  translation = decode_sequence(line_data)                         # get the decoded sentence for the test sentence\n",
        "  \n",
        "  corpus_reference.append([y_test[line_index].split()[1:-1]])      # add the list of words for the given reference sentence --- [[['word1','word2', ...]]] -- corpus Bleu format\n",
        "  corpus_hypothesis.append(translation.split())                    # add the list of words for the given hypothesis sentence -- [['word1', 'word2', ...]]  - corpus Bleu format\n",
        "\n",
        "  sentence_reference = y_test[line_index].split()[1:-1]            # add the list of words for the given reference sentence --- [['word1','word2', ...]] -- sentence Bleu format\n",
        "  sentence_hypothesis = translation.split()                        # add the list of words for the given hypothesis sentence -- ['word1','word2', ...] -- sentence Bleu format\n",
        "\n",
        "  try:                                                               # weights specified to calculate only 1 gram score\n",
        "    score1 = sentence_bleu([sentence_reference], sentence_hypothesis, weights = (1, 0, 0, 0), smoothing_function = smooth)\n",
        "  except:\n",
        "    score1 = 0\n",
        "  \n",
        "  try:                                                                # weights specified to calculate 2 gram score\n",
        "    score2 = sentence_bleu([sentence_reference], sentence_hypothesis, weights = (0.5, 0.5, 0, 0), smoothing_function = smooth)\n",
        "  except:\n",
        "    score2 = 0\n",
        "  \n",
        "  try:                                                                # weights specified to calculate 3 gram score\n",
        "    score3 = sentence_bleu([sentence_reference], sentence_hypothesis, weights = (0.33, 0.33, 0.33, 0), smoothing_function = smooth)\n",
        "  except:\n",
        "    score3 = 0\n",
        " \n",
        "  try:                                                                # weights specified to calculate 4 gram score\n",
        "    score4 = sentence_bleu([sentence_reference], sentence_hypothesis, weights = (0.25, 0.25, 0.25, 0.25), smoothing_function = smooth)\n",
        "  except:\n",
        "    score4 = 0\n",
        "\n",
        "  \n",
        "  sen_score_cumulative_bleu_1.append(score1)                # append the sentence score for each Bleu\n",
        "  sen_score_cumulative_bleu_2.append(score2)\n",
        "  sen_score_cumulative_bleu_3.append(score3)\n",
        "  sen_score_cumulative_bleu_4.append(score4) \n",
        "\n",
        "# calculate the Corpus level Belu scores\n",
        "corpus_score_cumulative_bleu_1 = corpus_bleu(corpus_reference, corpus_hypothesis, weights = (1, 0, 0, 0), smoothing_function = smooth)\n",
        "corpus_score_cumulative_bleu_2 = corpus_bleu(corpus_reference, corpus_hypothesis, weights = (0.5, 0.5, 0, 0), smoothing_function = smooth)\n",
        "corpus_score_cumulative_bleu_3 = corpus_bleu(corpus_reference, corpus_hypothesis, weights = (0.33, 0.33, 0.33, 0), smoothing_function = smooth)\n",
        "corpus_score_cumulative_bleu_4 = corpus_bleu(corpus_reference, corpus_hypothesis, weights = (0.25, 0.25, 0.25, 0.25), smoothing_function = smooth)\n",
        "\n",
        "# convert the sentence level bleu scores to np.array -- easier to calculate the mean\n",
        "sen_score_cumulative_bleu_1 = np.array(sen_score_cumulative_bleu_1)\n",
        "sen_score_cumulative_bleu_2 = np.array(sen_score_cumulative_bleu_2)\n",
        "sen_score_cumulative_bleu_3 = np.array(sen_score_cumulative_bleu_3)\n",
        "sen_score_cumulative_bleu_4 = np.array(sen_score_cumulative_bleu_4)\n",
        "\n",
        "print(\"CORPUS Level Cumulative Bleu - Without Attention\")\n",
        "print(\"1-gram: \", round(corpus_score_cumulative_bleu_1, 6), \"\\t2-gram: \", round(corpus_score_cumulative_bleu_2, 6), \\\n",
        "      \"\\t3-gram: \", round(corpus_score_cumulative_bleu_3, 6), \"\\t4-gram: \", round(corpus_score_cumulative_bleu_4, 6))\n",
        "\n",
        "print(\"\\n\\nSENTENCE Level Cumulative Bleu - Without Attention\")\n",
        "print(\"1-gram: \", round(sen_score_cumulative_bleu_1.mean(), 6), \"\\t2-gram: \", round(sen_score_cumulative_bleu_2.mean(), 6), \\\n",
        "      \"\\t3-gram: \", round(sen_score_cumulative_bleu_3.mean(), 6), \"\\t4-gram: \", round(sen_score_cumulative_bleu_4.mean(), 6))\n",
        " "
      ],
      "execution_count": null,
      "outputs": [
        {
          "output_type": "stream",
          "text": [
            "CORPUS Level Cumulative Bleu - Without Attention\n",
            "1-gram:  0.423262 \t2-gram:  0.297848 \t3-gram:  0.217326 \t4-gram:  0.152289\n",
            "\n",
            "\n",
            "SENTENCE Level Cumulative Bleu - Without Attention\n",
            "1-gram:  0.411095 \t2-gram:  0.340016 \t3-gram:  0.294508 \t4-gram:  0.251582\n"
          ],
          "name": "stdout"
        }
      ]
    },
    {
      "cell_type": "markdown",
      "metadata": {
        "id": "wb4F1-a00Hw6"
      },
      "source": [
        "# Section 4 Attention\n",
        "\n",
        "---\n",
        "\n"
      ]
    },
    {
      "cell_type": "markdown",
      "metadata": {
        "id": "6XTD-fCC1yUA"
      },
      "source": [
        "**Task 5 (40 Marks)** Sequence2Sequence\n",
        "\n",
        "* Extend the existing Seq2Seq model with an attention mechanism [Discussed in Class]\n",
        "* Create sequence2sequence model with attention (15 marks)\n",
        "* Train the model with the same data from Section 1 (10 marks)\n",
        "* Translate the evaluation set using the sequence2sequence attention model (10 marks)\n",
        "* Evaluate the translations made with the sequence2sequence attention model and compare it with the model without attention using BLEU (5 marks)"
      ]
    },
    {
      "cell_type": "code",
      "metadata": {
        "id": "4OtA8DVjeht-"
      },
      "source": [
        "# Defining Encoder Architecture\n",
        "encoder_input    = Input(shape = (max_seq_len_source,), name = 'Encoder_input')                               # input sequence\n",
        "embedded_encoder = Embedding(len_source_vocab, embedding_shape, weights=[source_embedding])(encoder_input)    # map each word to its word embedding \n",
        "encoder_lstm = LSTM(latent_dim,  return_sequences=True, unroll=True)(embedded_encoder)                        # pass the embedded layer to the LSTM -- using unroll = True\n",
        "encoder_last = encoder_lstm[:,-1,:]                                                                           # find the LSTM states"
      ],
      "execution_count": null,
      "outputs": []
    },
    {
      "cell_type": "code",
      "metadata": {
        "id": "7xALyPFQehuT"
      },
      "source": [
        "# Defining Decoder Architecture\n",
        "decoder_input    = Input(shape = (max_seq_len_target,), name = 'Decoder_input')                              # output sequence\n",
        "embedded_decoder = Embedding(len_target_vocab, latent_dim)(decoder_input)                                    # map each word to the latent embedding space  \n",
        "decoder_lstm = LSTM(latent_dim, return_sequences=True, unroll=True)(embedded_decoder, initial_state = [encoder_last,encoder_last])       "
      ],
      "execution_count": null,
      "outputs": []
    },
    {
      "cell_type": "code",
      "metadata": {
        "id": "U5yN5Hy6_I7M"
      },
      "source": [
        "# Attendtion model\n",
        "# Calculate the Dot product of the decoded sequence and the input encoded sequence\n",
        "attention_dot = dot([decoder_lstm, encoder_lstm], axes=[2,2])\n",
        "attention_activate = Activation('softmax', name='attention')(attention_dot) # using Softmax to convert the values to a range indicating how much each word is activating\n",
        "\n",
        "context = dot([attention_activate, encoder_lstm], axes=[2,1])   # calculating the dot product of the attention score and encoded input sequence\n",
        "\n",
        "decoder_combined_context = concatenate([context, decoder_lstm])  # combining the activation scores and decoded sequence\n",
        "\n",
        " # Adding Time distributed layers to attend all the values in the LSTM cells and finding the output sequence\n",
        "output_context = TimeDistributed(Dense(2048, activation=\"tanh\"))(decoder_combined_context)        \n",
        "output = TimeDistributed(Dense(len_target_vocab, activation=\"softmax\"), name = 'Decoder_Dense')(output_context)"
      ],
      "execution_count": null,
      "outputs": []
    },
    {
      "cell_type": "code",
      "metadata": {
        "colab": {
          "base_uri": "https://localhost:8080/"
        },
        "id": "OHUmMXDDehuT",
        "outputId": "c5139b7e-0783-4a5a-879f-a72fd0ed1564"
      },
      "source": [
        "# Creating the Attention model\n",
        "Attention_model = Model(inputs = [encoder_input, decoder_input], outputs = [output], name = 'NMT_Attention_model')\n",
        "Attention_model.summary()"
      ],
      "execution_count": null,
      "outputs": [
        {
          "output_type": "stream",
          "text": [
            "Model: \"NMT_Attention_model\"\n",
            "__________________________________________________________________________________________________\n",
            "Layer (type)                    Output Shape         Param #     Connected to                     \n",
            "==================================================================================================\n",
            "Encoder_input (InputLayer)      [(None, 8)]          0                                            \n",
            "__________________________________________________________________________________________________\n",
            "embedding_2 (Embedding)         (None, 8, 100)       448300      Encoder_input[0][0]              \n",
            "__________________________________________________________________________________________________\n",
            "Decoder_input (InputLayer)      [(None, 10)]         0                                            \n",
            "__________________________________________________________________________________________________\n",
            "lstm_2 (LSTM)                   (None, 8, 1024)      4608000     embedding_2[0][0]                \n",
            "__________________________________________________________________________________________________\n",
            "embedding_3 (Embedding)         (None, 10, 1024)     5731328     Decoder_input[0][0]              \n",
            "__________________________________________________________________________________________________\n",
            "tf.__operators__.getitem (Slici (None, 1024)         0           lstm_2[0][0]                     \n",
            "__________________________________________________________________________________________________\n",
            "lstm_3 (LSTM)                   (None, 10, 1024)     8392704     embedding_3[0][0]                \n",
            "                                                                 tf.__operators__.getitem[0][0]   \n",
            "                                                                 tf.__operators__.getitem[0][0]   \n",
            "__________________________________________________________________________________________________\n",
            "dot (Dot)                       (None, 10, 8)        0           lstm_3[0][0]                     \n",
            "                                                                 lstm_2[0][0]                     \n",
            "__________________________________________________________________________________________________\n",
            "attention (Activation)          (None, 10, 8)        0           dot[0][0]                        \n",
            "__________________________________________________________________________________________________\n",
            "dot_1 (Dot)                     (None, 10, 1024)     0           attention[0][0]                  \n",
            "                                                                 lstm_2[0][0]                     \n",
            "__________________________________________________________________________________________________\n",
            "concatenate (Concatenate)       (None, 10, 2048)     0           dot_1[0][0]                      \n",
            "                                                                 lstm_3[0][0]                     \n",
            "__________________________________________________________________________________________________\n",
            "time_distributed (TimeDistribut (None, 10, 2048)     4196352     concatenate[0][0]                \n",
            "__________________________________________________________________________________________________\n",
            "Decoder_Dense (TimeDistributed) (None, 10, 5597)     11468253    time_distributed[0][0]           \n",
            "==================================================================================================\n",
            "Total params: 34,844,937\n",
            "Trainable params: 34,844,937\n",
            "Non-trainable params: 0\n",
            "__________________________________________________________________________________________________\n"
          ],
          "name": "stdout"
        }
      ]
    },
    {
      "cell_type": "code",
      "metadata": {
        "colab": {
          "base_uri": "https://localhost:8080/"
        },
        "id": "61WiWyfBKW20",
        "outputId": "957b0912-d769-499c-d1e2-7038676c96cf"
      },
      "source": [
        "# compiling the attention model\n",
        "Attention_model.compile(optimizer = 'rmsprop' , loss = 'categorical_crossentropy', metrics=['accuracy'])\n",
        "\n",
        "# Callback to reduce the learning rate when the validation loss has stopped improving\n",
        "reduce_lr = keras.callbacks.ReduceLROnPlateau(monitor = 'val_loss', factor = 0.5, patience = 5, mode = 'min')\n",
        "\n",
        "# Callback to stop training the model when the validation loss has stopped improving\n",
        "early_stop = keras.callbacks.EarlyStopping(monitor = 'val_loss', patience = 15, mode = 'min')\n",
        "\n",
        "# Fitting the model\n",
        "model_history = Attention_model.fit([encoder_input_data, decoder_input_data], decoder_target_data,\n",
        "                                    batch_size = batch_size , epochs = epochs, validation_split=0.12,\n",
        "                                    callbacks=[early_stop, reduce_lr])\n",
        "\n",
        "Attention_model.save('English - Dutch/NMT_seq2seq_Attention.h5')"
      ],
      "execution_count": null,
      "outputs": [
        {
          "output_type": "stream",
          "text": [
            "Epoch 1/300\n",
            "20/20 [==============================] - 44s 1s/step - loss: 4.9673 - accuracy: 0.0615 - val_loss: 3.5886 - val_accuracy: 0.1453\n",
            "Epoch 2/300\n",
            "20/20 [==============================] - 25s 1s/step - loss: 3.5254 - accuracy: 0.1398 - val_loss: 3.3413 - val_accuracy: 0.1574\n",
            "Epoch 3/300\n",
            "20/20 [==============================] - 25s 1s/step - loss: 3.1761 - accuracy: 0.1590 - val_loss: 3.1430 - val_accuracy: 0.1675\n",
            "Epoch 4/300\n",
            "20/20 [==============================] - 24s 1s/step - loss: 2.9889 - accuracy: 0.1717 - val_loss: 2.9868 - val_accuracy: 0.1759\n",
            "Epoch 5/300\n",
            "20/20 [==============================] - 24s 1s/step - loss: 2.6352 - accuracy: 0.1963 - val_loss: 2.8068 - val_accuracy: 0.2019\n",
            "Epoch 6/300\n",
            "20/20 [==============================] - 24s 1s/step - loss: 2.3503 - accuracy: 0.2201 - val_loss: 2.6887 - val_accuracy: 0.2152\n",
            "Epoch 7/300\n",
            "20/20 [==============================] - 25s 1s/step - loss: 2.1162 - accuracy: 0.2373 - val_loss: 2.7526 - val_accuracy: 0.2038\n",
            "Epoch 8/300\n",
            "20/20 [==============================] - 24s 1s/step - loss: 1.9221 - accuracy: 0.2626 - val_loss: 2.4316 - val_accuracy: 0.2501\n",
            "Epoch 9/300\n",
            "20/20 [==============================] - 25s 1s/step - loss: 1.6389 - accuracy: 0.2938 - val_loss: 2.3663 - val_accuracy: 0.2615\n",
            "Epoch 10/300\n",
            "20/20 [==============================] - 25s 1s/step - loss: 1.3848 - accuracy: 0.3312 - val_loss: 2.2905 - val_accuracy: 0.2731\n",
            "Epoch 11/300\n",
            "20/20 [==============================] - 24s 1s/step - loss: 1.2362 - accuracy: 0.3588 - val_loss: 2.2442 - val_accuracy: 0.2797\n",
            "Epoch 12/300\n",
            "20/20 [==============================] - 24s 1s/step - loss: 1.0489 - accuracy: 0.3940 - val_loss: 2.2120 - val_accuracy: 0.2960\n",
            "Epoch 13/300\n",
            "20/20 [==============================] - 24s 1s/step - loss: 0.9311 - accuracy: 0.4115 - val_loss: 2.1658 - val_accuracy: 0.3044\n",
            "Epoch 14/300\n",
            "20/20 [==============================] - 24s 1s/step - loss: 0.7647 - accuracy: 0.4510 - val_loss: 2.1199 - val_accuracy: 0.3170\n",
            "Epoch 15/300\n",
            "20/20 [==============================] - 23s 1s/step - loss: 0.6369 - accuracy: 0.4811 - val_loss: 2.0982 - val_accuracy: 0.3199\n",
            "Epoch 16/300\n",
            "20/20 [==============================] - 23s 1s/step - loss: 0.5383 - accuracy: 0.5015 - val_loss: 2.1542 - val_accuracy: 0.3215\n",
            "Epoch 17/300\n",
            "20/20 [==============================] - 23s 1s/step - loss: 0.4749 - accuracy: 0.5194 - val_loss: 2.1568 - val_accuracy: 0.3208\n",
            "Epoch 18/300\n",
            "20/20 [==============================] - 24s 1s/step - loss: 0.3927 - accuracy: 0.5355 - val_loss: 2.1441 - val_accuracy: 0.3275\n",
            "Epoch 19/300\n",
            "20/20 [==============================] - 24s 1s/step - loss: 0.3439 - accuracy: 0.5467 - val_loss: 2.1235 - val_accuracy: 0.3296\n",
            "Epoch 20/300\n",
            "20/20 [==============================] - 24s 1s/step - loss: 0.2816 - accuracy: 0.5644 - val_loss: 2.1690 - val_accuracy: 0.3302\n",
            "Epoch 21/300\n",
            "20/20 [==============================] - 25s 1s/step - loss: 0.1890 - accuracy: 0.5873 - val_loss: 2.0935 - val_accuracy: 0.3497\n",
            "Epoch 22/300\n",
            "20/20 [==============================] - 25s 1s/step - loss: 0.1381 - accuracy: 0.5992 - val_loss: 2.1410 - val_accuracy: 0.3432\n",
            "Epoch 23/300\n",
            "20/20 [==============================] - 24s 1s/step - loss: 0.1211 - accuracy: 0.6109 - val_loss: 2.1721 - val_accuracy: 0.3431\n",
            "Epoch 24/300\n",
            "20/20 [==============================] - 24s 1s/step - loss: 0.1081 - accuracy: 0.6114 - val_loss: 2.1799 - val_accuracy: 0.3468\n",
            "Epoch 25/300\n",
            "20/20 [==============================] - 23s 1s/step - loss: 0.0939 - accuracy: 0.6137 - val_loss: 2.2172 - val_accuracy: 0.3434\n",
            "Epoch 26/300\n",
            "20/20 [==============================] - 23s 1s/step - loss: 0.0865 - accuracy: 0.6172 - val_loss: 2.2263 - val_accuracy: 0.3460\n",
            "Epoch 27/300\n",
            "20/20 [==============================] - 23s 1s/step - loss: 0.0652 - accuracy: 0.6217 - val_loss: 2.2215 - val_accuracy: 0.3483\n",
            "Epoch 28/300\n",
            "20/20 [==============================] - 23s 1s/step - loss: 0.0535 - accuracy: 0.6245 - val_loss: 2.2314 - val_accuracy: 0.3487\n",
            "Epoch 29/300\n",
            "20/20 [==============================] - 23s 1s/step - loss: 0.0517 - accuracy: 0.6232 - val_loss: 2.2458 - val_accuracy: 0.3473\n",
            "Epoch 30/300\n",
            "20/20 [==============================] - 23s 1s/step - loss: 0.0493 - accuracy: 0.6246 - val_loss: 2.2542 - val_accuracy: 0.3489\n",
            "Epoch 31/300\n",
            "20/20 [==============================] - 23s 1s/step - loss: 0.0469 - accuracy: 0.6225 - val_loss: 2.2696 - val_accuracy: 0.3465\n",
            "Epoch 32/300\n",
            "20/20 [==============================] - 24s 1s/step - loss: 0.0404 - accuracy: 0.6259 - val_loss: 2.2699 - val_accuracy: 0.3474\n",
            "Epoch 33/300\n",
            "20/20 [==============================] - 24s 1s/step - loss: 0.0366 - accuracy: 0.6252 - val_loss: 2.2743 - val_accuracy: 0.3467\n",
            "Epoch 34/300\n",
            "20/20 [==============================] - 25s 1s/step - loss: 0.0361 - accuracy: 0.6275 - val_loss: 2.2865 - val_accuracy: 0.3481\n",
            "Epoch 35/300\n",
            "20/20 [==============================] - 24s 1s/step - loss: 0.0348 - accuracy: 0.6239 - val_loss: 2.2894 - val_accuracy: 0.3475\n",
            "Epoch 36/300\n",
            "20/20 [==============================] - 24s 1s/step - loss: 0.0337 - accuracy: 0.6249 - val_loss: 2.3033 - val_accuracy: 0.3481\n"
          ],
          "name": "stdout"
        }
      ]
    },
    {
      "cell_type": "code",
      "metadata": {
        "colab": {
          "base_uri": "https://localhost:8080/",
          "height": 573
        },
        "id": "JIzkYf5z9vWx",
        "outputId": "8fcacf93-6f2b-489f-91e4-44603e089cb2"
      },
      "source": [
        "# Plotting the training vs validation accuracy plot\n",
        "# list all data in history\n",
        "# print(model_history.history.keys())\n",
        "\n",
        "# summarize history for accuracy\n",
        "plt.plot(model_history.history['accuracy'])\n",
        "plt.plot(model_history.history['val_accuracy'])\n",
        "plt.title('Model Accuracy')\n",
        "plt.ylabel('Accuracy')\n",
        "plt.xlabel('Epoch')\n",
        "# plt.ylim([0.60, 1.00])\n",
        "plt.legend(['Training', 'Validation'], loc='lower right')\n",
        "plt.show()\n",
        "\n",
        "# summarize history for loss\n",
        "plt.plot(model_history.history['loss'])\n",
        "plt.plot(model_history.history['val_loss'])\n",
        "plt.title('Model Loss')\n",
        "plt.ylabel('Loss')\n",
        "plt.xlabel('Epoch')\n",
        "plt.legend(['Training', 'Validation'], loc='best')\n",
        "plt.show()"
      ],
      "execution_count": null,
      "outputs": [
        {
          "output_type": "display_data",
          "data": {
            "image/png": "[encoded data removed]",
            "text/plain": [
              "<Figure size 432x288 with 1 Axes>"
            ]
          },
          "metadata": {
            "tags": [],
            "needs_background": "light"
          }
        },
        {
          "output_type": "display_data",
          "data": {
            "image/png": "[encoded data removed]",
            "text/plain": [
              "<Figure size 432x288 with 1 Axes>"
            ]
          },
          "metadata": {
            "tags": [],
            "needs_background": "light"
          }
        }
      ]
    },
    {
      "cell_type": "code",
      "metadata": {
        "id": "Huyw8WFdcyyd"
      },
      "source": [
        "# load the attention model\n",
        "Attention_model = keras.models.load_model('English - Dutch/NMT_seq2seq_Attention.h5')"
      ],
      "execution_count": null,
      "outputs": []
    },
    {
      "cell_type": "code",
      "metadata": {
        "id": "UoTn3MQnYkoi"
      },
      "source": [
        "# function to convert the encoded sequence back to decoded output sentence\n",
        "def decode_sequence_2(input_seq):\n",
        "  \n",
        "  # generate empty target sequence of length equal to target sentence with only the start character\n",
        "  target_seq = np.zeros((1, max_seq_len_target))\n",
        "  target_seq[0, 0] = target_vocab_index['<bof>']\n",
        "  \n",
        "  # output sequence loop\n",
        "  stop_condition = False\n",
        "  decoded_sentence = ''\n",
        "  index = 1                           # counter to indicate the word position in the output sequence\n",
        "  while not stop_condition:\n",
        "    output_tokens = Attention_model.predict([input_seq, target_seq])        # predict the output tokens\n",
        "\n",
        "    if(index == 10):\n",
        "      break\n",
        "       \n",
        "    # sample a token and add the corresponding character to the decoded sequence\n",
        "    sampled_token_index = np.argmax(output_tokens[0, index, :])             # extract the token index of the word having the highest value present at \"position -> index\"\n",
        "    sampled_token = reverse_target_vocab_index[sampled_token_index]\n",
        "        \n",
        "    # check for the exit condition: either hitting max length\n",
        "    # or predicting the 'stop' character\n",
        "    if (sampled_token == '<eos>' or len(decoded_sentence.split()) > max_seq_len_target): \n",
        "      stop_condition = True\n",
        "      break\n",
        "      \n",
        "    decoded_sentence += ' ' + sampled_token\n",
        "      \n",
        "    # update the target sequence (length 1).\n",
        "    target_seq[0, index] = sampled_token_index\n",
        "    \n",
        "    index+=1\n",
        "    \n",
        "  return decoded_sentence.strip()"
      ],
      "execution_count": null,
      "outputs": []
    },
    {
      "cell_type": "code",
      "metadata": {
        "colab": {
          "base_uri": "https://localhost:8080/"
        },
        "id": "zuHpWTlC7oo8",
        "outputId": "54869476-2f77-4d40-9484-4fa322756891"
      },
      "source": [
        "# Translating the encoded test sentences\n",
        "print('---'*15,'Translating sentences from Training Set','---'*15)\n",
        "for seq_index in range(5):\n",
        "  input_seq = encoder_input_data[seq_index: seq_index + 1]                  # pass the encoded input sequence\n",
        "  decoded_sentence = decode_sequence_2(input_seq)                             # call the function to return decoded sequence\n",
        "  print('----')\n",
        "  print('Source English\\t\\t:', X_train[seq_index])\n",
        "  print('Original Dutch\\t\\t:', ' '.join(y_train[seq_index].split()[1:-1]))\n",
        "  print('Translated Dutch\\t:', decoded_sentence)\n",
        "\n",
        "print('---'*15,'Translating sentences from Testing Set','---'*15)\n",
        "\n",
        "for seq_index in range(5,10):\n",
        "  input_seq = encoder_input_test[seq_index: seq_index + 1]                  # same as above\n",
        "  decoded_sentence = decode_sequence_2(input_seq)\n",
        "  print('----')\n",
        "  print('Source English\\t\\t:', X_test[seq_index])\n",
        "  print('Original Dutch\\t\\t:', ' '.join(y_test[seq_index].split()[1:-1]))\n",
        "  print('Translated Dutch\\t:', decoded_sentence)"
      ],
      "execution_count": null,
      "outputs": [
        {
          "output_type": "stream",
          "text": [
            "--------------------------------------------- Translating sentences from Training Set ---------------------------------------------\n",
            "----\n",
            "Source English\t\t: ladies first\n",
            "Original Dutch\t\t: dames eerst\n",
            "Translated Dutch\t: eerst eerst\n",
            "----\n",
            "Source English\t\t: mr joel is now on duty\n",
            "Original Dutch\t\t: mijnheer joel is nu van dienst\n",
            "Translated Dutch\t: joel is nu in dienst\n",
            "----\n",
            "Source English\t\t: he noticed a letter on the desk\n",
            "Original Dutch\t\t: hij bemerkte een brief op de schrijftafel\n",
            "Translated Dutch\t: bemerkte een op de naar de\n",
            "----\n",
            "Source English\t\t: i could not see anything\n",
            "Original Dutch\t\t: ik kon niet alles zien\n",
            "Translated Dutch\t: ik niet alles zeggen dit\n",
            "----\n",
            "Source English\t\t: i worked on a farm\n",
            "Original Dutch\t\t: ik werkte op een boerderij\n",
            "Translated Dutch\t: ik op een\n",
            "--------------------------------------------- Translating sentences from Testing Set ---------------------------------------------\n",
            "----\n",
            "Source English\t\t: look at that building\n",
            "Original Dutch\t\t: kijk naar dat gebouw\n",
            "Translated Dutch\t: kijk naar\n",
            "----\n",
            "Source English\t\t: they quarreled\n",
            "Original Dutch\t\t: ze maakten ruzie\n",
            "Translated Dutch\t: we zijn vast\n",
            "----\n",
            "Source English\t\t: this sentence doesn't make sense\n",
            "Original Dutch\t\t: deze zin slaat nergens op\n",
            "Translated Dutch\t: dit zal niet met leeftijd\n",
            "----\n",
            "Source English\t\t: the restaurant is always packed\n",
            "Original Dutch\t\t: het restaurant zit altijd vol\n",
            "Translated Dutch\t: de is altijd vandaag ontbijt\n",
            "----\n",
            "Source English\t\t: hold on someone is knocking at my door\n",
            "Original Dutch\t\t: wacht er wordt aan mijn deur geklopt\n",
            "Translated Dutch\t: iemand iemand op mijn\n"
          ],
          "name": "stdout"
        }
      ]
    },
    {
      "cell_type": "code",
      "metadata": {
        "colab": {
          "base_uri": "https://localhost:8080/"
        },
        "id": "TtcoFagx78fb",
        "outputId": "b524ce12-389e-4a3d-d385-bf7d1677a00d"
      },
      "source": [
        "# Importing Blue\n",
        "from nltk.translate.bleu_score import sentence_bleu, corpus_bleu, SmoothingFunction\n",
        "smooth = SmoothingFunction().method4\n",
        "\n",
        "corpus_reference = []                               # list to store reference sentences for corpus level Belu\n",
        "corpus_hypothesis = []                              # list to store Hypothesis sentences for corpus level Belu\n",
        "\n",
        "sentence_reference = []                             # list to store reference sentences for sentence level Belu\n",
        "sentence_hypothesis = []                            # list to store Hypothesis sentences for corpus level Belu\n",
        "\n",
        "corpus_score_cumulative_bleu_1 = 0                  # initialising Bleu scores for each of the n gram at corpus level\n",
        "corpus_score_cumulative_bleu_2 = 0\n",
        "corpus_score_cumulative_bleu_3 = 0\n",
        "corpus_score_cumulative_bleu_4 = 0\n",
        "\n",
        "sen_score_cumulative_bleu_1 = []                    # list to store the Belu Score for each of the n gram at the sentence level              \n",
        "sen_score_cumulative_bleu_2 = []\n",
        "sen_score_cumulative_bleu_3 = []\n",
        "sen_score_cumulative_bleu_4 = []\n",
        "\n",
        "#Generating Bleu Score\n",
        "for line_index in range(len(X_test)):\n",
        "\n",
        "  line_data = encoder_input_test[line_index: line_index + 1]       # give the encoded test sentence\n",
        "  translation = decode_sequence_2(line_data)                         # get the decoded sentence for the test sentence\n",
        "  \n",
        "  corpus_reference.append([y_test[line_index].split()[1:-1]])      # add the list of words for the given reference sentence --- [[['word1','word2', ...]]] -- corpus Bleu format\n",
        "  corpus_hypothesis.append(translation.split())                    # add the list of words for the given hypothesis sentence -- [['word1', 'word2', ...]]  - corpus Bleu format\n",
        "\n",
        "  sentence_reference = y_test[line_index].split()[1:-1]            # add the list of words for the given reference sentence --- [['word1','word2', ...]] -- sentence Bleu format\n",
        "  sentence_hypothesis = translation.split()                        # add the list of words for the given hypothesis sentence -- ['word1','word2', ...] -- sentence Bleu format\n",
        "\n",
        "  try:                                                               # weights specified to calculate only 1 gram score\n",
        "    score1 = sentence_bleu([sentence_reference], sentence_hypothesis, weights = (1, 0, 0, 0), smoothing_function = smooth)\n",
        "  except:\n",
        "    score1 = 0\n",
        "  \n",
        "  try:                                                                # weights specified to calculate 2 gram score\n",
        "    score2 = sentence_bleu([sentence_reference], sentence_hypothesis, weights = (0.5, 0.5, 0, 0), smoothing_function = smooth)\n",
        "  except:\n",
        "    score2 = 0\n",
        "  \n",
        "  try:                                                                # weights specified to calculate 3 gram score\n",
        "    score3 = sentence_bleu([sentence_reference], sentence_hypothesis, weights = (0.33, 0.33, 0.33, 0), smoothing_function = smooth)\n",
        "  except:\n",
        "    score3 = 0\n",
        " \n",
        "  try:                                                                # weights specified to calculate 4 gram score\n",
        "    score4 = sentence_bleu([sentence_reference], sentence_hypothesis, weights = (0.25, 0.25, 0.25, 0.25), smoothing_function = smooth)\n",
        "  except:\n",
        "    score4 = 0\n",
        "\n",
        "  \n",
        "  sen_score_cumulative_bleu_1.append(score1)                # append the sentence score for each Bleu\n",
        "  sen_score_cumulative_bleu_2.append(score2)\n",
        "  sen_score_cumulative_bleu_3.append(score3)\n",
        "  sen_score_cumulative_bleu_4.append(score4) \n",
        "\n",
        "# calculate the Corpus level Belu scores\n",
        "corpus_score_cumulative_bleu_1 = corpus_bleu(corpus_reference, corpus_hypothesis, weights = (1, 0, 0, 0), smoothing_function = smooth)\n",
        "corpus_score_cumulative_bleu_2 = corpus_bleu(corpus_reference, corpus_hypothesis, weights = (0.5, 0.5, 0, 0), smoothing_function = smooth)\n",
        "corpus_score_cumulative_bleu_3 = corpus_bleu(corpus_reference, corpus_hypothesis, weights = (0.33, 0.33, 0.33, 0), smoothing_function = smooth)\n",
        "corpus_score_cumulative_bleu_4 = corpus_bleu(corpus_reference, corpus_hypothesis, weights = (0.25, 0.25, 0.25, 0.25), smoothing_function = smooth)\n",
        "\n",
        "# convert the sentence level bleu scores to np.array -- easier to calculate the mean\n",
        "sen_score_cumulative_bleu_1 = np.array(sen_score_cumulative_bleu_1)\n",
        "sen_score_cumulative_bleu_2 = np.array(sen_score_cumulative_bleu_2)\n",
        "sen_score_cumulative_bleu_3 = np.array(sen_score_cumulative_bleu_3)\n",
        "sen_score_cumulative_bleu_4 = np.array(sen_score_cumulative_bleu_4)\n",
        "\n",
        "print(\"CORPUS Level Cumulative Bleu - Without Attention\")\n",
        "print(\"1-gram: \", round(corpus_score_cumulative_bleu_1, 6), \"\\t2-gram: \", round(corpus_score_cumulative_bleu_2, 6), \\\n",
        "      \"\\t3-gram: \", round(corpus_score_cumulative_bleu_3, 6), \"\\t4-gram: \", round(corpus_score_cumulative_bleu_4, 6))\n",
        "\n",
        "print(\"\\n\\nSENTENCE Level Cumulative Bleu - Without Attention\")\n",
        "print(\"1-gram: \", round(sen_score_cumulative_bleu_1.mean(), 6), \"\\t2-gram: \", round(sen_score_cumulative_bleu_2.mean(), 6), \\\n",
        "      \"\\t3-gram: \", round(sen_score_cumulative_bleu_3.mean(), 6), \"\\t4-gram: \", round(sen_score_cumulative_bleu_4.mean(), 6))\n",
        " "
      ],
      "execution_count": null,
      "outputs": [
        {
          "output_type": "stream",
          "text": [
            "CORPUS Level Cumulative Bleu - Without Attention\n",
            "1-gram:  0.308298 \t2-gram:  0.142385 \t3-gram:  0.07067 \t4-gram:  0.03297\n",
            "\n",
            "\n",
            "SENTENCE Level Cumulative Bleu - Without Attention\n",
            "1-gram:  0.2969 \t2-gram:  0.219046 \t3-gram:  0.183197 \t4-gram:  0.154625\n"
          ],
          "name": "stdout"
        }
      ]
    },
    {
      "cell_type": "markdown",
      "metadata": {
        "id": "IQNxhGKD9oFF"
      },
      "source": [
        "We can see that both the training and validation set accuracy has increased when using the attention model (~3% increase in both). But when evaluating using Bleu, the attention model performs worse than the original model. To get more accuracte results and arrive at a decision - we need more amount of data, as only using 10K sentences will perform much less than that which uses more data. More data given to LSTM, more the network would learn the internal representation and perform better."
      ]
    },
    {
      "cell_type": "markdown",
      "metadata": {
        "id": "Dd3yuqyZdkW5"
      },
      "source": [
        "References:\n",
        "---\n",
        "\n",
        "- https://www.nltk.org/_modules/nltk/translate/bleu_score.html\n",
        "- https://machinelearningmastery.com/calculate-bleu-score-for-text-python/\n",
        "- https://machinelearningmastery.com/timedistributed-layer-for-long-short-term-memory-networks-in-python/\n"
      ]
    }
  ]
}