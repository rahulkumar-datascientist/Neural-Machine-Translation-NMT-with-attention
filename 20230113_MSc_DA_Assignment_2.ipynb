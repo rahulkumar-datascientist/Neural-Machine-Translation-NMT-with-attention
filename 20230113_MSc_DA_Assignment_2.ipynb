{
  "nbformat": 4,
  "nbformat_minor": 0,
  "metadata": {
    "colab": {
      "name": "20230113_MSc_DA_Assignment_2.ipynb",
      "provenance": [],
      "collapsed_sections": [],
      "machine_shape": "hm",
      "include_colab_link": true
    },
    "kernelspec": {
      "display_name": "Python 3",
      "language": "python",
      "name": "python3"
    },
    "language_info": {
      "codemirror_mode": {
        "name": "ipython",
        "version": 3
      },
      "file_extension": ".py",
      "mimetype": "text/x-python",
      "name": "python",
      "nbconvert_exporter": "python",
      "pygments_lexer": "ipython3",
      "version": "3.8.3"
    },
    "accelerator": "TPU"
  },
  "cells": [
    {
      "cell_type": "markdown",
      "metadata": {
        "id": "view-in-github",
        "colab_type": "text"
      },
      "source": [
        "<a href=\"https://colab.research.google.com/github/rahulkumar-datascientist/Neural-Machine-Translation-NMT-with-attention/blob/main/20230113_MSc_DA_Assignment_2.ipynb\" target=\"_parent\"><img src=\"https://colab.research.google.com/assets/colab-badge.svg\" alt=\"Open In Colab\"/></a>"
      ]
    },
    {
      "cell_type": "markdown",
      "metadata": {
        "id": "BYQt0nUEbAgN"
      },
      "source": [
        "**Assignment 2** focuses on the training on a Neural Machine Translation (NMT) system with an attention model.\n",
        "\n",
        "This is an **individual assignment** and usual rules for plagiarism apply! With this you agree that: \"In submitting this work I confirm that it is entirely my own. I acknowledge that I may be invited to online interview if there is any concern in relation to the integrity of my exam.\" \n",
        "\n",
        "**Write comments and documentation.**\n",
        "\n"
      ]
    },
    {
      "cell_type": "markdown",
      "metadata": {
        "id": "edpSZ3reAGs1"
      },
      "source": [
        "## Mounting Drive and setting paths"
      ]
    },
    {
      "cell_type": "code",
      "metadata": {
        "colab": {
          "base_uri": "https://localhost:8080/"
        },
        "id": "Kdi-y9QtAYMY",
        "outputId": "0d15f6ac-0b34-4579-e9b0-6ad0983bcc6b"
      },
      "source": [
        "from google.colab import drive\n",
        "drive.mount('/content/drive')"
      ],
      "execution_count": 1,
      "outputs": [
        {
          "output_type": "stream",
          "text": [
            "Drive already mounted at /content/drive; to attempt to forcibly remount, call drive.mount(\"/content/drive\", force_remount=True).\n"
          ],
          "name": "stdout"
        }
      ]
    },
    {
      "cell_type": "code",
      "metadata": {
        "id": "EJSwrfddJyCX",
        "colab": {
          "base_uri": "https://localhost:8080/"
        },
        "outputId": "c93c8d2a-0642-40da-cffb-4acce8443e7f"
      },
      "source": [
        "#Changing the directory on file to access the files\n",
        "%cd /content/drive/MyDrive/Colab Notebooks/NUIG/NLP/Assignment 2"
      ],
      "execution_count": 2,
      "outputs": [
        {
          "output_type": "stream",
          "text": [
            "/content/drive/MyDrive/Colab Notebooks/NUIG/NLP/Assignment 2\n"
          ],
          "name": "stdout"
        }
      ]
    },
    {
      "cell_type": "markdown",
      "metadata": {
        "id": "d33hukl0w-Nh"
      },
      "source": [
        "## Section 1- Data Collection and Preprocessing \n",
        "\n",
        "\n",
        "---\n"
      ]
    },
    {
      "cell_type": "code",
      "metadata": {
        "id": "UDo8Z-Yi_L8b"
      },
      "source": [
        "# Loading necessary libraries\n",
        "\n",
        "import pandas as pd\n",
        "import numpy as np\n",
        "import keras\n",
        "import string\n",
        "import matplotlib.pyplot as plt\n",
        "from sklearn.model_selection import train_test_split\n",
        "from keras.layers import Input, LSTM, Embedding, Dense\n",
        "from keras.models import Model\n",
        "from keras.utils import plot_model\n",
        "from numpy import array\n",
        "from numpy import asarray\n",
        "from numpy import zeros\n",
        "import nltk\n",
        "from nltk import bigrams, trigrams, ngrams\n",
        "from keras.layers import Input, LSTM, GRU, Dense, Embedding\n",
        "from keras.preprocessing.text import Tokenizer\n",
        "from keras.preprocessing.sequence import pad_sequences\n",
        "from keras.layers import Input, LSTM, GRU, Dense, Embedding, Activation, dot, concatenate, TimeDistributed\n",
        "import io"
      ],
      "execution_count": 3,
      "outputs": []
    },
    {
      "cell_type": "markdown",
      "metadata": {
        "id": "uAFJXKQaeN-d"
      },
      "source": [
        "**Task 1  (5 marks)**\n",
        "\n",
        "---\n",
        "\n",
        "There are few datasets to train an NMT system available from the OPUS project (http://opus.nlpl.eu/).\n",
        "\n",
        "*  Download a language pair (preferably European language) and **extract** the file(s) and upload it to CoLab\n",
        "*  Create a list of lines by splitting the text file at every occurrence accordingly, i.e. source and target language\n",
        "*  Print number of sentences\n",
        "*  Limit the number of sentences to 10,000 lines (but more than 5,000 lines)\n",
        "*  Split the data into train, development and test set\n",
        "*  Print 100th sentence in original script for source and target language"
      ]
    },
    {
      "cell_type": "markdown",
      "metadata": {
        "id": "Z_N99HYlCFFc"
      },
      "source": [
        "\n",
        "---\n",
        "Language Selected: **English - Spanish**\n",
        "\n",
        "Source: https://opus.nlpl.eu/ \n",
        "\n",
        "**Corpus: Tatoeba v2021-03-10 -- en(English) - es(Spanish)** \n",
        "\n",
        "NOTE: Downloaded zip file from moses link -> extracted files and renamed them to **Tatoeba - english.txt** and **Tatoeba - spanish.txt** \n",
        "\n",
        "---"
      ]
    },
    {
      "cell_type": "code",
      "metadata": {
        "id": "dwBg6wTSEcg3"
      },
      "source": [
        "# SOURCE Language : list of lines\n",
        "with open(\"English - Dutch/english.txt\" , 'r', encoding='utf-8') as english_file:\n",
        "  source = english_file.read().split('\\n')         \n",
        "\n",
        "# TARGET Language : list of lines\n",
        "with open(\"English - Dutch/dutch.txt\" , 'r', encoding='utf-8') as dutch_file:\n",
        "  target = dutch_file.read().split('\\n')         "
      ],
      "execution_count": 4,
      "outputs": []
    },
    {
      "cell_type": "code",
      "metadata": {
        "id": "wIxhddYKZUam"
      },
      "source": [
        "# Filter source sentences which have max length < 10\n",
        "\n",
        "source_lines = []            # The SOURCE sentence at the index \n",
        "target_lines = []            # The TARGET sentence at the index\n",
        "\n",
        "# loop to append index'es \n",
        "for line in range(len(source)):\n",
        "\n",
        "  if(len(source[line].split()) > 0 and len(source[line].split()) < 10 and len(target[line].split()) > 0 and len(target[line].split()) < 10):\n",
        "    source_lines.append(source[line])\n",
        "    target_lines.append(target[line])\n",
        "    \n",
        "    # index.append(line)\n",
        "    if(len(source_lines) == 10000):    # Break if 10K sentences are acquired\n",
        "      break "
      ],
      "execution_count": 5,
      "outputs": []
    },
    {
      "cell_type": "code",
      "metadata": {
        "colab": {
          "base_uri": "https://localhost:8080/"
        },
        "id": "ZWU6XYDqY6qs",
        "outputId": "536bcd7c-6976-4065-8585-d79a532dbb63"
      },
      "source": [
        "# Original number of sentences in SOURCE and TARGET files \n",
        "print(\"Source (English): Total Number of Sentences:\", len(source))                        # 302437 sentences\n",
        "print(\"Target (Dutch): Total Number of Sentences:\", len(target))                        # 302437 sentences\n",
        "\n",
        "print(\"\\nSource (English): Filtered Number of Sentences:\", len(source_lines))             # 10000 sentences                       \n",
        "print(\"Target (Dutch): Filtered Number of Sentences:\", len(target_lines))               # 10000 sentences\n",
        "\n",
        "# Print 100th sentence in original SOURCE and TARGET files\n",
        "print(\"\\nSource (English): 100th Sentence: \", source_lines[99])\n",
        "print(\"Target (Dutch): 100th Sentence: \", target_lines[99])"
      ],
      "execution_count": 6,
      "outputs": [
        {
          "output_type": "stream",
          "text": [
            "Source (English): Total Number of Sentences: 74058\n",
            "Target (Dutch): Total Number of Sentences: 74058\n",
            "\n",
            "Source (English): Filtered Number of Sentences: 10000\n",
            "Target (Dutch): Filtered Number of Sentences: 10000\n",
            "\n",
            "Source (English): 100th Sentence:  Thanks for your explanation. \n",
            "Target (Dutch): 100th Sentence:  Bedankt voor de uitleg. \n"
          ],
          "name": "stdout"
        }
      ]
    },
    {
      "cell_type": "markdown",
      "metadata": {
        "id": "XHECLqIDBowC"
      },
      "source": [
        "**NOTE**: I have performed Train-Test-validation spilt in next section after all the text pre-processing"
      ]
    },
    {
      "cell_type": "markdown",
      "metadata": {
        "id": "x63IEWjUxkJj"
      },
      "source": [
        "---\n",
        "**Task 2 (5 marks)** \n",
        "\n",
        "---\n",
        "\n",
        "* Add '<bof\\>' to denote beginning of sentence and '<eos\\>' to denote the end of the sentence to each target line.\n",
        "* Perform the pre-processing step of the text.\n",
        "* Print the last 5 sentences of the preprocessed text.\n",
        "* Print statistics on the selected dataset:\n",
        "  * Number of samples\n",
        "  * Number of unique source language tokens\n",
        "  * Number of unique target language tokens\n",
        "  * Max sequence length of source language\n",
        "  * Max sequence length of target language\n",
        "  * Source Vocabulary\n",
        "  * Target Vocabulary\n",
        "\n",
        "\n",
        "\n"
      ]
    },
    {
      "cell_type": "code",
      "metadata": {
        "id": "DKWLu6vwXTV1"
      },
      "source": [
        "# PREPROCESSING - function to remove punctuation characters and digits '''\"!-+.?$%,:;_*/\\\\^|~`{}#@&()='''\n",
        "def punctuations(sentence):\n",
        "  punct_chars =  '''!\"@€#$%&'()*+,-./:;<=>?@[\\]^_`{|}~„''' + string.digits\n",
        "\n",
        "  # remove punctuation from the string\n",
        "  no_punct = \"\"\n",
        "  for char in sentence:\n",
        "    if char not in punct_chars:\n",
        "      no_punct = no_punct + char\n",
        "  \n",
        "  return(no_punct)"
      ],
      "execution_count": 7,
      "outputs": []
    },
    {
      "cell_type": "code",
      "metadata": {
        "id": "KtpvTTIcifPI"
      },
      "source": [
        "# Defining the SOURCE & TARGET sets to store the vocabulary of complete dataset\n",
        "source_vocab = set()\n",
        "target_vocab = set()\n",
        "\n",
        "# Pre-processing the SOURCE and TARGET sentences for the original lines\n",
        "# Converting to lowercase and removing leading and trailing whitespaces\n",
        "source_lines = [line.lower().strip() for line in source_lines]\n",
        "target_lines = [line.lower().strip() for line in target_lines]\n",
        "\n",
        "# removing punctuations\n",
        "source_lines = [punctuations(line) for line in source_lines]\n",
        "target_lines = [punctuations(line) for line in target_lines]\n",
        "\n",
        "# Adding '<bof>' to denote beginning of sentence and '<eos>' to denote the end of the sentence to each target line.\n",
        "target_lines = ['<bof> ' + target + ' <eos>' for target in target_lines]\n",
        "\n",
        "# creating the vocab set for SOURCE\n",
        "for line in source_lines:\n",
        "  words_per_line = line.split()\n",
        "  for word in words_per_line:\n",
        "    if word not in source_vocab:\n",
        "      source_vocab.add(word)\n",
        "\n",
        "# creating the vocab set for TARGET\n",
        "for line in target_lines:\n",
        "  words_per_line = line.split()\n",
        "  for word in words_per_line:\n",
        "    if word not in target_vocab:\n",
        "      target_vocab.add(word)"
      ],
      "execution_count": 8,
      "outputs": []
    },
    {
      "cell_type": "code",
      "metadata": {
        "colab": {
          "base_uri": "https://localhost:8080/"
        },
        "id": "3-tI3AMWvKiK",
        "outputId": "3f7019d5-a3b6-4b59-d7ab-48ec7123f0a3"
      },
      "source": [
        "# Last 5 sentences after preprocessing\n",
        "# SOURCE lines\n",
        "print(\"Last 5 sentences from preprocessed SOURCE - English\")\n",
        "i = 4\n",
        "for line in source_lines[-5:]:\n",
        "  print(\"sentence \", len(source_lines)-i, \": \", line)\n",
        "  i-=1\n",
        "\n",
        "# TARGET lines\n",
        "print(\"\\nLast 5 sentences from preprocessed TARGET - Dutch\")\n",
        "i = 4\n",
        "for line in target_lines[-5:]:\n",
        "  print(\"sentence \", len(target_lines)-i, \": \", line)\n",
        "  i-=1 "
      ],
      "execution_count": 9,
      "outputs": [
        {
          "output_type": "stream",
          "text": [
            "Last 5 sentences from preprocessed SOURCE - English\n",
            "sentence  9996 :  im from tokyo\n",
            "sentence  9997 :  i took it for granted that she would come\n",
            "sentence  9998 :  i tried to escape\n",
            "sentence  9999 :  i am reading a book about animals\n",
            "sentence  10000 :  i went to the zoo\n",
            "\n",
            "Last 5 sentences from preprocessed TARGET - Dutch\n",
            "sentence  9996 :  <bof> ik kom uit tokio <eos>\n",
            "sentence  9997 :  <bof> voor mij was het vanzelfsprekend dat zij zou komen <eos>\n",
            "sentence  9998 :  <bof> ik probeerde te ontsnappen <eos>\n",
            "sentence  9999 :  <bof> ik lees een boek over dieren <eos>\n",
            "sentence  10000 :  <bof> ik ging naar de dierentuin <eos>\n"
          ],
          "name": "stdout"
        }
      ]
    },
    {
      "cell_type": "code",
      "metadata": {
        "id": "nUBiQSX81-wY",
        "colab": {
          "base_uri": "https://localhost:8080/"
        },
        "outputId": "a5cc2890-74e6-4955-e064-66a4f4d64990"
      },
      "source": [
        "# Statistics of the dataset -- Reference Lab 8\n",
        "# SOURCE and TARGET vocabulary as sorted list \n",
        "source_vocab = sorted(list(source_vocab))            \n",
        "target_vocab = sorted(list(target_vocab))\n",
        "\n",
        "# Number of Encoder and Decoder tokens\n",
        "len_source_vocab = len(source_vocab)+1                # 2613 tokens\n",
        "len_target_vocab = len(target_vocab)+1                # 3280 tokens\n",
        "\n",
        "# Max sequence length for Encoder and Decoder\n",
        "max_seq_len_source = max([len(line.split()) for line in source_lines])      # 18\n",
        "max_seq_len_target = max([len(line.split()) for line in target_lines])      # 30\n",
        "\n",
        "print('Number of samples\\t\\t\\t:', len(source_lines))\n",
        "print('Number of unique SOURCE language tokens\\t:', len_source_vocab)\n",
        "print('Number of unique TARGET language tokens\\t:', len_target_vocab)\n",
        "print('Max sequence length of SOURCE language\\t:', max_seq_len_source)\n",
        "print('Max sequence length of TARGET language\\t:', max_seq_len_target)\n",
        "print(\"Source Vocabulary\\t\\t\\t:\",source_vocab)\n",
        "print(\"Target Vocabulary\\t\\t\\t:\",target_vocab)"
      ],
      "execution_count": 10,
      "outputs": [
        {
          "output_type": "stream",
          "text": [
            "Number of samples\t\t\t: 10000\n",
            "Number of unique SOURCE language tokens\t: 4499\n",
            "Number of unique TARGET language tokens\t: 5685\n",
            "Max sequence length of SOURCE language\t: 9\n",
            "Max sequence length of TARGET language\t: 11\n",
            "Source Vocabulary\t\t\t: ['a', 'abandon', 'abbreviation', 'abc', 'able', 'abnormal', 'abnormality', 'aboard', 'abolish', 'abolished', 'abortions', 'abound', 'abounds', 'about', 'above', 'abraham', 'abroad', 'absence', 'absent', 'absented', 'absolutely', 'absolves', 'absorbs', 'absurd', 'abused', 'accelerate', 'accept', 'acceptable', 'accepted', 'accepting', 'access', 'accessible', 'accident', 'accidents', 'accompanied', 'accompany', 'accord', 'according', 'account', 'accounts', 'accurate', 'accused', 'accustomed', 'ache', 'achieved', 'acid', 'acquaintance', 'acquainted', 'acquired', 'across', 'act', 'acted', 'action', 'actions', 'active', 'activity', 'actor', 'actress', 'acts', 'actually', 'adapted', 'add', 'addict', 'addition', 'address', 'adds', 'adequate', 'adhered', 'adjacent', 'adjoins', 'admire', 'admirers', 'adolescents', 'adore', 'adulterated', 'advance', 'advantage', 'advice', 'advised', 'affair', 'affected', 'afford', 'afraid', 'africa', 'after', 'afternoon', 'again', 'against', 'age', 'agency', 'agent', 'ages', 'aggravate', 'aggressive', 'ago', 'agony', 'agree', 'agreed', 'ah', 'ahead', 'ahhh', 'aid', 'aids', 'aimed', 'aint', 'air', 'airlines', 'airplane', 'airport', 'airship', 'akiko', 'akin', 'alarm', 'alaska', 'album', 'alcohol', 'alex', 'alice', 'aliens', 'alike', 'alive', 'all', 'allen', 'allergic', 'allergy', 'alley', 'alliance', 'allied', 'allow', 'allowed', 'almost', 'aloft', 'alone', 'along', 'alphabet', 'alps', 'already', 'also', 'alternative', 'although', 'always', 'am', 'amazed', 'amazing', 'ambulance', 'amend', 'amended', 'america', 'american', 'americans', 'among', 'amount', 'amounted', 'amplifier', 'amused', 'an', 'ancient', 'and', 'andy', 'angel', 'angeles', 'anger', 'angola', 'angry', 'animal', 'animals', 'ann', 'anne', 'announced', 'announcer', 'announcers', 'annoyed', 'another', 'answer', 'answered', 'answers', 'anthony', 'antigua', 'antique', 'anxious', 'any', 'anybody', 'anyhow', 'anymore', 'anyone', 'anything', 'anyway', 'anywhere', 'apartment', 'apologize', 'appeal', 'appear', 'appearance', 'appearances', 'appeared', 'appears', 'appeased', 'appetite', 'applauded', 'apple', 'apples', 'applicants', 'application', 'applied', 'apply', 'appointed', 'appointment', 'appreciates', 'appreciation', 'apr', 'april', 'archer', 'arctic', 'are', 'area', 'arent', 'argh', 'argued', 'argument', 'arithmetic', 'arizona', 'arm', 'armies', 'arms', 'army', 'arnie', 'arose', 'around', 'arrested', 'arrive', 'arrived', 'arriving', 'arrogant', 'arrow', 'art', 'article', 'articles', 'artificial', 'artist', 'artists', 'as', 'ascertain', 'ash', 'ashamed', 'ashes', 'asia', 'aside', 'ask', 'asked', 'asking', 'asks', 'asleep', 'asphalt', 'aspirin', 'assistant', 'associate', 'astronomy', 'astrophysicist', 'at', 'ate', 'athletic', 'atmosphere', 'atomic', 'attach', 'attached', 'attack', 'attacked', 'attempted', 'attempts', 'attend', 'attended', 'attention', 'attract', 'attractive', 'audacity', 'audience', 'aunt', 'aunts', 'australia', 'australians', 'austria', 'author', 'autographs', 'automatic', 'automatically', 'automobile', 'automobiles', 'autumn', 'available', 'average', 'avoid', 'awaited', 'awaiting', 'awake', 'away', 'awful', 'awfully', 'awkward', 'azaleas', 'b', 'baby', 'back', 'background', 'backhand', 'backs', 'bad', 'badly', 'bag', 'baggage', 'bags', 'baker', 'bakers', 'bakes', 'balcony', 'ball', 'balloon', 'ballot', 'balloted', 'balls', 'bamboo', 'banana', 'bananas', 'band', 'banished', 'bank', 'bankrupt', 'banks', 'baptize', 'barber', 'barbershop', 'bargain', 'barked', 'barking', 'barks', 'barometer', 'base', 'baseball', 'based', 'basket', 'basketball', 'bat', 'bath', 'bathe', 'bathed', 'bathroom', 'bathwater', 'bats', 'battery', 'battle', 'battled', 'be', 'beach', 'beamed', 'beans', 'bear', 'beard', 'bearing', 'bears', 'beasts', 'beat', 'beautiful', 'beauty', 'became', 'because', 'become', 'becomes', 'becoming', 'bed', 'beef', 'been', 'beer', 'beers', 'bees', 'before', 'beg', 'began', 'beggar', 'begin', 'beginners', 'beginning', 'begins', 'begun', 'behave', 'behavior', 'behind', 'being', 'beings', 'belgium', 'belief', 'believe', 'believed', 'believer', 'believes', 'bell', 'bells', 'belong', 'belongs', 'below', 'belt', 'ben', 'bench', 'beneath', 'beneficial', 'bern', 'beside', 'best', 'betray', 'betrayed', 'better', 'betty', 'between', 'beware', 'beyond', 'bible', 'bicycle', 'big', 'bigger', 'biggest', 'bike', 'bikinis', 'bill', 'billion', 'billions', 'bills', 'bin', 'binds', 'biochemistry', 'biology', 'bird', 'birds', 'birth', 'birthday', 'births', 'bit', 'bite', 'biting', 'bitter', 'black', 'blame', 'blames', 'blanket', 'blankets', 'bleeding', 'blessed', 'blew', 'blind', 'blizzards', 'blocks', 'blondes', 'blood', 'bloody', 'bloom', 'blossoms', 'blouse', 'blowing', 'blue', 'blurred', 'board', 'boarding', 'boast', 'boastful', 'boat', 'boats', 'bob', 'body', 'boil', 'boiled', 'boiling', 'boils', 'bombed', 'bombs', 'bone', 'bones', 'book', 'booked', 'bookkeeping', 'books', 'bookstore', 'bookworm', 'boots', 'borders', 'bored', 'bores', 'boring', 'born', 'borrow', 'borrowed', 'boss', 'boston', 'both', 'bother', 'bothering', 'bottle', 'bottles', 'bottom', 'bottoms', 'bought', 'bound', 'bounded', 'bowl', 'box', 'boxing', 'boy', 'boyfriend', 'boyish', 'boys', 'brake', 'brakes', 'branch', 'branches', 'brand', 'branded', 'brasilia', 'brave', 'brazil', 'bread', 'break', 'breakfast', 'breaking', 'breaks', 'breath', 'breathe', 'breed', 'brian', 'bride', 'bridge', 'brief', 'bright', 'brightened', 'brightly', 'brilliant', 'bring', 'brink', 'britain', 'british', 'broad', 'broke', 'broken', 'brother', 'brothers', 'brought', 'brown', 'bucket', 'buckets', 'buddhist', 'buffalo', 'building', 'buildings', 'builds', 'built', 'bull', 'bullets', 'bunches', 'bundle', 'bunny', 'buoyant', 'burglar', 'burglars', 'buried', 'buries', 'burn', 'burns', 'burnt', 'burst', 'bury', 'bus', 'buses', 'bush', 'business', 'busy', 'but', 'butter', 'butterflies', 'butterfly', 'button', 'buttons', 'buy', 'buyer', 'buys', 'by', 'c', 'cabinet', 'cage', 'cake', 'cakes', 'calculated', 'calculator', 'call', 'called', 'calling', 'calls', 'calm', 'calmed', 'came', 'camera', 'cameras', 'camp', 'camping', 'can', 'canada', 'cancel', 'canceled', 'cancelled', 'cancer', 'candidate', 'candlelight', 'candles', 'candy', 'cannot', 'cant', 'cap', 'capable', 'capacity', 'capital', 'capitals', 'capsized', 'captain', 'car', 'card', 'cards', 'care', 'career', 'careful', 'carefully', 'careless', 'carelessly', 'carelessness', 'cares', 'carl', 'carlos', 'carol', 'carpenter', 'carpet', 'carpets', 'carried', 'carries', 'carrots', 'carry', 'carrying', 'cars', 'case', 'cash', 'castle', 'castles', 'cat', 'catch', 'catches', 'catching', 'cathedral', 'catholic', 'catholics', 'cats', 'caught', 'cause', 'caused', 'causing', 'cave', 'caviar', 'cd', 'cds', 'ceiling', 'cellar', 'celsius', 'cemetery', 'center', 'centigrade', 'centimeter', 'cents', 'ceremony', 'certain', 'chained', 'chair', 'chairs', 'chalk', 'challenge', 'chance', 'chances', 'change', 'changed', 'changes', 'changing', 'channel', 'chapter', 'characters', 'charge', 'charged', 'charles', 'charming', 'cheap', 'cheaper', 'cheapest', 'cheating', 'check', 'checkin', 'checkout', 'checkup', 'cheeks', 'cheer', 'cheers', 'cheese', 'chemistry', 'cherry', 'chess', 'chest', 'chew', 'chicago', 'chicken', 'child', 'childhood', 'childish', 'children', 'chimney', 'china', 'chinese', 'chirping', 'chocolate', 'choice', 'cholera', 'choose', 'chopin', 'chopsticks', 'chose', 'christ', 'christianity', 'christians', 'christmas', 'church', 'cigarette', 'cigarettes', 'cinema', 'circle', 'cities', 'citizen', 'city', 'cityscapes', 'civilize', 'civilized', 'claim', 'clapped', 'class', 'classes', 'classical', 'classify', 'classmates', 'classroom', 'claus', 'clean', 'cleaned', 'clear', 'clearing', 'clearly', 'cliff', 'climate', 'climb', 'climbed', 'climbing', 'clobbered', 'clock', 'close', 'closed', 'closely', 'cloth', 'clothes', 'clothing', 'cloud', 'cloudless', 'clouds', 'cloudy', 'clover', 'club', 'clubs', 'clue', 'clung', 'coal', 'coat', 'cocoa', 'cocoons', 'coffee', 'coffees', 'coin', 'coincidence', 'coins', 'coke', 'cold', 'colder', 'colds', 'collapse', 'collapsed', 'colleagues', 'collect', 'collecting', 'collects', 'college', 'colony', 'color', 'columbus', 'comb', 'combination', 'come', 'comedies', 'comes', 'comfortable', 'coming', 'commissioner', 'commit', 'committed', 'committee', 'committees', 'common', 'communicate', 'communication', 'communist', 'company', 'compare', 'compared', 'competed', 'complain', 'complete', 'completely', 'complex', 'complicated', 'composer', 'composers', 'composition', 'comprehension', 'compute', 'computer', 'computers', 'concentrate', 'concern', 'concert', 'condition', 'conditioner', 'conditioning', 'conditions', 'condom', 'conduct', 'confidence', 'confirm', 'confucius', 'confuse', 'congratulate', 'congratulations', 'conquer', 'conquering', 'consciousness', 'consecutive', 'consent', 'consequence', 'conservative', 'consider', 'considerably', 'consideration', 'considered', 'consistent', 'consists', 'constant', 'constantly', 'constitution', 'constructed', 'construction', 'consumed', 'consumes', 'contact', 'contain', 'contained', 'contains', 'contamination', 'content', 'context', 'continent', 'continue', 'continued', 'continuous', 'continuously', 'contract', 'contrary', 'control', 'convenient', 'conversation', 'convey', 'convinced', 'convulsions', 'cook', 'cooked', 'cookies', 'cooking', 'cool', 'cooperation', 'copies', 'copper', 'copy', 'corner', 'corns', 'correct', 'corrected', 'correspond', 'corresponded', 'corresponds', 'cost', 'costs', 'cottages', 'cotton', 'cough', 'could', 'couldnt', 'couldve', 'count', 'counted', 'counter', 'counting', 'countries', 'country', 'couple', 'courage', 'course', 'cousin', 'cousins', 'cover', 'covered', 'cow', 'cows', 'crack', 'crafty', 'cranes', 'crash', 'crashed', 'crawl', 'crawling', 'crazies', 'crazy', 'cream', 'creams', 'create', 'creationism', 'creature', 'credit', 'creep', 'crew', 'cried', 'crime', 'crisis', 'criticism', 'criticize', 'criticizing', 'crooked', 'crops', 'crossed', 'crossroad', 'crow', 'crowd', 'cry', 'crying', 'cubic', 'cucumber', 'culture', 'cultures', 'cup', 'cupboard', 'cups', 'cure', 'cured', 'curie', 'curiosity', 'curious', 'current', 'curriculum', 'curry', 'curtain', 'curtis', 'customers', 'customs', 'cut', 'cute', 'cuter', 'cuts', 'cutting', 'cycle', 'dad', 'daddy', 'daily', 'dam', 'damage', 'damn', 'damon', 'damp', 'dance', 'dancer', 'dancing', 'danes', 'danger', 'dangerous', 'dare', 'dared', 'dark', 'darker', 'darling', 'date', 'dated', 'daughter', 'daughters', 'dawn', 'day', 'days', 'dead', 'deadend', 'deaf', 'deal', 'deals', 'dear', 'death', 'deaths', 'debt', 'debts', 'deceived', 'december', 'decided', 'decision', 'deck', 'declare', 'declared', 'declined', 'declining', 'decorated', 'deep', 'deeply', 'deer', 'defeated', 'defense', 'define', 'definitely', 'degas', 'degrees', 'delete', 'delicious', 'deliver', 'delivered', 'deluge', 'deluged', 'demand', 'demanded', 'demands', 'democracy', 'democratic', 'demonstration', 'den', 'denied', 'denmark', 'dentist', 'departed', 'department', 'depend', 'depends', 'deposit', 'depressed', 'depth', 'derailed', 'derived', 'descended', 'describe', 'described', 'description', 'desert', 'deserve', 'deserves', 'designed', 'desire', 'desired', 'desk', 'despair', 'despise', 'dessert', 'destroyed', 'detail', 'detected', 'detective', 'detroit', 'develop', 'developed', 'dew', 'dial', 'diamond', 'diarrhea', 'diary', 'dick', 'dictionaries', 'dictionary', 'did', 'didnt', 'die', 'died', 'diego', 'dies', 'diet', 'difference', 'different', 'differs', 'difficult', 'difficulties', 'difficulty', 'digest', 'digging', 'diligent', 'diminishing', 'dinner', 'dinosaurs', 'diplomat', 'diplomatic', 'direct', 'direction', 'dirt', 'dirty', 'disagree', 'disappear', 'disappeared', 'disappearing', 'disappointed', 'disappoints', 'disaster', 'discipline', 'disco', 'discovered', 'discuss', 'discussed', 'discussing', 'discussion', 'disease', 'disgusting', 'dish', 'dishes', 'dislike', 'disneyland', 'disposal', 'dispute', 'disputed', 'disputes', 'dissolve', 'dissolves', 'distance', 'distant', 'distinguish', 'disturbed', 'dived', 'divide', 'divided', 'divorce', 'do', 'doctor', 'doctors', 'document', 'does', 'doesnt', 'dog', 'dogs', 'doing', 'doll', 'dollar', 'dollars', 'dolls', 'dolphin', 'done', 'dont', 'door', 'doors', 'double', 'doubt', 'doubtful', 'dove', 'down', 'downs', 'downtown', 'dozen', 'dozens', 'dr', 'drain', 'drama', 'dramatic', 'drank', 'drastically', 'draw', 'drawer', 'drawers', 'draws', 'dreadful', 'dream', 'dreamed', 'dreams', 'dreamt', 'dress', 'dressed', 'dressing', 'drift', 'drill', 'drink', 'drinking', 'drinks', 'drive', 'driver', 'drivers', 'drives', 'driving', 'drop', 'dropped', 'drove', 'drowned', 'drowning', 'drugs', 'drugstore', 'drunk', 'dry', 'drying', 'due', 'duke', 'durable', 'during', 'dust', 'dutch', 'duty', 'dying', 'each', 'ear', 'earlier', 'early', 'ears', 'earth', 'earthquake', 'earthquakes', 'earths', 'easier', 'easily', 'east', 'easter', 'easy', 'eat', 'eaten', 'eating', 'eats', 'echoed', 'eclipse', 'economically', 'economy', 'ecuador', 'edgar', 'edison', 'edition', 'editor', 'editorial', 'educated', 'education', 'edward', 'effect', 'effects', 'effort', 'efforts', 'egg', 'eggs', 'egypt', 'eight', 'eighteen', 'eighth', 'eightthirty', 'eighty', 'either', 'elected', 'electric', 'electrical', 'electricity', 'elementary', 'elephants', 'elevator', 'elevators', 'eleven', 'elizabeth', 'ellen', 'else', 'email', 'embarrassed', 'embarrassing', 'emerged', 'emi', 'emotions', 'empire', 'empty', 'encyclopedia', 'end', 'ended', 'ends', 'endure', 'enemy', 'energy', 'engaged', 'engagement', 'engine', 'engineer', 'england', 'english', 'englishman', 'englishmen', 'enhances', 'enjoy', 'enjoyed', 'enormous', 'enough', 'enter', 'entered', 'entering', 'entertain', 'entertaining', 'entire', 'environment', 'environmental', 'envy', 'equal', 'equator', 'equipment', 'equipped', 'era', 'erase', 'eric', 'error', 'errors', 'eruption', 'escape', 'escaped', 'escaping', 'especially', 'essential', 'established', 'estimate', 'estimated', 'etc', 'europe', 'european', 'europeans', 'evans', 'eve', 'even', 'evening', 'events', 'eventually', 'ever', 'every', 'everybody', 'everyone', 'everything', 'everythings', 'everywhere', 'evil', 'exact', 'exacted', 'exactly', 'exam', 'examination', 'examined', 'example', 'examples', 'exams', 'exceeded', 'excel', 'excellent', 'except', 'exception', 'exchange', 'exchanged', 'exciting', 'excuse', 'excuses', 'executives', 'exercise', 'exhausted', 'exhibition', 'exist', 'existence', 'exists', 'expect', 'expected', 'expecting', 'expects', 'expense', 'expenses', 'expensive', 'experience', 'experiment', 'expire', 'explain', 'explained', 'explanation', 'exports', 'express', 'extinct', 'extraordinary', 'extreme', 'extremely', 'eye', 'eyes', 'fabre', 'face', 'faces', 'facing', 'fact', 'factories', 'factory', 'facts', 'fail', 'failed', 'fails', 'failure', 'faint', 'fainted', 'faintest', 'fair', 'fairly', 'faking', 'fall', 'fallen', 'falling', 'falls', 'false', 'fame', 'familiar', 'families', 'family', 'famine', 'famous', 'fan', 'fantasy', 'far', 'fare', 'farewell', 'farm', 'farmer', 'farther', 'fascinating', 'fashion', 'fast', 'fasten', 'faster', 'fastest', 'fat', 'fatal', 'fate', 'father', 'fathers', 'fatigue', 'fault', 'faults', 'favor', 'favorite', 'favour', 'favourite', 'fear', 'fears', 'feathers', 'features', 'february', 'fed', 'feel', 'feeling', 'feelings', 'feels', 'feet', 'fell', 'felt', 'fence', 'festival', 'festivals', 'feuerbach', 'fever', 'few', 'fewer', 'fiber', 'fiction', 'fictitious', 'field', 'fifth', 'fifty', 'fighting', 'figurative', 'file', 'filipino', 'fill', 'filled', 'film', 'films', 'finally', 'financial', 'find', 'finding', 'finds', 'fine', 'finish', 'finished', 'finland', 'fire', 'fired', 'firefighter', 'fires', 'fireworks', 'firm', 'first', 'firstyear', 'fish', 'fishing', 'fit', 'five', 'fix', 'fixed', 'fixing', 'flag', 'flags', 'flat', 'flavor', 'flesh', 'flew', 'flexible', 'flies', 'flight', 'floated', 'flock', 'flood', 'floor', 'floors', 'florence', 'florida', 'flour', 'flower', 'flowers', 'flows', 'flu', 'fluctuates', 'fluent', 'fluently', 'fly', 'flying', 'focus', 'fog', 'folded', 'folder', 'follow', 'followed', 'follows', 'fond', 'food', 'foods', 'fool', 'foolish', 'foot', 'football', 'footsteps', 'for', 'forbidden', 'forced', 'forearmed', 'foreign', 'foreigner', 'foreigners', 'foresee', 'forest', 'forever', 'forewarned', 'forget', 'forgetting', 'forgive', 'forgot', 'forgotten', 'fork', 'forks', 'form', 'formal', 'formality', 'former', 'formulas', 'fortunate', 'fortunately', 'fortune', 'forty', 'forums', 'forward', 'fought', 'foul', 'found', 'four', 'fourleaf', 'fourth', 'fox', 'fragrance', 'france', 'francisco', 'frank', 'fred', 'free', 'freedom', 'freeman', 'freeze', 'freezes', 'french', 'frequently', 'fresh', 'friday', 'friend', 'friendly', 'friends', 'friendship', 'frightened', 'frightens', 'frog', 'frogs', 'from', 'front', 'frowned', 'froze', 'frozen', 'fruit', 'fuckin', 'fuel', 'fuji', 'fukuoka', 'full', 'fun', 'function', 'funny', 'furniture', 'further', 'fuss', 'future', 'gained', 'gains', 'galaxies', 'galaxy', 'gallery', 'game', 'games', 'garden', 'gardeners', 'gardening', 'gardens', 'garlic', 'garments', 'gas', 'gases', 'gasoline', 'gate', 'gather', 'gathering', 'gave', 'general', 'generally', 'geneva', 'genuine', 'george', 'georges', 'georgia', 'german', 'germans', 'germany', 'get', 'gets', 'getting', 'ghosts', 'giant', 'giants', 'gift', 'gifu', 'girl', 'girlfriend', 'girlfriends', 'girls', 'give', 'given', 'gives', 'giving', 'glad', 'gladly', 'glance', 'glass', 'glasses', 'glitters', 'glowing', 'go', 'goal', 'god', 'goes', 'going', 'gold', 'golden', 'golf', 'gone', 'gonna', 'good', 'goodbye', 'goodbyes', 'goods', 'gorgeous', 'got', 'gotten', 'governed', 'government', 'grace', 'grades', 'gradually', 'graham', 'grain', 'grammar', 'grammatically', 'grandfather', 'grandfathers', 'grandmother', 'granted', 'grapes', 'grass', 'grateful', 'gratifies', 'gravity', 'gray', 'great', 'greatest', 'greatly', 'greek', 'green', 'greene', 'greenland', 'grew', 'gripped', 'grooming', 'ground', 'grounds', 'group', 'grow', 'growing', 'grownup', 'grownups', 'grows', 'growth', 'grumbling', 'guardian', 'guess', 'guessed', 'guest', 'guests', 'guide', 'guidebooks', 'guilty', 'guitar', 'gulf', 'gum', 'gun', 'gunpowder', 'gusts', 'guts', 'guy', 'guys', 'gym', 'habits', 'had', 'hadnt', 'hair', 'haircut', 'hakone', 'half', 'hall', 'halloween', 'halves', 'ham', 'hamburger', 'hamburgers', 'hamlet', 'hanako', 'hand', 'handkerchief', 'handkerchiefs', 'handle', 'handled', 'handles', 'hands', 'handwriting', 'hang', 'hanging', 'hangover', 'hangs', 'happen', 'happened', 'happening', 'happens', 'happier', 'happiest', 'happily', 'happiness', 'happy', 'harajuku', 'harbor', 'hard', 'harder', 'hardest', 'hardly', 'hardware', 'hardworking', 'harm', 'harmful', 'harmless', 'harmony', 'harsh', 'harvest', 'has', 'hashimoto', 'haste', 'hastened', 'hasty', 'hat', 'hate', 'hatred', 'haunted', 'have', 'havent', 'having', 'hawaii', 'hay', 'he', 'head', 'headache', 'headed', 'healed', 'health', 'healthy', 'heap', 'hear', 'heard', 'hearing', 'heart', 'heat', 'heated', 'heating', 'heaven', 'heavens', 'heavier', 'heavy', 'hebrew', 'height', 'heir', 'held', 'helen', 'helens', 'hell', 'hello', 'help', 'helped', 'helps', 'hen', 'henry', 'henrys', 'her', 'here', 'hereditary', 'heres', 'hero', 'heroine', 'hers', 'herself', 'hes', 'hesitate', 'hey', 'hi', 'hid', 'hidden', 'hide', 'hideous', 'hiding', 'high', 'higher', 'highly', 'hikers', 'hill', 'hills', 'hilton', 'him', 'himself', 'hire', 'hiroko', 'hiromi', 'hiroshi', 'hiroshima', 'his', 'hisashi', 'historic', 'history', 'hit', 'hitler', 'hitomi', 'hobbies', 'hobby', 'hobson', 'hockey', 'hokkaido', 'hold', 'holding', 'holds', 'hole', 'holiday', 'holidays', 'hollow', 'holy', 'home', 'homesick', 'homework', 'homophones', 'honest', 'honesty', 'honey', 'hong', 'honor', 'hope', 'hopes', 'hoping', 'hopkins', 'horizon', 'horns', 'horror', 'horse', 'horses', 'hospital', 'hospitality', 'hospitalized', 'hostel', 'hostile', 'hot', 'hotel', 'hotels', 'hottest', 'hour', 'hours', 'house', 'houses', 'housewife', 'housework', 'how', 'however', 'howling', 'hows', 'huge', 'human', 'humanity', 'humid', 'hundred', 'hundreds', 'hung', 'hungary', 'hunger', 'hungry', 'hurried', 'hurry', 'hurt', 'hurts', 'husband', 'hysterical', 'i', 'ice', 'iceland', 'id', 'idea', 'ideas', 'idle', 'if', 'ignorance', 'ii', 'ill', 'illness', 'im', 'image', 'imaginary', 'imagination', 'imitate', 'immediate', 'immediately', 'immigrants', 'immune', 'impatient', 'import', 'importance', 'important', 'imports', 'impossible', 'impressed', 'impression', 'improve', 'improved', 'in', 'inca', 'incapable', 'incident', 'include', 'includes', 'incomplete', 'incorrect', 'increase', 'increased', 'increasing', 'incredible', 'indeed', 'independence', 'independent', 'india', 'indifferent', 'indispensable', 'indonesia', 'indoors', 'industrial', 'industrialization', 'industrialized', 'industry', 'inexpensive', 'infamous', 'infancy', 'infinite', 'inflation', 'inflected', 'influence', 'influenced', 'information', 'informed', 'ingenious', 'inherited', 'injured', 'ink', 'innocence', 'innocent', 'innumerable', 'insanely', 'insects', 'inseparable', 'inside', 'insists', 'inspiration', 'inspired', 'instead', 'instructions', 'instructor', 'insurance', 'intelligent', 'intend', 'intended', 'intention', 'intentionally', 'interest', 'interested', 'interesting', 'international', 'interpreted', 'interrupt', 'interview', 'into', 'intrigue', 'intriguing', 'introduce', 'introduced', 'intruder', 'invaded', 'invented', 'invention', 'inventor', 'investigating', 'invisible', 'invitation', 'invited', 'involuntarily', 'involve', 'involved', 'iran', 'ireland', 'iris', 'iron', 'ironed', 'irregular', 'irresistible', 'irritated', 'is', 'island', 'islands', 'isnt', 'isolated', 'issued', 'it', 'italian', 'italy', 'itll', 'ito', 'its', 'itself', 'ive', 'jack', 'jacket', 'jacks', 'jakarta', 'jam', 'jane', 'janes', 'january', 'japan', 'japanese', 'jay', 'jazz', 'jealousy', 'jean', 'jeff', 'jesus', 'jet', 'jiffy', 'jill', 'jim', 'jimmy', 'jims', 'joan', 'job', 'jobs', 'joel', 'jogging', 'john', 'johnnie', 'johnson', 'join', 'joint', 'jointly', 'joints', 'joke', 'joking', 'jones', 'jordan', 'journalist', 'joy', 'jst', 'judge', 'judy', 'juice', 'julias', 'july', 'jump', 'jumping', 'june', 'jungle', 'junior', 'jupiter', 'just', 'justice', 'justifies', 'kakogawa', 'kanazawa', 'kangaroo', 'karaoke', 'karen', 'kate', 'kato', 'kawagoe', 'keep', 'keeps', 'keiko', 'keller', 'ken', 'kenji', 'kenjis', 'kenya', 'kept', 'key', 'keys', 'kicking', 'kid', 'kids', 'kill', 'killed', 'killing', 'kilometers', 'kilos', 'kind', 'kindness', 'kinds', 'king', 'kingdom', 'kings', 'kitchen', 'kitchens', 'kite', 'kites', 'klein', 'knee', 'knew', 'knife', 'knit', 'knives', 'knock', 'knocked', 'knocking', 'know', 'knowledge', 'known', 'knows', 'koala', 'koalas', 'kobe', 'koko', 'kong', 'korea', 'kumiko', 'kuwait', 'kyoto', 'kyushu', 'la', 'labor', 'lace', 'lack', 'lacks', 'ladder', 'ladies', 'lady', 'lag', 'laid', 'lake', 'lamp', 'lamps', 'land', 'landed', 'landing', 'language', 'languages', 'lansing', 'laptop', 'large', 'largely', 'larger', 'largest', 'lasagna', 'last', 'lasted', 'late', 'later', 'latest', 'latin', 'laugh', 'laughed', 'laughing', 'laughs', 'launched', 'law', 'lawyer', 'lay', 'laziness', 'lazy', 'lead', 'leader', 'leads', 'leaf', 'leaks', 'lean', 'leaned', 'learn', 'learned', 'learning', 'least', 'leather', 'leave', 'leaves', 'leaving', 'lecture', 'left', 'leftovers', 'leg', 'legs', 'lemon', 'lemons', 'lend', 'lends', 'length', 'lenses', 'lent', 'leopards', 'less', 'lesson', 'lessons', 'lest', 'let', 'lets', 'letter', 'letters', 'level', 'liberty', 'library', 'license', 'lid', 'lie', 'lies', 'life', 'lifestyle', 'lift', 'light', 'lighter', 'lights', 'like', 'liked', 'likely', 'likes', 'lilies', 'limit', 'limited', 'lincoln', 'lincolns', 'linda', 'line', 'lines', 'lining', 'link', 'lion', 'lions', 'lip', 'liquid', 'lisa', 'list', 'listen', 'listened', 'listening', 'liter', 'literally', 'liters', 'little', 'live', 'lived', 'lively', 'lives', 'living', 'liz', 'loaf', 'loaned', 'loaves', 'lock', 'locked', 'locker', 'locks', 'logged', 'logic', 'london', 'lonely', 'long', 'longer', 'longest', 'longing', 'look', 'looked', 'looking', 'looks', 'loose', 'loosened', 'los', 'lose', 'loses', 'losing', 'loss', 'losses', 'lost', 'lot', 'lots', 'lottery', 'loud', 'louder', 'loudly', 'love', 'loved', 'lovely', 'loves', 'loving', 'low', 'luck', 'luckily', 'lucky', 'lucy', 'luggage', 'lunch', 'lung', 'lungs', 'luxury', 'lying', 'lynn', 'maam', 'mac', 'macbeth', 'machine', 'machinery', 'mad', 'made', 'madrid', 'magazine', 'magazines', 'magic', 'magician', 'magnificent', 'mail', 'mailbox', 'main', 'majoring', 'make', 'makes', 'making', 'malaria', 'malaysia', 'mammal', 'man', 'managed', 'managers', 'mankind', 'manners', 'manpower', 'mans', 'manufactured', 'manufactures', 'many', 'map', 'march', 'marched', 'marconi', 'mari', 'maria', 'marie', 'marine', 'marios', 'mark', 'market', 'marks', 'marriage', 'married', 'marry', 'mars', 'marvelous', 'mary', 'marys', 'masao', 'massage', 'master', 'masterpieces', 'match', 'matches', 'material', 'materials', 'math', 'mathematics', 'maths', 'matter', 'matters', 'mature', 'may', 'maya', 'mayas', 'maybe', 'mayor', 'mayuko', 'mcdonalds', 'me', 'meadow', 'meal', 'meals', 'mean', 'meaning', 'meaningless', 'meanings', 'means', 'meant', 'measles', 'meat', 'medal', 'medical', 'medicine', 'medium', 'meet', 'meeting', 'meetings', 'meg', 'megafeps', 'melody', 'melon', 'melons', 'member', 'members', 'memories', 'memorization', 'memory', 'men', 'menstrual', 'mention', 'mentioned', 'mentor', 'menu', 'mere', 'merely', 'merest', 'merry', 'message', 'met', 'metal', 'meter', 'meters', 'method', 'methodically', 'mexican', 'mexico', 'mice', 'michigan', 'mickle', 'microsoft', 'middle', 'midnight', 'might', 'mightier', 'mike', 'mild', 'mildly', 'miles', 'military', 'milk', 'mill', 'miller', 'million', 'millionaire', 'millions', 'mimi', 'mind', 'minds', 'mine', 'minerals', 'minimum', 'miniskirts', 'minor', 'minute', 'minutes', 'mirror', 'mirrored', 'miscarriage', 'misfortunes', 'mishima', 'miso', 'miss', 'missed', 'missing', 'mississippi', 'mistake', 'mistakes', 'misunderstanding', 'mix', 'mixture', 'model', 'moderate', 'moderation', 'modern', 'molly', 'mom', 'moment', 'mommy', 'monday', 'money', 'monkey', 'monkeys', 'monotonous', 'monster', 'montero', 'month', 'months', 'mood', 'moon', 'more', 'morning', 'mosquito', 'mosquitoes', 'most', 'mostly', 'mother', 'motherinlaw', 'mothers', 'motor', 'motorcycle', 'mountain', 'mountaineering', 'mountains', 'mouse', 'mouth', 'move', 'moved', 'moves', 'movie', 'movies', 'mozarts', 'mp', 'mr', 'mrs', 'ms', 'mt', 'much', 'muggy', 'muiriel', 'multiplied', 'mumble', 'mummy', 'murata', 'murder', 'murdered', 'murderer', 'museum', 'music', 'musical', 'musician', 'musicians', 'must', 'mustache', 'mustnt', 'mutton', 'mutual', 'my', 'myself', 'mysterious', 'mystery', 'nagasaki', 'nail', 'nails', 'nakano', 'name', 'named', 'names', 'nancy', 'naoko', 'naomi', 'naples', 'napoleon', 'napoleons', 'nara', 'narita', 'narrow', 'narrowly', 'nasa', 'nasty', 'nation', 'national', 'nations', 'native', 'natural', 'nature', 'natures', 'naughty', 'near', 'nearby', 'nearest', 'nearly', 'necessarily', 'necessary', 'necessity', 'neck', 'necktie', 'need', 'needed', 'needless', 'needs', 'neglected', 'neighbor', 'neighborhood', 'neither', 'nephew', 'nerves', 'nervous', 'nessie', 'netherlands', 'neutral', 'never', 'new', 'news', 'newspaper', 'newspapers', 'next', 'nice', 'nick', 'night', 'nights', 'nikon', 'nile', 'nine', 'no', 'nobody', 'noise', 'noises', 'noisy', 'non', 'nonalcoholic', 'none', 'nonsense', 'nonsmoking', 'nonstop', 'noon', 'nor', 'normal', 'north', 'nose', 'not', 'notebook', 'notebooks', 'nothing', 'nothings', 'noticed', 'notorious', 'nourishing', 'novel', 'novels', 'now', 'nowadays', 'nowhere', 'nuclear', 'number', 'numbers', 'nurse', 'nurses', 'nuts', 'oak', 'oaken', 'obey', 'object', 'objection', 'objections', 'observation', 'observe', 'observers', 'obtain', 'occasion', 'occupation', 'ocean', 'oclock', 'october', 'odd', 'of', 'off', 'offense', 'offer', 'offered', 'office', 'often', 'ogawa', 'oh', 'oil', 'ok', 'okay', 'okinawa', 'old', 'older', 'oldest', 'olive', 'olympics', 'omelets', 'omit', 'on', 'once', 'one', 'ones', 'oneway', 'onions', 'only', 'oops', 'open', 'opened', 'opening', 'opens', 'operate', 'operated', 'operation', 'opinion', 'opponent', 'opportunity', 'opposed', 'optimist', 'optimistic', 'options', 'or', 'oral', 'orange', 'oranges', 'order', 'ordered', 'organ', 'organization', 'organized', 'original', 'origins', 'orleans', 'os', 'osaka', 'ostriches', 'other', 'others', 'otherwise', 'ottawa', 'ought', 'our', 'ours', 'ourselves', 'out', 'outdoors', 'outer', 'output', 'outside', 'outskirts', 'outspoken', 'outstanding', 'oven', 'over', 'overcoat', 'overestimate', 'overestimated', 'overflow', 'overnight', 'overslept', 'overworked', 'owe', 'owes', 'own', 'oxford', 'oxygen', 'oysters', 'package', 'packed', 'paco', 'page', 'pages', 'paid', 'pain', 'paint', 'painted', 'painter', 'painting', 'paintings', 'pair', 'palace', 'pale', 'pancakes', 'pandas', 'pants', 'paper', 'papers', 'paradise', 'parallel', 'paralyzed', 'parcel', 'pardon', 'parents', 'paris', 'park', 'parking', 'parks', 'part', 'participated', 'particularly', 'parts', 'parttime', 'party', 'pass', 'passed', 'passengers', 'passport', 'password', 'past', 'pastime', 'patience', 'patient', 'patients', 'paul', 'paved', 'pay', 'payment', 'pea', 'peace', 'peacefully', 'peaceloving', 'peaches', 'peak', 'pear', 'pearls', 'peekaboo', 'pen', 'penalty', 'pencil', 'pencils', 'penguin', 'penicillin', 'pens', 'pension', 'people', 'pepper', 'percent', 'perfect', 'perfectly', 'perform', 'perhaps', 'permission', 'permitted', 'perry', 'person', 'personal', 'personally', 'persons', 'peru', 'pet', 'peter', 'pets', 'pharmacy', 'phenomenon', 'philippine', 'philosopher', 'phoenix', 'phone', 'phoned', 'photo', 'photograph', 'photography', 'photos', 'phrase', 'phrased', 'physical', 'physics', 'pianist', 'piano', 'picasso', 'pick', 'picked', 'pickpocket', 'pickpockets', 'picnic', 'picture', 'pictures', 'picturesque', 'pie', 'piece', 'pieces', 'pig', 'pigsty', 'pilot', 'pingpong', 'pink', 'pinocchio', 'pipe', 'piss', 'pitch', 'pity', 'pizza', 'place', 'places', 'plan', 'plane', 'planes', 'planets', 'plans', 'plant', 'planted', 'plants', 'plastic', 'plate', 'play', 'played', 'player', 'players', 'playing', 'plays', 'plaza', 'pleasant', 'please', 'pleased', 'pleasure', 'plentiful', 'plenty', 'pm', 'pneumonia', 'pochi', 'pocket', 'pockets', 'poem', 'poems', 'poet', 'poetry', 'poets', 'point', 'pointed', 'poison', 'poke', 'poland', 'polar', 'pole', 'police', 'policeman', 'policy', 'polished', 'polite', 'politically', 'politician', 'politics', 'pollen', 'pollute', 'polluted', 'pollutes', 'pollution', 'pond', 'pool', 'poor', 'pop', 'pope', 'popular', 'population', 'populous', 'pork', 'port', 'portrait', 'portuguese', 'positive', 'possibility', 'possible', 'possibly', 'post', 'postage', 'posted', 'posters', 'postman', 'pot', 'potato', 'potatoes', 'potential', 'pound', 'pounds', 'pours', 'poverty', 'powdersnow', 'power', 'practical', 'practically', 'practice', 'practiced', 'praises', 'precious', 'precise', 'prefer', 'preparation', 'prepare', 'prepared', 'preparing', 'prescription', 'present', 'preserved', 'president', 'pressure', 'pretend', 'prettier', 'pretty', 'prevented', 'price', 'prices', 'pride', 'priests', 'prince', 'principles', 'print', 'printed', 'prior', 'priorities', 'prison', 'prisoner', 'private', 'prize', 'prizes', 'probably', 'problem', 'problems', 'process', 'proclaimed', 'produce', 'produces', 'producing', 'product', 'products', 'professional', 'professor', 'profile', 'profits', 'program', 'progress', 'prohibited', 'project', 'prominent', 'promise', 'promised', 'promotion', 'pronounce', 'properly', 'proposal', 'propose', 'protect', 'proud', 'prove', 'proved', 'proverb', 'provide', 'provided', 'pseudoscience', 'psychology', 'pub', 'public', 'published', 'pulse', 'pun', 'punctual', 'punished', 'punishment', 'pupils', 'purchase', 'pure', 'purpose', 'purposes', 'purse', 'push', 'put', 'pyramid', 'quality', 'quarreled', 'queen', 'question', 'questions', 'quick', 'quickly', 'quiet', 'quieter', 'quietly', 'quit', 'quite', 'quito', 'quotations', 'rabbit', 'rabbits', 'race', 'racket', 'radical', 'radio', 'radium', 'rail', 'railroad', 'rain', 'rainbow', 'raincoat', 'rained', 'raining', 'rains', 'rainy', 'raise', 'ran', 'rap', 'rapidly', 'rare', 'rarely', 'rat', 'rate', 'rates', 'rather', 'rats', 'raw', 'raúl', 'reach', 'reached', 'read', 'reading', 'ready', 'real', 'reality', 'realize', 'really', 'reap', 'reason', 'reasonable', 'reasons', 'recall', 'receive', 'received', 'receiving', 'recent', 'recently', 'recipe', 'recognized', 'recommend', 'record', 'recorder', 'recover', 'recovery', 'recurrence', 'red', 'redhanded', 'reduce', 'reducing', 'refer', 'referred', 'referring', 'reflects', 'refused', 'regard', 'regarded', 'regardless', 'regards', 'register', 'regret', 'regular', 'regularly', 'reigned', 'rejected', 'related', 'relations', 'relax', 'relevant', 'relief', 'relieved', 'religion', 'religious', 'rely', 'remain', 'remained', 'remains', 'remark', 'remarkable', 'remember', 'remembering', 'remind', 'reminded', 'reminds', 'remote', 'removed', 'renewed', 'rent', 'repair', 'repaired', 'repairing', 'repeat', 'repeated', 'repeats', 'replaced', 'replied', 'reply', 'report', 'reported', 'representative', 'republic', 'request', 'requested', 'require', 'requires', 'rescued', 'research', 'resemble', 'resembles', 'reservation', 'reservations', 'reserve', 'reserved', 'resign', 'resistant', 'resolution', 'resolve', 'resort', 'resources', 'respect', 'response', 'responsibilities', 'responsibility', 'responsible', 'rest', 'restaurant', 'restaurants', 'rested', 'restroom', 'rests', 'result', 'resulted', 'results', 'retire', 'retired', 'retires', 'retreat', 'return', 'returned', 'revised', 'revision', 'revolution', 'revolve', 'revolves', 'reward', 'rhine', 'rhinitis', 'rhythm', 'ribbon', 'rice', 'rich', 'riddance', 'ride', 'ridiculous', 'right', 'rightly', 'rights', 'rigid', 'ring', 'ringing', 'rings', 'ripe', 'rips', 'rising', 'risk', 'risks', 'rite', 'river', 'rivers', 'road', 'roads', 'robbed', 'robber', 'robbery', 'robert', 'rock', 'rocket', 'rode', 'roger', 'role', 'rollerskate', 'rolling', 'roman', 'rome', 'roof', 'room', 'rooms', 'root', 'rope', 'rosa', 'rose', 'roses', 'rosé', 'rotten', 'rough', 'roughly', 'round', 'row', 'royal', 'rub', 'rubber', 'rubbish', 'rubén', 'rude', 'ruining', 'rule', 'ruler', 'rules', 'rumor', 'run', 'running', 'runny', 'runs', 'rush', 'russia', 'russian', 'rust', 'ruth', 'rye', 'sachiko', 'sack', 'sacred', 'sad', 'sadako', 'safe', 'said', 'sailing', 'saitama', 'saitou', 'salad', 'sale', 'salesman', 'sally', 'salmon', 'salsa', 'salt', 'salty', 'sam', 'same', 'san', 'sand', 'sanda', 'sandwich', 'sandwiches', 'sang', 'santa', 'sapporo', 'sasaki', 'sasayama', 'sat', 'satisfied', 'sato', 'saturday', 'sauce', 'save', 'saved', 'saving', 'saw', 'say', 'saying', 'sayings', 'sayoko', 'says', 'scarce', 'scarcely', 'scenario', 'scene', 'scenery', 'scenes', 'schedule', 'scholar', 'school', 'schoolbooks', 'schools', 'science', 'scientist', 'scientists', 'scissors', 'scope', 'scores', 'scotland', 'scott', 'scrap', 'scream', 'screwdriver', 'sea', 'sean', 'searches', 'seaside', 'season', 'seat', 'seated', 'seating', 'seats', 'seattle', 'second', 'secret', 'secretary', 'secrets', 'section', 'secure', 'see', 'seeds', 'seeing', 'seeks', 'seem', 'seemed', 'seems', 'seen', 'seiko', 'seine', 'seldom', 'selfish', 'selfishness', 'sell', 'selling', 'send', 'sense', 'sensible', 'sensitive', 'sent', 'sentence', 'sentences', 'separate', 'separated', 'september', 'series', 'serious', 'seriously', 'serve', 'served', 'server', 'serves', 'service', 'set', 'sets', 'settle', 'settled', 'settling', 'seven', 'seventeen', 'several', 'sew', 'sewing', 'sexually', 'sexy', 'shadow', 'shake', 'shakespeare', 'shakespeares', 'shall', 'shame', 'shampoo', 'shape', 'shared', 'sharks', 'sharp', 'sharpening', 'shave', 'shaving', 'she', 'sheep', 'sheeps', 'sheer', 'sheet', 'shelf', 'shellfish', 'shelves', 'shes', 'shikoku', 'shine', 'shines', 'shining', 'shinkansen', 'ship', 'shipped', 'shipping', 'ships', 'shirt', 'shizuoka', 'shoe', 'shoelaces', 'shoes', 'shone', 'shoot', 'shop', 'shopping', 'short', 'shorter', 'shot', 'should', 'shoulder', 'shoulders', 'shouldnt', 'shouted', 'show', 'showed', 'shower', 'showered', 'showers', 'showing', 'shrine', 'shuddered', 'shut', 'shuttle', 'shy', 'sick', 'side', 'sigh', 'sighed', 'sight', 'sign', 'signaled', 'signals', 'signed', 'silence', 'silent', 'silk', 'silkworms', 'silly', 'silver', 'similar', 'simple', 'simply', 'since', 'sing', 'singapore', 'singer', 'singing', 'single', 'singly', 'sings', 'sir', 'sister', 'sisters', 'sit', 'sits', 'sitting', 'situated', 'situation', 'six', 'sixteen', 'sixteenth', 'sixty', 'size', 'skate', 'skates', 'skating', 'sketch', 'ski', 'skied', 'skiing', 'skin', 'skirt', 'sky', 'slapped', 'slavery', 'slaves', 'sleep', 'sleeping', 'sleepless', 'slept', 'slice', 'slices', 'slight', 'slightly', 'slim', 'sloane', 'slope', 'slow', 'slowly', 'small', 'smaller', 'smallest', 'smart', 'smell', 'smelled', 'smells', 'smile', 'smiled', 'smiling', 'smith', 'smiths', 'smog', 'smoke', 'smokes', 'smoking', 'smooth', 'smoothly', 'snake', 'snakes', 'snapped', 'sneeze', 'snoring', 'snow', 'snowing', 'snows', 'snowy', 'so', 'soandso', 'soared', 'soccer', 'society', 'sock', 'socks', 'sofa', 'soft', 'solar', 'sold', 'soldier', 'soldiers', 'sole', 'solid', 'solo', 'solution', 'solve', 'solved', 'solving', 'some', 'somebody', 'someday', 'someone', 'something', 'sometime', 'sometimes', 'somewhat', 'somewhere', 'son', 'song', 'songs', 'sons', 'sony', 'soon', 'sooner', 'sore', 'sorry', 'sort', 'soul', 'sound', 'sounds', 'soup', 'sour', 'source', 'south', 'sow', 'sown', 'space', 'spaceship', 'spain', 'span', 'spaniards', 'spanish', 'spare', 'speak', 'speaker', 'speaking', 'speaks', 'special', 'specialty', 'spectacular', 'speech', 'speechless', 'speeding', 'speeds', 'spell', 'spend', 'spent', 'spider', 'spiders', 'spike', 'spilled', 'spilt', 'spin', 'spinach', 'spirit', 'spite', 'spitting', 'splashing', 'spoiled', 'spoke', 'spoken', 'sponge', 'spoons', 'sport', 'sports', 'spot', 'spread', 'spring', 'spy', 'square', 'squirrel', 'staff', 'stage', 'stamp', 'stamps', 'stand', 'standard', 'stands', 'star', 'stared', 'stars', 'starshaped', 'start', 'started', 'starts', 'starved', 'starving', 'state', 'states', 'statesman', 'station', 'stay', 'stayed', 'staying', 'steady', 'steak', 'steal', 'steep', 'stem', 'step', 'stepped', 'sterilized', 'steve', 'stiff', 'still', 'stimulated', 'stinks', 'stock', 'stole', 'stolen', 'stomach', 'stomachache', 'stone', 'stood', 'stop', 'stoplight', 'stopped', 'stops', 'store', 'stories', 'storm', 'stormy', 'story', 'straight', 'strange', 'stranger', 'strangers', 'strawberries', 'street', 'streets', 'strengths', 'stress', 'stressed', 'stretched', 'strictly', 'strike', 'stroke', 'strong', 'stronger', 'strongminded', 'stubbornness', 'student', 'students', 'studied', 'studies', 'study', 'studying', 'stuff', 'stupid', 'stupidest', 'style', 'subject', 'subjects', 'subtract', 'suburbs', 'subway', 'succeed', 'succeeded', 'success', 'such', 'sudden', 'suddenly', 'sue', 'suffering', 'suffers', 'sufficient', 'sugar', 'suggest', 'suggested', 'suicide', 'suit', 'suitable', 'suitcase', 'suited', 'suits', 'sulfa', 'sum', 'summer', 'summertime', 'summit', 'sumo', 'sun', 'sunday', 'sundays', 'sunflower', 'sunglasses', 'sunlight', 'sunny', 'sunrise', 'sunset', 'sunshine', 'superman', 'supermarket', 'supersonic', 'superstition', 'supper', 'supplied', 'supplies', 'supply', 'support', 'supported', 'supports', 'suppose', 'supposed', 'sure', 'surely', 'surface', 'surgeon', 'surgery', 'surnames', 'surprise', 'surprised', 'surprising', 'surrender', 'surrounded', 'survive', 'survived', 'survivor', 'susan', 'sushi', 'susie', 'suspect', 'suspicious', 'suspiciously', 'swallow', 'swam', 'swan', 'swarm', 'sweater', 'sweating', 'sweden', 'sweet', 'sweetener', 'sweeter', 'sweetheart', 'sweets', 'swim', 'swimming', 'swims', 'switzerland', 'swollen', 'sword', 'symbol', 'symbolizes', 'symptom', 'symptoms', 'syringe', 'system', 'table', 'tablecloth', 'tadpoles', 'tail', 'take', 'taken', 'takes', 'taking', 'talent', 'talk', 'talked', 'talking', 'talks', 'tall', 'taller', 'tallest', 'tampa', 'tanker', 'tape', 'taro', 'task', 'taste', 'tasted', 'tastes', 'tatami', 'tax', 'taxes', 'taxi', 'taxis', 'tea', 'teach', 'teacher', 'teachers', 'teaches', 'teaching', 'team', 'tears', 'teas', 'technology', 'telegram', 'telephone', 'telephoned', 'telescope', 'television', 'tell', 'tells', 'temp', 'temperature', 'temple', 'temples', 'temporarily', 'temporary', 'tempts', 'tempura', 'ten', 'tend', 'tendency', 'tenminute', 'tennis', 'tenth', 'tenthirty', 'teresa', 'term', 'terminal', 'terms', 'terrible', 'terribly', 'terrific', 'territory', 'test', 'texas', 'textbook', 'th', 'thai', 'thailand', 'thames', 'than', 'thank', 'thanks', 'thanksgiving', 'that', 'thats', 'the', 'theater', 'theft', 'their', 'theirs', 'them', 'then', 'theoretically', 'theory', 'there', 'therein', 'theres', 'thermometer', 'these', 'they', 'theyre', 'thick', 'thicker', 'thief', 'thieves', 'thing', 'things', 'think', 'thinking', 'thinks', 'third', 'thirsty', 'thirteen', 'thirty', 'this', 'thorough', 'those', 'though', 'thought', 'thousand', 'thousands', 'thread', 'threat', 'threatened', 'three', 'threeheaded', 'threequarters', 'threw', 'throat', 'through', 'throw', 'thunder', 'thus', 'ticket', 'tickets', 'tickle', 'tie', 'tiger', 'tigers', 'tight', 'till', 'tim', 'time', 'times', 'tin', 'tip', 'tire', 'tired', 'tires', 'to', 'toast', 'today', 'todays', 'toes', 'together', 'toilet', 'tokyo', 'told', 'tolerate', 'tolstoy', 'tom', 'tomato', 'tomatoes', 'tomoko', 'tomorrow', 'toms', 'tongue', 'tonight', 'tony', 'tonys', 'too', 'took', 'tools', 'tooth', 'toothache', 'toothless', 'top', 'topic', 'total', 'totoro', 'touch', 'tough', 'tourist', 'tourists', 'toward', 'towel', 'tower', 'town', 'toy', 'toys', 'trace', 'track', 'tracy', 'trade', 'traditions', 'traffic', 'tragedies', 'tragedy', 'train', 'training', 'trains', 'traitor', 'translate', 'translated', 'translation', 'translations', 'transmitted', 'transports', 'travel', 'traveled', 'traveling', 'traveller', 'travelling', 'travels', 'treading', 'treated', 'tree', 'trees', 'trial', 'trials', 'tribe', 'trick', 'tried', 'tries', 'trifle', 'trigger', 'trip', 'tropical', 'trouble', 'troubled', 'trousers', 'truck', 'true', 'truly', 'trust', 'truth', 'try', 'trying', 'tshirt', 'tuesday', 'tulips', 'tuna', 'tune', 'tunnel', 'turkey', 'turn', 'turned', 'turning', 'turns', 'tv', 'twelve', 'twenty', 'twentyfour', 'twice', 'twins', 'two', 'type', 'typewriter', 'tyrant', 'ua', 'ueno', 'ufo', 'ufos', 'ugly', 'uh', 'ultimate', 'ultimately', 'umbrella', 'umbrellas', 'un', 'unbearable', 'uncle', 'uncomfortable', 'unconscious', 'under', 'underestimate', 'underground', 'underlined', 'underrated', 'understand', 'understands', 'understood', 'undone', 'undressing', 'unemployment', 'unexpected', 'unfavourable', 'unfortunately', 'unhappy', 'unhealthy', 'unidentified', 'uniforms', 'unit', 'united', 'universal', 'universe', 'universes', 'university', 'unless', 'unlikely', 'unmarried', 'unreasonable', 'unsolved', 'until', 'unusual', 'unwise', 'up', 'upon', 'upper', 'ups', 'uraga', 'urban', 'urgent', 'urinate', 'us', 'usa', 'usable', 'use', 'used', 'useful', 'using', 'usual', 'usually', 'utterly', 'vacation', 'vain', 'valentines', 'valid', 'valuable', 'value', 'vancouver', 'vanilla', 'varies', 'various', 'vase', 'vcr', 'vegetable', 'vegetables', 'vegetarian', 'vegetarians', 'venice', 'verbs', 'versions', 'very', 'video', 'view', 'views', 'village', 'violent', 'violin', 'visa', 'visions', 'visit', 'visited', 'visiting', 'visitors', 'vitamin', 'vitamins', 'voice', 'voices', 'volcanic', 'volleyball', 'volume', 'vote', 'voted', 'voyage', 'wages', 'wagging', 'wait', 'waited', 'waiter', 'waiting', 'waitress', 'wake', 'wales', 'walk', 'walked', 'walking', 'walks', 'wall', 'wallet', 'walls', 'wang', 'wanna', 'want', 'wanted', 'wanting', 'wants', 'war', 'warm', 'warmer', 'warming', 'warn', 'wars', 'was', 'wash', 'washed', 'washing', 'wasnt', 'waste', 'wasted', 'watch', 'watched', 'watches', 'watching', 'watchman', 'water', 'watermelon', 'waterproof', 'waters', 'way', 'ways', 'we', 'weak', 'weakness', 'weaknesses', 'wealth', 'weapons', 'wear', 'wearing', 'wears', 'weather', 'webs', 'wed', 'wedding', 'wednesday', 'weeds', 'week', 'weekend', 'weeks', 'weigh', 'weighs', 'weight', 'weird', 'welcome', 'welcomed', 'welfare', 'well', 'wellington', 'wellknown', 'wendy', 'went', 'wept', 'were', 'werent', 'west', 'western', 'wet', 'weve', 'whale', 'whales', 'what', 'whatd', 'whatever', 'whatre', 'whats', 'wheat', 'when', 'whenever', 'where', 'wheres', 'wherever', 'whether', 'which', 'whichever', 'while', 'whiskey', 'whispered', 'white', 'who', 'whod', 'whole', 'whom', 'whomever', 'whos', 'whose', 'why', 'wide', 'widen', 'wife', 'wild', 'will', 'willie', 'willing', 'win', 'wind', 'window', 'windows', 'windy', 'wine', 'wing', 'wink', 'winning', 'wins', 'winter', 'wise', 'wish', 'wishes', 'with', 'within', 'without', 'witness', 'witnesses', 'wits', 'woke', 'wolf', 'wolves', 'woman', 'women', 'won', 'wonder', 'wonderful', 'wont', 'wood', 'wooden', 'wool', 'woolen', 'word', 'wordprocessor', 'words', 'wore', 'work', 'workaholics', 'worked', 'worker', 'workers', 'working', 'workman', 'works', 'world', 'worlds', 'worldwide', 'worm', 'worms', 'worn', 'worried', 'worry', 'worse', 'worst', 'worth', 'worthwhile', 'worthy', 'would', 'wouldnt', 'wound', 'wounded', 'wow', 'write', 'writer', 'writes', 'writing', 'written', 'wrong', 'wrote', 'xray', 'yacht', 'yachts', 'yamada', 'yamamoto', 'yard', 'yawn', 'year', 'years', 'yeast', 'yell', 'yelling', 'yellow', 'yen', 'yes', 'yesterday', 'yesterdays', 'yet', 'yield', 'yielded', 'yogurt', 'yokohama', 'york', 'you', 'youd', 'youll', 'young', 'younger', 'your', 'youre', 'yours', 'yourself', 'youth', 'youve', 'yugoslavia', 'yukina', 'yukio', 'yumi', 'zambia', 'zealand', 'zero', 'zoo', '°c']\n",
            "Target Vocabulary\t\t\t: ['<bof>', '<eos>', 'a', 'aaa', 'aan', 'aanbevelen', 'aanbieden', 'aanbod', 'aanbouw', 'aanbrengen', 'aandacht', 'aandelenmarkt', 'aandoening', 'aangeboden', 'aangeduid', 'aangedurfd', 'aangekomen', 'aangekondigd', 'aangelegenheid', 'aangenaam', 'aangenomen', 'aangereden', 'aangerend', 'aangevallen', 'aangezien', 'aanhouden', 'aankomt', 'aankopen', 'aankwam', 'aanmelding', 'aanmeren', 'aanmerking', 'aannemen', 'aanplakbiljetten', 'aanraden', 'aanraken', 'aanrichten', 'aansluiten', 'aansteker', 'aantal', 'aantreffen', 'aantrekkelijk', 'aantrekken', 'aanvaard', 'aanvaardbaar', 'aanvaarden', 'aanvaardt', 'aanval', 'aanvallen', 'aanvraag', 'aanwezig', 'aanzetten', 'aanzien', 'aanzienlijk', 'aap', 'aardappel', 'aardappelen', 'aardappels', 'aardappelsla', 'aardbeien', 'aardbeving', 'aardbevingen', 'aarde', 'aardig', 'aardoppervlak', 'aarzel', 'abc', 'abnormale', 'abortus', 'abraham', 'absoluut', 'absorberen', 'absurd', 'accepteer', 'accepteerde', 'accepteren', 'acht', 'achter', 'achtergelaten', 'achtergrond', 'achterlaten', 'achternaam', 'achternamen', 'achtste', 'achttien', 'acteur', 'actie', 'actief', 'actrice', 'adem', 'ademen', 'adres', 'advies', 'advokaat', 'af', 'afbeelding', 'afdeling', 'afdoen', 'affiches', 'afgehaald', 'afgehandeld', 'afgelast', 'afgelegen', 'afgelopen', 'afgemaakt', 'afgereisd', 'afgeschaft', 'afgewezen', 'afkorting', 'aflossen', 'afmaken', 'afmelden', 'afnemen', 'afrika', 'afschaffen', 'afscheid', 'afscheidsfeestje', 'afschuwelijke', 'afspraak', 'afspraakje', 'afstand', 'afstanden', 'afstandsbediening', 'afsterven', 'aftrekken', 'afvallen', 'afwas', 'afwezig', 'afwezigen', 'afwezigheid', 'afwijking', 'afzeggen', 'afzetten', 'agent', 'agressief', 'ah', 'aidsonderzoek', 'air', 'airconditioner', 'airconditioning', 'airlines', 'ajuin', 'aken', 'akiko', 'akkoord', 'al', 'alaska', 'album', 'alcohol', 'aldus', 'alex', 'alfabet', 'algemeen', 'algemene', 'alice', 'alkohol', 'alle', 'allebei', 'alleen', 'allemaal', 'allen', 'allergisch', 'allergische', 'alles', 'alpen', 'als', 'alsjeblief', 'alsjeblieft', 'alsmede', 'alsof', 'alstublieft', 'altaar', 'altijd', 'alvast', 'alvorens', 'alweer', 'ambtenaar', 'amerika', 'amerikaans', 'amerikaanse', 'amerikanen', 'amper', 'amuseer', 'an', 'ana', 'ander', 'andere', 'anderen', 'anders', 'andy', 'angeles', 'angola', 'angst', 'ann', 'anna', 'anne', 'anthony', 'antieke', 'antigua', 'antwoord', 'antwoordde', 'antwoorden', 'apen', 'apotheek', 'apparaat', 'apparatuur', 'appartement', 'appel', 'appelbomen', 'appeloogst', 'appels', 'appelsien', 'appeltaart', 'appeltje', 'applaudisseerde', 'applaudisseerden', 'apple', 'apr', 'april', 'arbeiders', 'archiefkast', 'argument', 'argwanend', 'arizona', 'arm', 'arme', 'armeluisgewas', 'armen', 'arnie', 'arresteerde', 'arrogant', 'artiesten', 'artikel', 'artikelen', 'artikels', 'arts', 'as', 'aspirine', 'assistent', 'associëren', 'astrofysicus', 'astronomie', 'at', 'aten', 'atletische', 'atoombommen', 'atoomenergie', 'atoomtijdperk', 'aub', 'australië', 'australiërs', 'australië”', 'auteur', 'authentiek', 'auto', 'autoindustrie', 'automarkt', 'automatisch', 'automatische', 'autoonderdelen', 'autorijden', 'autos', 'autoverkoop', 'avond', 'avondeten', 'avondkleding', 'avondmaal', 'avonds', 'azaleas', 'azië', 'b', 'baan', 'baard', 'baas', 'baasje', 'baby', 'babypinguïn', 'backhand', 'bad', 'baden', 'badkamer', 'badwater', 'bagage', 'bagatel', 'bakken', 'bakker', 'bakt', 'bal', 'balkon', 'ballen', 'ballon', 'balpen', 'bamboe', 'bananen', 'bananentaart', 'band', 'banden', 'bandrecorder', 'bang', 'bank', 'banken', 'barometer', 'barst', 'barstte', 'baseball', 'baseballclub', 'baseert', 'basketbal', 'basketballen', 'batterij', 'beantwoorden', 'bed', 'bedankt', 'bedekt', 'bedelaar', 'bedenken', 'bederven', 'bedien', 'bediend', 'bediende', 'bedierf', 'bedoel', 'bedoelde', 'bedoeling', 'bedoelt', 'bedorven', 'bedraagt', 'bedrag', 'bedreigde', 'bedreiging', 'bedriegen', 'bedrijf', 'bedroefd', 'bedroeg', 'bedroevend', 'bedrogen', 'bedroog', 'bedwingen', 'beeldt', 'been', 'beer', 'beest', 'beet', 'beetje', 'begaafd', 'begaan', 'begeleidde', 'begeleiden', 'begin', 'beginnen', 'beginners', 'begint', 'begon', 'begonnen', 'begraaft', 'begraven', 'begrepen', 'begrijp', 'begrijpen', 'begrijpt', 'behaal', 'behalen', 'behalve', 'behandeld', 'behandelde', 'beheersen', 'behoedzame', 'behoorde', 'behoort', 'behoren', 'behouden', 'beide', 'beiden', 'bekaf', 'bekend', 'bekende', 'bekeurd', 'bekijk', 'bekijken', 'bekijkt', 'beklimmen', 'beklimt', 'beklommen', 'bel', 'belachelijk', 'belang', 'belangrijk', 'belangrijke', 'belangrijker', 'belasting', 'belastingen', 'belde', 'beledigen', 'beleefd', 'beleefder', 'belegde', 'beleid', 'belgië', 'bell', 'bellen', 'belletje', 'belofte', 'beloning', 'beloofd', 'beloofde', 'beluisteren', 'bemachtigd', 'bemachtigen', 'bemanning', 'bemerkte', 'bemoei', 'ben', 'benauwd', 'beneden', 'benen', 'benieuwd', 'benijd', 'bent', 'benzine', 'benzinestation', 'bepaald', 'bepaalde', 'beperken', 'beperkt', 'bereid', 'bereiden', 'bereidt', 'bereik', 'bereikbaar', 'bereiken', 'bereikte', 'bereikten', 'berekende', 'berekenen', 'beren', 'berg', 'bergen', 'bergsport', 'bergtop', 'bern', 'beroemd', 'beroemde', 'beroemdheid', 'beroep', 'beroepservaring', 'beroerte', 'berucht', 'berust', 'beschaafde', 'beschaamd', 'beschadigen', 'beschamend', 'beschamende', 'beschaving', 'beschermen', 'beschermer', 'beschikbaar', 'beschikking', 'beschouw', 'beschouwen', 'beschreef', 'beschrijven', 'beschuldigde', 'beschuldigen', 'besefte', 'beslag', 'beslechten', 'beslissing', 'beslist', 'besloot', 'besloten', 'bespaart', 'bespeelt', 'bespraken', 'bespreken', 'best', 'bestaan', 'bestaat', 'bestand', 'beste', 'besteed', 'besteld', 'bestelde', 'bestellen', 'bestelling', 'bestemd', 'bestemming', 'bestudeerde', 'bestuderen', 'besturen', 'bestuurde', 'bestuurder', 'betaal', 'betaald', 'betaalde', 'betalen', 'betaling', 'betekenis', 'betekenissen', 'betekent', 'beter', 'betere', 'beters', 'betrad', 'betrapt', 'betreft', 'betrekking', 'betrekkingen', 'betreur', 'betrokken', 'betty', 'betwijfelen', 'beurt', 'bevallen', 'bevalt', 'bevangen', 'bevat', 'bevatten', 'beveel', 'beveelt', 'bevestigen', 'bevindt', 'bevolking', 'bevolkingsomvang', 'bevriest', 'bevrijd', 'bevrijdde', 'bevrijden', 'bevroor', 'bevroren', 'bewaar', 'bewaker', 'bewaren', 'beweegt', 'bewegen', 'beweging', 'bewijzen', 'bewolkt', 'bewonder', 'bewonderaars', 'bewonderenswaardig', 'bewoog', 'bewusteloos', 'bewustzijn', 'bezaaid', 'bezet', 'bezig', 'bezit', 'bezocht', 'bezochten', 'bezoek', 'bezoeken', 'bezoekers', 'bezoekt', 'bezorgd', 'bezwaar', 'bezwaren', 'beïnvloed', 'bibliotheek', 'biefstuk', 'bien', 'bier', 'bierflesjes', 'biertje', 'biertjes', 'big', 'bij', 'bijbel', 'bijeen', 'bijeenkomst', 'bijen', 'bijgekomen', 'bijgeloof', 'bijgevoegd', 'bijhouden', 'bijna', 'bijt', 'bijten', 'bijtijds', 'bijwerkingen', 'bijwonen', 'bijzonder', 'bijzondere', 'bikinis', 'bill', 'bin', 'binnen', 'binnenaf', 'binnengaan', 'binnengevallen', 'binnenkomen', 'binnenkomt', 'binnenkort', 'binnenkwam', 'binnenrijden', 'binnenstad', 'binnenstebuiten', 'binnenweg', 'biochemie', 'biografie', 'biologie', 'bioscoop', 'bitter', 'blad', 'bladeren', 'bladzijde', 'bladzijdes', 'blaffende', 'blaft', 'blafte', 'blauw', 'blauwe', 'bleef', 'bleek', 'bleekjes', 'bleven', 'blij', 'blijdschap', 'blijf', 'blijft', 'blijkbaar', 'blijven', 'blik', 'blind', 'blinkt', 'bloed', 'bloeddorstig', 'bloeddruk', 'bloedgroep', 'bloedt', 'bloei', 'bloeien', 'bloem', 'bloemen', 'bloemenwinkel', 'bloes', 'bloesems', 'blokken', 'blondines', 'blut', 'bob', 'bocht', 'boeddhistische', 'boek', 'boeken', 'boekenwurm', 'boekhandel', 'boekhouden', 'boer', 'boerderij', 'boete', 'bofte', 'boksen', 'bomen', 'bondgenoot', 'bonen', 'boodschap', 'boodschappen', 'boogschutter', 'book', 'boom', 'boontje', 'boord', 'boordevol', 'boos', 'boot', 'bord', 'borst', 'borstkas', 'bos', 'bosbranden', 'boston', 'boten', 'boter', 'botten', 'bouwde', 'bouwen', 'bouwt', 'boven', 'bovenaan', 'bovenal', 'bovendien', 'bovenlip', 'bovenste', 'bracht', 'brachtten', 'brak', 'braken', 'brand', 'branden', 'brandoefening', 'brandstof', 'brandt', 'brandweervrouw', 'brasilia', 'brazilië', 'breakfast', 'breed', 'breek', 'breekbaar', 'breien', 'breit', 'breken', 'breng', 'brengen', 'brengt', 'brian', 'bridge', 'brief', 'brieven', 'brievenbus', 'bril', 'briljant', 'brillen', 'brits', 'brittannië', 'broden', 'broeders', 'broek', 'broekzakken', 'broer', 'broers', 'broertje', 'brood', 'broodje', 'broodjes', 'brown', 'brug', 'bruid', 'bruikbaar', 'bruiloft', 'bruine', 'btw', 'buffel', 'buik', 'buikpijn', 'buiten', 'buitenaardse', 'buitenaf', 'buitengaan', 'buitenland', 'buitenlander', 'buitenlanders', 'buitenlandse', 'buitenwijk', 'bureau', 'bureaulamp', 'bureaulampen', 'burgemeester', 'burger', 'bus', 'buschauffeurs', 'busdienst', 'bushalte', 'buskaartje', 'buskruit', 'buslijn', 'busreis', 'bussen', 'busstation', 'buurland', 'buurt', 'c', 'cacaobonen', 'cadeau', 'café', 'cake', 'camera', 'cameras', 'canada', 'capaciteit', 'carl', 'carol', 'carrière', 'cashlimiet', 'cd', 'cds', 'cdspeler', 'cdspelers', 'celsius', 'cent', 'centimeter', 'centrum', 'ceremonie', 'charles', 'chauffeur', 'checken', 'checkup', 'chicago', 'china', 'chinees', 'chinese', 'chirurg', 'chirurgie', 'chocola', 'chocolade', 'chocolademelk', 'cholera', 'chopin', 'christendom', 'christenen', 'christus', 'cijfers', 'cinema', 'cirkel', 'citaten', 'citroen', 'citroenen', 'club', 'cocons', 'cola', 'collegas', 'college', 'columbus', 'combinatie', 'comité', 'commissaris', 'commissie', 'communicatie', 'communiceren', 'communist', 'componist', 'componisten', 'compositie', 'computer', 'computers', 'concentreren', 'concert', 'concertkaartje', 'conditie', 'condoom', 'conflicten', 'confucius', 'consequent', 'conservatief', 'constant', 'contact', 'contacteer', 'contactlenzen', 'contant', 'context', 'continent', 'continu', 'contract', 'controleer', 'controleren', 'cookie', 'cool', 'coole', 'correct', 'correspondeerden', 'correspondeert', 'crash', 'crashte', 'creationisme', 'creditcard', 'crisis', 'crème', 'cuit', 'culturen', 'cultuur', 'curie', 'curriculum', 'curry', 'curtis', 'daadwerkelijk', 'daalde', 'daalt', 'daar', 'daaraan', 'daarbuiten', 'daarenboven', 'daarheen', 'daarmee', 'daarna', 'daarom', 'daarover', 'daarzo', 'dacht', 'dachten', 'dadelijk', 'daden', 'dag', 'dagboek', 'dagelijks', 'dagen', 'dak', 'dalende', 'dam', 'dame', 'dames', 'damon', 'dan', 'dank', 'dankbaar', 'danken', 'dankzij', 'dansen', 'danst', 'dapperheid', 'das', 'dat', 'dateren', 'datgene', 'datum', 'dauw', 'de', 'december', 'deden', 'deed', 'deel', 'deelde', 'deeltijds', 'defecte', 'definiëren', 'degas', 'degene', 'degenen', 'dekens', 'deksel', 'democratie', 'democratische', 'demonstratie', 'denemarken', 'denen', 'denk', 'denken', 'denkt', 'depressief', 'der', 'derde', 'dergelijke', 'dertien', 'dertig', 'dertigste', 'detail', 'detroit', 'deugd', 'deur', 'deuren', 'deze', 'dezelfde', 'dhr', 'diamant', 'diarree', 'dicht', 'dichtbevolkt', 'dichtbij', 'dichter', 'dichtgaan', 'dichtgedaan', 'dichtstbije', 'dichtstbijzijnde', 'dick', 'die', 'dieendie', 'dieet', 'dief', 'diefstal', 'diego', 'dienst', 'dient', 'diep', 'diepe', 'dier', 'dierbaar', 'dieren', 'dierentuin', 'diersoorten', 'dieven', 'dik', 'dikke', 'dikker', 'dikwijls', 'dineren', 'ding', 'dingen', 'dingetje', 'dinosauriërs', 'dinosaurussen', 'dinsdag', 'diplomaat', 'diplomatieke', 'direct', 'directeur', 'directeuren', 'directieleden', 'discipline', 'discomuziek', 'discussie', 'discussiëren', 'disneyland', 'dit', 'docent', 'dochter', 'dochters', 'document', 'dodelijke', 'doden', 'doe', 'doehetzelfzaak', 'doei', 'doek', 'doel', 'doeleinden', 'doelloos', 'doen', 'doet', 'dokter', 'dokters', 'dol', 'dolblij', 'dolfijn', 'dolgraag', 'dollar', 'dollarcent', 'dom', 'domme', 'doms', 'domste', 'donder', 'donderen', 'donker', 'donkerder', 'donkere', 'dood', 'doodde', 'doodgevroren', 'doodlopende', 'doodsstrijd', 'doodstraf', 'doof', 'dook', 'doop', 'door', 'doorbakken', 'doordat', 'doorgeboekt', 'doorgebracht', 'doorgegeven', 'doorhebt', 'doormidden', 'doorzichtig', 'doos', 'dop', 'dorp', 'dorpje', 'dorst', 'douche', 'douchen', 'douches', 'dozijn', 'dr', 'draadje', 'draaft', 'draag', 'draagt', 'draai', 'draait', 'dragen', 'drama', 'dramaclub', 'dramatische', 'dranken', 'drankje', 'drastisch', 'dreef', 'dreigt', 'dressing', 'dreumes', 'drie', 'driehonderd', 'driekoppige', 'driekwart', 'drijfvermogen', 'dringen', 'dringend', 'dringende', 'drink', 'drinkbaar', 'drinken', 'drinkt', 'droeg', 'droevig', 'drogen', 'dromen', 'dronk', 'dronken', 'droog', 'droom', 'drugs', 'druiven', 'druk', 'drukken', 'duidelijk', 'duiden', 'duif', 'duister', 'duiten', 'duits', 'duitsers', 'duitsland', 'duizend', 'duizenden', 'dure', 'duren', 'durf', 'dus', 'dusver', 'duur', 'duurde', 'duurder', 'duurkoop', 'duurs', 'duurt', 'duurzame', 'dwalen', 'dwingen', 'dwongen', 'echt', 'echte', 'echtgenoot', 'echtpaar', 'echtscheiding', 'ecologische', 'economie', 'economisch', 'ecuador', 'edgar', 'edison', 'edward', 'eekhoorn', 'eekhoorntje', 'een', 'eenmaal', 'eens', 'eentonige', 'eenvoudig', 'eenvoudige', 'eenzaam', 'eerder', 'eergisteren', 'eerlijk', 'eerst', 'eerste', 'eerstejaars', 'eersten', 'eet', 'eetlust', 'eeuwig', 'eeuwigheid', 'effect', 'egoïsme', 'egypte', 'eh', 'ei', 'eieren', 'eigen', 'eigenlijk', 'eiken', 'eikenhout', 'eiland', 'eilanden', 'eilandje', 'eind', 'einde', 'eindelijk', 'eindexamen', 'eindigde', 'eindigen', 'eindigt', 'eindstreep', 'eisen', 'eiste', 'elektricien', 'elektriciteit', 'elektrisch', 'elektrische', 'elf', 'elizabeth', 'elk', 'elkaar', 'elke', 'ellen', 'email', 'emailadres', 'emi', 'emmer', 'emoties', 'en', 'encyclopedie', 'ene', 'energie', 'energievraag', 'engel', 'engeland', 'engels', 'engelse', 'engelsman', 'engelstalige', 'engels”', 'english', 'enig', 'enige', 'enigszins', 'enkel', 'enkele', 'enorm', 'enorme', 'enz', 'enzovoort', 'enzovoorts', 'er', 'eraan', 'eraf', 'erbuiten', 'ere', 'eregast', 'erfde', 'erfelijke', 'erg', 'erge', 'ergens', 'erger', 'ergste', 'eric', 'erin', 'ermee', 'ernaar', 'ernstige', 'ernstigs', 'erop', 'erover', 'eruit', 'ervan', 'ervandoor', 'ervaring', 'ervoor', 'erwtensoep', 'eten', 'europa', 'europeanen', 'europese', 'eva', 'evans', 'even', 'evenaar', 'examen', 'examens', 'excelbestand', 'excuseer', 'excuses', 'exemplaren', 'experiment', 'exporteert', 'expres', 'extra', 'extreem', 'eén', 'fabre', 'fabriek', 'fabrieken', 'fabrieksafval', 'failliet', 'falen', 'fall', 'familie', 'families', 'familietradities', 'fan', 'fantasie', 'fantastisch', 'fantastische', 'fascinerende', 'fataal', 'favoriete', 'februari', 'feest', 'feestdagen', 'feestje', 'feit', 'feiten', 'fel', 'feliciteren', 'fenomeen', 'festivals', 'feuerbach', 'fier', 'fiets', 'fietsen', 'figuurlijke', 'fijne', 'file', 'filippijn', 'filippijnse', 'filippino', 'film', 'films', 'filosoof', 'financiële', 'finland', 'firma', 'flauw', 'fles', 'flesje', 'flessen', 'flexibeler', 'flexie', 'flik', 'flink', 'florence', 'florida', 'fluctueert', 'fluisterde', 'fluitje', 'flying', 'fora', 'formaliteit', 'formele', 'formules', 'formulier', 'fortuin', 'forums', 'foto', 'fotocamera', 'fotograferen', 'fotografie', 'fotos', 'fototoestel', 'fout', 'fouten', 'foutje', 'francisco', 'frank', 'frankrijk', 'frans', 'franse', 'fransisco', 'fred', 'freeman', 'fris', 'frisse', 'frisser', 'fronste', 'fruit', 'fruitsap', 'fuji', 'fukuoka', 'ga', 'gaan', 'gaande', 'gaat', 'gaf', 'gang', 'gangbaar', 'ganse', 'gapen', 'gas', 'gassen', 'gasten', 'gastvrijheid', 'gat', 'gate', 'gaten', 'gauw', 'gaven', 'ge', 'geacht', 'geadviseerd', 'geamuseerd', 'geantwoord', 'gearresteerd', 'geasfalteerd', 'gebak', 'gebakken', 'gebaseerd', 'gebekvecht', 'gebeld', 'gebeurd', 'gebeurde', 'gebeuren', 'gebeurt', 'gebeurtenis', 'gebied', 'geblaft', 'gebleven', 'geboekt', 'gebombardeerd', 'gebonden', 'geboortecontrole', 'geboortedag', 'geboorteland', 'geboortes', 'geboren', 'gebottelde', 'gebouw', 'gebouwd', 'gebouwen', 'gebracht', 'gebrek', 'gebroken', 'gebruik', 'gebruiken', 'gebruikmaken', 'gebruikt', 'gecompliceerde', 'geconfronteerd', 'gedaan', 'gedacht', 'gedachte', 'gedachten', 'gedane', 'gedicht', 'gedichten', 'gedood', 'gedoucht', 'gedraag', 'gedrag', 'gedragen', 'gedronken', 'gedroomd', 'gedrukt', 'geduld', 'geduldig', 'geduldiger', 'gedurende', 'gedwongen', 'geef', 'geeft', 'geel', 'geen', 'geest', 'geesten', 'gefaald', 'gefeliciteerd', 'geformuleerd', 'gefortuneerd', 'gegaan', 'gegeten', 'gegeven', 'gegraveerd', 'gehaald', 'gehaast', 'gehad', 'gehakt', 'geheel', 'geheeld', 'geheim', 'geheimen', 'gehele', 'geheugen', 'geholpen', 'gehonkbald', 'gehoor', 'gehoord', 'gehoorzamen', 'gehouden', 'gehuild', 'gehuwd', 'gek', 'gekapt', 'gekeken', 'gekend', 'geketend', 'gekke', 'gekken', 'gekleed', 'geklop', 'geklopt', 'gekocht', 'gekomen', 'gekost', 'gekozen', 'gekregen', 'gekruist', 'gekruiste', 'gekwetst', 'gelachen', 'geladen', 'gelanceerd', 'gelaten', 'geld', 'geldbedrag', 'geldig', 'geldt', 'gele', 'geleden', 'geleefd', 'geleend', 'geleerd', 'geleerde', 'gelegd', 'gelegenheid', 'geleid', 'geleidelijk', 'geleverd', 'gelezen', 'geliefd', 'gelieve', 'gelijk', 'gelijkaardig', 'gelijkspel', 'gelijkt', 'gelijkvloers', 'gelogen', 'geloof', 'geloofde', 'geloofden', 'gelooft', 'geloofwaardig', 'gelopen', 'geloven', 'gelovig', 'geluid', 'geluk', 'gelukbrengend', 'gelukkig', 'gelukkige', 'gelukkiger', 'gelukkigste', 'gelukt', 'geluncht', 'gemaakt', 'gemakkelijk', 'gemakkelijke', 'gemakkelijker', 'gematigd', 'gemeen', 'gemiddeld', 'gemist', 'gemorst', 'genaaid', 'genaamd', 'geneesheer', 'geneesmiddel', 'genezen', 'genie', 'geniet', 'genieten', 'genoeg', 'genoegen', 'genoemd', 'genomen', 'genoot', 'genoten', 'genève', 'geoefend', 'geopend', 'george', 'georges', 'georgië', 'georgo', 'gepaard', 'gepakt', 'geplant', 'gepleegd', 'geprobeerd', 'geproduceerd', 'gepubliceerd', 'geraadpleegd', 'geraak', 'geraakt', 'geraden', 'gerechten', 'gerechtigheid', 'gered', 'gereed', 'gereedschap', 'geregeld', 'geregend', 'geregistreerd', 'gerepareerd', 'gereserveerd', 'geresulteerd', 'gericht', 'geringste', 'geroemd', 'geroepen', 'geronnen', 'gerucht', 'gerund', 'gerust', 'geschat', 'geschenk', 'geschiedenis', 'geschikt', 'geschil', 'geschilderd', 'geschreven', 'geserveerd', 'geslaagd', 'geslagen', 'geslepen', 'gesloten', 'gesneeuwd', 'gespeeld', 'gespen', 'gesprek', 'gesproken', 'gestegen', 'gestemd', 'gesteriliseerd', 'gestimuleerd', 'gestoken', 'gestolen', 'gestoord', 'gestopt', 'gestorven', 'gestraft', 'gestrest', 'gestudeerd', 'gestuurd', 'get', 'getal', 'getallen', 'geteisterd', 'geteld', 'getelefoneerd', 'getennist', 'getrouwd', 'getuige', 'getuigen', 'geur', 'gevaar', 'gevaarlijk', 'geval', 'gevallen', 'gevangen', 'gevangene', 'gevangenis', 'gevat', 'geven', 'geverfd', 'gevierd', 'gevoelens', 'gevoelig', 'gevoerd', 'gevolg', 'gevonden', 'gevraagd', 'gevuld', 'gewaarschuwd', 'gewacht', 'gewas', 'gewassen', 'geweer', 'geweest', 'geweldig', 'geweldige', 'gewend', 'gewenst', 'gewerkt', 'gewicht', 'gewichtseenheid', 'gewiekst', 'gewijd', 'gewild', 'gewillig', 'gewond', 'gewonnen', 'gewoon', 'gewoond', 'gewoonlijk', 'gewoontes', 'gewoonweg', 'geworden', 'gewrichten', 'gezakt', 'gezegd', 'gezegend', 'gezelschap', 'gezet', 'gezeten', 'gezicht', 'gezichten', 'gezichtspunt', 'gezichtsverlies', 'gezien', 'gezin', 'gezinnen', 'gezinsleden', 'gezinsleven', 'gezocht', 'gezond', 'gezondheid', 'gezongen', 'gezwollen', 'gezwommen', 'geëindigd', 'geërfd', 'geïndustrialiseerd', 'geïnteresseerd', 'geïntroduceerd', 'geïsoleerd', 'giet', 'gifu', 'gigantische', 'gij', 'ginds', 'ging', 'gingen', 'gist', 'gister', 'gisteravond', 'gisteren', 'gisterenavond', 'gisternacht', 'gisterochtend', 'gitaar', 'glaasje', 'glansrijke', 'glas', 'glasscherven', 'glazen', 'glimlach', 'glimlachen', 'glimlachend', 'glimlacht', 'glimlachte', 'glimlachten', 'gloednieuw', 'god', 'goed', 'goede', 'goedemorgen', 'goedenacht', 'goedenavond', 'goederen', 'goedkoop', 'goedkoopste', 'goedkoper', 'goedkopere', 'goedkopers', 'goeiemorgen', 'goeierik', 'gok', 'golden', 'golf', 'golfbaan', 'golfclub', 'golfen', 'goochelaar', 'gooi', 'gooide', 'gordijn', 'gortig', 'goud', 'gouden', 'goudprijs', 'graag', 'grace', 'graden', 'graham', 'grammatica', 'grammaticaal', 'grap', 'grapje', 'grappige', 'gras', 'gratis', 'graven', 'grazen', 'green', 'greene', 'greep', 'grens', 'grenst', 'grenzen', 'grieks', 'griep', 'grijze', 'groeide', 'groeien', 'groeiproces', 'groeit', 'groen', 'groenland', 'groente', 'groenten', 'groep', 'groeten', 'grond', 'gronden', 'grondige', 'grondstoffen', 'grondwet', 'groot', 'grootbrittannië', 'grootmoeder', 'grootste', 'grootvader', 'grot', 'grote', 'groter', 'gunst', 'gênante', 'haaien', 'haakjes', 'haal', 'haalde', 'haalt', 'haar', 'haartje', 'haarzelf', 'haast', 'haasten', 'haastige', 'haastte', 'haastten', 'haat', 'had', 'hadden', 'hadt', 'hakone', 'halen', 'half', 'halfzus', 'hallo', 'halloween', 'halt', 'halte', 'halve', 'ham', 'hamburger', 'hamburgers', 'hamlet', 'hanako', 'hand', 'handdoek', 'handelde', 'handelen', 'handen', 'handig', 'handschrift', 'handtas', 'handtekeningen', 'hangt', 'hapje', 'harajuku', 'hard', 'harde', 'harder', 'haren', 'harmonie', 'hart', 'hartelijk', 'hashimoto', 'haten', 'haven', 'havenstad', 'hawaï', 'he', 'heb', 'hebben', 'hebbende', 'hebt', 'heden', 'hee', 'heeft', 'heel', 'heelal', 'heen', 'heer', 'heerlijk', 'heerser', 'heet', 'heiligt', 'heimwee', 'heir', 'heisa', 'hek', 'hekel', 'hel', 'helaas', 'held', 'helder', 'helderblauw', 'helderrood', 'heldin', 'hele', 'heleboel', 'helemaal', 'helen', 'helens', 'helft', 'helling', 'help', 'helpen', 'helpt', 'hem', 'hemd', 'hemdknoopje', 'hemel', 'hemzelf', 'hen', 'henry', 'herfst', 'herhaal', 'herhaalde', 'herhaalt', 'herhalen', 'herhaling', 'herinner', 'herinnerde', 'herinneren', 'herinnering', 'herinneringen', 'herinnert', 'herkende', 'herrie', 'hersteld', 'herstellen', 'hert', 'hertog', 'herzien', 'herziene', 'herziening', 'het', 'heterdaad', 'hetzelfde', 'heuvel', 'heuvels', 'hevige', 'hield', 'hielden', 'hielp', 'hielpen', 'hier', 'hierheen', 'hiermee', 'hierover', 'hieruit', 'hiervoor', 'hij', 'hijsen', 'hiltonhotel', 'hing', 'hiroko', 'hiromi', 'hiroshi', 'hiroshima', 'hisashi', 'historische', 'hit', 'hitler', 'hitomi', 'hitte', 'hobby', 'hobbys', 'hobson', 'hoe', 'hoed', 'hoef', 'hoeft', 'hoek', 'hoekje', 'hoelang', 'hoeraatjes', 'hoest', 'hoeveel', 'hoeven', 'hoever', 'hoewel', 'hoezo', 'hoge', 'hoger', 'hogere', 'hoi', 'hok', 'hokkaido', 'homofonen', 'hond', 'honden', 'honderd', 'honderden', 'hong', 'hongarije', 'honger', 'hongerig', 'hongerige', 'hongersnood', 'honing', 'honkbal', 'honkballen', 'honkbalploeg', 'honkbalspeler', 'honkbalspelers', 'honkbalwedstrijd', 'hoofd', 'hoofdkwartier', 'hoofdletters', 'hoofdpijn', 'hoofdstad', 'hoofdstuk', 'hoofdvak', 'hoog', 'hoogopgeleide', 'hoogte', 'hoogtepunt', 'hooikoorts', 'hoop', 'hoopvolle', 'hoor', 'hoorde', 'hoorden', 'hoost', 'hopen', 'hopkins', 'horen', 'horens', 'horizon', 'horloge', 'horrorfilm', 'horrorfilms', 'hotdog', 'hotel', 'hotelkamer', 'hotelreservering', 'hotels', 'hou', 'houd', 'houden', 'houdt', 'hout', 'houten', 'huidige', 'huidziekte', 'huil', 'huilde', 'huilen', 'huilt', 'huis', 'huisdier', 'huisdieren', 'huisdierenkerkhof', 'huishoudelijk', 'huisstof', 'huisvrouw', 'huiswerk', 'huizen', 'hulp', 'hulpbronnen', 'hulpkreet', 'hulpmiddel', 'hun', 'huren', 'huur', 'huwelijk', 'huwelijken', 'hysterisch', 'hè', 'hé', 'i', 'idee', 'ideeën', 'identiteitsbewijs', 'idioot', 'ie', 'ieder', 'iedere', 'iedereen', 'iemand', 'iemands', 'ierland', 'iets', 'ietsje', 'ijs', 'ijsberen', 'ijshockey', 'ijsjes', 'ijskoud', 'ijsland', 'ijverig', 'ijzer', 'ijzerhandel', 'ijzerwarenwinkel', 'ik', 'imiteren', 'immigranten', 'immuun', 'importeren', 'in', 'inbreker', 'inbrekers', 'incarijk', 'incas', 'inchecken', 'incident', 'inclusief', 'inderdaad', 'india', 'indonesië', 'indruk', 'indrukwekkend', 'industrialisering', 'industriële', 'inflatie', 'informatie', 'ingenieur', 'ingestapt', 'ingevoerd', 'ingewikkelde', 'injectienaald', 'ink', 'inkt', 'inlichting', 'inneemt', 'inschatten', 'insecten', 'inspanning', 'inspanningen', 'inspiratie', 'inspiratiebron', 'instemmen', 'instorten', 'instructies', 'intelligent', 'interessant', 'interessante', 'interesse', 'interesseer', 'interesseert', 'interesseren', 'internationale', 'interpreteer', 'intersessant', 'intieme', 'intrigeren', 'invloed', 'invoer', 'inwoners', 'iran', 'iris', 'irriteerde', 'is', 'italiaan', 'italiaans', 'italiaanse', 'italië', 'ito', 'ivriet', 'ja', 'jaar', 'jacht', 'jachtclub', 'jachten', 'jack', 'jakarta', 'jakobo', 'jaloezie', 'jammer', 'jan', 'jane', 'januari', 'japan', 'japanner', 'japanners', 'japans', 'japanse', 'japanstandaardtijd', 'jaren', 'jarig', 'jas', 'jasje', 'jay', 'jazz', 'jazzmuziek', 'je', 'jean', 'jeff', 'jemig', 'jeminee', 'jesus', 'jetlag', 'jeugd', 'jeugdherberg', 'jezelf', 'jezus', 'jij', 'jill', 'jim', 'jimmy', 'jims', 'joan', 'job', 'joegoslavië', 'joel', 'joggen', 'john', 'johnnie', 'johnson', 'jon', 'jones', 'jong', 'jonge', 'jongeman', 'jongen', 'jongens', 'jonger', 'jongere', 'jongeren', 'jongetje', 'jordan', 'jou', 'journalist', 'jouw', 'jouwe', 'jst', 'judy', 'juf', 'juffrouw', 'juist', 'juiste', 'juli', 'julia', 'jullie', 'jumi', 'juni', 'jupiter', 'jurk', 'kaarsen', 'kaarslicht', 'kaart', 'kaarten', 'kaartje', 'kaartjes', 'kaas', 'kaft', 'kakogawa', 'kalkoen', 'kalm', 'kam', 'kamer', 'kamers', 'kamperen', 'kan', 'kanaal', 'kanazawa', 'kandidaat', 'kandidaten', 'kangoeroe', 'kanker', 'kans', 'kant', 'kantoor', 'kapot', 'kapotgemaakt', 'kapper', 'kapseisde', 'kapsel', 'karakter', 'karaoke', 'karen', 'karlo', 'kas', 'kassa', 'kast', 'kasteel', 'kastelen', 'kat', 'kate', 'kater', 'kathedraal', 'katholieke', 'katholieken', 'kato', 'katoen', 'katoenproducten', 'katten', 'kauwgom', 'kauwt', 'kaviaar', 'kawogoe', 'keek', 'keel', 'keelpijn', 'keer', 'keert', 'keihard', 'keiko', 'keken', 'kelder', 'keller', 'kelnerin', 'ken', 'kende', 'kenia', 'kenji', 'kennen', 'kennis', 'kent', 'kenzi', 'kerel', 'keren', 'kerk', 'kerkklokken', 'kernwapens', 'kersenbloesem', 'kerst', 'kerstboom', 'kerstcadeau', 'kerstfeest', 'kerstman', 'kerstmis', 'kerstvakantie', 'keuken', 'keukens', 'keulen', 'keus', 'keuze', 'kiekeboe', 'kies', 'kietelen', 'kiezen', 'kijk', 'kijken', 'kijkt', 'kikker', 'kikkers', 'kikkervisjes', 'kilo', 'kilometer', 'kind', 'kinderachtig', 'kinderen', 'kinderschoenen', 'kinderspel', 'kindertijd', 'kindje', 'kindsheid', 'king', 'kioto', 'kip', 'kippenvel', 'klaar', 'klaarde', 'klaarmaken', 'kladblok', 'klagen', 'klanten', 'klap', 'klas', 'klasgenoten', 'klaslokaal', 'klassieke', 'klavertjevier', 'klavier', 'kleden', 'kleding', 'kleed', 'kleedt', 'kleefde', 'kleermakerszit', 'klein', 'kleine', 'kleiner', 'kleiners', 'kleingeld', 'kleinigheid', 'kleinste', 'kleintjes', 'kleren', 'kletsnat', 'kleur', 'klif', 'klimaat', 'klimmen', 'klimt', 'klinkt', 'klok', 'klokje', 'klom', 'kloppen', 'klopt', 'klopte', 'kluisje', 'knap', 'knappe', 'knapste', 'kniegewricht', 'knippen', 'knipt', 'knipte', 'knoflook', 'knoop', 'knop', 'knopen', 'knuppel', 'knuppels', 'koalabeer', 'koalas', 'kobe', 'kocht', 'koe', 'koeien', 'koek', 'koeken', 'koekjes', 'koeweit', 'koffer', 'koffie', 'koffiekopjes', 'koffiepauze', 'koffies', 'kogels', 'kok', 'koken', 'kokkin', 'koko', 'kolen', 'kolonie', 'kom', 'komedies', 'komen', 'komend', 'komende', 'komkommer', 'komt', 'kon', 'konden', 'kong', 'konijn', 'konijnen', 'koning', 'koningen', 'koningin', 'koninklijke', 'koninkrijk', 'kooi', 'kooien', 'kook', 'kookkunst', 'kookt', 'koop', 'koopt', 'koorts', 'koos', 'kop', 'kopen', 'koper', 'kopie', 'kopieën', 'kopiëren', 'kopje', 'koppen', 'koppigheid', 'korea', 'kort', 'korte', 'kortere', 'kost', 'kostbaarder', 'kosten', 'kostte', 'kou', 'koud', 'koude', 'koudegolf', 'kouder', 'kouds', 'kousen', 'kozijn', 'kraai', 'kraanvogels', 'kracht', 'krant', 'kranten', 'krap', 'kredietkaart', 'kreeg', 'kriebels', 'krijg', 'krijgen', 'krijgt', 'krijt', 'kring', 'krioelt', 'kritiek', 'krop', 'kruipen', 'kruipt', 'kruispunt', 'kubieke', 'kudde', 'kuisen', 'kumiko', 'kun', 'kunnen', 'kunst', 'kunstenaar', 'kunstgalerij', 'kunstmatig', 'kunstsneeuw', 'kunt', 'kwaad', 'kwaliteit', 'kwam', 'kwamen', 'kweekt', 'kwestie', 'kwetsen', 'kwijt', 'kwispelend', 'kwispelende', 'kyoto', 'kyushu', 'la', 'laag', 'laagste', 'laarzen', 'laat', 'laatst', 'laatste', 'lach', 'lachen', 'lacht', 'lachte', 'ladder', 'laden', 'lag', 'lage', 'lager', 'lagere', 'laken', 'lamp', 'lamsvlees', 'land', 'landde', 'landen', 'landing', 'landschap', 'landt', 'lang', 'lange', 'langer', 'langs', 'langst', 'langste', 'langzaam', 'langzamer', 'lansing', 'laptop', 'las', 'lasagne', 'last', 'lastig', 'lastigvallen', 'laten', 'later', 'latijn', 'lawaai', 'leden', 'leed', 'leef', 'leefde', 'leeft', 'leeftijd', 'leeftijden', 'leeg', 'leek', 'leen', 'leende', 'leent', 'leer', 'leerde', 'leerden', 'leerkracht', 'leerkrachten', 'leerling', 'leerlingen', 'leermeester', 'leermethode', 'leert', 'lees', 'leest', 'leeuw', 'leeuwen', 'lef', 'leg', 'lege', 'leger', 'leggen', 'legt', 'leiding', 'leidinggevenden', 'leidt', 'lek', 'lekke', 'lekker', 'lekkers', 'lekt', 'lelies', 'lelijk', 'lenen', 'lengte', 'lengtemaat', 'lente', 'leraar', 'lerares', 'leren', 'les', 'lesboek', 'lesgeeft', 'lesgeven', 'lessen', 'lessenaar', 'let', 'letten', 'letter', 'letterlijk', 'letters', 'leugens', 'leuk', 'leuke', 'leuks', 'leunde', 'leve', 'leven', 'levend', 'levende', 'levendig', 'levensdoel', 'levensgevaar', 'levensonderhoud', 'levensstijl', 'levensverhaal', 'levensverzekering', 'leveren', 'levert', 'lezen', 'lezing', 'lichaam', 'lichamelijke', 'licht', 'lichtblauw', 'lichte', 'lichter', 'lichtjes', 'lid', 'lied', 'liedje', 'liedjes', 'lief', 'liefde', 'liefdesbrief', 'liefdesverhalen', 'liefst', 'liefste', 'lieftallige', 'lieg', 'liegt', 'liep', 'liepen', 'liet', 'lieten', 'lieve', 'lievelingsacteur', 'lievelingseten', 'lievelingsgerecht', 'lievelingsliedje', 'lievelingsschrijver', 'lievelingsseizoen', 'lievelingssmaak', 'lievelingsspel', 'lievelingsspeler', 'lievelingssport', 'liever', 'lieverd', 'lift', 'liften', 'liggen', 'ligt', 'lijdt', 'lijken', 'lijkt', 'lijn', 'lijnen', 'lijst', 'lincoln', 'lincolns', 'linda', 'linkerarm', 'linkervoet', 'links', 'linksaf', 'lint', 'lisa', 'liter', 'liz', 'logeer', 'logica', 'lokaal', 'londen', 'london', 'longkanker', 'longontsteking', 'lood', 'looft', 'loog', 'look', 'loon', 'loonsverhoging', 'loont', 'loop', 'loopneus', 'loopt', 'lopen', 'loper', 'los', 'lossen', 'lost', 'loste', 'lot', 'loterij', 'louter', 'lucht', 'luchthaven', 'luchtkastelen', 'lucifer', 'lucy', 'lui', 'luid', 'luide', 'luiden', 'luider', 'luidt', 'luiheid', 'luipaarden', 'luister', 'luisterden', 'luisteren', 'lukken', 'lukt', 'lunch', 'lunchen', 'lust', 'luxe', 'lynn', 'm', 'maagkanker', 'maagpijn', 'maak', 'maakt', 'maakte', 'maakten', 'maal', 'maalt', 'maaltijd', 'maaltijden', 'maan', 'maand', 'maandag', 'maande', 'maandelijks', 'maanden', 'maanraket', 'maansverduistering', 'maar', 'maart', 'maat', 'maatregelen', 'mac', 'macbeth', 'machine', 'machines', 'machineschrijven', 'macht', 'machtiger', 'madrid', 'mag', 'magazine', 'majoeko', 'maken', 'makkelijk', 'makkelijke', 'makkelijker', 'malaria', 'maleisië', 'mama', 'man', 'mand', 'mandje', 'manier', 'manieren', 'mannen', 'manpower', 'map', 'marconi', 'mari', 'maria', 'marias', 'marie', 'marios', 'markt', 'mars', 'mary', 'masao', 'massage', 'mate', 'materiaal', 'mathematische', 'mayapriesters', 'mayas', 'mayuko', 'mazelen', 'mcdonalds', 'me', 'medaille', 'medelijden', 'medewerking', 'medicament', 'medicijn', 'medicijnen', 'medicijnfles', 'medisch', 'medische', 'medium', 'mee', 'meebrengen', 'meega', 'meegaan', 'meegebracht', 'meekomen', 'meel', 'meen', 'meende', 'meenemen', 'meer', 'meerdere', 'meest', 'meestal', 'meeste', 'meester', 'meesterwerken', 'meg', 'megafeps', 'mei', 'meid', 'meisje', 'meisjes', 'melk', 'melkproducten', 'melkwegstelsel', 'melodie', 'meloen', 'meloenen', 'men', 'meneer', 'meng', 'mengsel', 'menigte', 'mening', 'mens', 'mensen', 'mensheid', 'menstruatiecyclus', 'menu', 'merendeels', 'merk', 'merken', 'mes', 'met', 'metaal', 'meteen', 'meten', 'meter', 'methode', 'methodisch', 'metrostation', 'meubels', 'meubilair', 'mevrouw', 'mexicaans', 'mexico', 'mezelf', 'michigan', 'microsoft', 'middag', 'middageten', 'middagpauze', 'middags', 'middaguur', 'middel', 'middelbare', 'middelen', 'midden', 'middenoosten', 'middernacht', 'mij', 'mijl', 'mijn', 'mijne', 'mijne”', 'mijnheer', 'mijzelf', 'mike', 'mild', 'milieu', 'milieuproblemen', 'milieuvervuiling', 'militaire', 'miljard', 'miljarden', 'miljoen', 'miljoenen', 'miljonair', 'miller', 'mimi', 'min', 'minder', 'minderjarig', 'mineralen', 'minimum', 'minirokjes', 'minste', 'minstens', 'minuten', 'minuut', 'minuutje', 'mis', 'misbruik', 'misdaad', 'mishima', 'miskraam', 'mislukt', 'miso', 'misschien', 'misselijk', 'missen', 'mississippirivier', 'mist', 'miste', 'misverstand', 'mn', 'mocht', 'modder', 'mode', 'model', 'modelvliegtuigjes', 'moderne', 'moe', 'moed', 'moeder', 'moedertaal', 'moedig', 'moeilijk', 'moeilijke', 'moeilijkheid', 'moeilijkste', 'moeite', 'moest', 'moesten', 'moet', 'moeten', 'mogelijk', 'mogelijkheden', 'mogelijkheid', 'mogen', 'molly', 'moment', 'momenteel', 'mompel', 'mond', 'mondeling', 'mondt', 'monster', 'montero', 'moogt', 'mooi', 'mooie', 'mooier', 'moois', 'mooist', 'mooiste', 'moord', 'moordenaar', 'morgen', 'morgenmiddag', 'morgenochtend', 'morgens', 'morgenstond', 'morren', 'morste', 'moto', 'motor', 'mozart', 'mpspeler', 'mr', 'mug', 'muggen', 'muiriel', 'muis', 'muizen', 'munten', 'muntjes', 'muntstuk', 'murata', 'muren', 'museum', 'musici', 'musicus', 'muur', 'muziek', 'muziektalent', 'muzikaal', 'muzikant', 'mysterie', 'mysterieuse', 'mysterieuze', 'na', 'naaimachine', 'naam', 'naar', 'naarmate', 'naartoe', 'naast', 'nabije', 'nacht', 'nachten', 'nachts', 'nadat', 'nadenken', 'nagasaki', 'nagel', 'nagelnieuw', 'nagels', 'nagerecht', 'nakano', 'nam', 'namen', 'namiddag', 'nancy', 'naoko', 'naomi', 'napels', 'napoleon', 'nara', 'narita', 'nasa', 'nat', 'naties', 'nationale', 'natte', 'nature', 'natuur', 'natuurkunde', 'natuurlijk', 'natuurlijke', 'nauw', 'nauwelijks', 'nederland', 'nederlanders', 'nederlands', 'nederlandse', 'nee', 'neef', 'neem', 'neemt', 'neen', 'neer', 'neerknallen', 'neerschieten', 'neerzetten', 'negen', 'negentien', 'neiging', 'nek', 'nemen', 'nergens', 'nerveus', 'nessie', 'net', 'netjes', 'neus', 'neutraal', 'neven', 'new', 'nicht', 'nichten', 'nick', 'niemand', 'nies', 'niet', 'nietalcoholische', 'nietroker', 'nietrokers', 'niets', 'nietsdoen', 'nietwaar', 'niet”', 'nieuw', 'nieuwe', 'nieuwjaar', 'nieuws', 'nieuwsgierig', 'nieuwsgierigheid', 'nieuwste', 'nieuwzeeland', 'nijl', 'nikon', 'niks', 'niveau', 'noch', 'nodeloos', 'nodig', 'nodigde', 'noem', 'noemde', 'noemen', 'noemt', 'nog', 'nogal', 'nogmaals', 'nood', 'noodzaak', 'nooit', 'noorden', 'noorderzon', 'noordpoolgebied', 'normaal', 'normaliter', 'noteer', 'noten', 'nou', 'nu', 'nul', 'nummer', 'nummers', 'nut', 'nutteloos', 'nuttig', 'o', 'ober', 'object', 'observatie', 'oceaan', 'ochtend', 'ochtendgloren', 'oefenkamp', 'oeps', 'oerwoud', 'oesters', 'oevers', 'of', 'offerte', 'ogawa', 'ogen', 'ogenblik', 'ogenblikje', 'oh', 'ok', 'okinawa', 'oktober', 'oké', 'olie', 'olifanten', 'olijftak', 'olympische', 'om', 'omdat', 'omdraaien', 'omelet', 'omgaan', 'omgekomen', 'omgeving', 'omhoog', 'omringd', 'omroeper', 'omroepers', 'omschrijven', 'omsingeld', 'omwisselen', 'onafhankelijk', 'onafhankelijker', 'onafscheidelijk', 'onbekende', 'onbeschoft', 'onbewolkt', 'ondanks', 'onder', 'onderaan', 'onderbrak', 'onderbreken', 'ondergegaan', 'ondergesneeuwd', 'ondergrondse', 'onderhevig', 'onderhouden', 'onderling', 'onderschat', 'onderschatten', 'onderscheiden', 'ondersteunt', 'onderstreepte', 'ondertekenen', 'ondervinding', 'onderweg', 'onderwerp', 'onderwijs', 'onderwijssysteem', 'onderwijzen', 'onderzocht', 'onderzoek', 'onderzoekt', 'ondeugend', 'ondoordacht', 'oneindig', 'oneven', 'ongeacht', 'ongebruikelijk', 'ongehuwd', 'ongelijk', 'ongelofelijk', 'ongelofelijke', 'ongelooflijk', 'ongeluk', 'ongelukken', 'ongelukkig', 'ongemakkelijk', 'ongetwijfeld', 'ongevaarlijk', 'ongeval', 'ongeveer', 'ongezond', 'ongunstig', 'onkosten', 'onkruid', 'onlangs', 'onmiddellijk', 'onmisbaar', 'onmisbare', 'onmogelijk', 'onmogelijke', 'onnodige', 'onopgelost', 'onoplettendheid', 'onredelijk', 'onregelmatige', 'ons', 'onscherp', 'onschuld', 'onschuldig', 'onszelf', 'ontbeten', 'ontbijt', 'ontbijten', 'ontbreekt', 'ontbreken', 'ontdek', 'ontdekt', 'ontdekte', 'ontelbaar', 'onthaal', 'onthou', 'onthouden', 'ontkende', 'ontkomen', 'ontmoet', 'ontmoeten', 'ontmoeting', 'ontmoette', 'ontnam', 'ontslaan', 'ontslaat', 'ontslag', 'ontslagen', 'ontsnappen', 'ontsnapt', 'ontsnapte', 'ontspan', 'ontspannen', 'ontspoord', 'ontstaan', 'ontstond', 'ontvangen', 'ontwijk', 'ontwikkelde', 'ontwikkelen', 'ontworpen', 'ontzettend', 'ontzettende', 'onuitvoerbaar', 'onverdraaglijk', 'onverstandig', 'onverwacht', 'onverwachte', 'onvolledig', 'onvrijwillig', 'onwaarschijnlijk', 'onweerstaanbaar', 'onwetendheid', 'onze', 'onzichtbaar', 'onzin', 'oog', 'oogst', 'oogsten', 'ooit', 'ook', 'oom', 'oor', 'oorlog', 'oorsprong', 'oorzaak', 'oost', 'oosten', 'oostenrijk', 'oostenrijkse', 'op', 'opa', 'opdagen', 'opeenvolgende', 'open', 'openbaar', 'opende', 'openen', 'opengelaten', 'openhartig', 'openingsceremonie', 'openstaande', 'opent', 'operatie', 'opereerde', 'opeten', 'opgave', 'opgebeld', 'opgebleven', 'opgedaagd', 'opgeef', 'opgegeten', 'opgegeven', 'opgegroeid', 'opgelost', 'opgelucht', 'opgemaakt', 'opgepakt', 'opgericht', 'opgeruimd', 'opgeschreven', 'opgeslagen', 'opgestaan', 'opgesteld', 'opgeven', 'opgewassen', 'ophalen', 'opheffen', 'ophield', 'ophouden', 'opinie', 'opklaren', 'opkomen', 'oplaten', 'opletten', 'oplossen', 'oplossing', 'opluchting', 'opmerkelijke', 'opmerking', 'opnemen', 'opnieuw', 'oppakken', 'oppervlakte', 'oppikken', 'opschepperij', 'opschrijven', 'opstaan', 'opstaat', 'opstond', 'optellen', 'optillen', 'optimist', 'optimistisch', 'opvoeding', 'opvolgen', 'opwarmen', 'opwinding', 'opzet', 'opzichten', 'opzij', 'orde', 'oren', 'organisatie', 'orgel', 'origineel', 'originele', 'oriëntatie', 'oriëntatievermogen', 'orleans', 'os', 'osaka', 'ottawa', 'oud', 'oude', 'ouder', 'oudere', 'ouders', 'oudste', 'oven', 'over', 'overal', 'overdraagbare', 'overeen', 'overgedragen', 'overgeef', 'overgekookt', 'overgezet', 'overhaalden', 'overhemd', 'overigens', 'overjas', 'overkant', 'overkwam', 'overleden', 'overleed', 'overleefden', 'overleggen', 'overleven', 'overlevende', 'overlijdt', 'overmorgen', 'overnachten', 'overnachtten', 'overreden', 'overschat', 'overspoeld', 'overstappen', 'overstromen', 'overstroming', 'overstromingen', 'overtreed', 'overtuigd', 'overvloed', 'overvloedige', 'overwegen', 'overwinnen', 'overwint', 'overwoog', 'overzwemmen', 'oxford', 'paar', 'paard', 'paarden', 'paardrijden', 'paaseieren', 'pachter', 'paco', 'pagina', 'paginas', 'pak', 'pakje', 'pakken', 'pakket', 'pakketje', 'paleis', 'pan', 'pannenkoeken', 'papa', 'papier', 'paradijs', 'parallel', 'paraplu', 'paraplus', 'pardon', 'parels', 'parijs', 'park', 'parken', 'parkeren', 'parking', 'partij', 'partijleider', 'pas', 'pasen', 'paspoort', 'passagiers', 'passen', 'past', 'patiënt', 'patiënten', 'paul', 'paus', 'pauze', 'pauzeren', 'pc', 'peer', 'pellen', 'pen', 'penicilline', 'pennen', 'pensioen', 'peper', 'per', 'percent', 'perfecte', 'perron', 'perry', 'personages', 'personen', 'persoon', 'persoonlijk', 'persoonlijke', 'peru', 'perziken', 'pet', 'peter', 'petje', 'petroleum', 'phoenix', 'pianist', 'piano', 'pianoles', 'pianosolo', 'picasso', 'pijl', 'pijn', 'pijpenstelen', 'pijpestelen', 'pikdonker', 'piknikken', 'pikzwart', 'piloot', 'pingpong', 'pinokkio', 'piramide', 'pistool', 'pittoreske', 'pizza', 'plaats', 'plaatsen', 'plaatshebben', 'plaatsnemen', 'plaatsvinden', 'plafond', 'plakje', 'plakkaten', 'plakten', 'plan', 'planeten', 'plank', 'planken', 'plannen', 'planning', 'plant', 'planten', 'plastic', 'platteland', 'pleegde', 'plein', 'plek', 'plezier', 'plicht', 'ploeg', 'plonsen', 'plots', 'plotseling', 'plotselinge', 'pochi', 'podium', 'poedersneeuw', 'poes', 'poets', 'poetste', 'poging', 'pogingen', 'polen', 'politicus', 'politie', 'politieagent', 'politieauto', 'politiebureau', 'politiek', 'politieman', 'pollen', 'pols', 'pond', 'pond”', 'pool', 'poort', 'pop', 'popmuziek', 'poppen', 'populair', 'populairder', 'populaire', 'portefeuille', 'portemonnee', 'portret', 'portugese', 'post', 'postbode', 'posters', 'postkantoor', 'postte', 'postzegel', 'postzegelalbum', 'postzegels', 'pot', 'poten', 'potentiële', 'potloden', 'potlood', 'poëten', 'poëzie', 'praat', 'prachtig', 'prachtige', 'practisch', 'praktijk', 'praktisch', 'praten', 'precies', 'precieze', 'preciezer', 'precise', 'president', 'prettig', 'prettige', 'pretty', 'prijs', 'prijzen', 'prikje', 'prima', 'principes', 'prins', 'printen', 'prioriteiten', 'privé', 'privédetective', 'probeer', 'probeerde', 'probeerden', 'probeert', 'proberen', 'probleem', 'problemen', 'procent', 'proces', 'produceert', 'produceren', 'product', 'productie', 'professor', 'proficiat', 'profiel', 'profiteerde', 'programma', 'programmas', 'programmeren', 'project', 'projectgroep', 'promotie', 'pronounce', 'proost', 'proosten', 'propositie', 'prullenbak', 'pseudowetenschap', 'psychologie', 'pub', 'publiceerde', 'publiceerden', 'publiek', 'punt', 'punten', 'puntje', 'puree', 'put', 'qua', 'quito', 'raad', 'raadde', 'raak', 'raakt', 'raakte', 'raam', 'raar', 'race', 'racket', 'raden', 'radikaler', 'radio', 'radium', 'rainbow', 'raken', 'raket', 'rammel', 'ramp', 'rand', 'rap', 'rapport', 'rare', 'rat', 'ratten', 'rauw', 'rauwe', 'raúl', 'reageert', 'realiteit', 'recente', 'recept', 'recht', 'rechtdoor', 'rechten', 'rechter', 'rechterarm', 'rechterbeen', 'rechterhand', 'rechts', 'rechtsaf', 'rechtstreekse', 'redacteur', 'redactie', 'redde', 'rede', 'redelijk', 'reden', 'redenen', 'rederij', 'reed', 'reeds', 'reflecteert', 'regeerde', 'regeert', 'regel', 'regelen', 'regelmatig', 'regelmatige', 'regels', 'regen', 'regenachtig', 'regenboog', 'regendag', 'regende', 'regenen', 'regenjas', 'regenscherm', 'regenseizoen', 'regent', 'registreerden', 'registreren', 'reis', 'reisden', 'reisgidsen', 'reizen', 'reiziger', 'reken', 'rekenen', 'rekening', 'rekeningnummer', 'rekenmachine', 'relaxen', 'religie', 'religieus', 'religieuze', 'rem', 'remmen', 'ren', 'rende', 'rennen', 'rent', 'rente', 'rentevoeten', 'repareren', 'republiek', 'reservatie', 'reserveren', 'resolutie', 'resoluut', 'respect', 'respecteer', 'rest', 'restaurant', 'restaurants', 'restjes', 'resultaat', 'resultaten', 'retourkaartje', 'reuzen', 'reuzenpandas', 'revolutie', 'richt', 'richting', 'richtte', 'riep', 'rigide', 'rij', 'rijbewijs', 'rijd', 'rijden', 'rijdt', 'rijinstructeur', 'rijk', 'rijkdom', 'rijkdommen', 'rijken', 'rijn', 'rijp', 'rijpen', 'rijst', 'rijtuigen', 'rilde', 'ring', 'rinitis', 'rinkelen', 'risico', 'risicos', 'rite', 'ritme', 'rivier', 'rivieren', 'robert', 'rock', 'rode', 'roekeloos', 'roep', 'roepen', 'roept', 'roest', 'roger', 'rogge', 'rok', 'roken', 'roker', 'rol', 'rolschaatsen', 'roman', 'romans', 'rome', 'romeinse', 'rond', 'rondom', 'rood', 'roods', 'rook', 'rookt', 'rookte', 'room', 'roos', 'rooskleurige', 'rosa', 'rosé', 'rot', 'roze', 'rozen', 'rubber', 'rubén', 'rug', 'ruige', 'ruik', 'ruiken', 'ruikt', 'ruilde', 'ruim', 'ruimte', 'ruimteschip', 'ruimtevaart', 'ruimtewetenschap', 'rundvlees', 'runnen', 'runt', 'rusland', 'russisch', 'rust', 'rusten', 'rustig', 'rustten', 'ruth', 'ruw', 'ruzie', 'röntgenfoto', 's', 'saai', 'sachiko', 'sadako', 'saignant', 'saitama', 'saitou', 'salade', 'sally', 'salsa', 'sam', 'samen', 'samengesteld', 'samenleving', 'samenwerking', 'san', 'sanda', 'sandwichen', 'sandwiches', 'sap', 'sapporo', 'sasaki', 'sasayama', 'sato', 'saus', 'sayoko', 'schaadt', 'schaakspelen', 'schaal', 'schaam', 'schaamde', 'schaap', 'schaapskleren', 'schaar', 'schaars', 'schaats', 'schaatsen', 'schade', 'schaden', 'schaduw', 'schaften', 'schaken', 'schamen', 'schapen', 'schapenmelk', 'scharen', 'schatje', 'schatten', 'schattig', 'schattige', 'scheef', 'scheelde', 'scheen', 'scheer', 'scheiden', 'scheikunde', 'schelen', 'schelpdieren', 'schema', 'schepen', 'scheppen', 'scheren', 'scherp', 'scherpe', 'schertste', 'schets', 'scheurt', 'schiet', 'schieten', 'schietgraag', 'schijn', 'schijnbaar', 'schijnt', 'schilder', 'schilderde', 'schilderen', 'schilderij', 'schilderijen', 'schillen', 'schip', 'schitterden', 'schmidt', 'schoen', 'schoenen', 'schoenmaat', 'schoenveters', 'schoenzool', 'schold', 'scholen', 'scholier', 'scholieren', 'schone', 'school', 'schoolboeken', 'schoolcijfers', 'schooltijd', 'schoon', 'schoongemaakt', 'schoonheid', 'schoonhouden', 'schoonmaken', 'schoonmoeder', 'schoorsteen', 'schopt', 'schot', 'schoten', 'schotland', 'schouder', 'schouders', 'schreef', 'schreeuw', 'schreeuwen', 'schreeuwerige', 'schreide', 'schriftelijk', 'schriften', 'schrijf', 'schrijfmachine', 'schrijfstijl', 'schrijft', 'schrijftafel', 'schrijfwerk', 'schrijnwerker', 'schrijven', 'schrikken', 'schroevendraaier', 'schuchter', 'schuchtere', 'schud', 'schudden', 'schuif', 'schuilen', 'schuld', 'schulden', 'schuldig', 'schutter', 'sciencefiction', 'scott', 'scène', 'scènes', 'se', 'sean', 'seattle', 'secretaris', 'seiko', 'seine', 'seizoen', 'seksueel', 'semester', 'september', 'serie', 'serieus', 'serveerster', 'serveert', 'server', 'sexy', 'sfeer', 'shakespeare', 'shampoo', 'shikoku', 'shinkansen', 'shizuoka', 'sigaret', 'sigaretten', 'sigarettenas', 'simpele', 'sinaasappel', 'sinaasappelen', 'sinaasappels', 'sinaasappelsap', 'sinds', 'sindsdien', 'singapore', 'single', 'situatie', 'skaten', 'ski', 'skieden', 'skiën', 'sla', 'slaag', 'slaagde', 'slaagden', 'slaan', 'slaap', 'slaapplaats', 'slaapt', 'slaapwel', 'slaat', 'slag', 'slagen', 'slang', 'slangen', 'slangen”', 'slapeloze', 'slapen', 'slapende', 'slapjes', 'slappe', 'slaven', 'slavernij', 'slecht', 'slechte', 'slechter', 'slechts', 'slechtste', 'sleutel', 'sleutels', 'slim', 'sloane', 'sloeg', 'sloot', 'slot', 'sluit', 'sluiten', 'sluw', 'smaak', 'smaakt', 'smaakte', 'smakelijk', 'smaken', 'smal', 'smeden', 'smeek', 'smeerkaas', 'smith', 'smoes', 'smoesjes', 'smog', 'smoorverliefd', 'sneden', 'sneeuw', 'sneeuwen', 'sneeuwig', 'sneeuwland', 'sneeuwstormen', 'sneeuwt', 'sneeuwvrij', 'snel', 'snelheden', 'snelle', 'sneller', 'snelst', 'snelste', 'snij', 'snijd', 'snijden', 'snijdt', 'snoep', 'snoepje', 'snor', 'snurkt', 'soep', 'soepel', 'sofa', 'sok', 'sokken', 'soldaat', 'soldaten', 'sollicitatiegesprek', 'som', 'sommige', 'sommigen', 'soms', 'sony', 'soort', 'soorten', 'sorry', 'sorteer', 'spaanders', 'spaans', 'spaart', 'spaceshuttle', 'spanjaarden', 'spanje', 'spannende', 'sparen', 'speciaal', 'speciaals', 'specialiteit', 'spectaculair', 'speel', 'speelde', 'speelden', 'speelfilm', 'speelgoed', 'speelt', 'speeltje', 'spel', 'spelen', 'spelende', 'speler', 'spelers', 'spellen', 'spiegel', 'spieken', 'spijt', 'spijtig', 'spike', 'spin', 'spinazie', 'spinnen', 'spion', 'spitsuur', 'spoed', 'spoedig', 'spoken', 'spons', 'spookt', 'spoor', 'spoorloos', 'sport', 'sporten', 'sportzaal', 'spot', 'sprak', 'sprakeloos', 'spraken', 'spreek', 'spreekt', 'spreekwoord', 'spreken', 'springen', 'spuit', 'spullen', 'spuwen', 'square', 'sta', 'staan', 'staarde', 'staart', 'staat', 'staatsman', 'stad', 'stadscentrum', 'stadsgezichten', 'stadsplattegrond', 'stak', 'staking', 'stam', 'stand', 'standpunt', 'stap', 'stapt', 'star', 'start', 'starten', 'startte', 'staten', 'station', 'stations', 'steak', 'stedelijke', 'steden', 'steeds', 'steeg', 'steek', 'steekhoudend', 'steekt', 'steel', 'steen', 'steenkolen', 'steenkool', 'steile', 'stel', 'stelde', 'stelen', 'stellen', 'stelt', 'stem', 'stembrieven', 'stemming', 'stemrecht', 'stemt', 'ster', 'sterfgevallen', 'sterk', 'sterke', 'sterken', 'sterker', 'sterkste', 'sterren', 'sterrenbeeld', 'sterrenstelsels', 'sterven', 'stervende', 'steun', 'steunen', 'steve', 'stevig', 'stierf', 'stierven', 'stijf', 'stijgt', 'stijl', 'stijve', 'stil', 'stilde', 'stille', 'stilte', 'stinkt', 'stipt', 'stoel', 'stoelen', 'stoelverbindingen', 'stoel”', 'stof', 'stoffen', 'stokjes', 'stom', 'stomheid', 'stond', 'stonden', 'stoor', 'stoort', 'stop', 'stoplicht', 'stoppen', 'stopt', 'stopte', 'storen', 'storm', 'stormachtig', 'stort', 'stortte', 'stoute', 'stoutmoedigheid', 'straalde', 'straalden', 'straat', 'straatje', 'straffe', 'strak', 'straks', 'strand', 'straten', 'streed', 'streek', 'streken', 'strekte', 'streng', 'stress', 'strijken', 'strik', 'stroomt', 'stropdas', 'struisvogels', 'studeer', 'studeerde', 'studeert', 'student', 'studente', 'studenten', 'studentenleven', 'studeren', 'studie', 'studiegebied', 'stuiptrekkingen', 'stuk', 'stukken', 'sturen', 'stuur', 'succes', 'suiker', 'suikeroplossing', 'sulfamedicijnen', 'sumoworstelen', 'superman', 'supermarkt', 'supersonische', 'susan', 'sushi', 'susie', 'swan', 'symboliseert', 'symbool', 'symptomen', 'symptoom', 't', 'taai', 'taak', 'taal', 'taart', 'taarten', 'tachtig', 'tafel', 'tafellaken', 'tafeltennis', 'takken', 'talen', 'tamelijk', 'tampa', 'tanabata', 'tand', 'tandarts', 'tanden', 'tandpijn', 'tanker', 'tankstation', 'tante', 'tapijt', 'taro', 'tarwe', 'tas', 'tasje', 'tasjes', 'tassen', 'tatamikamer', 'taxi', 'taxis', 'te', 'team', 'teamleider', 'technologie', 'tegelijk', 'tegen', 'tegengekomen', 'tegenover', 'tegenovergestelde', 'tegenstander', 'tegenwoordig', 'teken', 'tekent', 'tekort', 'tekstverwerker', 'tel', 'telde', 'telefoneer', 'telefoneren', 'telefonisch', 'telefoon', 'telefooncel', 'telefoonnummer', 'telefoontje', 'telegram', 'telescoop', 'teleur', 'teleurgesteld', 'televisie', 'televisiekijken', 'televisieprogramma', 'televisietoren', 'tellen', 'telt', 'tempel', 'tempels', 'temperatuur', 'tempura', 'ten', 'tenen', 'tenminste', 'tennis', 'tennisles', 'tennissen', 'tennisspeler', 'tennist', 'tenniste', 'tenniswedstrijd', 'tenslotte', 'tentoonstelling', 'tenzij', 'ter', 'teresa', 'territorium', 'terug', 'terugbellen', 'terugbrengen', 'teruggaan', 'teruggegeven', 'teruggekomen', 'teruggeven', 'terugkeert', 'terugkom', 'terugkomen', 'terugkomt', 'terugkwam', 'terugnemen', 'terugtrekken', 'terugzien', 'terwijl', 'test', 'testament', 'tevergeefs', 'tevreden', 'teweeg', 'texas', 'thailand', 'thais', 'thaise', 'thames', 'thanksgiving', 'the', 'theater', 'thee', 'theelepels', 'theems', 'thees', 'theesmaak', 'thema', 'theorie', 'thermometer', 'thuis', 'thuisadres', 'thuisgekomen', 'thuiskwam', 'ticket', 'tien', 'tienduizend', 'tienen', 'tientallen', 'tijd', 'tijdelijke', 'tijden', 'tijdens', 'tijdig', 'tijdje', 'tijdperk', 'tijdschrift', 'tijdschriften', 'tijdsverspilling', 'tijdverdrijf', 'tijdverspilling', 'tijger', 'tijgers', 'tikt', 'tim', 'time', 'times', 'tin', 'tiran', 'toch', 'toe', 'toegang', 'toegankelijk', 'toegepast', 'toegestaan', 'toekomst', 'toekomstplannen', 'toelaten', 'toen', 'toepassing', 'toeristen', 'toeristenvisum', 'toeristische', 'toespraak', 'toestand', 'toestel', 'toestemmen', 'toestemming', 'toeval', 'toevallig', 'tof', 'toilet', 'toiletpapier', 'tokio', 'tokyo', 'tolereren', 'tolstoj', 'tom', 'tomaat', 'tomaten', 'tomoko', 'toms', 'toneel', 'toneelstuk', 'tonen', 'tong', 'toni', 'tonijnvangst', 'tony', 'toon', 'toonden', 'top', 'topje', 'topper', 'toren', 'tot', 'totaal', 'totdat', 'totoro', 'touw', 'touwtjespringen', 'tovenaar', 'toveren', 'tower', 'traag', 'tracy', 'tradities', 'trage', 'tragedie', 'trager', 'tranen', 'trappen', 'trapt', 'treffen', 'trein', 'treinen', 'treinstation', 'trek', 'trekjes', 'trekken', 'treurig', 'treurspelen', 'triest', 'trieste', 'triestig', 'troebel', 'trof', 'tropisch', 'trossen', 'trots', 'trouw', 'trouwde', 'trouwen', 'trouwens', 'truc', 'trui', 'tshirt', 'tsjilpen', 'tuin', 'tuinieren', 'tuiniert', 'tuinmannen', 'tulpen', 'tunnel', 'turnzaal', 'tussen', 'tv', 'tvgids', 'tvkijken', 'tvs', 'tvster', 'tvtoestel', 'tvverslaafde', 'twaalf', 'twaalftal', 'twee', 'tweede', 'tweedehands', 'tweeduizend', 'tweehonderd', 'tweeling', 'tweemaal', 'tweeën', 'twijfel', 'twintig', 'type', 'typemachine', 'typen', 'typisch', 'u', 'ua', 'ueno', 'ufo', 'ufos', 'uh', 'uien', 'uit', 'uitdagen', 'uitdelen', 'uitdoen', 'uitdrukken', 'uiteindelijk', 'uiteindelijke', 'uiterlijk', 'uitgaan', 'uitgave', 'uitgaven', 'uitgebroken', 'uitgegaan', 'uitgegeven', 'uitgehongerd', 'uitgelachen', 'uitgelegd', 'uitgelezen', 'uitgenodigd', 'uitgeput', 'uitgerust', 'uitgestorven', 'uitgevallen', 'uitgeven', 'uitgevonden', 'uitje', 'uitkiezen', 'uitleg', 'uitleggen', 'uitloggen', 'uitnodigde', 'uitnodiging', 'uitspraken', 'uitspreken', 'uitstaan', 'uitstappen', 'uitstekend', 'uitstekende', 'uittesten', 'uitverkocht', 'uitvoer', 'uitvoerig', 'uitwissen', 'uitzendbureau', 'uitzicht', 'uitzondering', 'ultieme', 'un', 'unidentified', 'uniform', 'united', 'universa', 'universeel', 'universiteit', 'universum', 'uraga', 'uren', 'urenlang', 'urineer', 'uur', 'uurwerk', 'uw', 'uwe', 'vaak', 'vaart', 'vaarwel', 'vaas', 'vaat', 'vader', 'vakantie', 'vaker', 'vakken', 'val', 'valentijnsdag', 'vallen', 'vals', 'valt', 'van', 'vanaf', 'vanavond', 'vancouver', 'vandaag', 'vandaan', 'vangen', 'vanilleijsjes', 'vanmiddag', 'vanmorgen', 'vannacht', 'vanochtend', 'vanop', 'vanuit', 'vanwege', 'vanzelf', 'vanzelfsprekend', 'varkensstal', 'varkensvlees', 'vast', 'vastgelopen', 'vaststellen', 'vatten', 'vechten', 'vechtende', 'veel', 'veel”', 'veertig', 'vegetarische', 'vegetariërs', 'veilig', 'veilige', 'veiligheid', 'veiligheidsgordel', 'veld', 'vele', 'venetië', 'venster', 'vensters', 'vent', 'ver', 'verander', 'veranderd', 'veranderde', 'veranderen', 'verandering', 'verandert', 'verantwoordelijk', 'verantwoordelijkheden', 'verantwoordelijkheid', 'verbaasd', 'verbaasde', 'verbaast', 'verbannen', 'verbeelding', 'verbeeldingsvermogen', 'verbergt', 'verbeter', 'verbeterd', 'verbetert', 'verbinden', 'verbindt', 'verbleef', 'verbleven', 'verblijf', 'verblijft', 'verblijven', 'verboden', 'verbond', 'verborgen', 'verbrand', 'verbranden', 'verbrandt', 'verbruikt', 'verdacht', 'verdachte', 'verdediging', 'verdeel', 'verdeeld', 'verder', 'verdere', 'verdien', 'verdiend', 'verdiende', 'verdienen', 'verdient', 'verdieping', 'verdiepingen', 'verdikt', 'verdorie', 'verdragen', 'verdrietig', 'verdrinking', 'verdrinkingsdood', 'verdronken', 'verdund', 'verdwaald', 'verdwaalde', 'verdween', 'verdwenen', 'verdwijnen', 'vereist', 'veren', 'verenigd', 'verenigde', 'verergeren', 'verfde', 'vergaderen', 'vergadering', 'vergaderingen', 'vergeef', 'vergeeld', 'vergeet', 'vergeleken', 'vergelijk', 'vergeten', 'vergezellen', 'vergissing', 'vergist', 'verhaal', 'verhalen', 'verheugt', 'verhoging', 'verhoogt', 'verhuis', 'verhuizen', 'verjaardag', 'verjaardagskaart', 'verjaardagstaart', 'verkeer', 'verkeerd', 'verkeerde', 'verkeerslicht', 'verkeersongeluk', 'verkeert', 'verkies', 'verklaard', 'verklaarde', 'verklaart', 'verklaren', 'verklaring', 'verkleurde', 'verkocht', 'verkoop', 'verkoopt', 'verkopen', 'verkoper', 'verkouden', 'verkoudheid', 'verkozen', 'verkrijgbaar', 'verkrijgen', 'verlangden', 'verlangen', 'verlangt', 'verlaten', 'verleden', 'verlegen', 'verlegenheid', 'verleidt', 'verlengd', 'verlichtten', 'verliefd', 'verlies', 'verliet', 'verliezen', 'verloofd', 'verloor', 'verlopen', 'verloren', 'verloving', 'vermaakt', 'vermakelijk', 'vermaken', 'vermeld', 'vermenigvuldigd', 'vermenigvuldigen', 'verminder', 'verminderen', 'vermindering', 'vermindert', 'vermist', 'vermoed', 'vermoedt', 'vermoeidheid', 'vermoord', 'vermoordde', 'vernemen', 'vernietigd', 'vernoemd', 'verondersteld', 'verontschuldiging', 'veroorloven', 'veroorzaakt', 'verouderd', 'veroveren', 'verpest', 'verpesten', 'verplaats', 'verpleegkundige', 'verpleegster', 'verpleger', 'verplegers', 'verraden', 'verrader', 'verrassend', 'verrassing', 'verrast', 'verre', 'verreweg', 'verricht', 'verrot', 'verruimen', 'vers', 'verscheen', 'verscheidene', 'verschiet', 'verschil', 'verschillen', 'verschillend', 'verschillende', 'verschilt', 'verschrikkelijk', 'verschrikkelijke', 'verschuldigd', 'verse', 'versierd', 'versies', 'verslag', 'verslagen', 'verslapen', 'verslechterd', 'versleten', 'versloeg', 'versloegen', 'versnelden', 'versnellen', 'verspild', 'verspillen', 'verspreidt', 'versta', 'verstaan', 'verstaanbaar', 'verstaat', 'verstandhouding', 'verstandige', 'versterker', 'verstijfd', 'verstoppen', 'verstopt', 'verstopte', 'verstuurt', 'vertaal', 'vertaald', 'vertalen', 'vertaling', 'vertalingen', 'verte', 'verteerbaar', 'vertegenwoordiger', 'vertel', 'verteld', 'vertelde', 'vertellen', 'vertraagd', 'vertraging', 'vertrek', 'vertrekken', 'vertrekt', 'vertrok', 'vertrokken', 'vertrouw', 'vertrouwen', 'veruit', 'vervaardigd', 'vervalt', 'verveeld', 'verveelt', 'vervelen', 'verving', 'vervoert', 'vervolg', 'vervuild', 'vervuilde', 'vervuilen', 'vervuiling', 'vervuilt', 'vervuld', 'verwaarloosd', 'verwacht', 'verwachten', 'verwachtte', 'verwachtten', 'verwant', 'verwar', 'verwarmd', 'verwarmingssysteem', 'verwelken', 'verwelkomen', 'verwend', 'verwezen', 'verwierf', 'verwijder', 'verwijderd', 'verwijst', 'verwijt', 'verwoest', 'verwoestte', 'verwond', 'verwoord', 'verzamel', 'verzamelen', 'verzamelt', 'verzekerd', 'verzocht', 'verzoek', 'verzonnen', 'verzorgen', 'verzorgt', 'vest', 'veters', 'vezels', 'via', 'video', 'videorecorder', 'videospelletjes', 'viel', 'vier', 'vierde', 'vierentwintig', 'vierkante', 'vies', 'vijand', 'vijandige', 'vijf', 'vijfde', 'vijfentwintig', 'vijfenvijftig', 'vijfhonderd', 'vijftig', 'vijver', 'vind', 'vinden', 'vindt', 'ving', 'viool', 'vis', 'visa', 'visie', 'visioenen', 'vissen', 'visum', 'visvangst', 'vitamine', 'vitaminen', 'vitamines', 'vlag', 'vlaggen', 'vlak', 'vlakbij', 'vlam', 'vleermuis', 'vleermuizen', 'vlees', 'vleugel', 'vleugje', 'vliegen', 'vlieger', 'vliegeren', 'vliegt', 'vliegtuig', 'vliegveld', 'vlinder', 'vlinders', 'vloeiend', 'vloeistof', 'vloeit', 'vloer', 'vloerkleden', 'vloog', 'vlooien', 'vlucht', 'vluchten', 'vluchtte', 'vlug', 'vlugger', 'vn', 'vocht', 'vochten', 'vochtig', 'vochtige', 'voedingsmiddelen', 'voedsel', 'voedzaam', 'voeg', 'voegen', 'voel', 'voelde', 'voelen', 'voelt', 'voer', 'voerde', 'voeren', 'voert', 'voet', 'voetbal', 'voetballen', 'voetbalploeg', 'voetbalt', 'voetbalteam', 'voeten', 'voetstappen', 'vogel', 'vogels', 'vol', 'voldoende', 'volg', 'volgde', 'volgden', 'volgen', 'volgende', 'volgens', 'volgt', 'volhouden', 'volk', 'volkeren', 'volkomen', 'volle', 'volledig', 'volleybal', 'volleyballen', 'volmaakt', 'volop', 'volstaan', 'volstaat', 'volume', 'volwassen', 'volwassene', 'volwassenen', 'vond', 'vonden', 'voor', 'vooral', 'vooraleer', 'voorbaat', 'voorbeeld', 'voorbeelden', 'voorbehoud', 'voorbereid', 'voorbereiding', 'voorbij', 'voorbije', 'voorbijgegaan', 'voordat', 'voordeel', 'voordelig', 'voordoen', 'voorgelezen', 'voorgoed', 'voorhand', 'voorheen', 'voorjaar', 'voorlopig', 'voormalige', 'voormiddag', 'voornemens', 'voorraad', 'voorspellen', 'voorstel', 'voorstellen', 'voorstelling', 'voort', 'voortaan', 'voortdurend', 'vooruit', 'vooruitgang', 'voorval', 'voorwaarde', 'voorwaarden', 'voorwerp', 'voorzagen', 'voorzichtig', 'voorzichtiger', 'voorzien', 'voorziet', 'voorzitter', 'vorig', 'vorige', 'vork', 'vorm', 'vos', 'vouwde', 'vraag', 'vraagstuk', 'vraagt', 'vrachtwagen', 'vragen', 'vrede', 'vredelievend', 'vreedzaam', 'vreemd', 'vreemde', 'vreemdeling', 'vreemdelingen', 'vreemden', 'vreemds', 'vrees', 'vreselijk', 'vreselijke', 'vriend', 'vriendelijk', 'vriendelijkheid', 'vrienden', 'vriendin', 'vriendinnen', 'vriendje', 'vriendschap', 'vriezen', 'vrij', 'vrijdag', 'vrijdagmiddag', 'vrije', 'vrijgelaten', 'vrijgezel', 'vrijheid', 'vroeg', 'vroegen', 'vroeger', 'vrolijk', 'vrolijkt', 'vrouw', 'vrouwen', 'vrucht', 'vruchten', 'vruchtensap', 'vs', 'vuil', 'vuile', 'vul', 'vulde', 'vulkaanuitbarsting', 'vulpen', 'vuur', 'vuurwerk', 'vóór', 'waaide', 'waar', 'waard', 'waarde', 'waardeert', 'waardering', 'waardevol', 'waardigheid', 'waarheid', 'waarin', 'waarmee', 'waarnaar', 'waarnemers', 'waarom', 'waarop', 'waarover', 'waarschijnlijk', 'waarschuwen', 'waart', 'waarvandaan', 'waarvoor', 'wablieft', 'wacht', 'wachten', 'wachtenden', 'wachtkamer', 'wachtte', 'wachtten', 'wachtwoord', 'wagen', 'wakker', 'wales', 'walgelijk', 'walvis', 'walvissen', 'wandel', 'wandelaars', 'wandelde', 'wandelden', 'wandelen', 'wandeling', 'wang', 'wangen', 'wanhoop', 'wanneer', 'want', 'waren', 'warm', 'warme', 'warmer', 'warmste', 'warmte', 'wars', 'was', 'wassen', 'wasten', 'wat', 'water', 'waterbestendig', 'waterdicht', 'wateren', 'watermeloen', 'watermolen', 'waters', 'waterverspilling', 'wc', 'we', 'webben', 'wederzijds', 'wedstrijd', 'wedstrijden', 'weeg', 'weegt', 'week', 'weekeinde', 'weekend', 'weende', 'weer', 'weergekeerd', 'weerhield', 'weerslag', 'weersomstandigheden', 'weerspiegelde', 'weertje', 'weerziens', 'wees', 'weet', 'weeën', 'weg', 'wegen', 'wegens', 'weggaan', 'weggaat', 'weggelopen', 'weggespoeld', 'weggevlogen', 'weggooien', 'wegkomt', 'wegnemen', 'wegwezen', 'wei', 'weigerden', 'weinig', 'wek', 'weken', 'wekker', 'wel', 'welbekend', 'welbevinden', 'weldra', 'welk', 'welke', 'welkom', 'wellicht', 'wellington', 'welterusten', 'welzijn', 'wending', 'wendy', 'wenen', 'wens', 'wensen', 'wenste', 'werd', 'werden', 'wereld', 'wereldfaam', 'wereldgezondheidsorganisatie', 'wereldoorlog', 'werk', 'werkaanbieding', 'werkelijk', 'werkelijkheid', 'werkeloosheid', 'werken', 'werker', 'werkervaring', 'werking', 'werknemers', 'werkt', 'werkwoorden', 'werp', 'werpt', 'west', 'westen', 'westeuropa', 'wet', 'weten', 'wetenschap', 'wetenschappers', 'wezens', 'whisky', 'white', 'who', 'wie', 'wiebelt', 'wiens', 'wierp', 'wij', 'wijd', 'wijn', 'wijs', 'wijze', 'wijzen', 'wijzigen', 'wil', 'wild', 'wilde', 'willen', 'willie', 'wilt', 'wind', 'winderig', 'windowsliefhebber', 'winkel', 'winkelcentrum', 'winnen', 'wint', 'winter', 'wiskunde', 'wiskundehuiswerk', 'wisselen', 'wisselgeld', 'wisselkoers', 'wist', 'wit', 'witbrood', 'witte', 'woede', 'woedend', 'woensdag', 'woestijn', 'wol', 'wolf', 'wolk', 'wolken', 'wolkje', 'wollen', 'wolven', 'wond', 'wonden', 'wonderbaarlijke', 'wonen', 'woning', 'wood', 'woon', 'woonde', 'woont', 'woord', 'woorden', 'woordenboek', 'woordenboeken', 'woordspeling', 'word', 'worden', 'wordt', 'workaholics', 'wormen', 'wortel', 'wortelen', 'wou', 'wow', 'wrijven', 'yamada', 'yamada”', 'yamamoto', 'yen', 'yoghurt', 'yokohama', 'york', 'yukina', 'yukio', 'yumi', 'zaait', 'zaak', 'zaal', 'zacht', 'zachter', 'zaden', 'zag', 'zagen', 'zak', 'zakdoek', 'zakdoeken', 'zaken', 'zakken', 'zakkenroller', 'zakkenrollers', 'zakt', 'zal', 'zalig', 'zalm', 'zambia', 'zand', 'zanger', 'zangeres', 'zat', 'zaten', 'zaterdag', 'zaterdagochtend', 'ze', 'zee', 'zeedier', 'zeeniveau', 'zeer', 'zeespiegel', 'zeewater', 'zeg', 'zeggen', 'zegt', 'zei', 'zeilclub', 'zeker', 'zekere', 'zekerheid', 'zelden', 'zeldzaam', 'zeldzame', 'zelf', 'zelfmoord', 'zelfs', 'zelfzuchtig', 'zenden', 'zenuwachtig', 'zenuwen', 'zes', 'zesde', 'zessen', 'zestien', 'zestiende', 'zestig', 'zet', 'zetel', 'zette', 'zetten', 'zeven', 'zevenduizend', 'zevenentwintig', 'zeventien', 'zich', 'zicht', 'zichtbaar', 'zichzelf', 'zie', 'ziek', 'zieke', 'zieken', 'ziekenhuis', 'ziekenwagen', 'ziekjes', 'ziekte', 'ziekteverzekering', 'ziel', 'zien', 'ziens', 'ziet', 'zij', 'zijden', 'zijderupsen', 'zijdezacht', 'zijn', 'zijne', 'zijt', 'zilver', 'zilveren', 'zin', 'zing', 'zingen', 'zingt', 'zinloos', 'zinnen', 'zit', 'zitplaats', 'zitplaatsen', 'zitten', 'zo', 'zoals', 'zocht', 'zodat', 'zodra', 'zoek', 'zoeken', 'zoekt', 'zoet', 'zoetekauw', 'zoeter', 'zoetigheden', 'zoetigheid', 'zoets', 'zoetstof', 'zoiets', 'zojuist', 'zolang', 'zomaar', 'zomer', 'zomerartikelen', 'zomerdagen', 'zomerperiode', 'zomervakantie', 'zon', 'zondag', 'zondags', 'zonde', 'zonder', 'zondvloed', 'zonen', 'zong', 'zongen', 'zonlicht', 'zonnebloem', 'zonnebril', 'zonneenergie', 'zonneschijn', 'zonnetje', 'zonnig', 'zonnige', 'zonsondergang', 'zonsopgang', 'zoogdier', 'zoon', 'zorg', 'zorgen', 'zorgt', 'zorgvuldig', 'zou', 'zouden', 'zoudt', 'zout', 'zoveel', 'zover', 'zowel', 'zuchtte', 'zuidamerika', 'zuiden', 'zuiver', 'zul', 'zulke', 'zullen', 'zult', 'zure', 'zus', 'zussen', 'zuster', 'zusters', 'zuur', 'zuurstof', 'zwaar', 'zwaard', 'zwaarder', 'zwaartekracht', 'zwak', 'zwakke', 'zwakken', 'zwaluw', 'zware', 'zwart', 'zwarte', 'zweden', 'zweetten', 'zwem', 'zwembad', 'zwemmen', 'zwemt', 'zwerm', 'zwijg', 'zwijgen', 'zwijgt', 'zwitserland', 'één', 'ík', 'überhaupt', '\\u200b\\u200bauto', '\\u200b\\u200bbus', '\\u200b\\u200bin', '\\u200b\\u200bkerstcadeau']\n"
          ],
          "name": "stdout"
        }
      ]
    },
    {
      "cell_type": "code",
      "metadata": {
        "id": "dZgG92rZhuOW"
      },
      "source": [
        "# Splitting the data into Train(90%) and tests(10%)\n",
        "# will split the 90% Train into --> train(80%) and validation(10%) in model.fit()\n",
        "X_train, X_test, y_train, y_test = train_test_split(source_lines, target_lines, test_size = 0.1,  random_state = 42)\n",
        "\n",
        "# print(len(X_train), len(X_test)) --- (9000, 1000)"
      ],
      "execution_count": 11,
      "outputs": []
    },
    {
      "cell_type": "markdown",
      "metadata": {
        "id": "CuQ7B78BhLrx"
      },
      "source": [
        "**Task 3 (15 marks)** \n",
        "\n",
        "---\n",
        "\n",
        "*  Assign each unique word an integer value (5 marks).\n",
        "*  Create word embedding for your vocabulary using pre-trained embeddings, for example GloVe or fastText (10 marks) (https://nlp.stanford.edu/projects/glove/ , https://fasttext.cc/docs/en/english-vectors.html)\n",
        "* Print the first line of the embeddings (see below) "
      ]
    },
    {
      "cell_type": "code",
      "metadata": {
        "id": "e-g6Z11GJBjl"
      },
      "source": [
        "# Assigning each word/token an integer value for both SOURCE and TARGET \n",
        "source_vocab_index = dict([(word,i+1) for i, word in enumerate(source_vocab)])                  # 2613 tokens \n",
        "target_vocab_index = dict([(word,i+1) for i, word in enumerate(target_vocab)])                  # 3280 tokens "
      ],
      "execution_count": 12,
      "outputs": []
    },
    {
      "cell_type": "markdown",
      "metadata": {
        "id": "26hAECPODtLG"
      },
      "source": [
        "Tried using various fastText word-embedding(smallest: \"wiki-news-300d-1M.vec.zip\") but the session always crashed after using all the available RAM on google colab.\n",
        "\n",
        "Thus using GloVe word-embedding --- Reference from Lab 2"
      ]
    },
    {
      "cell_type": "code",
      "metadata": {
        "id": "hnU2g-rngb3q"
      },
      "source": [
        "# path_to_fast_text_file = \"/content/drive/MyDrive/Word Embeddings/FastText/wiki-news-300d-1M.vec\"\n",
        "\n",
        "# ftxt_embeddings = {}\n",
        "\n",
        "# fin = io.open(path_to_fast_text_file, 'r', encoding='utf-8', newline='\\n', errors='ignore')\n",
        "# n, d = map(int, fin.readline().split())\n",
        "\n",
        "# for line in fin:\n",
        "#   tokens = line.rstrip().split(' ')\n",
        "#   ftxt_embeddings[tokens[0]] = list(map(float, tokens[1:]))"
      ],
      "execution_count": 13,
      "outputs": []
    },
    {
      "cell_type": "code",
      "metadata": {
        "id": "e8hLpA3WFQUx"
      },
      "source": [
        "# !wget http://nlp.stanford.edu/data/glove.6B.zip\n",
        "# !unzip -q glove.6B.zip"
      ],
      "execution_count": 14,
      "outputs": []
    },
    {
      "cell_type": "code",
      "metadata": {
        "id": "2JuZyeSoFU3K"
      },
      "source": [
        "path_to_glove_file = \"/content/drive/MyDrive/Word Embeddings/GloVe/glove.6B.300d.txt\"\n",
        "\n",
        "glove_embeddings = {}\n",
        "with open(path_to_glove_file) as f:\n",
        "    for line in f:\n",
        "        word, coefs = line.split(maxsplit=1)\n",
        "        coefs = np.fromstring(coefs, \"f\", sep=\" \")\n",
        "        glove_embeddings[word] = coefs"
      ],
      "execution_count": 15,
      "outputs": []
    },
    {
      "cell_type": "code",
      "metadata": {
        "id": "Ts9Gju9nMY4T"
      },
      "source": [
        "# Creating our own word-embedding from the pre-trained GloVe embedding\n",
        "\n",
        "# Embedding Shape - 100 - because the pretrained model selected has 300 dimensions\n",
        "# len(glove_embeddings['the'])\n",
        "embedding_shape = 300\n",
        "# source_embedding shape : (2580, 100) --- (source_tokens, vector dimensions)\n",
        "source_embedding = zeros((len(source_vocab_index)+1, embedding_shape))\n",
        "\n",
        "# for every source token present in GloVe embedding\n",
        "# extract the vector and assign it to our own word-embedding\n",
        "for word, index in source_vocab_index.items():\n",
        "  try:\n",
        "    vector = glove_embeddings[word]\n",
        "    source_embedding[index] = vector\n",
        "  except:\n",
        "    continue"
      ],
      "execution_count": 16,
      "outputs": []
    },
    {
      "cell_type": "code",
      "metadata": {
        "colab": {
          "base_uri": "https://localhost:8080/"
        },
        "id": "Vx2hvFPI7szz",
        "outputId": "06555c5e-ecf5-4f5c-e2b0-7518c482216a"
      },
      "source": [
        "# Printing First line of embedding\n",
        "print(source_embedding[1])"
      ],
      "execution_count": 17,
      "outputs": [
        {
          "output_type": "stream",
          "text": [
            "[-2.97120005e-01  9.40489992e-02 -9.66619998e-02 -3.44000012e-01\n",
            " -1.84829995e-01 -1.23290002e-01 -1.16559997e-01 -9.96920019e-02\n",
            "  1.72649994e-01 -1.63859999e+00  1.02200001e-01  3.42530012e-02\n",
            " -2.42129996e-01  4.82119992e-02  2.70599991e-01  3.59959990e-01\n",
            " -4.07790005e-01  2.37849995e-01  2.42449999e-01 -3.11069995e-01\n",
            " -4.82870013e-01  2.61009991e-01  1.18780002e-01  5.10110021e-01\n",
            " -3.11150014e-01 -3.70050013e-01  1.16250001e-01 -4.20610011e-01\n",
            " -3.43910009e-02  1.18089996e-01 -4.89549994e-01  3.36930007e-01\n",
            " -1.33870006e-01  3.49240005e-01 -8.37000012e-01  5.66910028e-01\n",
            " -5.36700010e-01  3.85589987e-01 -2.89750010e-01  6.24700010e-01\n",
            "  4.84890014e-01  3.63570005e-01  3.58680010e-01  8.95970017e-02\n",
            " -5.53600006e-02  1.12180002e-01  2.56830007e-01 -7.67130032e-02\n",
            " -1.94220006e-01 -1.82429999e-01 -3.28410000e-01  6.40140027e-02\n",
            "  5.19709997e-02  2.04940006e-01  9.99479964e-02 -2.71600008e-01\n",
            " -4.64159995e-01  1.09660000e-01  3.86059999e-01 -3.84359986e-01\n",
            " -3.87719989e-01  2.82959998e-01  6.25329971e-01 -2.14049995e-01\n",
            " -3.75400007e-01 -5.79129994e-01 -1.25100002e-01 -1.71039999e-01\n",
            "  4.35389996e-01 -1.87580004e-01  1.77730005e-02  3.53949994e-01\n",
            "  3.00740004e-01 -1.98630005e-01 -3.77429992e-01  1.16429999e-01\n",
            " -1.82390004e-01  2.19609998e-02 -3.72559994e-01  2.37479992e-02\n",
            " -9.67210010e-02  1.28900006e-01 -6.47939965e-02 -2.31330007e-01\n",
            "  4.56459999e-01  1.49179995e-01 -3.91450003e-02  3.90480012e-01\n",
            " -1.12999998e-01 -3.19619998e-02  3.67579982e-02  2.49620005e-01\n",
            " -1.16990000e-01 -5.77639997e-01  5.73539972e-01 -1.42729998e-01\n",
            "  2.50299990e-01 -5.97429983e-02 -1.85619995e-01 -6.89980015e-02\n",
            " -3.66099998e-02  1.55860007e-01  1.97290003e-01 -3.35940003e-01\n",
            " -1.67710006e-01  1.72279999e-01  1.29879996e-01 -6.45980015e-02\n",
            " -6.02670014e-01 -4.30889994e-01 -2.87999988e-01  5.35300016e-01\n",
            " -8.57129991e-02  8.97490010e-02  9.30149972e-01  1.65160000e-01\n",
            " -1.43270001e-01 -6.07930012e-02  6.56979978e-02 -1.11370003e-02\n",
            "  2.45059997e-01  3.28700006e-01  1.23779997e-02  3.48080009e-01\n",
            "  4.72240001e-02 -2.07780004e-01  6.23210013e-01  1.49880007e-01\n",
            "  3.01869988e-01 -3.28720003e-01  3.40400010e-01  2.26779997e-01\n",
            " -5.37919998e-01 -1.14820004e-01  4.17290002e-01  1.51570007e-01\n",
            "  1.59160003e-01 -1.27460003e-01  2.39219993e-01  2.02000007e-01\n",
            " -2.09509999e-01  3.61169994e-01  1.15220003e-01 -2.80469991e-02\n",
            " -7.24659979e-01 -1.18930005e-02  3.15830000e-02  1.73899993e-01\n",
            " -1.26200005e-01  2.00529993e-01  3.30850005e-01 -2.68269986e-01\n",
            "  2.81529993e-01 -4.44220006e-02  4.67040002e-01  4.94050011e-02\n",
            " -4.62650001e-01 -2.71140009e-01  9.75890011e-02  3.08849990e-01\n",
            " -1.05460003e-01 -1.88320000e-02  1.84440002e-01 -1.55280000e-02\n",
            "  4.76519987e-02 -1.20499998e-01 -2.87400007e-01  8.41410011e-02\n",
            "  5.32379985e-01  2.00900003e-01  3.53179984e-02 -4.44110006e-01\n",
            " -8.60369980e-01  2.76100010e-01 -1.64069995e-01 -2.37660006e-01\n",
            " -5.37689984e-01 -4.63909991e-02  5.50859988e-01  2.40439996e-01\n",
            "  3.13870013e-01  2.45419994e-01  1.98679999e-01  2.73930013e-01\n",
            " -2.43550003e-01 -4.12900001e-01 -4.65449989e-01  6.00120008e-01\n",
            " -2.60149986e-01  1.92900002e-01  3.60240012e-01  1.85890004e-01\n",
            "  3.78660001e-02 -7.79419988e-02 -9.99139994e-02  3.46070006e-02\n",
            " -1.22469999e-01 -2.72049993e-01 -1.38190001e-01  2.33190000e-01\n",
            "  9.67670023e-01  3.43169987e-01  4.40220013e-02 -3.14709991e-01\n",
            "  1.46629997e-02 -7.19280019e-02 -4.53750014e-01  2.93129999e-02\n",
            " -2.25759998e-01  2.07039997e-01  2.96069998e-02 -4.17609990e-01\n",
            "  2.60300010e-01  2.37839997e-01  8.35329965e-02  1.20320000e-01\n",
            " -1.96620002e-01 -2.88500011e-01 -2.58910000e-01  7.13590026e-01\n",
            "  2.85430014e-01 -1.77770003e-03 -1.01960003e-01  4.72970009e-01\n",
            " -6.19400013e-03 -2.45290007e-02  1.13890000e-01  5.92189990e-02\n",
            "  1.88209996e-01 -1.59180000e-01  1.95170000e-01  2.31429994e-01\n",
            " -1.62160005e-02 -5.11489987e-01  3.68939996e-01  5.54470003e-01\n",
            "  1.70059994e-01 -8.10630023e-02  1.47560000e-01  4.31059986e-01\n",
            "  6.21110022e-01 -2.00830009e-02 -5.10270000e-02 -4.23350006e-01\n",
            " -9.50940013e-01 -9.82849970e-02  4.95420009e-01 -1.44099995e-01\n",
            "  1.87419996e-01 -1.60600007e-01 -7.36519992e-02  6.73040003e-02\n",
            " -9.72869992e-02 -2.77159989e-01  8.07579994e-01  2.06589997e-01\n",
            " -3.47339988e-01 -1.78969994e-01  4.83190000e-01  5.90059996e-01\n",
            " -2.26160005e-01  2.87270010e-01  4.95449990e-01  4.19079989e-01\n",
            " -3.78839999e-01  2.31170002e-02 -1.17830001e-01  7.91729987e-02\n",
            "  5.60500026e-01 -1.74250007e-01 -3.31990004e-01 -7.28209972e-01\n",
            "  1.00460000e-01  4.17749994e-02  2.26549998e-01 -1.28649995e-01\n",
            " -2.38319993e+00  2.20599994e-01  5.14069974e-01  8.61599967e-02\n",
            " -2.17720002e-01 -5.58619983e-02 -4.03579995e-02 -2.22080007e-01\n",
            " -4.25960012e-02  3.70009989e-02 -5.01389980e-01  1.05729997e-01\n",
            " -1.61449999e-01  3.61600012e-01  7.59719983e-02 -4.24259990e-01\n",
            " -3.96699995e-01  3.26830000e-01  6.20490015e-01  3.47189993e-01\n",
            "  2.69520015e-01  5.97169995e-02 -2.28530005e-01  2.96020001e-01]\n"
          ],
          "name": "stdout"
        }
      ]
    },
    {
      "cell_type": "markdown",
      "metadata": {
        "id": "2QfLgKEgazro"
      },
      "source": [
        "## Section 2 Translation Model training\n",
        "\n",
        "\n",
        "\n",
        "---\n",
        "\n"
      ]
    },
    {
      "cell_type": "markdown",
      "metadata": {
        "id": "Y8WnlX8d0RVj"
      },
      "source": [
        "**Task 4 (15 marks)**\n",
        "* Provide code for the encoder using Keras LSTM (5 marks)\n",
        "* Provide code for the decoder using Keras LSTM (5 marks)\n",
        "* Train the sequence2sequence (encoder-decoder) model (5 marks) \n"
      ]
    },
    {
      "cell_type": "code",
      "metadata": {
        "id": "YLSCI_zJDxtI"
      },
      "source": [
        "# encoder input data : each source line (10K) is considered having sentence length = having max sentence length(18) \n",
        "# which is filled with 1-hot encoded tokens(2580)\n",
        "encoder_input_data   = np.zeros((len(X_train), max_seq_len_source), dtype='float32')\n",
        "\n",
        "# decoder input data : each target line (10K) is considered having sentence length = having max sentence length(30) \n",
        "# which is filled with 1-hot encoded tokens(4650)\n",
        "decoder_input_data   = np.zeros((len(y_train), max_seq_len_target), dtype='float32')\n",
        "\n",
        "# decoder target data : each target line (10K) is considered having sentence length = having max sentence length(30) \n",
        "# which is filled with 1-hot encoded tokens(4650)\n",
        "decoder_target_data  = np.zeros((len(y_train), max_seq_len_target, len_target_vocab), dtype='float32')"
      ],
      "execution_count": 18,
      "outputs": []
    },
    {
      "cell_type": "code",
      "metadata": {
        "colab": {
          "base_uri": "https://localhost:8080/"
        },
        "id": "LbJv5P4vERND",
        "outputId": "65c76004-beed-4ed8-c694-61e8e255dcae"
      },
      "source": [
        "# One- hot encoding\n",
        "for line_index, (source_indv_line, target_indv_line) in enumerate(zip(X_train, y_train)):\n",
        "  for token_index, token in enumerate(source_indv_line.split()):\n",
        "    encoder_input_data[line_index, token_index] = source_vocab_index[token]\n",
        "\n",
        "  for token_index, token in enumerate(target_indv_line.split()):\n",
        "    decoder_input_data[line_index, token_index] = target_vocab_index[token]\n",
        "\n",
        "    if(token_index > 0):\n",
        "      decoder_target_data[line_index, token_index - 1, target_vocab_index[token]] = 1\n",
        "\n",
        "print(\"Encoder_input_data shape: \", encoder_input_data.shape, \"\\nSentence: \", X_train[0], \"\\nsample: \", encoder_input_data[0])\n",
        "print(\"\\nDecoder_input_data shape: \", decoder_input_data.shape, \"\\nSentence: \", y_train[0], \"\\nsample: \", decoder_input_data[0])\n",
        "print(\"\\nDecoder_output_data shape: \", decoder_target_data.shape, \",\\nsample: \", decoder_target_data[0])"
      ],
      "execution_count": 19,
      "outputs": [
        {
          "output_type": "stream",
          "text": [
            "Encoder_input_data shape:  (9000, 9) \n",
            "Sentence:  the foreigner didnt know japanese at all \n",
            "sample:  [3987. 1555. 1089. 2189. 2097.  259.  122.    0.    0.]\n",
            "\n",
            "Decoder_input_data shape:  (9000, 11) \n",
            "Sentence:  <bof> de buitenlander kende helemaal geen japans <eos> \n",
            "sample:  [1.000e+00 9.070e+02 7.420e+02 2.286e+03 1.882e+03 1.431e+03 2.158e+03\n",
            " 2.000e+00 0.000e+00 0.000e+00 0.000e+00]\n",
            "\n",
            "Decoder_output_data shape:  (9000, 11, 5685) ,\n",
            "sample:  [[0. 0. 0. ... 0. 0. 0.]\n",
            " [0. 0. 0. ... 0. 0. 0.]\n",
            " [0. 0. 0. ... 0. 0. 0.]\n",
            " ...\n",
            " [0. 0. 0. ... 0. 0. 0.]\n",
            " [0. 0. 0. ... 0. 0. 0.]\n",
            " [0. 0. 0. ... 0. 0. 0.]]\n"
          ],
          "name": "stdout"
        }
      ]
    },
    {
      "cell_type": "markdown",
      "metadata": {
        "id": "VXckXATMPGBz"
      },
      "source": [
        "Training Seq2Seq model"
      ]
    },
    {
      "cell_type": "code",
      "metadata": {
        "id": "IhrnpzAe_d5o"
      },
      "source": [
        "epochs          = 100\n",
        "batch_size      = 396\n",
        "latent_dim      = 1024\n",
        "embedding_shape = 300"
      ],
      "execution_count": 20,
      "outputs": []
    },
    {
      "cell_type": "code",
      "metadata": {
        "id": "1C7UCV1J1Rna"
      },
      "source": [
        "# Defining Encoder Architecture , trainable = False\n",
        "encoder_input    = Input(shape = (max_seq_len_source,), name = 'Encoder_input')\n",
        "embedded_encoder = Embedding(len_source_vocab, embedding_shape, weights=[source_embedding])(encoder_input)\n",
        "encoder_output, state_h, state_c = LSTM(latent_dim, return_state=True)(embedded_encoder)\n",
        "encoder_state = [state_h,state_c]"
      ],
      "execution_count": 21,
      "outputs": []
    },
    {
      "cell_type": "code",
      "metadata": {
        "id": "qIXiwJbJ8j1N"
      },
      "source": [
        "# Defining Decoder Architecture\n",
        "decoder_input    = Input(shape = (max_seq_len_target,), name = 'Decoder_input')\n",
        "embedded_decoder = Embedding(len_target_vocab, latent_dim)(decoder_input)\n",
        "decoder_output, _, _ = LSTM(latent_dim, return_sequences=True, return_state=True)(embedded_decoder, initial_state = encoder_state)\n",
        "\n",
        "# Using Softmax activation\n",
        "decoder_dense = Dense(len_target_vocab, activation='softmax', name = 'Decoder_Dense')\n",
        "decoder_output = decoder_dense(decoder_output)"
      ],
      "execution_count": 22,
      "outputs": []
    },
    {
      "cell_type": "code",
      "metadata": {
        "colab": {
          "base_uri": "https://localhost:8080/"
        },
        "id": "PUXbw-K3BaCM",
        "outputId": "f2fc41fa-c389-4843-ede2-c4c2175b0b49"
      },
      "source": [
        "model = Model(inputs = [encoder_input, decoder_input], outputs = decoder_output, name = 'Original_NMT_model')\n",
        "model.summary()"
      ],
      "execution_count": 23,
      "outputs": [
        {
          "output_type": "stream",
          "text": [
            "Model: \"Original_NMT_model\"\n",
            "__________________________________________________________________________________________________\n",
            "Layer (type)                    Output Shape         Param #     Connected to                     \n",
            "==================================================================================================\n",
            "Encoder_input (InputLayer)      [(None, 9)]          0                                            \n",
            "__________________________________________________________________________________________________\n",
            "Decoder_input (InputLayer)      [(None, 11)]         0                                            \n",
            "__________________________________________________________________________________________________\n",
            "embedding (Embedding)           (None, 9, 300)       1349700     Encoder_input[0][0]              \n",
            "__________________________________________________________________________________________________\n",
            "embedding_1 (Embedding)         (None, 11, 1024)     5821440     Decoder_input[0][0]              \n",
            "__________________________________________________________________________________________________\n",
            "lstm (LSTM)                     [(None, 1024), (None 5427200     embedding[0][0]                  \n",
            "__________________________________________________________________________________________________\n",
            "lstm_1 (LSTM)                   [(None, 11, 1024), ( 8392704     embedding_1[0][0]                \n",
            "                                                                 lstm[0][1]                       \n",
            "                                                                 lstm[0][2]                       \n",
            "__________________________________________________________________________________________________\n",
            "Decoder_Dense (Dense)           (None, 11, 5685)     5827125     lstm_1[0][0]                     \n",
            "==================================================================================================\n",
            "Total params: 26,818,169\n",
            "Trainable params: 26,818,169\n",
            "Non-trainable params: 0\n",
            "__________________________________________________________________________________________________\n"
          ],
          "name": "stdout"
        }
      ]
    },
    {
      "cell_type": "code",
      "metadata": {
        "id": "Z3-7Giw2-W_X"
      },
      "source": [
        "# for k,v in model._get_trainable_state().items():\n",
        "#     print(k,v)"
      ],
      "execution_count": 24,
      "outputs": []
    },
    {
      "cell_type": "code",
      "metadata": {
        "id": "zeZwoSHGBrry",
        "colab": {
          "base_uri": "https://localhost:8080/"
        },
        "outputId": "6998f375-65bb-41de-8b5d-79f7fcd153ca"
      },
      "source": [
        "model.compile(optimizer = 'rmsprop' , loss = 'categorical_crossentropy', metrics=['accuracy'])\n",
        "\n",
        "# Callback to reduce the learning rate when the validation loss has stopped improving\n",
        "reduce_lr = keras.callbacks.ReduceLROnPlateau(monitor = 'val_loss', factor = 0.5, patience = 3, mode = 'min')\n",
        "\n",
        "# Callback to stop training the model when the validation loss has stopped improving\n",
        "early_stop = keras.callbacks.EarlyStopping(monitor = 'val_loss', patience = 10, mode = 'min')\n",
        "\n",
        "# Fitting the model\n",
        "model_history = model.fit([encoder_input_data, decoder_input_data], decoder_target_data,\n",
        "                          batch_size = batch_size , epochs = epochs, validation_split=0.12,\n",
        "                          callbacks=[reduce_lr, early_stop])\n",
        "\n",
        "model.save('English - Dutch/NMT_seq2seq_no_Attention.h5')"
      ],
      "execution_count": 25,
      "outputs": [
        {
          "output_type": "stream",
          "text": [
            "Epoch 1/100\n",
            "20/20 [==============================] - 21s 873ms/step - loss: 4.0943 - accuracy: 0.0826 - val_loss: 3.4863 - val_accuracy: 0.1192\n",
            "Epoch 2/100\n",
            "20/20 [==============================] - 16s 789ms/step - loss: 3.3962 - accuracy: 0.1220 - val_loss: 3.4200 - val_accuracy: 0.1375\n",
            "Epoch 3/100\n",
            "20/20 [==============================] - 16s 798ms/step - loss: 3.2787 - accuracy: 0.1376 - val_loss: 3.4401 - val_accuracy: 0.1364\n",
            "Epoch 4/100\n",
            "20/20 [==============================] - 16s 793ms/step - loss: 3.2077 - accuracy: 0.1426 - val_loss: 3.2651 - val_accuracy: 0.1527\n",
            "Epoch 5/100\n",
            "20/20 [==============================] - 16s 794ms/step - loss: 3.0437 - accuracy: 0.1575 - val_loss: 3.2067 - val_accuracy: 0.1613\n",
            "Epoch 6/100\n",
            "20/20 [==============================] - 16s 802ms/step - loss: 2.9169 - accuracy: 0.1674 - val_loss: 3.1026 - val_accuracy: 0.1715\n",
            "Epoch 7/100\n",
            "20/20 [==============================] - 16s 791ms/step - loss: 2.7707 - accuracy: 0.1774 - val_loss: 3.0639 - val_accuracy: 0.1838\n",
            "Epoch 8/100\n",
            "20/20 [==============================] - 16s 783ms/step - loss: 2.6486 - accuracy: 0.1946 - val_loss: 2.9508 - val_accuracy: 0.1864\n",
            "Epoch 9/100\n",
            "20/20 [==============================] - 16s 792ms/step - loss: 2.5550 - accuracy: 0.2008 - val_loss: 2.8979 - val_accuracy: 0.2011\n",
            "Epoch 10/100\n",
            "20/20 [==============================] - 16s 797ms/step - loss: 2.4121 - accuracy: 0.2140 - val_loss: 2.8065 - val_accuracy: 0.2063\n",
            "Epoch 11/100\n",
            "20/20 [==============================] - 16s 801ms/step - loss: 2.3109 - accuracy: 0.2234 - val_loss: 2.7121 - val_accuracy: 0.2215\n",
            "Epoch 12/100\n",
            "20/20 [==============================] - 16s 804ms/step - loss: 2.1691 - accuracy: 0.2365 - val_loss: 2.6825 - val_accuracy: 0.2232\n",
            "Epoch 13/100\n",
            "20/20 [==============================] - 16s 796ms/step - loss: 2.0623 - accuracy: 0.2459 - val_loss: 2.6029 - val_accuracy: 0.2344\n",
            "Epoch 14/100\n",
            "20/20 [==============================] - 16s 795ms/step - loss: 1.9697 - accuracy: 0.2583 - val_loss: 2.5936 - val_accuracy: 0.2400\n",
            "Epoch 15/100\n",
            "20/20 [==============================] - 16s 823ms/step - loss: 1.8790 - accuracy: 0.2709 - val_loss: 2.5378 - val_accuracy: 0.2439\n",
            "Epoch 16/100\n",
            "20/20 [==============================] - 16s 817ms/step - loss: 1.7792 - accuracy: 0.2814 - val_loss: 2.4916 - val_accuracy: 0.2473\n",
            "Epoch 17/100\n",
            "20/20 [==============================] - 16s 815ms/step - loss: 1.6886 - accuracy: 0.2968 - val_loss: 2.4607 - val_accuracy: 0.2534\n",
            "Epoch 18/100\n",
            "20/20 [==============================] - 17s 829ms/step - loss: 1.5926 - accuracy: 0.3092 - val_loss: 2.4179 - val_accuracy: 0.2618\n",
            "Epoch 19/100\n",
            "20/20 [==============================] - 16s 810ms/step - loss: 1.5058 - accuracy: 0.3281 - val_loss: 2.4138 - val_accuracy: 0.2614\n",
            "Epoch 20/100\n",
            "20/20 [==============================] - 16s 815ms/step - loss: 1.4456 - accuracy: 0.3382 - val_loss: 2.4314 - val_accuracy: 0.2572\n",
            "Epoch 21/100\n",
            "20/20 [==============================] - 16s 806ms/step - loss: 1.3735 - accuracy: 0.3486 - val_loss: 2.4190 - val_accuracy: 0.2639\n",
            "Epoch 22/100\n",
            "20/20 [==============================] - 16s 793ms/step - loss: 1.2869 - accuracy: 0.3616 - val_loss: 2.3346 - val_accuracy: 0.2717\n",
            "Epoch 23/100\n",
            "20/20 [==============================] - 16s 809ms/step - loss: 1.2126 - accuracy: 0.3758 - val_loss: 2.3424 - val_accuracy: 0.2711\n",
            "Epoch 24/100\n",
            "20/20 [==============================] - 16s 801ms/step - loss: 1.1426 - accuracy: 0.3899 - val_loss: 2.2869 - val_accuracy: 0.2808\n",
            "Epoch 25/100\n",
            "20/20 [==============================] - 16s 804ms/step - loss: 1.0568 - accuracy: 0.4028 - val_loss: 2.2817 - val_accuracy: 0.2822\n",
            "Epoch 26/100\n",
            "20/20 [==============================] - 16s 806ms/step - loss: 1.0036 - accuracy: 0.4112 - val_loss: 2.2805 - val_accuracy: 0.2830\n",
            "Epoch 27/100\n",
            "20/20 [==============================] - 16s 799ms/step - loss: 0.9422 - accuracy: 0.4243 - val_loss: 2.2491 - val_accuracy: 0.2876\n",
            "Epoch 28/100\n",
            "20/20 [==============================] - 16s 806ms/step - loss: 0.8782 - accuracy: 0.4390 - val_loss: 2.2962 - val_accuracy: 0.2834\n",
            "Epoch 29/100\n",
            "20/20 [==============================] - 16s 801ms/step - loss: 0.8665 - accuracy: 0.4427 - val_loss: 2.2483 - val_accuracy: 0.2881\n",
            "Epoch 30/100\n",
            "20/20 [==============================] - 16s 798ms/step - loss: 0.7966 - accuracy: 0.4535 - val_loss: 2.2593 - val_accuracy: 0.2887\n",
            "Epoch 31/100\n",
            "20/20 [==============================] - 16s 799ms/step - loss: 0.7586 - accuracy: 0.4640 - val_loss: 2.2679 - val_accuracy: 0.2912\n",
            "Epoch 32/100\n",
            "20/20 [==============================] - 16s 808ms/step - loss: 0.7035 - accuracy: 0.4717 - val_loss: 2.2488 - val_accuracy: 0.2888\n",
            "Epoch 33/100\n",
            "20/20 [==============================] - 16s 813ms/step - loss: 0.6009 - accuracy: 0.4930 - val_loss: 2.2210 - val_accuracy: 0.2981\n",
            "Epoch 34/100\n",
            "20/20 [==============================] - 16s 824ms/step - loss: 0.5746 - accuracy: 0.5024 - val_loss: 2.2193 - val_accuracy: 0.2981\n",
            "Epoch 35/100\n",
            "20/20 [==============================] - 17s 830ms/step - loss: 0.5470 - accuracy: 0.5078 - val_loss: 2.2121 - val_accuracy: 0.2981\n",
            "Epoch 36/100\n",
            "20/20 [==============================] - 16s 813ms/step - loss: 0.5226 - accuracy: 0.5096 - val_loss: 2.2088 - val_accuracy: 0.3008\n",
            "Epoch 37/100\n",
            "20/20 [==============================] - 17s 834ms/step - loss: 0.4965 - accuracy: 0.5157 - val_loss: 2.2108 - val_accuracy: 0.3023\n",
            "Epoch 38/100\n",
            "20/20 [==============================] - 16s 814ms/step - loss: 0.4901 - accuracy: 0.5189 - val_loss: 2.2051 - val_accuracy: 0.2996\n",
            "Epoch 39/100\n",
            "20/20 [==============================] - 16s 813ms/step - loss: 0.4693 - accuracy: 0.5222 - val_loss: 2.2091 - val_accuracy: 0.3027\n",
            "Epoch 40/100\n",
            "20/20 [==============================] - 16s 807ms/step - loss: 0.4591 - accuracy: 0.5274 - val_loss: 2.2167 - val_accuracy: 0.3032\n",
            "Epoch 41/100\n",
            "20/20 [==============================] - 16s 801ms/step - loss: 0.4405 - accuracy: 0.5287 - val_loss: 2.2157 - val_accuracy: 0.3024\n",
            "Epoch 42/100\n",
            "20/20 [==============================] - 16s 805ms/step - loss: 0.4059 - accuracy: 0.5387 - val_loss: 2.2086 - val_accuracy: 0.3027\n",
            "Epoch 43/100\n",
            "20/20 [==============================] - 16s 804ms/step - loss: 0.4012 - accuracy: 0.5377 - val_loss: 2.2114 - val_accuracy: 0.3028\n",
            "Epoch 44/100\n",
            "20/20 [==============================] - 16s 800ms/step - loss: 0.3901 - accuracy: 0.5402 - val_loss: 2.2171 - val_accuracy: 0.3035\n",
            "Epoch 45/100\n",
            "20/20 [==============================] - 17s 855ms/step - loss: 0.3787 - accuracy: 0.5451 - val_loss: 2.2108 - val_accuracy: 0.3043\n",
            "Epoch 46/100\n",
            "20/20 [==============================] - 16s 800ms/step - loss: 0.3687 - accuracy: 0.5426 - val_loss: 2.2113 - val_accuracy: 0.3056\n",
            "Epoch 47/100\n",
            "20/20 [==============================] - 16s 807ms/step - loss: 0.3671 - accuracy: 0.5474 - val_loss: 2.2112 - val_accuracy: 0.3036\n",
            "Epoch 48/100\n",
            "20/20 [==============================] - 16s 810ms/step - loss: 0.3597 - accuracy: 0.5465 - val_loss: 2.2123 - val_accuracy: 0.3051\n"
          ],
          "name": "stdout"
        }
      ]
    },
    {
      "cell_type": "code",
      "metadata": {
        "id": "w5CsKTHvaNFd",
        "colab": {
          "base_uri": "https://localhost:8080/",
          "height": 573
        },
        "outputId": "8613e31f-0eef-498c-b468-71ca753f23c1"
      },
      "source": [
        "# list all data in history\n",
        "# print(model_history.history.keys())\n",
        "\n",
        "# summarize history for accuracy\n",
        "plt.plot(model_history.history['accuracy'])\n",
        "plt.plot(model_history.history['val_accuracy'])\n",
        "plt.title('Model Accuracy')\n",
        "plt.ylabel('Accuracy')\n",
        "plt.xlabel('Epoch')\n",
        "# plt.ylim([0.60, 1.00])\n",
        "plt.legend(['Training', 'Validation'], loc='lower right')\n",
        "plt.show()\n",
        "\n",
        "# summarize history for loss\n",
        "plt.plot(model_history.history['loss'])\n",
        "plt.plot(model_history.history['val_loss'])\n",
        "plt.title('Model Loss')\n",
        "plt.ylabel('Loss')\n",
        "plt.xlabel('Epoch')\n",
        "plt.legend(['Training', 'Validation'], loc='best')\n",
        "plt.show()"
      ],
      "execution_count": 26,
      "outputs": [
        {
          "output_type": "display_data",
          "data": {
            "image/png": "[encoded data removed]",
            "text/plain": [
              "<Figure size 432x288 with 1 Axes>"
            ]
          },
          "metadata": {
            "tags": [],
            "needs_background": "light"
          }
        },
        {
          "output_type": "display_data",
          "data": {
            "image/png": "[encoded data removed]",
            "text/plain": [
              "<Figure size 432x288 with 1 Axes>"
            ]
          },
          "metadata": {
            "tags": [],
            "needs_background": "light"
          }
        }
      ]
    },
    {
      "cell_type": "markdown",
      "metadata": {
        "id": "0Sy_WCp31x79"
      },
      "source": [
        "## Section 3 Testing\n",
        "\n",
        "---\n",
        "\n",
        "**Task 5 (20 marks)**\n",
        "\n",
        "* Use the trained model to translate the text from the source into the target language (10 marks). \n",
        "* Use the test/evaluation set (see Section 1) and perform an automatic evaluation with the BLEU metric (10 marks). \n",
        "You can use the NLTK library to calculate BLEU."
      ]
    },
    {
      "cell_type": "code",
      "metadata": {
        "id": "lXg4Nacd253k"
      },
      "source": [
        "# # Loading the saved model -- to be used in passing the inputs and layer configuration \n",
        "# # from the trained model into the inference models\n",
        "# model_inference = Model([encoder_input, decoder_input], decoder_output, name = \"Inference_Model\")\n",
        "# model_inference.compile(optimizer='rmsprop', loss='categorical_crossentropy')\n",
        "# model_inference.load_weights('English - Dutch/NMT_seq2seq_no_Attention.h5')"
      ],
      "execution_count": 27,
      "outputs": []
    },
    {
      "cell_type": "code",
      "metadata": {
        "id": "WldbuKmz9PPd"
      },
      "source": [
        "# # Loading the saved model -- to be used in passing the inputs and layer configuration \n",
        "# # from the trained model into the inference models\n",
        "model_inference = keras.models.load_model('English - Dutch/NMT_seq2seq_no_Attention.h5')"
      ],
      "execution_count": 28,
      "outputs": []
    },
    {
      "cell_type": "markdown",
      "metadata": {
        "id": "ogflRj9FhxFe"
      },
      "source": [
        "To create the Encoder and Decoder models by using the trained model\n",
        "\n",
        "- Using **model_inference.input** to get the trained model's input configuration and,\n",
        "- Using **model_inference.layers** to get the trained model's layers \n",
        "\n",
        "\n",
        " "
      ]
    },
    {
      "cell_type": "code",
      "metadata": {
        "colab": {
          "base_uri": "https://localhost:8080/"
        },
        "id": "jUOf7lWqkBQ5",
        "outputId": "35b72455-2164-451e-e803-6b0252dfb0fa"
      },
      "source": [
        "for index, desc in enumerate(model_inference.input):\n",
        "  print(index,\": \", desc)"
      ],
      "execution_count": 29,
      "outputs": [
        {
          "output_type": "stream",
          "text": [
            "0 :  KerasTensor(type_spec=TensorSpec(shape=(None, 9), dtype=tf.float32, name='Encoder_input'), name='Encoder_input', description=\"created by layer 'Encoder_input'\")\n",
            "1 :  KerasTensor(type_spec=TensorSpec(shape=(None, 11), dtype=tf.float32, name='Decoder_input'), name='Decoder_input', description=\"created by layer 'Decoder_input'\")\n"
          ],
          "name": "stdout"
        }
      ]
    },
    {
      "cell_type": "code",
      "metadata": {
        "colab": {
          "base_uri": "https://localhost:8080/"
        },
        "id": "mD7bAdHNj4y8",
        "outputId": "7a068241-f7d7-49d7-d09b-e55540037d6f"
      },
      "source": [
        "for index, desc in enumerate(model_inference.layers):\n",
        "  print(index,\": \", desc)"
      ],
      "execution_count": 30,
      "outputs": [
        {
          "output_type": "stream",
          "text": [
            "0 :  <tensorflow.python.keras.engine.input_layer.InputLayer object at 0x7fd8c8ca4e50>\n",
            "1 :  <tensorflow.python.keras.engine.input_layer.InputLayer object at 0x7fd8c8ca4a10>\n",
            "2 :  <tensorflow.python.keras.layers.embeddings.Embedding object at 0x7fd8c8ca4590>\n",
            "3 :  <tensorflow.python.keras.layers.embeddings.Embedding object at 0x7fd8c8c9cb10>\n",
            "4 :  <tensorflow.python.keras.layers.recurrent_v2.LSTM object at 0x7fd8c8c9ce50>\n",
            "5 :  <tensorflow.python.keras.layers.recurrent_v2.LSTM object at 0x7fd8c8d026d0>\n",
            "6 :  <tensorflow.python.keras.layers.core.Dense object at 0x7fd8c8ca4610>\n"
          ],
          "name": "stdout"
        }
      ]
    },
    {
      "cell_type": "code",
      "metadata": {
        "colab": {
          "base_uri": "https://localhost:8080/"
        },
        "id": "hJYjFoJzLW9D",
        "outputId": "64425fb9-5f99-494b-b180-1551707fe0b8"
      },
      "source": [
        "# Encoder Inference\n",
        "# encoder_inference = Model(encoder_input, encoder_state, name = 'Encoder_Inference')\n",
        "encoder_inference = Model(model_inference.input[0], model_inference.layers[4].output[1:], name = 'Encoder_Inference')\n",
        "encoder_inference.summary()"
      ],
      "execution_count": 31,
      "outputs": [
        {
          "output_type": "stream",
          "text": [
            "Model: \"Encoder_Inference\"\n",
            "_________________________________________________________________\n",
            "Layer (type)                 Output Shape              Param #   \n",
            "=================================================================\n",
            "Encoder_input (InputLayer)   [(None, 9)]               0         \n",
            "_________________________________________________________________\n",
            "embedding (Embedding)        (None, 9, 300)            1349700   \n",
            "_________________________________________________________________\n",
            "lstm (LSTM)                  [(None, 1024), (None, 102 5427200   \n",
            "=================================================================\n",
            "Total params: 6,776,900\n",
            "Trainable params: 6,776,900\n",
            "Non-trainable params: 0\n",
            "_________________________________________________________________\n"
          ],
          "name": "stdout"
        }
      ]
    },
    {
      "cell_type": "code",
      "metadata": {
        "colab": {
          "base_uri": "https://localhost:8080/"
        },
        "id": "cx3GVvp3CEv_",
        "outputId": "c10731b7-6c9a-402c-e5e2-f66931fd7dd1"
      },
      "source": [
        "# Decoder Inference\n",
        "decoder_input_h = Input(shape=(latent_dim,), name = 'decoder_input_h')\n",
        "decoder_input_c = Input(shape=(latent_dim,), name = 'decoder_input_c')\n",
        "decoder_state_input = [decoder_input_h, decoder_input_c]\n",
        "\n",
        "\n",
        "# WARNING:tensorflow:Model was constructed with shape (None, 30), but it was called on an input with incompatible shape (None, 1).\n",
        "# decoder_input_inference = model_inference.input[1] #--- changing this line of code to below to remove the above warning\n",
        "decoder_input_inference = Input(shape=(1,), name = 'Decoder_Input')\n",
        "\n",
        "# decoder_embed_inference = Embedding(len_target_vocab, latent_dim, mask_zero=True)(decoder_input_inference)\n",
        "decoder_embed_inference = model_inference.layers[3](decoder_input_inference)\n",
        "\n",
        "# decoder_output_inference, state_h_inf, state_c_inf = LSTM(latent_dim, return_sequences = True, return_state = True)(decoder_embed_inference, initial_state = decoder_state_input)\n",
        "decoder_output_inference, state_h_inf, state_c_inf = model_inference.layers[5](decoder_embed_inference, initial_state = decoder_state_input)\n",
        "\n",
        "decoder_state_output = [state_h_inf, state_c_inf]\n",
        "\n",
        "# decoder_output_final = decoder_dense(decoder_output_inference)\n",
        "decoder_output_final = model_inference.layers[6](decoder_output_inference)\n",
        "\n",
        "\n",
        "decoder_inference = Model([decoder_input_inference] + decoder_state_input,\n",
        "                          [decoder_output_final] + decoder_state_output, name = 'Decoder_Inference')\n",
        "\n",
        "decoder_inference.summary()"
      ],
      "execution_count": 32,
      "outputs": [
        {
          "output_type": "stream",
          "text": [
            "Model: \"Decoder_Inference\"\n",
            "__________________________________________________________________________________________________\n",
            "Layer (type)                    Output Shape         Param #     Connected to                     \n",
            "==================================================================================================\n",
            "Decoder_Input (InputLayer)      [(None, 1)]          0                                            \n",
            "__________________________________________________________________________________________________\n",
            "embedding_1 (Embedding)         multiple             5821440     Decoder_Input[0][0]              \n",
            "__________________________________________________________________________________________________\n",
            "decoder_input_h (InputLayer)    [(None, 1024)]       0                                            \n",
            "__________________________________________________________________________________________________\n",
            "decoder_input_c (InputLayer)    [(None, 1024)]       0                                            \n",
            "__________________________________________________________________________________________________\n",
            "lstm_1 (LSTM)                   multiple             8392704     embedding_1[1][0]                \n",
            "                                                                 decoder_input_h[0][0]            \n",
            "                                                                 decoder_input_c[0][0]            \n",
            "__________________________________________________________________________________________________\n",
            "Decoder_Dense (Dense)           multiple             5827125     lstm_1[1][0]                     \n",
            "==================================================================================================\n",
            "Total params: 20,041,269\n",
            "Trainable params: 20,041,269\n",
            "Non-trainable params: 0\n",
            "__________________________________________________________________________________________________\n"
          ],
          "name": "stdout"
        }
      ]
    },
    {
      "cell_type": "code",
      "metadata": {
        "id": "2mt64ZQkELpO"
      },
      "source": [
        "# Reverse Dictionary to convert integer back to the respective token\n",
        "reverse_source_vocab_index = {index : token for token, index in source_vocab_index.items()}\n",
        "reverse_target_vocab_index = {index : token for token, index in target_vocab_index.items()}"
      ],
      "execution_count": 33,
      "outputs": []
    },
    {
      "cell_type": "code",
      "metadata": {
        "id": "Xz4gUbihZhhR"
      },
      "source": [
        "def decode_sequence(input_seq):\n",
        "  # encode the input sequence to get the internal state vectors\n",
        "  states_value = encoder_inference.predict(input_seq)\n",
        "  \n",
        "  # generate empty target sequence of length 1 with only the start character\n",
        "  target_seq = np.zeros((1, 1))\n",
        "  target_seq[0, 0] = target_vocab_index['<bof>']\n",
        "  \n",
        "  # output sequence loop\n",
        "  stop_condition = False\n",
        "  decoded_sentence = ''\n",
        "  while not stop_condition:\n",
        "    output_tokens, h, c = decoder_inference.predict([target_seq] + states_value)\n",
        "    \n",
        "    # sample a token and add the corresponding character to the decoded sequence\n",
        "    sampled_token_index = np.argmax(output_tokens[0, -1, :])\n",
        "    sampled_token = reverse_target_vocab_index[sampled_token_index]\n",
        "        \n",
        "    # check for the exit condition: either hitting max length\n",
        "    # or predicting the 'stop' character\n",
        "    if (sampled_token == '<eos>' or len(decoded_sentence.split()) > max_seq_len_target):\n",
        "      stop_condition = True\n",
        "      break\n",
        "      \n",
        "\n",
        "    decoded_sentence += ' ' + sampled_token\n",
        "      \n",
        "    # update the target sequence (length 1).\n",
        "    target_seq[0, 0] = sampled_token_index\n",
        "    \n",
        "    # update states\n",
        "    states_value = [h, c]\n",
        "    \n",
        "  return decoded_sentence.strip()"
      ],
      "execution_count": 34,
      "outputs": []
    },
    {
      "cell_type": "markdown",
      "metadata": {
        "id": "4W29-et7B302"
      },
      "source": [
        "Translating"
      ]
    },
    {
      "cell_type": "markdown",
      "metadata": {
        "id": "bBlCePX3BGQo"
      },
      "source": [
        "Converting Test data into same format as required by NMT model"
      ]
    },
    {
      "cell_type": "code",
      "metadata": {
        "colab": {
          "base_uri": "https://localhost:8080/"
        },
        "id": "a1t3Rzi45K1c",
        "outputId": "ed34a644-1964-4466-d326-3100913cb703"
      },
      "source": [
        "encoder_input_test   = np.zeros((len(X_test), max_seq_len_source), dtype='float32')\n",
        "\n",
        "# One- hot encoding\n",
        "for line_index, (source_indv_line, target_indv_line) in enumerate(zip(X_test, y_test)):\n",
        "  for token_index, token in enumerate(source_indv_line.split()):\n",
        "    encoder_input_test[line_index, token_index] = source_vocab_index[token]\n",
        "\n",
        "print(\"Encoder_input_data shape: \", encoder_input_test.shape, \"\\nSentence: \", X_test[0], \"\\nsample: \", encoder_input_test[0])"
      ],
      "execution_count": 35,
      "outputs": [
        {
          "output_type": "stream",
          "text": [
            "Encoder_input_data shape:  (1000, 9) \n",
            "Sentence:  ken has arrived in kyoto \n",
            "sample:  [2155. 1803.  231. 1985. 2201.    0.    0.    0.    0.]\n"
          ],
          "name": "stdout"
        }
      ]
    },
    {
      "cell_type": "code",
      "metadata": {
        "colab": {
          "base_uri": "https://localhost:8080/"
        },
        "id": "JJYLf6vPAoYK",
        "outputId": "af9dc8ce-8ad1-4f0d-8599-784c707c9c87"
      },
      "source": [
        "print('Translating sentences from Training Set','---'*30)\n",
        "for seq_index in range(5):\n",
        "  input_seq = encoder_input_data[seq_index: seq_index + 1]\n",
        "  decoded_sentence = decode_sequence(input_seq)\n",
        "  print('----')\n",
        "  print('Source English\\t\\t:', X_train[seq_index])\n",
        "  print('Original Dutch\\t\\t:', ' '.join(y_train[seq_index].split()[1:-1]))\n",
        "  print('Translated Dutch\\t:', decoded_sentence) \n",
        "\n",
        "print('\\nTranslating sentences from Testing Set','---'*30)\n",
        "\n",
        "for seq_index in range(5,10):\n",
        "  input_seq = encoder_input_test[seq_index: seq_index + 1]\n",
        "  decoded_sentence = decode_sequence(input_seq)\n",
        "  print('----')\n",
        "  print('Source English\\t\\t:', X_test[seq_index])\n",
        "  print('Original Dutch\\t\\t:', ' '.join(y_test[seq_index].split()[1:-1]))\n",
        "  print('Translated Dutch\\t:', decoded_sentence) \n",
        "  "
      ],
      "execution_count": 36,
      "outputs": [
        {
          "output_type": "stream",
          "text": [
            "Translating sentences from Training Set ------------------------------------------------------------------------------------------\n",
            "----\n",
            "Source English\t\t: the foreigner didnt know japanese at all\n",
            "Original Dutch\t\t: de buitenlander kende helemaal geen japans\n",
            "Translated Dutch\t: de buitenlander kende helemaal geen japans\n",
            "----\n",
            "Source English\t\t: threequarters of the work was finished\n",
            "Original Dutch\t\t: driekwart van het werk was gedaan\n",
            "Translated Dutch\t: driekwart van het werk was\n",
            "----\n",
            "Source English\t\t: cows are eating grass in the meadow\n",
            "Original Dutch\t\t: koeien grazen in de wei\n",
            "Translated Dutch\t: koeien grazen in de wei\n",
            "----\n",
            "Source English\t\t: hanako likes cake very much\n",
            "Original Dutch\t\t: hanako houdt erg van gebak\n",
            "Translated Dutch\t: hanako houdt erg van pizza\n",
            "----\n",
            "Source English\t\t: i ordered two teas and three coffees\n",
            "Original Dutch\t\t: ik heb twee thees en drie koffies besteld\n",
            "Translated Dutch\t: ik heb twee thees en drie koffies\n",
            "\n",
            "Translating sentences from Testing Set ------------------------------------------------------------------------------------------\n",
            "----\n",
            "Source English\t\t: carlos climbed the mountain\n",
            "Original Dutch\t\t: karlo klom op de berg\n",
            "Translated Dutch\t: roep heeft de slaven\n",
            "----\n",
            "Source English\t\t: shes rolling in money\n",
            "Original Dutch\t\t: ze zwemt in het geld\n",
            "Translated Dutch\t: waar is het met het buitenland\n",
            "----\n",
            "Source English\t\t: try to lose weight by jogging\n",
            "Original Dutch\t\t: probeer gewicht te verliezen door te joggen\n",
            "Translated Dutch\t: probeer het met mij\n",
            "----\n",
            "Source English\t\t: catholics are against birth control\n",
            "Original Dutch\t\t: katholieken zijn tegen geboortecontrole\n",
            "Translated Dutch\t: kikkers zijn vaak door\n",
            "----\n",
            "Source English\t\t: close the door when you leave\n",
            "Original Dutch\t\t: sluit de deur wanneer je vertrekt\n",
            "Translated Dutch\t: sluit de deur bij het station\n"
          ],
          "name": "stdout"
        }
      ]
    },
    {
      "cell_type": "markdown",
      "metadata": {
        "id": "oDksXrRRHpbX"
      },
      "source": [
        "BLeU"
      ]
    },
    {
      "cell_type": "code",
      "metadata": {
        "colab": {
          "base_uri": "https://localhost:8080/"
        },
        "id": "NAGFCJilHq6O",
        "outputId": "c034a02d-7cbf-4a25-fea8-7d71736c4760"
      },
      "source": [
        "#Importing Blue\n",
        "from nltk.translate.bleu_score import sentence_bleu, corpus_bleu, SmoothingFunction\n",
        "smooth = SmoothingFunction().method4\n",
        "\n",
        "corpus_reference = []\n",
        "corpus_hypothesis = []\n",
        "\n",
        "sentence_reference = []\n",
        "sentence_hypothesis = []\n",
        "\n",
        "corpus_score_cumulative_bleu_1 = 0\n",
        "corpus_score_cumulative_bleu_2 = 0\n",
        "corpus_score_cumulative_bleu_3 = 0\n",
        "corpus_score_cumulative_bleu_4 = 0\n",
        "\n",
        "sen_score_cumulative_bleu_1 = []\n",
        "sen_score_cumulative_bleu_2 = []\n",
        "sen_score_cumulative_bleu_3 = []\n",
        "sen_score_cumulative_bleu_4 = []\n",
        "\n",
        "#Generating Bleu Score\n",
        "for line_index in range(len(X_test)):\n",
        "\n",
        "  line_data = encoder_input_test[line_index: line_index + 1]\n",
        "  translation = decode_sequence(line_data)\n",
        "  \n",
        "  corpus_reference.append([y_test[line_index].split()[1:-1]])\n",
        "  corpus_hypothesis.append(translation.split())\n",
        "\n",
        "  sentence_reference = y_test[line_index].split()[1:-1]\n",
        "  sentence_hypothesis = translation.split()\n",
        "\n",
        "  try:\n",
        "    score1 = sentence_bleu([sentence_reference], sentence_hypothesis, weights = (1, 0, 0, 0), smoothing_function = smooth)\n",
        "  except:\n",
        "    score1 = 0\n",
        "  \n",
        "  try:\n",
        "    score2 = sentence_bleu([sentence_reference], sentence_hypothesis, weights = (0.5, 0.5, 0, 0), smoothing_function = smooth)\n",
        "  except:\n",
        "    score2 = 0\n",
        "  \n",
        "  try:\n",
        "    score3 = sentence_bleu([sentence_reference], sentence_hypothesis, weights = (0.33, 0.33, 0.33, 0), smoothing_function = smooth)\n",
        "  except:\n",
        "    score3 = 0\n",
        "\n",
        "  try:\n",
        "    score4 = sentence_bleu([sentence_reference], sentence_hypothesis, weights = (0.25, 0.25, 0.25, 0.25), smoothing_function = smooth)\n",
        "  except:\n",
        "    score4 = 0\n",
        "\n",
        "  \n",
        "  sen_score_cumulative_bleu_1.append(score1)\n",
        "  sen_score_cumulative_bleu_2.append(score2)\n",
        "  sen_score_cumulative_bleu_3.append(score3)\n",
        "  sen_score_cumulative_bleu_4.append(score4) \n",
        "\n",
        "\n",
        "corpus_score_cumulative_bleu_1 = corpus_bleu(corpus_reference, corpus_hypothesis, weights = (1, 0, 0, 0), smoothing_function = smooth)\n",
        "corpus_score_cumulative_bleu_2 = corpus_bleu(corpus_reference, corpus_hypothesis, weights = (0.5, 0.5, 0, 0), smoothing_function = smooth)\n",
        "corpus_score_cumulative_bleu_3 = corpus_bleu(corpus_reference, corpus_hypothesis, weights = (0.33, 0.33, 0.33, 0), smoothing_function = smooth)\n",
        "corpus_score_cumulative_bleu_4 = corpus_bleu(corpus_reference, corpus_hypothesis, weights = (0.25, 0.25, 0.25, 0.25), smoothing_function = smooth)\n",
        "\n",
        "sen_score_cumulative_bleu_1 = np.array(sen_score_cumulative_bleu_1)\n",
        "sen_score_cumulative_bleu_2 = np.array(sen_score_cumulative_bleu_2)\n",
        "sen_score_cumulative_bleu_3 = np.array(sen_score_cumulative_bleu_3)\n",
        "sen_score_cumulative_bleu_4 = np.array(sen_score_cumulative_bleu_4)\n",
        "\n",
        "print(\"CORPUS Level Cumulative Bleu - Without Attention\")\n",
        "print(\"1-gram: \", round(corpus_score_cumulative_bleu_1, 6), \"\\t2-gram: \", round(corpus_score_cumulative_bleu_2, 6), \\\n",
        "      \"\\t3-gram: \", round(corpus_score_cumulative_bleu_3, 6), \"\\t4-gram: \", round(corpus_score_cumulative_bleu_4, 6))\n",
        "\n",
        "print(\"\\n\\nSENTENCE Level Cumulative Bleu - Without Attention\")\n",
        "print(\"1-gram: \", round(sen_score_cumulative_bleu_1.mean(), 6), \"\\t2-gram: \", round(sen_score_cumulative_bleu_2.mean(), 6), \\\n",
        "      \"\\t3-gram: \", round(sen_score_cumulative_bleu_3.mean(), 6), \"\\t4-gram: \", round(sen_score_cumulative_bleu_4.mean(), 6))\n",
        " "
      ],
      "execution_count": 37,
      "outputs": [
        {
          "output_type": "stream",
          "text": [
            "CORPUS Level Cumulative Bleu - Without Attention\n",
            "1-gram:  0.450777 \t2-gram:  0.3241 \t3-gram:  0.241759 \t4-gram:  0.171092\n",
            "\n",
            "\n",
            "SENTENCE Level Cumulative Bleu - Without Attention\n",
            "1-gram:  0.438013 \t2-gram:  0.359505 \t3-gram:  0.311926 \t4-gram:  0.264504\n"
          ],
          "name": "stdout"
        }
      ]
    },
    {
      "cell_type": "markdown",
      "metadata": {
        "id": "wb4F1-a00Hw6"
      },
      "source": [
        "# Section 4 Attention\n",
        "\n",
        "---\n",
        "\n"
      ]
    },
    {
      "cell_type": "markdown",
      "metadata": {
        "id": "6XTD-fCC1yUA"
      },
      "source": [
        "**Task 5 (40 Marks)** Sequence2Sequence\n",
        "\n",
        "* Extend the existing Seq2Seq model with an attention mechanism [Discussed in Class]\n",
        "* Create sequence2sequence model with attention (15 marks)\n",
        "* Train the model with the same data from Section 1 (10 marks)\n",
        "* Translate the evaluation set using the sequence2sequence attention model (10 marks)\n",
        "* Evaluate the translations made with the sequence2sequence attention model and compare it with the model without attention using BLEU (5 marks)"
      ]
    },
    {
      "cell_type": "code",
      "metadata": {
        "id": "4OtA8DVjeht-"
      },
      "source": [
        "# Defining Encoder Architecture , trainable = False\n",
        "encoder_input    = Input(shape = (max_seq_len_source,), name = 'Encoder_input')\n",
        "embedded_encoder = Embedding(len_source_vocab, embedding_shape, weights=[source_embedding])(encoder_input) #,  trainable=False\n",
        "encoder_lstm = LSTM(latent_dim,  return_sequences=True, unroll=True)(embedded_encoder)\n",
        "encoder_last = encoder_lstm[:,-1,:]"
      ],
      "execution_count": 38,
      "outputs": []
    },
    {
      "cell_type": "code",
      "metadata": {
        "id": "7xALyPFQehuT"
      },
      "source": [
        "# Defining Decoder Architecture\n",
        "decoder_input    = Input(shape = (max_seq_len_target,), name = 'Decoder_input')\n",
        "embedded_decoder = Embedding(len_target_vocab, latent_dim)(decoder_input) #embedding_shape\n",
        "decoder_lstm = LSTM(latent_dim, return_sequences=True, unroll=True)(embedded_decoder, initial_state = [encoder_last,encoder_last])"
      ],
      "execution_count": 39,
      "outputs": []
    },
    {
      "cell_type": "code",
      "metadata": {
        "id": "U5yN5Hy6_I7M"
      },
      "source": [
        "# Attendtion model\n",
        "attention_dot = dot([decoder_lstm, encoder_lstm], axes=[2,2])\n",
        "attention_activate = Activation('softmax', name='attention')(attention_dot)\n",
        "\n",
        "context = dot([attention_activate, encoder_lstm], axes=[2,1])\n",
        "\n",
        "decoder_combined_context = concatenate([context, decoder_lstm])\n",
        "\n",
        "output_context = TimeDistributed(Dense(2048, activation=\"tanh\"))(decoder_combined_context)\n",
        "output = TimeDistributed(Dense(len_target_vocab, activation=\"softmax\"), name = 'Decoder_Dense')(output_context)\n"
      ],
      "execution_count": 40,
      "outputs": []
    },
    {
      "cell_type": "code",
      "metadata": {
        "colab": {
          "base_uri": "https://localhost:8080/"
        },
        "id": "OHUmMXDDehuT",
        "outputId": "cc057716-8b6d-4929-dc46-be5fcd17704c"
      },
      "source": [
        "Attention_model = Model(inputs = [encoder_input, decoder_input], outputs = [output], name = 'NMT_Attention_model')\n",
        "Attention_model.summary()"
      ],
      "execution_count": 41,
      "outputs": [
        {
          "output_type": "stream",
          "text": [
            "Model: \"NMT_Attention_model\"\n",
            "__________________________________________________________________________________________________\n",
            "Layer (type)                    Output Shape         Param #     Connected to                     \n",
            "==================================================================================================\n",
            "Encoder_input (InputLayer)      [(None, 9)]          0                                            \n",
            "__________________________________________________________________________________________________\n",
            "embedding_2 (Embedding)         (None, 9, 300)       1349700     Encoder_input[0][0]              \n",
            "__________________________________________________________________________________________________\n",
            "Decoder_input (InputLayer)      [(None, 11)]         0                                            \n",
            "__________________________________________________________________________________________________\n",
            "lstm_2 (LSTM)                   (None, 9, 1024)      5427200     embedding_2[0][0]                \n",
            "__________________________________________________________________________________________________\n",
            "embedding_3 (Embedding)         (None, 11, 1024)     5821440     Decoder_input[0][0]              \n",
            "__________________________________________________________________________________________________\n",
            "tf.__operators__.getitem (Slici (None, 1024)         0           lstm_2[0][0]                     \n",
            "__________________________________________________________________________________________________\n",
            "lstm_3 (LSTM)                   (None, 11, 1024)     8392704     embedding_3[0][0]                \n",
            "                                                                 tf.__operators__.getitem[0][0]   \n",
            "                                                                 tf.__operators__.getitem[0][0]   \n",
            "__________________________________________________________________________________________________\n",
            "dot (Dot)                       (None, 11, 9)        0           lstm_3[0][0]                     \n",
            "                                                                 lstm_2[0][0]                     \n",
            "__________________________________________________________________________________________________\n",
            "attention (Activation)          (None, 11, 9)        0           dot[0][0]                        \n",
            "__________________________________________________________________________________________________\n",
            "dot_1 (Dot)                     (None, 11, 1024)     0           attention[0][0]                  \n",
            "                                                                 lstm_2[0][0]                     \n",
            "__________________________________________________________________________________________________\n",
            "concatenate (Concatenate)       (None, 11, 2048)     0           dot_1[0][0]                      \n",
            "                                                                 lstm_3[0][0]                     \n",
            "__________________________________________________________________________________________________\n",
            "time_distributed (TimeDistribut (None, 11, 2048)     4196352     concatenate[0][0]                \n",
            "__________________________________________________________________________________________________\n",
            "Decoder_Dense (TimeDistributed) (None, 11, 5685)     11648565    time_distributed[0][0]           \n",
            "==================================================================================================\n",
            "Total params: 36,835,961\n",
            "Trainable params: 36,835,961\n",
            "Non-trainable params: 0\n",
            "__________________________________________________________________________________________________\n"
          ],
          "name": "stdout"
        }
      ]
    },
    {
      "cell_type": "code",
      "metadata": {
        "colab": {
          "base_uri": "https://localhost:8080/"
        },
        "id": "61WiWyfBKW20",
        "outputId": "1cdbe325-7c59-4ddb-e07d-b878bb3900dd"
      },
      "source": [
        "Attention_model.compile(optimizer = 'rmsprop' , loss = 'categorical_crossentropy', metrics=['accuracy'])\n",
        "\n",
        "# Callback to reduce the learning rate when the validation loss has stopped improving\n",
        "reduce_lr = keras.callbacks.ReduceLROnPlateau(monitor = 'val_loss', factor = 0.5, patience = 3, mode = 'min')\n",
        "\n",
        "# Callback to stop training the model when the validation loss has stopped improving\n",
        "early_stop = keras.callbacks.EarlyStopping(monitor = 'val_loss', patience = 10, mode = 'min')\n",
        "\n",
        "# Fitting the model\n",
        "model_history = Attention_model.fit([encoder_input_data, decoder_input_data], decoder_target_data,\n",
        "                                    batch_size = batch_size , epochs = epochs, validation_split=0.12,\n",
        "                                    callbacks=[reduce_lr, early_stop])\n",
        "\n",
        "Attention_model.save('English - Dutch/NMT_seq2seq_Attention.h5')"
      ],
      "execution_count": 42,
      "outputs": [
        {
          "output_type": "stream",
          "text": [
            "Epoch 1/100\n",
            "20/20 [==============================] - 30s 1s/step - loss: 5.2118 - accuracy: 0.0495 - val_loss: 3.5956 - val_accuracy: 0.1136\n",
            "Epoch 2/100\n",
            "20/20 [==============================] - 26s 1s/step - loss: 3.4324 - accuracy: 0.1193 - val_loss: 3.3746 - val_accuracy: 0.1384\n",
            "Epoch 3/100\n",
            "20/20 [==============================] - 25s 1s/step - loss: 3.1767 - accuracy: 0.1452 - val_loss: 3.0420 - val_accuracy: 0.1586\n",
            "Epoch 4/100\n",
            "20/20 [==============================] - 25s 1s/step - loss: 2.7861 - accuracy: 0.1665 - val_loss: 2.8825 - val_accuracy: 0.1769\n",
            "Epoch 5/100\n",
            "20/20 [==============================] - 23s 1s/step - loss: 2.4503 - accuracy: 0.1942 - val_loss: 2.6062 - val_accuracy: 0.2213\n",
            "Epoch 6/100\n",
            "20/20 [==============================] - 23s 1s/step - loss: 2.1258 - accuracy: 0.2317 - val_loss: 2.5276 - val_accuracy: 0.2104\n",
            "Epoch 7/100\n",
            "20/20 [==============================] - 23s 1s/step - loss: 1.8246 - accuracy: 0.2610 - val_loss: 2.2437 - val_accuracy: 0.2642\n",
            "Epoch 8/100\n",
            "20/20 [==============================] - 23s 1s/step - loss: 1.5312 - accuracy: 0.2989 - val_loss: 2.1849 - val_accuracy: 0.2785\n",
            "Epoch 9/100\n",
            "20/20 [==============================] - 23s 1s/step - loss: 1.2985 - accuracy: 0.3322 - val_loss: 1.9838 - val_accuracy: 0.3008\n",
            "Epoch 10/100\n",
            "20/20 [==============================] - 23s 1s/step - loss: 1.0143 - accuracy: 0.3782 - val_loss: 1.9808 - val_accuracy: 0.3024\n",
            "Epoch 11/100\n",
            "20/20 [==============================] - 23s 1s/step - loss: 0.8238 - accuracy: 0.4164 - val_loss: 1.8670 - val_accuracy: 0.3247\n",
            "Epoch 12/100\n",
            "20/20 [==============================] - 23s 1s/step - loss: 0.6456 - accuracy: 0.4501 - val_loss: 1.8681 - val_accuracy: 0.3224\n",
            "Epoch 13/100\n",
            "20/20 [==============================] - 23s 1s/step - loss: 0.5181 - accuracy: 0.4756 - val_loss: 1.8802 - val_accuracy: 0.3352\n",
            "Epoch 14/100\n",
            "20/20 [==============================] - 23s 1s/step - loss: 0.4647 - accuracy: 0.4869 - val_loss: 1.9139 - val_accuracy: 0.3318\n",
            "Epoch 15/100\n",
            "20/20 [==============================] - 23s 1s/step - loss: 0.3239 - accuracy: 0.5222 - val_loss: 1.8191 - val_accuracy: 0.3438\n",
            "Epoch 16/100\n",
            "20/20 [==============================] - 23s 1s/step - loss: 0.2553 - accuracy: 0.5382 - val_loss: 1.8468 - val_accuracy: 0.3415\n",
            "Epoch 17/100\n",
            "20/20 [==============================] - 23s 1s/step - loss: 0.2254 - accuracy: 0.5450 - val_loss: 1.8672 - val_accuracy: 0.3405\n",
            "Epoch 18/100\n",
            "20/20 [==============================] - 23s 1s/step - loss: 0.1987 - accuracy: 0.5504 - val_loss: 1.8947 - val_accuracy: 0.3418\n",
            "Epoch 19/100\n",
            "20/20 [==============================] - 23s 1s/step - loss: 0.1587 - accuracy: 0.5599 - val_loss: 1.8928 - val_accuracy: 0.3445\n",
            "Epoch 20/100\n",
            "20/20 [==============================] - 23s 1s/step - loss: 0.1342 - accuracy: 0.5675 - val_loss: 1.9025 - val_accuracy: 0.3443\n",
            "Epoch 21/100\n",
            "20/20 [==============================] - 23s 1s/step - loss: 0.1220 - accuracy: 0.5675 - val_loss: 1.9344 - val_accuracy: 0.3435\n",
            "Epoch 22/100\n",
            "20/20 [==============================] - 23s 1s/step - loss: 0.1079 - accuracy: 0.5764 - val_loss: 1.9326 - val_accuracy: 0.3446\n",
            "Epoch 23/100\n",
            "20/20 [==============================] - 23s 1s/step - loss: 0.0987 - accuracy: 0.5772 - val_loss: 1.9488 - val_accuracy: 0.3447\n",
            "Epoch 24/100\n",
            "20/20 [==============================] - 23s 1s/step - loss: 0.0931 - accuracy: 0.5794 - val_loss: 1.9586 - val_accuracy: 0.3464\n",
            "Epoch 25/100\n",
            "20/20 [==============================] - 23s 1s/step - loss: 0.0849 - accuracy: 0.5794 - val_loss: 1.9647 - val_accuracy: 0.3450\n"
          ],
          "name": "stdout"
        }
      ]
    },
    {
      "cell_type": "code",
      "metadata": {
        "colab": {
          "base_uri": "https://localhost:8080/",
          "height": 573
        },
        "id": "JIzkYf5z9vWx",
        "outputId": "b27ab3b6-6f7c-4a87-8ab6-bee25b0e82dc"
      },
      "source": [
        "# list all data in history\n",
        "# print(model_history.history.keys())\n",
        "\n",
        "# summarize history for accuracy\n",
        "plt.plot(model_history.history['accuracy'])\n",
        "plt.plot(model_history.history['val_accuracy'])\n",
        "plt.title('Model Accuracy')\n",
        "plt.ylabel('Accuracy')\n",
        "plt.xlabel('Epoch')\n",
        "# plt.ylim([0.60, 1.00])\n",
        "plt.legend(['Training', 'Validation'], loc='lower right')\n",
        "plt.show()\n",
        "\n",
        "# summarize history for loss\n",
        "plt.plot(model_history.history['loss'])\n",
        "plt.plot(model_history.history['val_loss'])\n",
        "plt.title('Model Loss')\n",
        "plt.ylabel('Loss')\n",
        "plt.xlabel('Epoch')\n",
        "plt.legend(['Training', 'Validation'], loc='best')\n",
        "plt.show()"
      ],
      "execution_count": 43,
      "outputs": [
        {
          "output_type": "display_data",
          "data": {
            "image/png": "[encoded data removed]",
            "text/plain": [
              "<Figure size 432x288 with 1 Axes>"
            ]
          },
          "metadata": {
            "tags": [],
            "needs_background": "light"
          }
        },
        {
          "output_type": "display_data",
          "data": {
            "image/png": "[encoded data removed]",
            "text/plain": [
              "<Figure size 432x288 with 1 Axes>"
            ]
          },
          "metadata": {
            "tags": [],
            "needs_background": "light"
          }
        }
      ]
    },
    {
      "cell_type": "code",
      "metadata": {
        "id": "Huyw8WFdcyyd"
      },
      "source": [
        "Attention_model = keras.models.load_model('English - Dutch/NMT_seq2seq_Attention.h5')"
      ],
      "execution_count": 44,
      "outputs": []
    },
    {
      "cell_type": "code",
      "metadata": {
        "id": "UoTn3MQnYkoi"
      },
      "source": [
        "def decode_sequence2(input_seq):\n",
        "  \n",
        "  # generate empty target sequence of length equal to target sentence with only the start character\n",
        "  target_seq = np.zeros((1, max_seq_len_target))\n",
        "  target_seq[0, 0] = target_vocab_index['<bof>']\n",
        "  \n",
        "  # output sequence loop\n",
        "  stop_condition = False\n",
        "  decoded_sentence = ''\n",
        "  index = 1\n",
        "  while not stop_condition:\n",
        "    output_tokens = Attention_model.predict([input_seq, target_seq])\n",
        "   \n",
        "    # sample a token and add the corresponding character to the decoded sequence\n",
        "    sampled_token_index = np.argmax(output_tokens[0, index, :])\n",
        "    sampled_token = reverse_target_vocab_index[sampled_token_index]\n",
        "        \n",
        "    # check for the exit condition: either hitting max length\n",
        "    # or predicting the 'stop' character\n",
        "    if (sampled_token == '<eos>' or len(decoded_sentence.split()) > max_seq_len_target or index == 10): #\n",
        "      stop_condition = True\n",
        "      break\n",
        "      \n",
        "    decoded_sentence += ' ' + sampled_token\n",
        "      \n",
        "    # update the target sequence (length 1).\n",
        "    target_seq[0, index] = sampled_token_index\n",
        "    \n",
        "    index+=1\n",
        "    \n",
        "  return decoded_sentence.strip()"
      ],
      "execution_count": 45,
      "outputs": []
    },
    {
      "cell_type": "code",
      "metadata": {
        "colab": {
          "base_uri": "https://localhost:8080/"
        },
        "id": "Unr38ALJcX2r",
        "outputId": "9b2fc6ca-524b-48a4-e69a-fa8720cbb275"
      },
      "source": [
        "print('Translating sentences from Training Set','---'*30)\n",
        "for seq_index in range(5):\n",
        "  input_seq = encoder_input_data[seq_index: seq_index + 1]\n",
        "  decoded_sentence = decode_sequence2(input_seq)\n",
        "  print('----')\n",
        "  print('Source English\\t\\t:', X_train[seq_index])\n",
        "  print('Original Dutch\\t\\t:', ' '.join(y_train[seq_index].split()[1:-1]))\n",
        "  print('Translated Dutch\\t:', decoded_sentence) \n",
        "\n",
        "print('\\nTranslating sentences from Testing Set','---'*30)\n",
        "\n",
        "for seq_index in range(5,10):\n",
        "  input_seq = encoder_input_test[seq_index: seq_index + 1]\n",
        "  decoded_sentence = decode_sequence2(input_seq)\n",
        "  print('----')\n",
        "  print('Source English\\t\\t:', X_test[seq_index])\n",
        "  print('Original Dutch\\t\\t:', ' '.join(y_test[seq_index].split()[1:-1]))\n",
        "  print('Translated Dutch\\t:', decoded_sentence) \n",
        "  "
      ],
      "execution_count": 46,
      "outputs": [
        {
          "output_type": "stream",
          "text": [
            "Translating sentences from Training Set ------------------------------------------------------------------------------------------\n",
            "----\n",
            "Source English\t\t: the foreigner didnt know japanese at all\n",
            "Original Dutch\t\t: de buitenlander kende helemaal geen japans\n",
            "Translated Dutch\t: de kende helemaal geen\n",
            "----\n",
            "Source English\t\t: threequarters of the work was finished\n",
            "Original Dutch\t\t: driekwart van het werk was gedaan\n",
            "Translated Dutch\t: de was hij met was\n",
            "----\n",
            "Source English\t\t: cows are eating grass in the meadow\n",
            "Original Dutch\t\t: koeien grazen in de wei\n",
            "Translated Dutch\t: grazen in de van het\n",
            "----\n",
            "Source English\t\t: hanako likes cake very much\n",
            "Original Dutch\t\t: hanako houdt erg van gebak\n",
            "Translated Dutch\t: houdt heel van\n",
            "----\n",
            "Source English\t\t: i ordered two teas and three coffees\n",
            "Original Dutch\t\t: ik heb twee thees en drie koffies besteld\n",
            "Translated Dutch\t: twee en en twee\n",
            "\n",
            "Translating sentences from Testing Set ------------------------------------------------------------------------------------------\n",
            "----\n",
            "Source English\t\t: carlos climbed the mountain\n",
            "Original Dutch\t\t: karlo klom op de berg\n",
            "Translated Dutch\t: de is de\n",
            "----\n",
            "Source English\t\t: shes rolling in money\n",
            "Original Dutch\t\t: ze zwemt in het geld\n",
            "Translated Dutch\t: is in\n",
            "----\n",
            "Source English\t\t: try to lose weight by jogging\n",
            "Original Dutch\t\t: probeer gewicht te verliezen door te joggen\n",
            "Translated Dutch\t: proberen door door\n",
            "----\n",
            "Source English\t\t: catholics are against birth control\n",
            "Original Dutch\t\t: katholieken zijn tegen geboortecontrole\n",
            "Translated Dutch\t: zijn van tot\n",
            "----\n",
            "Source English\t\t: close the door when you leave\n",
            "Original Dutch\t\t: sluit de deur wanneer je vertrekt\n",
            "Translated Dutch\t: de ging je op weggaat\n"
          ],
          "name": "stdout"
        }
      ]
    },
    {
      "cell_type": "code",
      "metadata": {
        "colab": {
          "base_uri": "https://localhost:8080/"
        },
        "id": "obGaVYn--WDe",
        "outputId": "5147bcf6-2c04-4183-cc98-24e12dc6acee"
      },
      "source": [
        "#Importing Blue\n",
        "from nltk.translate.bleu_score import sentence_bleu, corpus_bleu, SmoothingFunction\n",
        "smooth = SmoothingFunction().method4\n",
        "\n",
        "corpus_reference = []\n",
        "corpus_hypothesis = []\n",
        "\n",
        "sentence_reference = []\n",
        "sentence_hypothesis = []\n",
        "\n",
        "corpus_score_cumulative_bleu_1 = 0\n",
        "corpus_score_cumulative_bleu_2 = 0\n",
        "corpus_score_cumulative_bleu_3 = 0\n",
        "corpus_score_cumulative_bleu_4 = 0\n",
        "\n",
        "sen_score_cumulative_bleu_1 = []\n",
        "sen_score_cumulative_bleu_2 = []\n",
        "sen_score_cumulative_bleu_3 = []\n",
        "sen_score_cumulative_bleu_4 = []\n",
        "\n",
        "#Generating Bleu Score\n",
        "for line_index in range(len(X_test)):\n",
        "\n",
        "  line_data = encoder_input_test[line_index: line_index + 1]\n",
        "  translation = decode_sequence2(line_data)\n",
        "  \n",
        "  corpus_reference.append([y_test[line_index].split()[1:-1]])\n",
        "  corpus_hypothesis.append(translation.split())\n",
        "\n",
        "  sentence_reference = y_test[line_index].split()[1:-1]\n",
        "  sentence_hypothesis = translation.split()\n",
        "\n",
        "  try:\n",
        "    score1 = sentence_bleu([sentence_reference], sentence_hypothesis, weights = (1, 0, 0, 0), smoothing_function = smooth)\n",
        "  except:\n",
        "    score1 = 0\n",
        "  \n",
        "  try:\n",
        "    score2 = sentence_bleu([sentence_reference], sentence_hypothesis, weights = (0.5, 0.5, 0, 0), smoothing_function = smooth)\n",
        "  except:\n",
        "    score2 = 0\n",
        "  \n",
        "  try:\n",
        "    score3 = sentence_bleu([sentence_reference], sentence_hypothesis, weights = (0.33, 0.33, 0.33, 0), smoothing_function = smooth)\n",
        "  except:\n",
        "    score3 = 0\n",
        "\n",
        "  try:\n",
        "    score4 = sentence_bleu([sentence_reference], sentence_hypothesis, weights = (0.25, 0.25, 0.25, 0.25), smoothing_function = smooth)\n",
        "  except:\n",
        "    score4 = 0\n",
        "\n",
        "  \n",
        "  sen_score_cumulative_bleu_1.append(score1)\n",
        "  sen_score_cumulative_bleu_2.append(score2)\n",
        "  sen_score_cumulative_bleu_3.append(score3)\n",
        "  sen_score_cumulative_bleu_4.append(score4) \n",
        "\n",
        "\n",
        "corpus_score_cumulative_bleu_1 = corpus_bleu(corpus_reference, corpus_hypothesis, weights = (1, 0, 0, 0), smoothing_function = smooth)\n",
        "corpus_score_cumulative_bleu_2 = corpus_bleu(corpus_reference, corpus_hypothesis, weights = (0.5, 0.5, 0, 0), smoothing_function = smooth)\n",
        "corpus_score_cumulative_bleu_3 = corpus_bleu(corpus_reference, corpus_hypothesis, weights = (0.33, 0.33, 0.33, 0), smoothing_function = smooth)\n",
        "corpus_score_cumulative_bleu_4 = corpus_bleu(corpus_reference, corpus_hypothesis, weights = (0.25, 0.25, 0.25, 0.25), smoothing_function = smooth)\n",
        "\n",
        "sen_score_cumulative_bleu_1 = np.array(sen_score_cumulative_bleu_1)\n",
        "sen_score_cumulative_bleu_2 = np.array(sen_score_cumulative_bleu_2)\n",
        "sen_score_cumulative_bleu_3 = np.array(sen_score_cumulative_bleu_3)\n",
        "sen_score_cumulative_bleu_4 = np.array(sen_score_cumulative_bleu_4)\n",
        "\n",
        "print(\"CORPUS Level Cumulative Bleu - Without Attention\")\n",
        "print(\"1-gram: \", round(corpus_score_cumulative_bleu_1, 6), \"\\t2-gram: \", round(corpus_score_cumulative_bleu_2, 6), \\\n",
        "      \"\\t3-gram: \", round(corpus_score_cumulative_bleu_3, 6), \"\\t4-gram: \", round(corpus_score_cumulative_bleu_4, 6))\n",
        "\n",
        "print(\"\\n\\nSENTENCE Level Cumulative Bleu - Without Attention\")\n",
        "print(\"1-gram: \", round(sen_score_cumulative_bleu_1.mean(), 6), \"\\t2-gram: \", round(sen_score_cumulative_bleu_2.mean(), 6), \\\n",
        "      \"\\t3-gram: \", round(sen_score_cumulative_bleu_3.mean(), 6), \"\\t4-gram: \", round(sen_score_cumulative_bleu_4.mean(), 6))\n",
        " "
      ],
      "execution_count": 47,
      "outputs": [
        {
          "output_type": "stream",
          "text": [
            "CORPUS Level Cumulative Bleu - Without Attention\n",
            "1-gram:  0.304738 \t2-gram:  0.132591 \t3-gram:  0.053552 \t4-gram:  0.020416\n",
            "\n",
            "\n",
            "SENTENCE Level Cumulative Bleu - Without Attention\n",
            "1-gram:  0.291962 \t2-gram:  0.204157 \t3-gram:  0.164793 \t4-gram:  0.137758\n"
          ],
          "name": "stdout"
        }
      ]
    },
    {
      "cell_type": "markdown",
      "metadata": {
        "id": "Dd3yuqyZdkW5"
      },
      "source": [
        "References:\n",
        "---\n",
        "\n",
        "- https://www.tensorflow.org/guide/keras/masking_and_padding\n",
        "- https://www.nltk.org/_modules/nltk/translate/bleu_score.html\n",
        "- https://machinelearningmastery.com/calculate-bleu-score-for-text-python/\n",
        "- https://stackoverflow.com/questions/53503389/how-to-set-parameters-in-keras-to-be-non-trainable\n"
      ]
    },
    {
      "cell_type": "code",
      "metadata": {
        "id": "ebhfidLvdnrw"
      },
      "source": [
        ""
      ],
      "execution_count": 47,
      "outputs": []
    }
  ]
}