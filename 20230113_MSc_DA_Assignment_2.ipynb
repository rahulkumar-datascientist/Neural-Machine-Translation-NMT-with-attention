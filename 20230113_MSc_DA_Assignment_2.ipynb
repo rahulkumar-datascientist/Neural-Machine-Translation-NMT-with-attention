{
  "nbformat": 4,
  "nbformat_minor": 0,
  "metadata": {
    "colab": {
      "name": "20230113_MSc_DA_Assignment_2.ipynb",
      "provenance": [],
      "collapsed_sections": [],
      "machine_shape": "hm",
      "include_colab_link": true
    },
    "kernelspec": {
      "display_name": "Python 3",
      "language": "python",
      "name": "python3"
    },
    "language_info": {
      "codemirror_mode": {
        "name": "ipython",
        "version": 3
      },
      "file_extension": ".py",
      "mimetype": "text/x-python",
      "name": "python",
      "nbconvert_exporter": "python",
      "pygments_lexer": "ipython3",
      "version": "3.8.3"
    },
    "accelerator": "TPU"
  },
  "cells": [
    {
      "cell_type": "markdown",
      "metadata": {
        "id": "view-in-github",
        "colab_type": "text"
      },
      "source": [
        "<a href=\"https://colab.research.google.com/github/rahulkumar-datascientist/Neural-Machine-Translation-NMT-with-attention/blob/main/20230113_MSc_DA_Assignment_2.ipynb\" target=\"_parent\"><img src=\"https://colab.research.google.com/assets/colab-badge.svg\" alt=\"Open In Colab\"/></a>"
      ]
    },
    {
      "cell_type": "markdown",
      "metadata": {
        "id": "BYQt0nUEbAgN"
      },
      "source": [
        "**Assignment 2** focuses on the training on a Neural Machine Translation (NMT) system with an attention model.\n",
        "\n",
        "This is an **individual assignment** and usual rules for plagiarism apply! With this you agree that: \"In submitting this work I confirm that it is entirely my own. I acknowledge that I may be invited to online interview if there is any concern in relation to the integrity of my exam.\" \n",
        "\n",
        "**Write comments and documentation.**\n",
        "\n"
      ]
    },
    {
      "cell_type": "markdown",
      "metadata": {
        "id": "edpSZ3reAGs1"
      },
      "source": [
        "## Mounting Drive and setting paths"
      ]
    },
    {
      "cell_type": "code",
      "metadata": {
        "colab": {
          "base_uri": "https://localhost:8080/"
        },
        "id": "Kdi-y9QtAYMY",
        "outputId": "4f7394dc-1449-4bec-a27d-5d90d00edce4"
      },
      "source": [
        "from google.colab import drive\n",
        "drive.mount('/content/drive')"
      ],
      "execution_count": 1,
      "outputs": [
        {
          "output_type": "stream",
          "text": [
            "Drive already mounted at /content/drive; to attempt to forcibly remount, call drive.mount(\"/content/drive\", force_remount=True).\n"
          ],
          "name": "stdout"
        }
      ]
    },
    {
      "cell_type": "code",
      "metadata": {
        "id": "EJSwrfddJyCX",
        "colab": {
          "base_uri": "https://localhost:8080/"
        },
        "outputId": "ee42dd22-4782-46ae-adfb-85d0018dcaf4"
      },
      "source": [
        "#Changing the directory on file to access the files\n",
        "%cd /content/drive/MyDrive/Colab Notebooks/NUIG/NLP/Assignment 2"
      ],
      "execution_count": 2,
      "outputs": [
        {
          "output_type": "stream",
          "text": [
            "/content/drive/MyDrive/Colab Notebooks/NUIG/NLP/Assignment 2\n"
          ],
          "name": "stdout"
        }
      ]
    },
    {
      "cell_type": "markdown",
      "metadata": {
        "id": "d33hukl0w-Nh"
      },
      "source": [
        "## Section 1- Data Collection and Preprocessing \n",
        "\n",
        "\n",
        "---\n"
      ]
    },
    {
      "cell_type": "code",
      "metadata": {
        "id": "UDo8Z-Yi_L8b"
      },
      "source": [
        "# Loading necessary libraries\n",
        "\n",
        "import pandas as pd\n",
        "import numpy as np\n",
        "import keras\n",
        "import matplotlib.pyplot as plt\n",
        "from sklearn.model_selection import train_test_split\n",
        "from keras.layers import Input, LSTM, Embedding, Dense\n",
        "from keras.models import Model\n",
        "from keras.utils import plot_model\n",
        "from numpy import array\n",
        "from numpy import asarray\n",
        "from numpy import zeros\n",
        "import nltk\n",
        "from nltk import bigrams, trigrams, ngrams\n",
        "from keras.layers import Input, LSTM, GRU, Dense, Embedding\n",
        "from keras.preprocessing.text import Tokenizer\n",
        "from keras.preprocessing.sequence import pad_sequences\n",
        "from keras.layers import Input, LSTM, GRU, Dense, Embedding, Activation, dot, concatenate, TimeDistributed"
      ],
      "execution_count": 32,
      "outputs": []
    },
    {
      "cell_type": "markdown",
      "metadata": {
        "id": "uAFJXKQaeN-d"
      },
      "source": [
        "**Task 1  (5 marks)**\n",
        "\n",
        "---\n",
        "\n",
        "There are few datasets to train an NMT system available from the OPUS project (http://opus.nlpl.eu/).\n",
        "\n",
        "*  Download a language pair (preferably European language) and **extract** the file(s) and upload it to CoLab\n",
        "*  Create a list of lines by splitting the text file at every occurrence accordingly, i.e. source and target language\n",
        "*  Print number of sentences\n",
        "*  Limit the number of sentences to 10,000 lines (but more than 5,000 lines)\n",
        "*  Split the data into train, development and test set\n",
        "*  Print 100th sentence in original script for source and target language"
      ]
    },
    {
      "cell_type": "markdown",
      "metadata": {
        "id": "Z_N99HYlCFFc"
      },
      "source": [
        "\n",
        "---\n",
        "Language Selected: **English - Spanish**\n",
        "\n",
        "Source: https://opus.nlpl.eu/ \n",
        "\n",
        "**Corpus: Tatoeba v2021-03-10 -- en(English) - es(Spanish)** \n",
        "\n",
        "NOTE: Downloaded zip file from moses link -> extracted files and renamed them to **Tatoeba - english.txt** and **Tatoeba - spanish.txt** \n",
        "\n",
        "---"
      ]
    },
    {
      "cell_type": "code",
      "metadata": {
        "id": "dwBg6wTSEcg3"
      },
      "source": [
        "# SOURCE Language : list of lines\n",
        "with open(\"Tatoeba - english.txt\" , 'r') as english_file:\n",
        "  source = english_file.read().split('\\n')         \n",
        "\n",
        "# TARGET Language : list of lines\n",
        "with open(\"Tatoeba - spanish.txt\" , 'r') as spanish_file:\n",
        "  target = spanish_file.read().split('\\n')         "
      ],
      "execution_count": 4,
      "outputs": []
    },
    {
      "cell_type": "code",
      "metadata": {
        "id": "wIxhddYKZUam"
      },
      "source": [
        "# Filter source sentences which have max length <=20\n",
        "# This is done because google colab was crashing before due to very large number of sentences \n",
        "# resulting in very large tensors\n",
        "\n",
        "index = []                   # index'es of the sentences which have sentence length <=20\n",
        "source_lines = []            # The SOURCE sentence at the index \n",
        "target_lines = []            # The TARGET sentence at the index\n",
        "\n",
        "# loop to append index'es \n",
        "for line in range(len(source)):\n",
        "  if ((len(source[line]) >  0) and (len(source[line]) < 20) and (len(target[line]) >  0) and (len(target[line]) < 20)):\n",
        "    index.append(line)\n",
        "    if(len(index) == 10000):    # Break if 10K sentences are acquired\n",
        "      break \n",
        "\n",
        "# loop to append the SOURCE and TARGET sentences\n",
        "for line in index:\n",
        "  source_lines.append(source[line])\n",
        "  target_lines.append(target[line])"
      ],
      "execution_count": 5,
      "outputs": []
    },
    {
      "cell_type": "code",
      "metadata": {
        "colab": {
          "base_uri": "https://localhost:8080/"
        },
        "id": "ZWU6XYDqY6qs",
        "outputId": "5be51da6-382a-4102-fd3b-328278bcc08c"
      },
      "source": [
        "# Original number of sentences in SOURCE and TARGET files \n",
        "print(\"Source (English): Total Number of Sentences:\", len(source))                        # 209468 sentences\n",
        "print(\"Target (Spanish): Total Number of Sentences:\", len(target))                        # 209468 sentences\n",
        "\n",
        "print(\"\\nSource (English): Filtered Number of Sentences:\", len(source_lines))             # 10000 sentences                       \n",
        "print(\"Target (Spanish): Filtered Number of Sentences:\", len(target_lines))               # 10000 sentences"
      ],
      "execution_count": 6,
      "outputs": [
        {
          "output_type": "stream",
          "text": [
            "Source (English): Total Number of Sentences: 209468\n",
            "Target (Spanish): Total Number of Sentences: 209468\n",
            "\n",
            "Source (English): Filtered Number of Sentences: 10000\n",
            "Target (Spanish): Filtered Number of Sentences: 10000\n"
          ],
          "name": "stdout"
        }
      ]
    },
    {
      "cell_type": "code",
      "metadata": {
        "id": "dZgG92rZhuOW"
      },
      "source": [
        "# Splitting the data into Train(90%) and tests(10%)\n",
        "# will split the 90% Train into --> train(80%) and validation(10%) in model.fit()\n",
        "X_train, X_test, y_train, y_test = train_test_split(source_lines, target_lines, test_size = 0.1)\n",
        "\n",
        "# print(len(X_train), len(X_test)) --- (9000, 1000)"
      ],
      "execution_count": 7,
      "outputs": []
    },
    {
      "cell_type": "code",
      "metadata": {
        "colab": {
          "base_uri": "https://localhost:8080/"
        },
        "id": "VrZk62IghuGl",
        "outputId": "2d5c915b-67a7-40d6-8198-d6d64d1f7bbb"
      },
      "source": [
        "# Print 100th sentence in original SOURCE and TARGET files\n",
        "print(\"\\nSource (English): 100th Sentence: \", source_lines[99])\n",
        "print(\"Target (Spanish): 100th Sentence: \", target_lines[99])"
      ],
      "execution_count": 8,
      "outputs": [
        {
          "output_type": "stream",
          "text": [
            "\n",
            "Source (English): 100th Sentence:  Where are you? \n",
            "Target (Spanish): 100th Sentence:  ¿Dónde están? \n"
          ],
          "name": "stdout"
        }
      ]
    },
    {
      "cell_type": "markdown",
      "metadata": {
        "id": "x63IEWjUxkJj"
      },
      "source": [
        "---\n",
        "**Task 2 (5 marks)** \n",
        "\n",
        "---\n",
        "\n",
        "* Add '<bof\\>' to denote beginning of sentence and '<eos\\>' to denote the end of the sentence to each target line.\n",
        "* Perform the pre-processing step of the text.\n",
        "* Print the last 5 sentences of the preprocessed text.\n",
        "* Print statistics on the selected dataset:\n",
        "  * Number of samples\n",
        "  * Number of unique source language tokens\n",
        "  * Number of unique target language tokens\n",
        "  * Max sequence length of source language\n",
        "  * Max sequence length of target language\n",
        "  * Source Vocabulary\n",
        "  * Target Vocabulary\n",
        "\n",
        "\n",
        "\n"
      ]
    },
    {
      "cell_type": "code",
      "metadata": {
        "id": "DKWLu6vwXTV1"
      },
      "source": [
        "# PREPROCESSING - function to remove punctuation characters\n",
        "def punctuations(sentence):\n",
        "  punct_chars = '''!()-[]{};:'\"\\,<>./¿?@#$%^&*_~+-'''\n",
        "\n",
        "  # remove punctuation from the string\n",
        "  no_punct = \"\"\n",
        "  for char in sentence:\n",
        "    if char not in punct_chars:\n",
        "      no_punct = no_punct + char\n",
        "  \n",
        "  return(no_punct)"
      ],
      "execution_count": 9,
      "outputs": []
    },
    {
      "cell_type": "code",
      "metadata": {
        "id": "KtpvTTIcifPI"
      },
      "source": [
        "# Defining the SOURCE & TARGET sets to store the vocabulary of X_train and y_train\n",
        "source_vocab = set()\n",
        "target_vocab = set()\n",
        "\n",
        "# Pre-processing the SOURCE and TARGET sentences for the original lines\n",
        "# Converting to lowercase\n",
        "source_lines = [line.lower() for line in X_train]\n",
        "target_lines = [line.lower() for line in y_train]\n",
        "\n",
        "# removing punctuations\n",
        "source_lines = [punctuations(line) for line in source_lines]\n",
        "target_lines = [punctuations(line) for line in target_lines]\n",
        "\n",
        "# Adding '<bof>' to denote beginning of sentence and '<eos>' to denote the end of the sentence to each target line.\n",
        "target_lines = ['<bof> ' + target + ' <eos>' for target in target_lines]\n",
        "\n",
        "# creating the vocab set for SOURCE\n",
        "for line in source_lines:\n",
        "  words_per_line = line.split()\n",
        "  for word in words_per_line:\n",
        "    if word not in source_vocab:\n",
        "      source_vocab.add(word)\n",
        "\n",
        "# creating the vocab set for TARGET\n",
        "for line in target_lines:\n",
        "  words_per_line = line.split()\n",
        "  for word in words_per_line:\n",
        "    if word not in target_vocab:\n",
        "      target_vocab.add(word)"
      ],
      "execution_count": 10,
      "outputs": []
    },
    {
      "cell_type": "code",
      "metadata": {
        "colab": {
          "base_uri": "https://localhost:8080/"
        },
        "id": "3-tI3AMWvKiK",
        "outputId": "d8ad893a-c595-40f5-b22f-83efc2e99ed7"
      },
      "source": [
        "# Last 5 sentences after preprocessing\n",
        "# SOURCE lines\n",
        "print(\"Last 5 sentences from preprocessed SOURCE\")\n",
        "i = 4\n",
        "for line in source_lines[-5:]:\n",
        "  print(\"sentence \", len(source_lines)-i, \": \", line)\n",
        "  i-=1\n",
        "\n",
        "# TARGET lines\n",
        "print(\"\\nLast 5 sentences from preprocessed TARGET\")\n",
        "i = 4\n",
        "for line in target_lines[-5:]:\n",
        "  print(\"sentence \", len(target_lines)-i, \": \", line)\n",
        "  i-=1 "
      ],
      "execution_count": 11,
      "outputs": [
        {
          "output_type": "stream",
          "text": [
            "Last 5 sentences from preprocessed SOURCE\n",
            "sentence  8996 :  i want a bath \n",
            "sentence  8997 :  its cold today \n",
            "sentence  8998 :  i will shoot him \n",
            "sentence  8999 :  youre my hero \n",
            "sentence  9000 :  its done \n",
            "\n",
            "Last 5 sentences from preprocessed TARGET\n",
            "sentence  8996 :  <bof> quiero un baño  <eos>\n",
            "sentence  8997 :  <bof> ¡hoy hace frío  <eos>\n",
            "sentence  8998 :  <bof> le voy a disparar  <eos>\n",
            "sentence  8999 :  <bof> eres mi héroe  <eos>\n",
            "sentence  9000 :  <bof> ¡listo  <eos>\n"
          ],
          "name": "stdout"
        }
      ]
    },
    {
      "cell_type": "code",
      "metadata": {
        "id": "nUBiQSX81-wY",
        "colab": {
          "base_uri": "https://localhost:8080/"
        },
        "outputId": "c8b3fe3b-110e-490a-c136-64002a2f34af"
      },
      "source": [
        "# Statistics of the dataset -- Reference Lab 8\n",
        "# SOURCE and TARGET vocabulary as sorted list \n",
        "source_vocab = sorted(list(source_vocab))            \n",
        "target_vocab = sorted(list(target_vocab))\n",
        "\n",
        "# Number of Encoder and Decoder tokens\n",
        "len_source_vocab = len(source_vocab)                # 2462 tokens\n",
        "len_target_vocab = len(target_vocab)                # 4387 tokens\n",
        "\n",
        "# Max sequence length for Encoder and Decoder\n",
        "max_seq_len_source = max([len(txt) for txt in source_lines])      # 18\n",
        "max_seq_len_target = max([len(txt) for txt in target_lines])      # 30\n",
        "\n",
        "print('Number of samples\\t\\t\\t:', len(source_lines))\n",
        "print('Number of unique SOURCE language tokens\\t:', len_source_vocab)\n",
        "print('Number of unique TARGET language tokens\\t:', len_target_vocab)\n",
        "print('Max sequence length of SOURCE language\\t:', max_seq_len_source)\n",
        "print('Max sequence length of TARGET language\\t:', max_seq_len_target)\n",
        "print(\"Source Vocabulary\\t\\t\\t:\",source_vocab)\n",
        "print(\"Target Vocabulary\\t\\t\\t:\",target_vocab)"
      ],
      "execution_count": 12,
      "outputs": [
        {
          "output_type": "stream",
          "text": [
            "Number of samples\t\t\t: 9000\n",
            "Number of unique SOURCE language tokens\t: 2462\n",
            "Number of unique TARGET language tokens\t: 4387\n",
            "Max sequence length of SOURCE language\t: 18\n",
            "Max sequence length of TARGET language\t: 30\n",
            "Source Vocabulary\t\t\t: ['1', '10', '100', '12', '18', '19', '2', '24', '25', '50', '7', 'a', 'abandon', 'abating', 'abducted', 'abide', 'able', 'aboard', 'about', 'above', 'absent', 'absolutely', 'absurd', 'accelerated', 'accept', 'ache', 'aching', 'achoo', 'acrophobia', 'act', 'action', 'actor', 'actors', 'add', 'addicted', 'adjust', 'admire', 'admired', 'admission', 'adopted', 'adorable', 'adore', 'adults', 'advance', 'advice', 'affair', 'afraid', 'after', 'afternoon', 'afterward', 'again', 'age', 'ages', 'aggressive', 'ago', 'agree', 'ah', 'ahead', 'ahhh', 'ahoy', 'aids', 'ails', 'aim', 'airplane', 'alan', 'alarm', 'alas', 'alcohol', 'alert', 'alex', 'alice', 'alive', 'all', 'allah', 'allan', 'allen', 'almost', 'alone', 'along', 'aloud', 'already', 'alright', 'also', 'always', 'am', 'amazing', 'ambidextrous', 'ambitious', 'american', 'amuse', 'an', 'anchor', 'and', 'andrea', 'angel', 'angry', 'animal', 'ann', 'annoying', 'anorexic', 'another', 'answer', 'answered', 'antonio', 'any', 'anybody', 'anything', 'aoi', 'apart', 'apologize', 'apologized', 'apologizing', 'appeared', 'applauded', 'apple', 'apply', 'approve', 'arabic', 'arabs', 'are', 'arent', 'argue', 'arguing', 'arm', 'arms', 'around', 'arrest', 'arrive', 'arrived', 'arrogant', 'art', 'article', 'artist', 'as', 'asian', 'aside', 'ask', 'asked', 'asleep', 'ass', 'assembla', 'assertive', 'asshole', 'asthma', 'astonished', 'at', 'ate', 'atheist', 'attack', 'attacked', 'attend', 'attention', 'attentive', 'attractive', 'author', 'avoids', 'aw', 'awake', 'aware', 'away', 'awesome', 'awful', 'awkward', 'azeri', 'babas', 'babbling', 'baby', 'back', 'bad', 'badger', 'badly', 'baffled', 'bag', 'baker', 'bald', 'ball', 'banana', 'band', 'bandage', 'bankrupt', 'barely', 'bark', 'baseball', 'basque', 'bastard', 'bath', 'battery', 'battle', 'be', 'bear', 'beard', 'beat', 'beats', 'beautiful', 'beauty', 'became', 'bed', 'bee', 'been', 'beer', 'beg', 'began', 'begin', 'begun', 'behave', 'behaved', 'behind', 'being', 'believe', 'believed', 'bell', 'bent', 'best', 'betide', 'betrayed', 'better', 'betty', 'beyond', 'biased', 'big', 'bigot', 'bike', 'bilal', 'bill', 'biologist', 'birds', 'birthday', 'bisexual', 'bit', 'bitch', 'black', 'blackmailed', 'blah', 'blame', 'bled', 'bleeds', 'bless', 'blew', 'blind', 'blockhead', 'bloke', 'blond', 'blood', 'blouse', 'blow', 'blows', 'blue', 'blushed', 'boat', 'bob', 'bobs', 'body', 'boil', 'bon', 'bonus', 'book', 'books', 'bookworm', 'bore', 'bored', 'boring', 'born', 'boss', 'both', 'bother', 'bothered', 'botox', 'bottle', 'bottom', 'bought', 'bowl', 'box', 'boy', 'boys', 'brace', 'brakes', 'brave', 'brazil', 'brazilian', 'bread', 'break', 'breaking', 'breath', 'breathe', 'breathing', 'bridge', 'brilliant', 'bring', 'broke', 'broken', 'brother', 'brothers', 'brought', 'brown', 'bs', 'buddy', 'bug', 'bullshit', 'burn', 'burned', 'burns', 'burped', 'bus', 'business', 'busy', 'but', 'butt', 'buy', 'buying', 'buys', 'buzzes', 'by', 'bye', 'cab', 'cain', 'cake', 'call', 'called', 'calling', 'calls', 'calm', 'came', 'camera', 'can', 'canada', 'canadian', 'cancer', 'cannot', 'cant', 'canton', 'cap', 'captured', 'car', 'card', 'care', 'careful', 'carefully', 'carl', 'carry', 'cars', 'cash', 'cat', 'catch', 'cats', 'cattle', 'caught', 'cause', 'caviar', 'cd', 'cds', 'celebrate', 'certain', 'chair', 'chance', 'change', 'changed', 'channel', 'chapeau', 'charge', 'charming', 'chat', 'cheap', 'cheat', 'cheated', 'cheats', 'check', 'checkmate', 'checks', 'cheer', 'cheered', 'cheers', 'cheese', 'chemistry', 'chen', 'chess', 'chicago', 'chicken', 'child', 'children', 'chilly', 'chin', 'china', 'chinese', 'chocolate', 'choice', 'choked', 'choose', 'chosen', 'christ', 'christmas', 'chuckled', 'circle', 'city', 'clapped', 'classic', 'clean', 'clear', 'clearly', 'clever', 'clock', 'close', 'closed', 'closely', 'closer', 'clothes', 'cloudy', 'clumsy', 'cmon', 'coffee', 'cold', 'color', 'colorblind', 'come', 'comedian', 'comes', 'comfort', 'comfortable', 'coming', 'command', 'comment', 'complain', 'complaining', 'complicated', 'confess', 'confessed', 'confident', 'confidential', 'confused', 'confusing', 'congratulations', 'consented', 'constipated', 'content', 'continue', 'continued', 'contributed', 'control', 'cook', 'cooked', 'cooking', 'cooks', 'cool', 'copy', 'correct', 'costs', 'costume', 'cough', 'coughed', 'coughing', 'could', 'couldnt', 'count', 'couple', 'courage', 'course', 'cousin', 'cousins', 'cow', 'cracking', 'cranky', 'crap', 'crazy', 'creaked', 'cream', 'creative', 'creep', 'creepy', 'cried', 'crime', 'cross', 'crown', 'crows', 'cruel', 'cry', 'crying', 'cuff', 'cultivate', 'cup', 'cure', 'curious', 'curl', 'curse', 'curtain', 'cut', 'cute', 'cyanide', 'cyborg', 'dad', 'daddy', 'damn', 'dan', 'dana', 'dance', 'danced', 'dances', 'dancing', 'danger', 'dangerous', 'dare', 'dark', 'darn', 'dating', 'daughter', 'dawg', 'dawn', 'day', 'days', 'dead', 'deaf', 'deal', 'dealio', 'dear', 'death', 'debatable', 'debt', 'deceive', 'deceived', 'decide', 'decided', 'decisive', 'deep', 'deer', 'defend', 'definitely', 'delicious', 'demented', 'denied', 'deny', 'depend', 'depends', 'depressed', 'deranged', 'desert', 'deserve', 'deserved', 'deserves', 'desk', 'desperate', 'despised', 'despises', 'destroy', 'detail', 'detective', 'devil', 'devious', 'diabetic', 'diarrhea', 'dice', 'dick', 'dictionary', 'did', 'didnt', 'die', 'died', 'diet', 'dieting', 'different', 'difficult', 'digging', 'dinner', 'dirty', 'disappear', 'disappeared', 'disappoint', 'disaster', 'discouraged', 'discreet', 'disgust', 'disgusting', 'dislike', 'dismissed', 'disney', 'distract', 'distracted', 'disturb', 'divorced', 'dizzy', 'dj', 'do', 'doctor', 'doctors', 'does', 'doesnt', 'dog', 'dogs', 'doing', 'doke', 'doll', 'dollar', 'donate', 'done', 'dont', 'door', 'double', 'doubt', 'doubts', 'down', 'dozed', 'dramatist', 'drank', 'draw', 'dream', 'dreamer', 'dreaming', 'dreams', 'dress', 'dressed', 'drew', 'dried', 'drink', 'drinks', 'drive', 'driven', 'drives', 'drop', 'drove', 'drowned', 'drowning', 'drug', 'drum', 'drunk', 'dry', 'duck', 'dude', 'duh', 'dumb', 'dumbass', 'dummy', 'dumped', 'dunno', 'dusty', 'duty', 'dvd', 'dying', 'ear', 'earache', 'earlier', 'early', 'earring', 'ears', 'earth', 'ease', 'easter', 'easy', 'easygoing', 'eat', 'eaten', 'eater', 'eating', 'eats', 'ecuador', 'edible', 'educated', 'effort', 'egg', 'eggs', 'egypt', 'eldest', 'elk', 'else', 'embarrassed', 'embarrassing', 'embraced', 'emergency', 'emi', 'emily', 'end', 'ended', 'endorse', 'endure', 'engine', 'engineer', 'england', 'english', 'enjoy', 'enlisted', 'enormous', 'enough', 'enter', 'entry', 'envy', 'err', 'escape', 'escaped', 'escaping', 'esperanto', 'essential', 'ethiopian', 'european', 'euros', 'even', 'evening', 'every', 'everybody', 'everyone', 'everything', 'everythings', 'evil', 'exactly', 'exaggerate', 'exaggerated', 'exaggerates', 'examine', 'examples', 'excellent', 'excited', 'excuse', 'excused', 'executed', 'exhaled', 'exhausted', 'exist', 'exists', 'exit', 'exorcist', 'expecting', 'expensive', 'expert', 'explain', 'explains', 'explode', 'extra', 'exwife', 'eyes', 'eyesore', 'fabulous', 'face', 'faces', 'fact', 'fag', 'faggot', 'fail', 'failed', 'fainted', 'fair', 'fake', 'faking', 'fakir', 'fall', 'fallen', 'falling', 'family', 'famished', 'famous', 'fantastic', 'far', 'farce', 'farewell', 'farshad', 'fart', 'farther', 'fascinated', 'fascinating', 'fashionable', 'fast', 'faster', 'fasting', 'fat', 'fatal', 'fate', 'father', 'fault', 'favor', 'fear', 'feared', 'fed', 'fee', 'feel', 'feeling', 'feet', 'fell', 'felt', 'fever', 'feverish', 'few', 'fight', 'fighting', 'figure', 'fiji', 'fill', 'finally', 'find', 'fine', 'finger', 'finish', 'finished', 'finnish', 'fire', 'fired', 'firefox', 'first', 'fish', 'fishing', 'fishy', 'fit', 'fits', 'five', 'fix', 'fixed', 'flat', 'flexible', 'floor', 'florist', 'flower', 'flows', 'flu', 'fly', 'focused', 'foggy', 'fold', 'follow', 'followed', 'food', 'fool', 'fooled', 'foolish', 'foot', 'football', 'for', 'ford', 'foreigner', 'forgave', 'forget', 'forgive', 'forgot', 'form', 'forsake', 'forward', 'fought', 'found', 'fox', 'framed', 'france', 'freaks', 'freaky', 'free', 'freezing', 'french', 'friday', 'friend', 'friendly', 'friends', 'from', 'fruit', 'fruits', 'fuck', 'fuckin', 'fucking', 'full', 'fun', 'funny', 'furious', 'future', 'gadget', 'gag', 'gambling', 'game', 'garage', 'gardener', 'gas', 'gate', 'gave', 'gay', 'gee', 'genius', 'gentle', 'german', 'get', 'gets', 'ghost', 'gift', 'gifts', 'gifu', 'gimme', 'girl', 'girls', 'give', 'gives', 'giving', 'glad', 'glass', 'glasses', 'gloated', 'globalise', 'globalize', 'glory', 'go', 'goal', 'god', 'gods', 'goes', 'going', 'gold', 'golf', 'golfer', 'gone', 'good', 'goodbye', 'goodnight', 'goofed', 'gorgeous', 'got', 'gotcha', 'gotta', 'grab', 'grabbed', 'graceful', 'graduated', 'grant', 'grape', 'grateful', 'gray', 'great', 'greece', 'greek', 'green', 'greene', 'greet', 'greetings', 'grenade', 'grew', 'grey', 'grief', 'grinned', 'groaned', 'groggy', 'gross', 'grow', 'grown', 'grownups', 'grows', 'grumbled', 'grumbling', 'guessed', 'guest', 'guests', 'guilty', 'gun', 'guts', 'guy', 'guys', 'had', 'hail', 'hailing', 'hair', 'half', 'halloween', 'hand', 'handle', 'hands', 'handsome', 'handy', 'hang', 'hanged', 'hangover', 'happen', 'happened', 'happening', 'happens', 'happy', 'hard', 'harp', 'harpoons', 'has', 'hase', 'hat', 'hate', 'hated', 'hates', 'have', 'havent', 'hay', 'haywire', 'he', 'head', 'healthy', 'hear', 'heard', 'heart', 'heavens', 'heavy', 'hell', 'hello', 'help', 'helped', 'helpful', 'helping', 'helpless', 'helps', 'henry', 'her', 'here', 'heres', 'hero', 'hers', 'hes', 'hesitated', 'hey', 'heʼs', 'hi', 'hiccup', 'hiccups', 'hide', 'hides', 'hiding', 'high', 'hiking', 'hilarious', 'him', 'himself', 'hint', 'hired', 'his', 'historian', 'hit', 'hitomi', 'hoist', 'hold', 'holy', 'home', 'homework', 'honest', 'honey', 'hooray', 'hop', 'hope', 'horny', 'horrible', 'horrified', 'horse', 'horses', 'hot', 'hotel', 'house', 'housewife', 'how', 'howre', 'hows', 'hug', 'huge', 'hugged', 'human', 'humanity', 'humiliated', 'humiliating', 'humor', 'hung', 'hungarian', 'hungry', 'hunter', 'hunting', 'hurray', 'hurry', 'hurt', 'hurts', 'husband', 'hush', 'hybrid', 'hyogo', 'i', 'ice', 'icelandic', 'id', 'idea', 'identical', 'identify', 'idiot', 'ido', 'if', 'ignore', 'ignored', 'ill', 'illegal', 'im', 'imagined', 'immediately', 'immoral', 'immune', 'impatient', 'important', 'impossible', 'improved', 'improving', 'in', 'incomplete', 'incredible', 'indeed', 'india', 'inevitable', 'influential', 'ingenious', 'inhaled', 'injured', 'innit', 'innocent', 'insane', 'insatiable', 'inside', 'insist', 'insisted', 'insolent', 'install', 'insult', 'insulted', 'intelligent', 'interested', 'interesting', 'interfere', 'into', 'intrigued', 'intrigues', 'investigate', 'invited', 'ipad', 'irina', 'ironic', 'is', 'ishmael', 'ismaël', 'isnt', 'it', 'italian', 'itches', 'itching', 'itchy', 'itll', 'its', 'ivan', 'ive', 'ivo', 'i’ll', 'jack', 'jane', 'japan', 'japanese', 'jazz', 'jerk', 'jesus', 'jim', 'jiro', 'jisung', 'jittery', 'job', 'jogging', 'john', 'join', 'joke', 'joking', 'jon', 'jorge', 'joseph', 'journalist', 'journalists', 'journey', 'joy', 'judo', 'judy', 'juice', 'jump', 'jumped', 'just', 'justice', 'kate', 'keep', 'keeps', 'keiko', 'ken', 'kept', 'kettle', 'key', 'keys', 'kicked', 'kid', 'kidding', 'kidnapped', 'kids', 'kill', 'killed', 'kills', 'kind', 'kiss', 'kissed', 'kites', 'kneel', 'kneeled', 'knees', 'knew', 'knits', 'know', 'knows', 'kobe', 'korean', 'kyoto', 'lack', 'ladies', 'laid', 'lake', 'larger', 'lasagna', 'last', 'lasts', 'late', 'later', 'latin', 'laugh', 'laughed', 'laughing', 'laughs', 'laurie', 'law', 'lawn', 'lawyer', 'lay', 'lazy', 'lazybones', 'leader', 'leaks', 'learn', 'learns', 'leave', 'leaves', 'leaving', 'left', 'lefthanded', 'legal', 'lemon', 'lend', 'lenient', 'lent', 'lesbian', 'let', 'lets', 'letter', 'let’s', 'li', 'liar', 'liberates', 'lid', 'lie', 'lied', 'lies', 'life', 'lifes', 'light', 'like', 'likeable', 'liked', 'likes', 'likewise', 'limp', 'lin', 'line', 'lines', 'linux', 'lion', 'lip', 'lisbon', 'listen', 'listened', 'listening', 'listens', 'little', 'live', 'lived', 'lives', 'llama', 'loathe', 'lock', 'logical', 'lojban', 'london', 'lonely', 'long', 'look', 'looked', 'looking', 'looks', 'loosen', 'lorry', 'lose', 'loser', 'losing', 'lost', 'lot', 'loud', 'lounge', 'love', 'loved', 'lovely', 'loves', 'low', 'lower', 'luck', 'lucky', 'ludwig', 'luis', 'lunch', 'lupus', 'lying', 'lynn', 'mad', 'made', 'magic', 'mahjong', 'mail', 'make', 'makes', 'malaysian', 'malta', 'mama', 'man', 'maniac', 'manners', 'many', 'map', 'married', 'marry', 'marvellous', 'mary', 'masochist', 'master', 'math', 'matter', 'may', 'maybe', 'me', 'meal', 'mean', 'means', 'meat', 'medicine', 'meet', 'meg', 'melancholic', 'melons', 'melt', 'melting', 'memorize', 'memory', 'men', 'mention', 'mentioned', 'menu', 'merciful', 'mercy', 'mess', 'message', 'met', 'meter', 'mic', 'midday', 'midnight', 'might', 'migraine', 'miho', 'mike', 'milan', 'milk', 'milkman', 'milord', 'mind', 'mine', 'minute', 'miracle', 'mirror', 'mislead', 'misled', 'miss', 'missed', 'misses', 'missing', 'mistake', 'mistaken', 'mistress', 'model', 'mom', 'moment', 'mommy', 'monday', 'mondays', 'money', 'monk', 'monkey', 'more', 'morning', 'moron', 'moscow', 'mother', 'mouse', 'mouth', 'move', 'moved', 'moving', 'much', 'mum', 'mummy', 'music', 'musician', 'muslim', 'must', 'mustnt', 'mutt', 'my', 'myself', 'myth', 'nail', 'naive', 'naked', 'name', 'names', 'nancy', 'naoko', 'nara', 'nasty', 'natasha', 'natto', 'natural', 'naturally', 'nature', 'naughty', 'nay', 'nazi', 'near', 'nearby', 'necessary', 'need', 'needed', 'needs', 'neighbors', 'neighbour', 'neighbours', 'neither', 'nervous', 'net', 'neurotic', 'neutral', 'never', 'new', 'news', 'next', 'nice', 'nicely', 'night', 'no', 'nobody', 'nobodys', 'nodded', 'noise', 'nonsense', 'nonstop', 'noo', 'noodles', 'noon', 'nope', 'nor', 'normal', 'norway', 'norwegian', 'nose', 'nosy', 'not', 'notes', 'nothing', 'nothings', 'notice', 'now', 'nudist', 'nurse', 'nuts', 'obey', 'obeyed', 'obeys', 'obscene', 'observe', 'obvious', 'obviously', 'occupied', 'ocd', 'oclock', 'odd', 'of', 'off', 'offensive', 'often', 'oh', 'ok', 'okay', 'okey', 'okeydokey', 'old', 'oldest', 'omigod', 'on', 'once', 'one', 'ones', 'online', 'only', 'open', 'optimistic', 'option', 'or', 'orange', 'order', 'ordered', 'osaka', 'ought', 'our', 'out', 'outdated', 'outraged', 'outside', 'outta', 'outwitted', 'over', 'overdo', 'overslept', 'overweight', 'owe', 'owl', 'own', 'p', 'pacman', 'paddling', 'paella', 'pagoda', 'paid', 'pain', 'painted', 'painter', 'painting', 'pale', 'paled', 'panda', 'paper', 'pardon', 'parents', 'paris', 'parisian', 'park', 'part', 'participate', 'parties', 'party', 'partys', 'pass', 'passage', 'passed', 'passport', 'password', 'pathetic', 'patient', 'patio', 'paul', 'pay', 'paying', 'peace', 'pedantic', 'pen', 'pencil', 'people', 'perfect', 'person', 'personal', 'perth', 'pessimism', 'pest', 'pete', 'peter', 'pheasant', 'phone', 'phoned', 'photogenic', 'pianist', 'piano', 'pick', 'picture', 'pieces', 'pierrot', 'pilots', 'pimp', 'pinched', 'pink', 'pisces', 'pity', 'place', 'plan', 'plane', 'plants', 'play', 'played', 'playing', 'plays', 'please', 'pleases', 'plonker', 'plumber', 'poet', 'point', 'pointed', 'policeman', 'polish', 'politics', 'pool', 'poor', 'pope', 'poppycock', 'popular', 'portugal', 'positive', 'possessed', 'possible', 'potatoes', 'power', 'powers', 'ppreciate', 'practice', 'practicing', 'prayed', 'praying', 'precautions', 'prefer', 'pregnant', 'prepare', 'prepared', 'pressured', 'pretty', 'price', 'prices', 'priest', 'private', 'prize', 'prob', 'probably', 'problem', 'proceed', 'professor', 'professors', 'promise', 'proof', 'prove', 'prude', 'ps', 'psyched', 'pull', 'pulse', 'punctual', 'punishes', 'pupils', 'puppy', 'pure', 'push', 'pushing', 'pussy', 'put', 'pyorrhea', 'qualified', 'queen', 'question', 'questions', 'quick', 'quickly', 'quiet', 'quieter', 'quit', 'quite', 'racist', 'radio', 'rag', 'rain', 'rained', 'raining', 'rains', 'rainy', 'raise', 'raised', 'ramble', 'ramudu', 'ran', 'rang', 'rap', 'rapidly', 'rarely', 'rather', 'read', 'reading', 'reads', 'ready', 'real', 'realistic', 'really', 'reason', 'reasonable', 'rebel', 'recluse', 'recycle', 'red', 'redhead', 'redneck', 'refused', 'regards', 'regret', 'rejected', 'relax', 'release', 'relied', 'relief', 'rely', 'remain', 'remember', 'remembers', 'remodeling', 'rent', 'repair', 'repeat', 'replace', 'reply', 'reporter', 'repulses', 'rescheduled', 'rescued', 'reside', 'resign', 'resigned', 'resist', 'respect', 'respectful', 'respects', 'respond', 'responsible', 'rest', 'resting', 'restless', 'retire', 'returned', 'revenge', 'revolts', 'rice', 'rich', 'ridiculous', 'right', 'righthanded', 'rip', 'rise', 'rises', 'risky', 'river', 'roars', 'robbed', 'rock', 'roger', 'romania', 'romantic', 'rome', 'roof', 'room', 'rooster', 'rope', 'rose', 'rotates', 'rude', 'run', 'running', 'runs', 'rush', 'russia', 'russian', 's', 'sad', 'safe', 'sage', 'said', 'sail', 'sails', 'saint', 'sake', 'sale', 'sally', 'salt', 'sam', 'samuel', 'sand', 'sang', 'sapporo', 'sara', 'sascha', 'sasha', 'satan', 'satisfied', 'saturday', 'satyr', 'sauce', 'save', 'saw', 'say', 'saying', 'sayoko', 'says', 'scare', 'scared', 'scary', 'school', 'scientist', 'scold', 'scolded', 'scooter', 'scram', 'scream', 'screamed', 'screams', 'screw', 'sea', 'sean', 'searching', 'seasick', 'seat', 'seated', 'sec', 'second', 'secret', 'see', 'seeing', 'seem', 'seems', 'seen', 'sees', 'seize', 'sells', 'send', 'senile', 'sense', 'sensible', 'sent', 'sentence', 'separated', 'sequel', 'serious', 'seriously', 'sesame', 'set', 'seven', 'sex', 'sexist', 'sexy', 'shadow', 'shake', 'shaking', 'shall', 'shame', 'share', 'sharp', 'shaved', 'she', 'shed', 'shes', 'ship', 'shirt', 'shit', 'shock', 'shoes', 'shook', 'shoot', 'shooting', 'shop', 'shopping', 'short', 'shortcut', 'shot', 'should', 'shouldnt', 'shout', 'shovel', 'show', 'showing', 'shut', 'shy', 'sick', 'sickens', 'side', 'sighed', 'sight', 'sign', 'silence', 'silent', 'silly', 'simple', 'sin', 'since', 'sing', 'singer', 'singers', 'singing', 'single', 'sings', 'sinned', 'sir', 'siren', 'sister', 'sisters', 'sit', 'sita', 'six', 'skate', 'ski', 'skiing', 'sky', 'slack', 'slacker', 'slap', 'slapped', 'sleep', 'sleeping', 'sleepy', 'slept', 'slim', 'sloshed', 'slow', 'slowly', 'small', 'smaller', 'smart', 'smell', 'smelled', 'smells', 'smile', 'smiled', 'smiles', 'smiling', 'smoke', 'smoker', 'smokes', 'smoking', 'snake', 'sneeze', 'sneezing', 'snitch', 'snores', 'snoring', 'snow', 'snowed', 'snowing', 'snows', 'snowy', 'so', 'soaking', 'soap', 'soccer', 'sold', 'soldier', 'some', 'somebody', 'somebodys', 'someone', 'someones', 'something', 'somethings', 'son', 'sons', 'soon', 'sorry', 'sound', 'sounded', 'soundly', 'sounds', 'soup', 'sour', 'south', 'southward', 'spaghetti', 'spain', 'spanish', 'speak', 'speaks', 'special', 'specific', 'speed', 'spelled', 'spies', 'spirit', 'spit', 'spoke', 'spoon', 'sports', 'spot', 'squabbling', 'squeaked', 'stab', 'stabbed', 'stalling', 'stamp', 'stand', 'standing', 'star', 'staring', 'start', 'started', 'starving', 'state', 'stay', 'stayed', 'steal', 'stealing', 'step', 'stephen', 'steps', 'stick', 'sticky', 'still', 'sting', 'stingy', 'stinks', 'stir', 'stole', 'stolen', 'stoned', 'stood', 'stop', 'stopped', 'store', 'straight', 'straighten', 'stranded', 'strange', 'street', 'strength', 'stressed', 'strike', 'strong', 'struggled', 'stubborn', 'student', 'students', 'studies', 'study', 'studying', 'stuff', 'stunning', 'stupid', 'stutter', 'stuttering', 'style', 'succeeded', 'such', 'suck', 'sucks', 'sue', 'sued', 'sugar', 'suit', 'suits', 'summer', 'sun', 'sunburned', 'sunday', 'sundays', 'sunflower', 'sunny', 'super', 'supper', 'support', 'supportive', 'sure', 'surgery', 'surprise', 'surrender', 'surrendered', 'surrounded', 'survive', 'survived', 'susan', 'sushi', 'swear', 'sweat', 'sweated', 'sweating', 'sweaty', 'swedish', 'sweep', 'sweet', 'sweltering', 'swim', 'swimming', 'swims', 'swine', 'sword', 'sympathize', 'table', 'tahiti', 'tail', 'tailor', 'take', 'takes', 'taking', 'talented', 'talk', 'talked', 'talking', 'talks', 'tall', 'taller', 'tallest', 'tape', 'taste', 'tastes', 'taught', 'taxi', 'tbilisi', 'tea', 'teach', 'teacher', 'teachers', 'teaches', 'teaching', 'team', 'tears', 'teased', 'tell', 'tempt', 'ten', 'tennis', 'terrible', 'terrific', 'terrified', 'test', 'thank', 'thanks', 'that', 'thatll', 'thats', 'the', 'their', 'theirs', 'them', 'then', 'there', 'theres', 'these', 'they', 'theyll', 'theyre', 'theyve', 'thief', 'thin', 'thing', 'things', 'think', 'thinking', 'thinks', 'thirsty', 'this', 'thisll', 'thorough', 'those', 'thought', 'threaten', 'three', 'threw', 'thrilling', 'through', 'throw', 'throwing', 'thursday', 'tie', 'tied', 'tight', 'til', 'time', 'timer', 'times', 'timing', 'tip', 'tired', 'to', 'toast', 'today', 'tofu', 'together', 'toilet', 'tokyo', 'told', 'tolerant', 'tom', 'tomorrow', 'toms', 'tonight', 'tony', 'too', 'took', 'tooth', 'touch', 'touching', 'tough', 'tourist', 'towel', 'town', 'toyota', 'tragic', 'train', 'trains', 'traitor', 'traitors', 'translating', 'translator', 'trap', 'trapped', 'travel', 'traveling', 'treat', 'tree', 'trespassing', 'trick', 'tricked', 'trickster', 'tried', 'tries', 'trip', 'trouble', 'truce', 'truck', 'trucker', 'true', 'trust', 'trusted', 'trusts', 'truth', 'try', 'trying', 'turkey', 'turkish', 'turn', 'turned', 'turning', 'tv', 'twelve', 'twins', 'twitter', 'two', 'twofaced', 'type', 'types', 'ufo', 'ugly', 'ukraine', 'unbelievable', 'uncle', 'uncomfortable', 'unconscious', 'under', 'understand', 'understood', 'undoubtedly', 'undressing', 'unemployed', 'unfaithful', 'unhappy', 'unity', 'unlucky', 'unmarried', 'unpopular', 'unreal', 'until', 'up', 'upset', 'upstairs', 'urgent', 'us', 'use', 'used', 'useless', 'uses', 'using', 'usually', 'van', 'veal', 'vegetarian', 'very', 'vibrating', 'vice', 'victorious', 'victors', 'video', 'view', 'village', 'violated', 'violent', 'violin', 'visa', 'visit', 'visited', 'voice', 'voices', 'vomited', 'vote', 'voted', 'voyage', 'vulgar', 'waffles', 'wait', 'waited', 'waiting', 'wake', 'walk', 'walked', 'walking', 'walks', 'wang', 'wanker', 'wanna', 'want', 'wanted', 'wants', 'warm', 'warn', 'was', 'wash', 'washed', 'washes', 'wasnt', 'waste', 'watch', 'watchful', 'watching', 'water', 'waters', 'waved', 'wax', 'way', 'we', 'weak', 'weapon', 'weapons', 'wears', 'weather', 'week', 'weeks', 'weight', 'weird', 'welcome', 'welcomed', 'well', 'went', 'wept', 'were', 'wet', 'weve', 'what', 'whatever', 'whatll', 'whats', 'whatve', 'when', 'whens', 'where', 'wheres', 'whereve', 'wherever', 'which', 'whiff', 'while', 'whining', 'whistle', 'whistling', 'white', 'who', 'whoa', 'whod', 'whore', 'whos', 'whose', 'why', 'wicked', 'wide', 'wife', 'wild', 'will', 'willing', 'wimp', 'win', 'wind', 'window', 'windy', 'wine', 'winner', 'winning', 'wins', 'wipe', 'wise', 'wish', 'witch', 'with', 'without', 'wizard', 'woe', 'woke', 'woman', 'womaniser', 'won', 'wonderful', 'wont', 'wood', 'woof', 'word', 'words', 'wore', 'work', 'worked', 'working', 'works', 'world', 'worn', 'worried', 'worries', 'worry', 'worse', 'worships', 'worst', 'worth', 'would', 'wouldnt', 'wounded', 'wow', 'write', 'writer', 'writes', 'writing', 'wrong', 'wrote', 'wuss', 'xenophobia', 'yeah', 'year', 'years', 'yell', 'yelled', 'yelling', 'yellow', 'yen', 'yep', 'yes', 'yesterday', 'yet', 'yikes', 'ying', 'yogi', 'you', 'youd', 'youll', 'young', 'younger', 'your', 'youre', 'yours', 'yourself', 'yourselves', 'youve', 'you’ll', 'yukina', 'zambia', 'zoo', '“mary”', '“tom”', '€100']\n",
            "Target Vocabulary\t\t\t: ['1', '10', '100', '12', '18', '2', '24', '25', '50', '7', '<bof>', '<eos>', 'a', 'aaah', 'aabe', 'abajo', 'abandones', 'abandono', 'abandónalo', 'abeja', 'abofeteé', 'abofeteó', 'abogada', 'abogado', 'abra', 'abracé', 'abran', 'abrazaron', 'abrazo', 'abrazó', 'abre', 'abrigado', 'abrirlo', 'abrázame', 'abrí', 'absurda', 'absurdo', 'aburres', 'aburrida', 'aburrido', 'aburridos', 'aburrimiento', 'aburro', 'acaba', 'acabado', 'acabo', 'acabó', 'acaso', 'acatarrado', 'accedí', 'aceleró', 'aceptamos', 'acerca', 'acercarme', 'acercate', 'acerques', 'acertado', 'acerté', 'achícalo', 'aclara', 'acláramelo', 'acompañaré', 'acompañáis', 'acontecerá', 'acordamos', 'acostó', 'acrofobia', 'actor', 'actores', 'actuar', 'actúa', 'acuerdo', 'acuses', 'acuéstate', 'acá', 'acércate', 'adelante', 'adelgazando', 'adentro', 'adicto', 'adivinaste', 'adivinó', 'adiós', 'admiraba', 'admiramos', 'admiro', 'adoptado', 'adora', 'adorable', 'adoro', 'adrede', 'adultos', 'advertirle', 'advertiré', 'adónde', 'afectado', 'afeitó', 'aflige', 'aflójala', 'afortunados', 'agachó', 'agallas', 'agarra', 'agobio', 'agotado', 'agrada', 'agradable', 'agradas', 'agradecida', 'agradecido', 'agradezco', 'agregar', 'agresiva', 'agua', 'aguanta', 'aguanto', 'aguarda', 'aguardando', 'aguardarán', 'aguardaré', 'aguas', 'agárralo', 'agárrate', 'ah', 'ahh', 'ahogando', 'ahogo', 'ahogué', 'ahogó', 'ahora', 'ahorcó', 'ahí', 'ajedrez', 'ajuste', 'al', 'alan', 'alarma', 'alce', 'alcohol', 'alegre', 'alegría', 'alejó', 'alemán', 'alerta', 'alex', 'algo', 'alguien', 'alguna', 'alguno', 'algunos', 'algún', 'aliado', 'alice', 'aliento', 'aligerar', 'alistémonos', 'alivio', 'allan', 'allen', 'allá', 'allí', 'almorzando', 'alta', 'altas', 'alto', 'altos', 'alumnos', 'alzó', 'aléjate', 'ama', 'amaba', 'amabas', 'amable', 'amada', 'amado', 'amainando', 'amamos', 'aman', 'amanece', 'amanecer', 'amaneciendo', 'amar', 'amarillas', 'amarillos', 'amas', 'ambas', 'ambición', 'ambidiestro', 'ambos', 'amenaces', 'americana', 'americano', 'americanos', 'amiga', 'amigas', 'amigo', 'amigos', 'amistoso', 'amo', 'amor', 'amé', 'ancho', 'anciano', 'ancianos', 'ancla', 'anda', 'andamos', 'andando', 'andar', 'andaré', 'andas', 'andate', 'andrea', 'andá', 'anhelamos', 'animal', 'ann', 'anoréxico', 'antes', 'antonio', 'anímate', 'aoi', 'apaga', 'apague', 'apareció', 'aparta', 'apañármelas', 'apeado', 'apedreado', 'apenas', 'apesta', 'apetito', 'aplaudieron', 'aplaudió', 'aplica', 'aposta', 'apostar', 'apoyaré', 'aprende', 'aprender', 'aprendes', 'aprendé', 'apresures', 'apresuró', 'apresúrate', 'aproveche', 'aprueban', 'apuestas', 'apunta', 'apuntes', 'apunté', 'apurada', 'apurado', 'apurados', 'apurarte', 'apuro', 'apuros', 'apurémonos', 'apuñala', 'apuñaló', 'apágalo', 'apártate', 'apóyame', 'apúrate', 'apúrese', 'aquel', 'aquello', 'aquél', 'aquí', 'arde', 'arena', 'arete', 'arma', 'armas', 'arpa', 'arpones', 'arregla', 'arreglad', 'arreglado', 'arreglan', 'arreglarlo', 'arreglas', 'arregle', 'arreglen', 'arreglá', 'arreglé', 'arrepiento', 'arriba', 'arriesgado', 'arrodillaos', 'arrodilló', 'arrodíllate', 'arrogante', 'arroz', 'arruinadas', 'arruinado', 'arruinados', 'arte', 'artista', 'artículo', 'asco', 'asertiva', 'asiento', 'asintió', 'asistiré', 'asiáticos', 'asma', 'asombrada', 'asombroso', 'asqueroso', 'assembla', 'astuto', 'asume', 'asunto', 'asusta', 'asustado', 'asustados', 'asustas', 'asustó', 'así', 'atacarán', 'atacó', 'atadlo', 'atajo', 'ataque', 'atascado', 'atención', 'atentamente', 'atento', 'ateo', 'aterrador', 'aterroriza', 'atolondró', 'atractiva', 'atrapa', 'atrapado', 'atrapados', 'atrapaste', 'atrapen', 'atrasa', 'atrasado', 'atreves', 'atrevés', 'atrápenlo', 'atrás', 'ató', 'ausente', 'auto', 'autobús', 'avance', 'avancemos', 'avanza', 'avergonzado', 'averigüémoslo', 'avisale', 'avión', 'avísale', 'avísele', 'avísenle', 'ay', 'ayer', 'ayuda', 'ayudame', 'ayudan', 'ayudando', 'ayudar', 'ayudaremos', 'ayudarla', 'ayudarle', 'ayudarlo', 'ayudarme', 'ayudarnos', 'ayudaros', 'ayudarte', 'ayudará', 'ayudarás', 'ayudaré', 'ayudas', 'ayudaste', 'ayudo', 'ayudé', 'ayudó', 'ayunando', 'ayúdame', 'ayúdanos', 'azerí', 'azul', 'azules', 'azúcar', 'añade', 'año', 'añoro', 'años', 'aún', 'baba', 'bagre', 'bah', 'baila', 'bailamos', 'bailando', 'bailar', 'bailaremos', 'bailaron', 'bailarán', 'bailemos', 'bailó', 'baja', 'bajas', 'bajen', 'bajo', 'bajá', 'balbuceando', 'balbucear', 'bancame', 'barata', 'barato', 'barba', 'barco', 'barre', 'basta', 'bastante', 'bastará', 'batería', 'batirte', 'bau', 'bañando', 'baño', 'beba', 'beban', 'bebe', 'beben', 'beber', 'bebes', 'bebido', 'bebimos', 'bebió', 'bebo', 'bebáis', 'bebé', 'bella', 'belleza', 'bello', 'bencina', 'besaba', 'besaron', 'besémonos', 'besó', 'betty', 'bici', 'bien', 'bienvenida', 'bienvenidas', 'bienvenido', 'bienvenidos', 'bilal', 'bill', 'bisexual', 'biólogo', 'bla', 'blanca', 'blanco', 'bob', 'bobadas', 'bobo', 'boca', 'boche', 'bofetón', 'bolacear', 'boliche', 'bolsa', 'bolso', 'boludo', 'bondi', 'bonita', 'bonitas', 'bonito', 'bonitos', 'bono', 'bordo', 'borracha', 'borracho', 'botaste', 'bote', 'botella', 'botox', 'brasil', 'brasilera', 'brasilero', 'brasileña', 'brasileño', 'brazo', 'brincó', 'broma', 'bromeando', 'bromeas', 'bruja', 'buen', 'buena', 'buenas', 'bueno', 'buenos', 'burlé', 'bus', 'buscando', 'busques', 'bájate', 'béisbol', 'bésame', 'caballero', 'caballo', 'cabe', 'cabeza', 'cabezota', 'cabrona', 'cabrón', 'cacheteé', 'cacheteó', 'cacho', 'cada', 'cadáver', 'caes', 'café', 'cagalera', 'cagando', 'cagar', 'cago', 'cagues', 'caja', 'calcúlalo', 'caliente', 'calificado', 'callado', 'callar', 'calle', 'calma', 'calmarte', 'calor', 'calvo', 'cama', 'cambia', 'cambiado', 'cambian', 'cambiarte', 'cambiará', 'cambiaste', 'cambio', 'cambié', 'cambió', 'camina', 'caminando', 'caminar', 'caminaron', 'caminaré', 'caminemos', 'camino', 'caminé', 'caminó', 'camionero', 'camisa', 'camión', 'campana', 'campesino', 'canadiense', 'canadá', 'canal', 'cancela', 'candente', 'canosos', 'cansada', 'cansado', 'cansados', 'canta', 'cantando', 'cantante', 'cantantes', 'cantar', 'cantará', 'cantaré', 'canten', 'cantes', 'canto', 'cantó', 'cantón', 'capturado', 'captúralo', 'capullo', 'cara', 'carajo', 'carcajeo', 'cargar', 'cargo', 'cariño', 'carl', 'carne', 'caro', 'carro', 'carros', 'carta', 'carísimo', 'casa', 'casada', 'casado', 'casados', 'casamos', 'casaron', 'casi', 'caso', 'castiga', 'casémonos', 'casó', 'catástrofe', 'causa', 'cavando', 'caviar', 'cayeron', 'cayó', 'cazar', 'caín', 'cañón', 'cd', 'cds', 'ceca', 'ceda', 'cedés', 'celebremos', 'cena', 'cenar', 'cenemos', 'cerca', 'cerdo', 'cerrado', 'cerrados', 'cerrá', 'cerveza', 'chalado', 'chance', 'chantajeó', 'chao', 'charlar', 'charlemos', 'chaval', 'chavo', 'chen', 'cheques', 'chica', 'chicago', 'chicas', 'chico', 'chicos', 'chiflado', 'chille', 'chillen', 'chilles', 'chilléis', 'china', 'chino', 'chinos', 'chirrió', 'chiste', 'chistoso', 'chocolate', 'chucho', 'chulo', 'chupa', 'chupame', 'cianuro', 'ciega', 'ciego', 'cielo', 'científico', 'cierra', 'cierre', 'cierto', 'ciervo', 'cinco', 'cinta', 'cirugía', 'ciudad', 'claramente', 'claro', 'clave', 'clemente', 'clásico', 'cobra', 'coche', 'coches', 'cocina', 'cocinar', 'cocinaré', 'cocinero', 'cociné', 'cocíname', 'coge', 'coged', 'cogerlo', 'cogieron', 'coincido', 'coja', 'cojamos', 'cojan', 'cojo', 'colegio', 'colgado', 'colgó', 'color', 'coma', 'comamos', 'coman', 'comas', 'come', 'comediante', 'comemos', 'comencemos', 'comentarios', 'comenzad', 'comenzamos', 'comenzó', 'comer', 'comeremos', 'comeré', 'comes', 'cometas', 'cometí', 'comida', 'comido', 'comience', 'comiencen', 'comiendo', 'comienza', 'comienzo', 'comilón', 'comiste', 'comió', 'como', 'compartiremos', 'comparto', 'complicado', 'compláceme', 'comportó', 'compra', 'comprado', 'compramos', 'comprando', 'comprar', 'compraré', 'compras', 'compraste', 'comprende', 'comprenderé', 'comprendes', 'comprendido', 'comprendo', 'comprendéis', 'comprobad', 'comprueba', 'compré', 'compórtate', 'comé', 'coméis', 'comérmelo', 'comés', 'comí', 'con', 'concha', 'concuerdo', 'conduce', 'conducir', 'condujo', 'confesar', 'confesé', 'confiaba', 'confiado', 'confiamos', 'confianza', 'confidencial', 'confiáis', 'confiás', 'confiéis', 'confió', 'confundida', 'confundido', 'confusa', 'confusión', 'confuso', 'confía', 'confías', 'confíe', 'confíes', 'confío', 'congelado', 'conmigo', 'conoce', 'conocemos', 'conocen', 'conoces', 'conocéis', 'conocés', 'conocí', 'conocíais', 'conocías', 'conozco', 'consciente', 'conseguimos', 'consejo', 'consiguió', 'constipado', 'consuela', 'contador', 'contar', 'contentas', 'contento', 'contentos', 'contigo', 'continua', 'continuará', 'continuemos', 'continuá', 'continúa', 'continúe', 'continúen', 'contraseña', 'contrató', 'contribuí', 'control', 'contrólate', 'conté', 'conversamos', 'conversemos', 'cooperar', 'copa', 'copado', 'copia', 'copias', 'copiéis', 'corazón', 'coreano', 'corona', 'corras', 'corre', 'correcta', 'correcto', 'correctos', 'corren', 'correo', 'correr', 'correrás', 'corres', 'corriendo', 'corriste', 'corrió', 'corro', 'corta', 'cortado', 'cortina', 'corto', 'corté', 'cortó', 'cosa', 'cosas', 'coña', 'coño', 'creas', 'creativos', 'crecer', 'crecido', 'crecí', 'cree', 'creer', 'crees', 'creo', 'creáis', 'creí', 'crimen', 'cruel', 'cruje', 'cruz', 'cruza', 'créame', 'créeme', 'crío', 'cuando', 'cuarto', 'cubre', 'cuchara', 'cuchi', 'cucos', 'cuece', 'cuenta', 'cuentas', 'cuento', 'cuerda', 'cuerpo', 'cuesta', 'cuida', 'cuidado', 'cuidadoso', 'cuidaos', 'cuidas', 'cuido', 'culero', 'culo', 'culpa', 'culpable', 'culparme', 'culparos', 'culpes', 'culpo', 'cultiva', 'cultivamos', 'cumpleaños', 'cura', 'curiosa', 'curiosidad', 'curioso', 'curémonos', 'cuál', 'cuán', 'cuándo', 'cuánto', 'cuántos', 'cuéntame', 'cuéntanos', 'cuéntennos', 'cuéntenos', 'cuídame', 'cuídate', 'cyborg', 'cállate', 'cálmate', 'cámara', 'cámbiate', 'cáncer', 'cásate', 'céntrate', 'césped', 'círculo', 'cógelo', 'cómanse', 'cómete', 'cómo', 'cómodo', 'cúando', 'cúreme', 'd', 'da', 'dadme', 'dado', 'dados', 'dale', 'dales', 'daltónico', 'damas', 'dame', 'dan', 'dana', 'danos', 'darme', 'daré', 'das', 'date', 'daño', 'de', 'debe', 'debemos', 'deben', 'deber', 'deberes', 'debería', 'deberíais', 'deberíamos', 'deberías', 'debes', 'debo', 'debutó', 'decepcionas', 'decepciones', 'decid', 'decide', 'decides', 'decidido', 'decidiste', 'decidió', 'decidme', 'decilo', 'decime', 'decir', 'decirlo', 'decisión', 'decí', 'decídete', 'decírmelo', 'decís', 'dedicas', 'dedo', 'defiéndete', 'defraudes', 'defraudó', 'degustar', 'deja', 'dejad', 'dejadle', 'dejadlo', 'dejalo', 'dejame', 'dejaron', 'dejaré', 'deje', 'dejes', 'dejo', 'dejá', 'dejádmelo', 'dejé', 'dejó', 'del', 'delante', 'delates', 'delator', 'delgada', 'delgado', 'delicioso', 'demandar', 'demandaré', 'demandemos', 'demandó', 'demasiado', 'deme', 'demente', 'demonio', 'demonios', 'demuéstramelo', 'denme', 'dentro', 'depende', 'dependemos', 'deportes', 'deprimida', 'deprimido', 'deprisa', 'derecha', 'derecho', 'derretirás', 'derrito', 'desanimes', 'desaparece', 'desaparecieron', 'desapareció', 'desastre', 'descansa', 'descansad', 'descansando', 'descansar', 'descansemos', 'descolgó', 'desde', 'desea', 'desearía', 'desempleada', 'desempleado', 'deseo', 'deserto', 'desesperada', 'desesperado', 'desistamos', 'desmayaron', 'desmayé', 'desmayó', 'desnuda', 'desnudo', 'despacio', 'despedida', 'despedidas', 'despedido', 'despedidos', 'despertado', 'despertala', 'despertalo', 'despertalos', 'despertó', 'despidieron', 'despidió', 'despierta', 'despiertes', 'despierto', 'despiértame', 'desprecia', 'despreció', 'después', 'destino', 'destrozado', 'destruyo', 'detalle', 'detective', 'detendré', 'detenerlo', 'detenido', 'detenlo', 'detenlos', 'detente', 'detesto', 'detrás', 'deténgase', 'devuélvelo', 'di', 'diablo', 'diabética', 'diabético', 'diarrea', 'dibuja', 'dibujó', 'diccionario', 'dice', 'dices', 'dicho', 'diecinueve', 'diestro', 'dieta', 'diez', 'diferente', 'diferentes', 'difícil', 'diga', 'digan', 'digas', 'digo', 'dije', 'dijiste', 'dijisteis', 'dijo', 'dile', 'dilo', 'dime', 'dimito', 'dimos', 'dinero', 'dinos', 'dio', 'dios', 'diremos', 'dirá', 'diré', 'diría', 'discreto', 'discretos', 'disculpas', 'disculpe', 'disculpes', 'disculpé', 'disculpó', 'discutas', 'discutible', 'discutiendo', 'discutir', 'discutáis', 'discúlpate', 'disfrute', 'disney', 'disparado', 'disparar', 'dispararon', 'dispare', 'dispares', 'disparéis', 'disparó', 'distraído', 'divagues', 'divertido', 'divertiste', 'divierta', 'diviertes', 'diviértanse', 'diviértete', 'divorciada', 'divorciado', 'divorcié', 'dj', 'doblar', 'doble', 'doc', 'doce', 'doctor', 'doctora', 'dolerá', 'dolor', 'domingo', 'domingos', 'dona', 'donde', 'done', 'donnadie', 'dormida', 'dormido', 'dormir', 'dormitó', 'dormí', 'dormía', 'dos', 'doy', 'dramaturgo', 'droga', 'drogado', 'duda', 'dudas', 'dudo', 'dudoso', 'dudás', 'dudó', 'duele', 'duermas', 'duerme', 'dulce', 'dura', 'durará', 'durmiendo', 'durmió', 'duro', 'duros', 'dvd', 'dádmelo', 'dámelo', 'dáselo', 'dáselos', 'dé', 'débil', 'débiles', 'déjale', 'déjalo', 'déjalos', 'déjame', 'déjamelo', 'déjanos', 'déjelo', 'déjeme', 'déjenlo', 'démelo', 'démonos', 'dénmelo', 'día', 'días', 'dígalo', 'dígame', 'díganme', 'dígannos', 'díganos', 'dímelo', 'díselo', 'dólar', 'dónde', 'ebrio', 'echaremos', 'echaste', 'echo', 'echó', 'ecuador', 'edad', 'educado', 'egipto', 'ejecutado', 'ejemplos', 'el', 'elección', 'elegido', 'elige', 'ella', 'ellas', 'ello', 'ellos', 'embarazada', 'embarazado', 'embarqué', 'emborrachémonos', 'embriagado', 'embriaguémonos', 'emergencia', 'emi', 'emily', 'emm', 'emocionada', 'emocionado', 'emocionante', 'empecé', 'empezad', 'empezado', 'empezamos', 'empezar', 'empezó', 'empiece', 'empiecen', 'empieza', 'empiezo', 'empleo', 'empujar', 'empujes', 'en', 'encaja', 'encanta', 'encantado', 'encantador', 'encantó', 'encera', 'encerá', 'enciende', 'encontrado', 'encontraron', 'encontrarás', 'encontré', 'encontró', 'encuentra', 'encuentre', 'encuentren', 'endeudó', 'endosaré', 'enfadada', 'enfadado', 'enfadar', 'enfade', 'enfades', 'enfadó', 'enferma', 'enfermera', 'enfermero', 'enfermo', 'enfermos', 'enfermó', 'enfurece', 'engañado', 'engañaron', 'engañes', 'engañé', 'engañéis', 'engañó', 'engendro', 'engordés', 'engripé', 'enigma', 'enlatan', 'enojada', 'enojado', 'enojados', 'enoje', 'enojes', 'enojó', 'enorme', 'enormes', 'enroló', 'enseguida', 'enseña', 'enseñando', 'enseñarme', 'enseño', 'enseñó', 'enséñame', 'enséñamelo', 'entendemos', 'entenderé', 'entendido', 'entendieron', 'entendiste', 'entendió', 'entendéis', 'entiende', 'entiendes', 'entiendo', 'entonces', 'entra', 'entrad', 'entrada', 'entrar', 'entre', 'entremos', 'entren', 'entres', 'entrometas', 'entrá', 'entró', 'envejeció', 'envidio', 'envió', 'envíame', 'envíamelo', 'equivocada', 'equivocado', 'equivocados', 'equivocan', 'equivoco', 'equivoqué', 'era', 'eras', 'eres', 'errar', 'error', 'eructó', 'es', 'esa', 'esas', 'escapan', 'escapar', 'escaparon', 'escapé', 'escapó', 'escoge', 'escogido', 'escojo', 'escondamos', 'esconde', 'escondidos', 'escondiste', 'escriba', 'escribe', 'escribes', 'escribiendo', 'escribo', 'escribí', 'escritor', 'escríbeme', 'escucha', 'escuchando', 'escucharé', 'escuchas', 'escuche', 'escuchen', 'escucho', 'escuchá', 'escuchás', 'escuché', 'escuchó', 'escuela', 'escupe', 'escúchame', 'ese', 'esencial', 'esforzaron', 'esfúmate', 'eso', 'esos', 'espada', 'espagueti', 'espalda', 'españa', 'español', 'especial', 'especiales', 'especifica', 'espectáculo', 'específica', 'específico', 'espejo', 'espera', 'esperad', 'esperamos', 'esperando', 'esperanto', 'esperanza', 'esperar', 'esperaron', 'esperará', 'esperaré', 'espere', 'esperemos', 'esperen', 'esperes', 'espero', 'esperé', 'esperó', 'espiró', 'espléndida', 'esposa', 'espérate', 'espías', 'espósale', 'esquiar', 'esta', 'estaba', 'estabais', 'estaban', 'estabas', 'estad', 'estado', 'estafador', 'estafes', 'estamos', 'estancado', 'estar', 'estará', 'estarás', 'estaré', 'estas', 'estate', 'este', 'estilo', 'esto', 'estornudando', 'estornudo', 'estos', 'estoy', 'estrella', 'estresado', 'estreñida', 'estreñido', 'estudia', 'estudiad', 'estudiamos', 'estudiando', 'estudiante', 'estudiantes', 'estudiar', 'estudiarás', 'estudias', 'estudies', 'estudio', 'estupendo', 'estuvo', 'está', 'estábamos', 'estáis', 'están', 'estás', 'estés', 'estúpido', 'etíope', 'europea', 'europeo', 'euros', 'euskera', 'evita', 'evitarlo', 'exagera', 'exageres', 'exageré', 'exageréis', 'examen', 'examina', 'examinad', 'examine', 'examinen', 'examiná', 'excusa', 'excúsame', 'exhaustivo', 'exhausto', 'existe', 'existen', 'existes', 'existimos', 'existo', 'exmujer', 'exorcista', 'experta', 'experto', 'explica', 'explicar', 'explicarlo', 'explícamelo', 'explícate', 'expresa', 'extra', 'extranjero', 'extraña', 'extrañar', 'extrañarás', 'extrañaste', 'extraño', 'extrañé', 'fabulosa', 'faisán', 'falsa', 'falso', 'falta', 'familia', 'famoso', 'fantasma', 'fantástico', 'fanático', 'faquir', 'farsa', 'farshad', 'fascinaba', 'fascinada', 'fascinante', 'fatal', 'favor', 'fea', 'febril', 'fecha', 'felices', 'feliz', 'feo', 'feos', 'festejemos', 'fiamos', 'fideos', 'fiebre', 'fiesta', 'fiestas', 'figura', 'fiji', 'fila', 'filas', 'fin', 'final', 'fingiendo', 'finlandés', 'fiolo', 'firefox', 'firma', 'firmad', 'firmaron', 'firmaste', 'firme', 'firmen', 'firmá', 'fisurado', 'flaco', 'flexible', 'flojo', 'flor', 'florista', 'fluye', 'follen', 'ford', 'forma', 'foto', 'fotogénico', 'fracasarás', 'fracasó', 'francesa', 'francia', 'francés', 'frase', 'frenos', 'fresco', 'fresquito', 'friki', 'frustrado', 'fruta', 'frutas', 'fría', 'frío', 'fue', 'fuego', 'fuera', 'fueron', 'fuerte', 'fui', 'fuimos', 'fuiste', 'fuisteis', 'fuma', 'fumador', 'fumando', 'fumar', 'fumas', 'fumes', 'fumo', 'fumás', 'fuméis', 'funciona', 'funcionará', 'funcionó', 'furioso', 'futuro', 'fácil', 'fíes', 'fíjate', 'fútbol', 'gadget', 'gafas', 'gafe', 'gallo', 'gana', 'ganado', 'ganador', 'ganamos', 'ganan', 'ganando', 'ganar', 'ganaremos', 'ganaron', 'ganará', 'ganes', 'gano', 'gané', 'ganó', 'garaje', 'gas', 'gasolina', 'gata', 'gato', 'gatos', 'gay', 'gemelos', 'generoso', 'genial', 'genio', 'gente', 'gentil', 'gentiles', 'gifu', 'gilipollas', 'gimió', 'gira', 'girasol', 'gire', 'giré', 'giró', 'globaliza', 'gofres', 'golf', 'golfista', 'golpe', 'goma', 'gorda', 'gordo', 'gorra', 'gorro', 'gotea', 'gracia', 'gracias', 'gracioso', 'graciosísimo', 'graduó', 'gran', 'granada', 'grande', 'grandes', 'grandote', 'granizando', 'grano', 'gratis', 'grave', 'grecia', 'greene', 'grima', 'gris', 'grita', 'gritar', 'gritaron', 'grites', 'grito', 'gritó', 'grogui', 'grosero', 'grácil', 'guapa', 'guapo', 'guapísima', 'guarda', 'guarde', 'guardá', 'guarro', 'guau', 'guisaré', 'gusta', 'gustaba', 'gustan', 'gustaría', 'gustas', 'gustes', 'gusto', 'gustás', 'gustó', 'guárdalo', 'guárdalos', 'güey', 'güisqui', 'ha', 'habitas', 'habla', 'hablad', 'hablamos', 'hablando', 'hablar', 'hablas', 'hablaste', 'hable', 'hablemos', 'hablen', 'hables', 'hablo', 'habláis', 'hablé', 'habló', 'habéis', 'había', 'habías', 'hace', 'hacemos', 'hacer', 'hacerlo', 'hacerse', 'haces', 'hacia', 'haciéndolo', 'hacía', 'haga', 'hagamos', 'hagan', 'hagas', 'hago', 'hagáis', 'hagámoslo', 'halloween', 'hallé', 'hambre', 'hambrienta', 'hambriento', 'han', 'haragana', 'haremos', 'harpa', 'harta', 'hartas', 'harto', 'hará', 'harán', 'harás', 'haré', 'haría', 'harías', 'has', 'hasta', 'hay', 'haz', 'hazle', 'hazlo', 'hazme', 'hazte', 'he', 'hecho', 'helado', 'helando', 'hemos', 'henri', 'herida', 'herido', 'heriste', 'hermana', 'hermanas', 'hermano', 'hermanos', 'hermosa', 'hermoso', 'hermosos', 'hice', 'hicieron', 'hicimos', 'hiciste', 'hielo', 'hierve', 'hija', 'hijo', 'hijos', 'hipo', 'hirviendo', 'historiador', 'hitomi', 'hizo', 'hogar', 'hojas', 'hola', 'hombre', 'hombres', 'honesto', 'hora', 'horrible', 'horror', 'horrorizada', 'horrorizado', 'hotel', 'hoy', 'huele', 'huelen', 'hueles', 'huelga', 'huelo', 'huevo', 'huevos', 'huevón', 'humana', 'humanidad', 'humano', 'humanos', 'humillado', 'humillante', 'humilló', 'humo', 'hunter', 'huyó', 'huélelo', 'huésped', 'huí', 'hyogo', 'háblame', 'hágalo', 'háganle', 'házmelo', 'háztelo', 'héroe', 'híbrido', 'húmeda', 'húngara', 'húngaro', 'iba', 'iban', 'id', 'idea', 'identifíquese', 'idiota', 'ido', 'idos', 'idénticos', 'ignora', 'ignoralos', 'ignoró', 'ignórala', 'ignórale', 'ignóralo', 'igual', 'igualmente', 'ilegal', 'imaginé', 'impaciente', 'imponente', 'importa', 'importante', 'importará', 'imposible', 'incluido', 'incompleto', 'inconsciente', 'incordio', 'incorrecto', 'increpó', 'increíble', 'increíbles', 'incómodo', 'india', 'indigna', 'indignado', 'indulgentes', 'inevitable', 'infelizmente', 'infiel', 'infierno', 'influyente', 'informaremos', 'ingeniero', 'ingenioso', 'ingenua', 'ingenuo', 'inglaterra', 'inglesa', 'inglés', 'inhaló', 'injusto', 'inmensas', 'inmenso', 'inmoral', 'inmune', 'inocente', 'inquieto', 'insaciable', 'insecto', 'insistió', 'insisto', 'insolente', 'insoló', 'insultes', 'insultó', 'inteligente', 'intenta', 'intentado', 'intentando', 'intentar', 'intentaremos', 'intentarlo', 'intentaron', 'intentaré', 'intentaste', 'intentemos', 'intento', 'intenté', 'interesa', 'interesado', 'interesante', 'interfieras', 'intranquilo', 'intriga', 'intrigada', 'investiguemos', 'invita', 'invitado', 'invitados', 'invitaré', 'invito', 'inútil', 'ipad', 'ir', 'iremos', 'irina', 'irme', 'irnos', 'iros', 'irreal', 'irse', 'irte', 'irá', 'irás', 'iré', 'irónico', 'ishmael', 'islandés', 'ismael', 'italiana', 'italiano', 'ivan', 'ivo', 'jabón', 'jack', 'jamás', 'jane', 'japonesa', 'japonés', 'japón', 'jaqueca', 'jardinero', 'jazz', 'jefe', 'jesús', 'jim', 'jiro', 'jisung', 'jodan', 'jode', 'jodiendo', 'john', 'jon', 'jorge', 'josé', 'joven', 'jubilarme', 'judy', 'juega', 'juegas', 'juego', 'juegues', 'jueves', 'jugando', 'jugar', 'jugo', 'juguemos', 'jugué', 'jugó', 'juntaos', 'juntos', 'juro', 'justicia', 'justo', 'kate', 'keiko', 'ken', 'kioto', 'kobe', 'la', 'labia', 'labio', 'lacroso', 'lado', 'ladran', 'ladres', 'ladrón', 'lago', 'lamento', 'lanza', 'largarme', 'largo', 'las', 'lasaña', 'lastimas', 'lastimes', 'lastimé', 'lastimó', 'latín', 'laurie', 'lava', 'lavaos', 'lavas', 'lavo', 'lavé', 'le', 'lea', 'lean', 'leche', 'lechero', 'lee', 'leed', 'leer', 'lees', 'legal', 'lejos', 'lentamente', 'lentes', 'lento', 'leo', 'les', 'lesbiana', 'leseando', 'levanta', 'levantado', 'levantarse', 'levante', 'levantes', 'levantá', 'levanté', 'levantó', 'levántate', 'ley', 'leyendo', 'leé', 'leí', 'leído', 'león', 'li', 'libera', 'liberaré', 'libre', 'libres', 'libro', 'libros', 'libérale', 'liebre', 'ligera', 'limpia', 'limpias', 'limpio', 'limón', 'lin', 'lindas', 'lindo', 'lindos', 'linux', 'lisboa', 'lista', 'listo', 'listos', 'llama', 'llamada', 'llamadme', 'llamado', 'llamame', 'llamamos', 'llaman', 'llamando', 'llamar', 'llamaremos', 'llamarlo', 'llamaron', 'llamarán', 'llamaré', 'llamas', 'llamaste', 'llame', 'llamen', 'llames', 'llamo', 'llamé', 'llaméis', 'llamés', 'llamó', 'llave', 'llaves', 'llega', 'llegado', 'llegamos', 'llegar', 'llegará', 'llegarás', 'llegaréis', 'llegas', 'llegaste', 'llegues', 'llegó', 'llena', 'lleno', 'llené', 'lleva', 'llevaba', 'llevar', 'llevarlo', 'llevaré', 'llevas', 'llevo', 'llorando', 'llorar', 'lloras', 'lloraste', 'llore', 'lloren', 'llores', 'lloréis', 'llorés', 'lloró', 'llover', 'lloviendo', 'llovió', 'llueva', 'llueve', 'lluvia', 'lluvioso', 'llámala', 'llámame', 'llámanos', 'llénalo', 'llévame', 'llévate', 'llévese', 'lo', 'loca', 'loco', 'locos', 'locura', 'logró', 'lojban', 'londres', 'los', 'luce', 'luces', 'lucha', 'luchar', 'luchó', 'lucía', 'ludwig', 'luego', 'lugar', 'luis', 'lunes', 'lupus', 'luz', 'luzco', 'luís', 'lynn', 'lágrimas', 'lápiz', 'lárgate', 'lárguese', 'lástima', 'lávate', 'lávense', 'lávese', 'léalo', 'léelo', 'líder', 'límpiate', 'línea', 'lógico', 'machista', 'madera', 'madre', 'maestra', 'maestro', 'maestros', 'magia', 'mago', 'mahjongg', 'majo', 'mal', 'mala', 'malas', 'malayo', 'maldición', 'maldita', 'malo', 'malos', 'malta', 'malvado', 'mami', 'mamá', 'mandala', 'mandalo', 'mando', 'manera', 'mango', 'mano', 'manos', 'manteneos', 'mantengámoslo', 'mantente', 'mantené', 'mantuvieron', 'mantén', 'manténgase', 'manzana', 'maníaco', 'mapa', 'mar', 'maravilloso', 'maravillosos', 'marcha', 'marchado', 'marchar', 'marcharon', 'marcharos', 'marcharse', 'marcharte', 'mareado', 'mariconzón', 'maricón', 'marido', 'marrón', 'mary', 'maría', 'masoquista', 'mata', 'matar', 'matarán', 'mataré', 'mataste', 'mate', 'mates', 'mato', 'maté', 'mató', 'mayor', 'mayores', 'mañana', 'me', 'medianoche', 'medicina', 'mediodía', 'meg', 'mejor', 'mejora', 'mejorado', 'mejorando', 'mejore', 'mejores', 'melancólico', 'melena', 'melones', 'memoria', 'memoriza', 'memorízalo', 'memorízate', 'memórizala', 'menciones', 'mencionó', 'menos', 'mensaje', 'mentalizado', 'mente', 'mentido', 'mentir', 'mentira', 'mentiras', 'mentiroso', 'mentiría', 'mentiste', 'menudo', 'menú', 'merece', 'mereces', 'merecía', 'merecían', 'merecías', 'merezco', 'mesa', 'metiche', 'mezclá', 'mezquino', 'mi', 'micrófono', 'mide', 'mides', 'miedica', 'miedo', 'mientas', 'miente', 'mienten', 'mientes', 'mierda', 'miho', 'mike', 'milagro', 'milán', 'mintiendo', 'mintieron', 'mintió', 'mintáis', 'minuto', 'mira', 'mirad', 'mirando', 'mirarme', 'miraron', 'miraré', 'mire', 'miren', 'mires', 'miréis', 'miró', 'mis', 'mismo', 'mitad', 'mito', 'modales', 'modelo', 'mojada', 'mojado', 'mojigato', 'molestar', 'moleste', 'molestes', 'molesto', 'momentito', 'momento', 'monje', 'mono', 'montón', 'mordió', 'mordí', 'morir', 'morirá', 'morirán', 'morros', 'moscú', 'mostrame', 'mostraré', 'motivado', 'motor', 'mover', 'moverte', 'movida', 'movido', 'moviéndote', 'movió', 'mováis', 'mucha', 'muchacho', 'muchachos', 'muchas', 'mucho', 'mudó', 'muecas', 'muela', 'mueras', 'muere', 'muero', 'muerta', 'muerte', 'muerto', 'mueva', 'muevan', 'muevas', 'mueve', 'mueves', 'mugre', 'mujer', 'mujeriego', 'mundo', 'muriendo', 'murieron', 'murió', 'musulmana', 'musulmán', 'muy', 'muéstrame', 'muévase', 'muévete', 'muñeca', 'mándala', 'mándalo', 'mándame', 'mándamelo', 'mándela', 'mándelo', 'mándenla', 'mándenlo', 'márchate', 'más', 'máximo', 'médica', 'médico', 'médicos', 'métete', 'mí', 'mía', 'mías', 'mío', 'míos', 'míralo', 'mírame', 'música', 'músico', 'nació', 'nací', 'nada', 'nadando', 'nadar', 'nademos', 'nadie', 'nancy', 'naoko', 'nara', 'naranja', 'nariz', 'natasha', 'natto', 'natural', 'naturaleza', 'naturalmente', 'nave', 'navidad', 'nazi', 'neblina', 'necesario', 'necesita', 'necesitaba', 'necesitamos', 'necesitan', 'necesitas', 'necesito', 'necesitáis', 'negaron', 'negocios', 'negra', 'negro', 'negó', 'nervioso', 'nerviosos', 'neurótica', 'neutral', 'nevaba', 'nevado', 'nevando', 'nevar', 'nevoso', 'nevó', 'ni', 'niegues', 'nieva', 'nieve', 'ninguna', 'ninguno', 'ningún', 'niña', 'niño', 'niños', 'no', 'noche', 'noches', 'noctívago', 'nombre', 'normal', 'noruega', 'noruego', 'nos', 'nosotras', 'nosotros', 'nota', 'noticia', 'noto', 'novelero', 'novia', 'nublado', 'nudista', 'nuestra', 'nueva', 'nuevamente', 'nuevas', 'nuevo', 'nuevos', 'nunca', 'náuseas', 'o', 'obedece', 'obedecieron', 'obedezcas', 'obsceno', 'observas', 'observo', 'obsoleto', 'obstinada', 'obsérvalos', 'obsérvame', 'obsérvanos', 'obtuve', 'obvio', 'ocultaste', 'ocupada', 'ocupado', 'ocupados', 'ocuparé', 'ocurre', 'ocurrido', 'ocurriendo', 'ocurrió', 'odia', 'odiaba', 'odiaban', 'odiado', 'odiarte', 'odies', 'odio', 'ofensivo', 'oh', 'oiga', 'oigo', 'ojalá', 'ojos', 'ok', 'olvidado', 'olvidamos', 'olvidate', 'olvides', 'olvidé', 'olvidéis', 'olvidémoslo', 'olvídalo', 'olvídame', 'olvídate', 'olvídenlo', 'olvídenme', 'olvídense', 'olvídese', 'olía', 'onda', 'online', 'opción', 'opinas', 'optimista', 'oraron', 'orden', 'oreja', 'oro', 'os', 'osaka', 'oscuro', 'oso', 'otitis', 'otoño', 'otra', 'otro', 'ovni', 'oye', 'oyendo', 'oyes', 'oyó', 'oí', 'oído', 'oídos', 'oímos', 'oír', 'oírle', 'oírles', 'oírlo', 'oírme', 'oírnos', 'oíros', 'oírte', 'oíste', 'p', 'paciente', 'pacman', 'pacá', 'padre', 'padres', 'paella', 'paga', 'pagar', 'pagaremos', 'pagarlo', 'pagaron', 'pagaré', 'pagoda', 'pague', 'pagué', 'pagó', 'pajero', 'pala', 'palabra', 'palabras', 'palideció', 'palmó', 'pan', 'panadero', 'pancho', 'panda', 'papa', 'papas', 'papel', 'papá', 'par', 'para', 'parad', 'parado', 'paraos', 'parar', 'pararla', 'pararle', 'pararme', 'pararon', 'paraste', 'parcial', 'parece', 'parecen', 'pareces', 'parecía', 'pareja', 'pares', 'parisino', 'paro', 'parque', 'parte', 'partida', 'partir', 'pará', 'parís', 'paró', 'pasa', 'pasado', 'pasaje', 'pasan', 'pasando', 'pasaporte', 'pasar', 'pasaron', 'pasará', 'pasaría', 'pasas', 'pasaste', 'pascua', 'pascuas', 'pase', 'pasear', 'pasearon', 'pasemos', 'paseo', 'paso', 'pasos', 'pasé', 'pasó', 'patata', 'pateó', 'patinar', 'patio', 'patrañas', 'patético', 'paul', 'pava', 'paz', 'pd', 'pecado', 'pecar', 'pedante', 'pedazos', 'pedido', 'pedo', 'pedí', 'pega', 'pegajoso', 'pegame', 'pego', 'pegó', 'pelea', 'peleando', 'pelear', 'pelele', 'peleéis', 'peleó', 'peligro', 'peligroso', 'pelirroja', 'pellizcó', 'pelo', 'pelota', 'pelón', 'pena', 'pensaba', 'pensado', 'pensando', 'pensar', 'peor', 'pequeño', 'perdedor', 'perdedora', 'perder', 'perderás', 'perderé', 'perdida', 'perdido', 'perdidos', 'perdiendo', 'perdieron', 'perdimos', 'perdiste', 'perdió', 'perdona', 'perdonamos', 'perdonó', 'perdí', 'perdón', 'perdónenos', 'perezoso', 'perfecta', 'perfecto', 'periodista', 'periodistas', 'permanece', 'permanente', 'permiso', 'permite', 'permiten', 'permites', 'permítame', 'pero', 'perra', 'perrito', 'perro', 'perros', 'persona', 'personal', 'personas', 'perth', 'pesada', 'pesado', 'pesca', 'pescado', 'pescar', 'pesimismo', 'peso', 'pesquemos', 'pete', 'peter', 'pez', 'pianista', 'piano', 'pica', 'pican', 'pico', 'picó', 'pide', 'pidió', 'pido', 'pidámosle', 'pie', 'piedad', 'piensa', 'piensas', 'pienso', 'pierdas', 'pierrot', 'pies', 'pieza', 'pija', 'pillas', 'pillo', 'pilotos', 'pinche', 'pinta', 'pintado', 'pintando', 'pintor', 'pintó', 'piorrea', 'piro', 'piscis', 'piso', 'pista', 'piénsalo', 'piénsatelo', 'piénselo', 'piérdelo', 'piérdete', 'placer', 'plan', 'planta', 'plantas', 'plata', 'plomero', 'pluma', 'plátano', 'pobre', 'poco', 'podemos', 'poder', 'podrido', 'podría', 'podrías', 'podéis', 'podés', 'podíamos', 'poeta', 'polaco', 'policía', 'pollo', 'polvoriento', 'política', 'pondrá', 'pone', 'ponedlo', 'ponlo', 'ponte', 'ponéoslo', 'pool', 'popular', 'poquito', 'por', 'porquería', 'portugal', 'portó', 'poseída', 'posible', 'positiva', 'positivo', 'pozo', 'practicando', 'practiquemos', 'precaución', 'precavido', 'precio', 'precios', 'preciosa', 'preferiría', 'prefiero', 'pregunta', 'preguntado', 'preguntaron', 'preguntaré', 'preguntas', 'preguntemos', 'preguntes', 'pregunté', 'preguntémosle', 'preguntó', 'pregúntale', 'pregúntaselo', 'premio', 'prendida', 'prendió', 'prendé', 'preocupada', 'preocupados', 'preocupen', 'preocupes', 'prepara', 'preparada', 'preparados', 'preparamos', 'preparaos', 'preparé', 'prepárate', 'presente', 'presionó', 'presté', 'presumir', 'pretendía', 'preñada', 'prima', 'primera', 'primero', 'primo', 'primos', 'prisa', 'privado', 'probablemente', 'probar', 'probarlo', 'probaré', 'probemos', 'problema', 'problemas', 'probá', 'probármelo', 'probó', 'procuramos', 'profesor', 'profesora', 'profesores', 'profundo', 'prohibido', 'promete', 'prometes', 'prometo', 'pronto', 'propina', 'prosigamos', 'provecho', 'provocaba', 'prueba', 'pruebas', 'pruebe', 'prueben', 'pruébatela', 'práctico', 'préstame', 'próxima', 'pude', 'pudiera', 'pueblo', 'puede', 'pueden', 'puedes', 'puedo', 'puente', 'puerta', 'pues', 'puesto', 'pulso', 'puntual', 'puntuales', 'pura', 'puro', 'puse', 'puso', 'puta', 'pájaros', 'pálido', 'párale', 'párales', 'páralo', 'párate', 'párese', 'pásala', 'pásame', 'pásenla', 'pégame', 'pégueme', 'péguenme', 'pírate', 'pónganlo', 'pónganselo', 'póngaselo', 'póntelo', 'pórtate', 'que', 'quebrado', 'quebró', 'queda', 'quedaos', 'quedar', 'quedaron', 'quedaré', 'quedate', 'quedo', 'quedé', 'quedó', 'quejarme', 'quejarte', 'quejaría', 'quejes', 'quema', 'quemad', 'quemaron', 'quemará', 'queme', 'quemen', 'quemá', 'queremos', 'querer', 'queráis', 'queréis', 'querés', 'quería', 'querías', 'queso', 'quien', 'quieras', 'quiere', 'quieren', 'quieres', 'quiero', 'quieto', 'quise', 'quitó', 'quizá', 'quién', 'quiénes', 'qué', 'quédate', 'quédatelos', 'quédense', 'quédese', 'química', 'quítate', 'quítatelo', 'racista', 'radio', 'ramudú', 'rap', 'raptado', 'raptaron', 'rara', 'raramente', 'raro', 'rasca', 'rato', 'ratón', 'razonable', 'razonables', 'razón', 'real', 'realidad', 'realista', 'rebelde', 'rechaza', 'rechazó', 'recibes', 'recibió', 'reciclas', 'recién', 'recluso', 'recoge', 'recogeré', 'recordamos', 'recto', 'recuerda', 'recuerdas', 'recuerdo', 'recuperará', 'recuérdalo', 'red', 'reemplazadlo', 'reforma', 'refunfuñó', 'regalo', 'regalos', 'regañaré', 'regañó', 'regodeó', 'regresa', 'regresado', 'regresar', 'regreso', 'rehuso', 'rehusé', 'reina', 'relajado', 'relajémonos', 'reloj', 'relájate', 'remando', 'remueve', 'rendimos', 'rendirme', 'renta', 'renunciar', 'renunciemos', 'renuncio', 'renuncié', 'renunció', 'reparó', 'repitas', 'reportero', 'reprobó', 'reprocho', 'repugna', 'repugnante', 'repítelo', 'repósate', 'resaca', 'rescaté', 'resfriado', 'resfrié', 'resista', 'resiste', 'resistir', 'resistiré', 'respeta', 'respetan', 'respeto', 'respetuoso', 'respetuosos', 'respira', 'respirar', 'respiro', 'responde', 'responder', 'responderán', 'respondió', 'responsable', 'respóndame', 'respóndanme', 'respóndeme', 'retrasado', 'retratado', 'retó', 'reventado', 'revísalo', 'revísalos', 'rezando', 'reí', 'reía', 'reímos', 'reír', 'reñiros', 'reñiré', 'rica', 'ricas', 'rico', 'ricos', 'ridículo', 'riega', 'riendo', 'rieron', 'rindas', 'rindió', 'rindo', 'rio', 'risita', 'riñó', 'rió', 'robado', 'robar', 'robé', 'robó', 'rock', 'rodeado', 'rodeados', 'rodillas', 'rojo', 'rollo', 'roma', 'rompió', 'rompí', 'romántico', 'ronca', 'roncando', 'ropa', 'rosa', 'rota', 'roto', 'rubias', 'rubio', 'ruego', 'ruge', 'ruido', 'rulo', 'rumania', 'rusa', 'rusas', 'rusia', 'ruso', 'rusos', 'rápidamente', 'rápido', 'rápidos', 'régimen', 'ría', 'rías', 'ríe', 'ríen', 'río', 'sabe', 'sabemos', 'saben', 'saber', 'saberlo', 'sabes', 'sabia', 'sabiamente', 'sabio', 'sabrá', 'sabría', 'sabéis', 'sabés', 'sabía', 'sabían', 'sabías', 'saca', 'sacudí', 'sacó', 'sal', 'sala', 'sale', 'salga', 'salgamos', 'salgan', 'salid', 'salido', 'saliendo', 'salir', 'saliste', 'salió', 'sally', 'salsa', 'salta', 'saltar', 'salte', 'salté', 'saltéis', 'saltó', 'saludable', 'saludo', 'saludó', 'salvé', 'salí', 'salón', 'sam', 'samuel', 'sangra', 'sangraba', 'sangre', 'sano', 'santo', 'sapporo', 'saque', 'sara', 'sasha', 'sastre', 'satanás', 'satisfecha', 'satisfecho', 'satán', 'sayoko', 'scooter', 'se', 'sea', 'seamos', 'sean', 'seas', 'seca', 'seco', 'secreto', 'secuela', 'secuestraron', 'secó', 'sed', 'seguid', 'seguida', 'seguidme', 'seguido', 'seguilo', 'seguime', 'seguiré', 'segundo', 'segura', 'seguridad', 'seguro', 'seguí', 'seis', 'sello', 'semana', 'semanas', 'sencillo', 'senderismo', 'senil', 'sentado', 'sentados', 'sentaos', 'sentar', 'sentarme', 'sentarnos', 'sentate', 'sentido', 'sentimos', 'sentémonos', 'sentí', 'sentía', 'separados', 'separamos', 'separéis', 'ser', 'serio', 'servirá', 'será', 'serás', 'seré', 'sería', 'sexo', 'sexy', 'seáis', 'seña', 'señalalo', 'señor', 'señora', 'show', 'si', 'sido', 'siempre', 'sientes', 'siento', 'siete', 'siga', 'sigamos', 'sigan', 'siglos', 'significa', 'signo', 'sigo', 'sigue', 'sigues', 'siguió', 'silbando', 'silbar', 'silencio', 'silla', 'simpatizo', 'simple', 'simpáticos', 'sin', 'sintió', 'sip', 'sirena', 'sirve', 'sita', 'sitio', 'siéntate', 'siéntese', 'sobarme', 'sobre', 'sobrepeso', 'sobrevivimos', 'sobreviviremos', 'sobrevivirá', 'socio', 'soda', 'sois', 'sol', 'sola', 'solas', 'soldado', 'soleado', 'solo', 'solos', 'soltadme', 'soltera', 'soltero', 'solté', 'solía', 'sombra', 'sombrero', 'somos', 'son', 'sonate', 'sonreíd', 'sonreír', 'sonriendo', 'sonrieron', 'sonrisas', 'sonrió', 'sonroja', 'sonrojó', 'sonría', 'sonrían', 'sonrías', 'sonríe', 'sonó', 'sopa', 'sopla', 'soportar', 'soporto', 'sordo', 'sorpresa', 'sos', 'sostengo', 'sostén', 'soy', 'soñador', 'soñando', 'soñar', 'spot', 'stephen', 'su', 'suba', 'subas', 'sube', 'suben', 'subió', 'subí', 'subíos', 'sucede', 'sucedió', 'sucio', 'sudando', 'sudar', 'sudaron', 'sueco', 'suelo', 'suelta', 'suelte', 'sueltes', 'suena', 'suerte', 'suertudo', 'sueñan', 'sueño', 'sueños', 'suficiente', 'sujeta', 'supera', 'superior', 'supiera', 'suplico', 'supuesto', 'sur', 'sus', 'susan', 'sushi', 'suspiró', 'susto', 'suya', 'suyo', 'suéltala', 'suéltalo', 'suéltame', 'sábado', 'sátiro', 'sé', 'sésamo', 'sí', 'sígalo', 'síganlo', 'síganme', 'síguele', 'síguelo', 'sígueme', 'síguenos', 'sírvase', 'sírvete', 'sólo', 'súbase', 'súbete', 'tacaño', 'tahití', 'taimado', 'tal', 'talentoso', 'también', 'tambores', 'tampoco', 'tan', 'tanto', 'tarde', 'tardes', 'tarta', 'tartamudees', 'taxi', 'te', 'techo', 'teclea', 'teje', 'tejón', 'tele', 'televisor', 'teléfono', 'temas', 'temo', 'temprano', 'temíamos', 'temían', 'ten', 'tenedlo', 'tenemos', 'tengan', 'tengas', 'tengo', 'tenido', 'tenis', 'tenlo', 'tentad', 'tentá', 'tenéis', 'tenés', 'tenía', 'teníamos', 'terco', 'termina', 'terminad', 'terminado', 'terminamos', 'terminar', 'termine', 'terminemos', 'terminen', 'terminá', 'terminó', 'ternera', 'terrible', 'testaruda', 'ti', 'tiempo', 'tiempos', 'tienda', 'tiene', 'tienen', 'tienes', 'tienta', 'tiente', 'tientes', 'tierno', 'tierra', 'tiflis', 'tipo', 'tira', 'tiritas', 'tiro', 'toalla', 'toca', 'tocar', 'tocarla', 'tocarlo', 'tocarme', 'toco', 'tocó', 'todavía', 'todo', 'todos', 'tofu', 'tokio', 'tolerante', 'tom', 'toma', 'tomad', 'tomada', 'tomate', 'tome', 'tomemos', 'tomen', 'tomo', 'tomá', 'tomás', 'tomátelo', 'tomé', 'tomó', 'toni', 'tonta', 'tonterías', 'tonto', 'tony', 'toque', 'toques', 'toquéis', 'torpe', 'torta', 'tos', 'tosido', 'tosiendo', 'tosió', 'toyota', 'trabaja', 'trabajamos', 'trabajan', 'trabajando', 'trabajar', 'trabajaré', 'trabajas', 'trabajemos', 'trabajo', 'trabajás', 'trabajó', 'traduciendo', 'traductor', 'trae', 'traed', 'traedlo', 'traeme', 'traeré', 'trago', 'traicionaste', 'traicionó', 'traidor', 'traidores', 'traje', 'trampa', 'trampas', 'tranquila', 'tranquilo', 'tranquilízate', 'trapo', 'tras', 'trata', 'trato', 'tratá', 'travieso', 'traza', 'tren', 'trenes', 'tres', 'triste', 'tristeza', 'trotar', 'truco', 'tráelo', 'tráeme', 'tráemelo', 'trágico', 'tráigame', 'tráigamelo', 'tu', 'turca', 'turco', 'turista', 'turno', 'turquía', 'tus', 'tuve', 'tuvimos', 'tuvo', 'tuya', 'tuyo', 'tuyos', 'twitter', 'té', 'tímida', 'tímido', 'tío', 'tócalo', 'tómate', 'tómese', 'tú', 'túmbate', 'ucrania', 'un', 'una', 'unas', 'uno', 'unos', 'unírmeles', 'urgente', 'usa', 'usar', 'uso', 'usted', 'ustedes', 'utilizo', 'uva', 'uña', 'va', 'vado', 'vaga', 'vago', 'vais', 'valdrá', 'vale', 'vales', 'valiente', 'valientes', 'vamos', 'van', 'vas', 'vaso', 'vaya', 'vayamos', 'vayas', 'vayáis', 'vayámonos', 've', 'veamos', 'vecino', 'vecinos', 'vegetariana', 'velas', 'veloz', 'vemos', 'ven', 'vencedores', 'venceremos', 'vendaje', 'vende', 'vendrá', 'vendrán', 'vendréis', 'venga', 'vengan', 'venganza', 'vengas', 'vengo', 'vengué', 'vengó', 'venid', 'venido', 'venir', 'ventana', 'vente', 'ventoso', 'vení', 'veníos', 'veo', 'ver', 'verano', 'verdad', 'verdaderamente', 'verde', 'verdes', 'verga', 'vergüenza', 'verla', 'verle', 'verlo', 'verlos', 'verme', 'vernos', 'veros', 'verte', 'verás', 'veré', 'veréis', 'ves', 'vestido', 'vestite', 'vete', 'vez', 'veía', 'vi', 'viajar', 'viaje', 'vibrando', 'vicio', 'vida', 'video', 'vieja', 'viejo', 'viejos', 'viendo', 'viene', 'vienes', 'viento', 'viernes', 'vigila', 'vigílame', 'vimos', 'vine', 'vino', 'vio', 'violento', 'violín', 'violó', 'visa', 'visado', 'visitarme', 'visitemos', 'visité', 'vista', 'vistazo', 'viste', 'vistió', 'visto', 'vitorearon', 'viva', 'vive', 'viven', 'vives', 'vivido', 'vivimos', 'vivir', 'vivirá', 'vivo', 'vivos', 'viví', 'vivía', 'voces', 'volar', 'volemos', 'volteó', 'voltéate', 'volvamos', 'volver', 'volverá', 'volveré', 'volvió', 'volví', 'vomitando', 'vomité', 'vomitó', 'vos', 'vosotras', 'vosotros', 'votado', 'votar', 'votemos', 'voté', 'voy', 'voz', 'vuelta', 'vuelto', 'vuelva', 'vuelvas', 'vuelve', 'vuelvo', 'vuestro', 'vulgar', 'vámonos', 'váyanse', 'váyase', 'véalo', 'véase', 'vénganse', 'véngase', 'víbora', 'vídeo', 'vístete', 'waffles', 'wang', 'xenofobia', 'y', 'ya', 'ye', 'yenes', 'ying', 'yo', 'yogui', 'yudo', 'yukina', 'zambia', 'zapatos', 'zarpó', 'zoo', 'zorro', 'zumba', 'zumo', 'zurdo', 'zurzan', '¡a', '¡abra', '¡abran', '¡abre', '¡abusado', '¡achís', '¡achú', '¡actúa', '¡adelante', '¡adiós', '¡adoro', '¡adoré', '¡agarrate', '¡aguarda', '¡aguas', '¡ah', '¡ahora', '¡ahí', '¡al', '¡alegra', '¡alto', '¡alá', '¡amo', '¡amén', '¡anda', '¡andate', '¡andá', '¡anótalo', '¡apaga', '¡apurate', '¡aquí', '¡arriba', '¡arrodíllate', '¡arroja', '¡asombroso', '¡así', '¡ataca', '¡atacad', '¡ataque', '¡ataquen', '¡atención', '¡atrapa', '¡atrás', '¡auxilio', '¡avergüénzate', '¡avísame', '¡ay', '¡ayuda', '¡ayúdame', '¡ayúdeme', '¡ayúdenme', '¡barco', '¡basta', '¡bastardo', '¡batería', '¡bau', '¡bien', '¡bienvenido', '¡bienvenidos', '¡bolacero', '¡buen', '¡buena', '¡buenas', '¡buenos', '¡cabrón', '¡callaos', '¡callate', '¡cambia', '¡canto', '¡capturadlo', '¡caramba', '¡cargad', '¡cenutrio', '¡cerrá', '¡chalado', '¡chapó', '¡chau', '¡chócala', '¡chócale', '¡cierra', '¡claro', '¡cobarde', '¡cobardica', '¡cogedlo', '¡comamos', '¡combate', '¡come', '¡compra', '¡compruébalo', '¡comé', '¡confía', '¡continúa', '¡continúe', '¡corra', '¡corran', '¡corre', '¡correcto', '¡corred', '¡corta', '¡corten', '¡cortá', '¡cree', '¡creed', '¡creé', '¡cuidado', '¡cuidate', '¡cuéntame', '¡cállate', '¡cálmate', '¡cógelo', '¡cómalo', '¡cómeme', '¡cómo', '¡córtate', '¡dame', '¡danos', '¡date', '¡de', '¡decid', '¡definitivamente', '¡dejad', '¡dejadme', '¡dejame', '¡dejá', '¡descanso', '¡desde', '¡despacio', '¡despertate', '¡despierta', '¡despiértate', '¡detenlo', '¡devuélvelo', '¡di', '¡diantre', '¡diantres', '¡dilo', '¡dios', '¡disparad', '¡diviértete', '¡dulces', '¡dámelas', '¡dámelos', '¡déjale', '¡déjalo', '¡déjame', '¡déjeme', '¡dígalo', '¡dímelo', '¡el', '¡ella', '¡empecemos', '¡empieza', '¡empuja', '¡empujad', '¡empuje', '¡empujen', '¡encantador', '¡enriquézcanse', '¡enséñame', '¡entendido', '¡entra', '¡entren', '¡eras', '¡eres', '¡es', '¡esa', '¡escribe', '¡escucha', '¡escuchad', '¡escuchadlo', '¡escuchame', '¡escuche', '¡escuchen', '¡escuchá', '¡escúchelo', '¡escúcheme', '¡escúchenme', '¡esforzate', '¡eso', '¡espera', '¡esperadme', '¡espero', '¡esperá', '¡espérame', '¡estamos', '¡estarás', '¡esto', '¡estoy', '¡estudia', '¡estudiad', '¡está', '¡estáis', '¡estás', '¡exactamente', '¡excelente', '¡explota', '¡fallo', '¡fantástico', '¡felices', '¡felicidades', '¡feliz', '¡finalmente', '¡fue', '¡fuego', '¡fuera', '¡fíjate', '¡genial', '¡gloria', '¡gol', '¡gracias', '¡gritalo', '¡guarde', '¡guarden', '¡guau', '¡guauuauuau', '¡ha', '¡habla', '¡hablad', '¡hable', '¡hace', '¡haced', '¡hacedlo', '¡hagámoslo', '¡hasta', '¡haz', '¡hazlo', '¡he', '¡helo', '¡hermanos', '¡hey', '¡hijo', '¡hola', '¡hoy', '¡huele', '¡hurra', '¡háblame', '¡híjole', '¡icen', '¡idiota', '¡imbécil', '¡imposible', '¡incendio', '¡inclínate', '¡increíble', '¡instala', '¡intentá', '¡intentémoslo', '¡intras', '¡jala', '¡jaque', '¡jesús', '¡john', '¡jódete', '¡la', '¡ladrón', '¡largo', '¡le', '¡lea', '¡lean', '¡lee', '¡leed', '¡les', '¡levanta', '¡levántate', '¡levántese', '¡leé', '¡lindo', '¡listo', '¡llama', '¡llámame', '¡lo', '¡lárgate', '¡lávate', '¡madura', '¡magnífico', '¡mala', '¡mamá', '¡mangos', '¡manos', '¡matalo', '¡me', '¡mentiroso', '¡menudo', '¡mete', '¡mierda', '¡mil', '¡minga', '¡mira', '¡muchas', '¡mucho', '¡muere', '¡muy', '¡muéstrate', '¡muéstrese', '¡más', '¡mátalo', '¡míralo', '¡mírame', '¡nada', '¡necesito', '¡ni', '¡niños', '¡no', '¡noo', '¡nos', '¡nunca', '¡oh', '¡ojalá', '¡os', '¡otra', '¡oye', '¡para', '¡parad', '¡paradla', '¡parate', '¡pare', '¡participa', '¡pasa', '¡pasad', '¡pase', '¡pasen', '¡pasá', '¡pedazo', '¡pelea', '¡peligro', '¡perdoname', '¡perdóname', '¡perfecto', '¡pero', '¡piénsalo', '¡piérdete', '¡pon', '¡ponte', '¡por', '¡prende', '¡prendedlo', '¡prepárate', '¡probalo', '¡prohibido', '¡pues', '¡párala', '¡páralo', '¡párate', '¡pásale', '¡pásatelo', '¡pásele', '¡pásenle', '¡pórtense', '¡púdrete', '¡que', '¡quedate', '¡quiero', '¡quieto', '¡qué', '¡quédate', '¡recuerda', '¡relajate', '¡relájate', '¡renuncia', '¡repita', '¡retrocede', '¡rápido', '¡ríndete', '¡sal', '¡salga', '¡salid', '¡salta', '¡salud', '¡saludos', '¡salvaje', '¡sam', '¡se', '¡sed', '¡seguid', '¡seguime', '¡sentate', '¡siga', '¡sigan', '¡sigue', '¡silencio', '¡sin', '¡siéntate', '¡sobre', '¡socorro', '¡somos', '¡son', '¡soy', '¡suelta', '¡suena', '¡suéltalo', '¡suéltame', '¡sé', '¡sí', '¡sígame', '¡sígueme', '¡sólo', '¡súbase', '¡te', '¡ten', '¡tenga', '¡tengo', '¡tira', '¡tirame', '¡tiren', '¡toca', '¡todo', '¡todos', '¡tom', '¡tomátela', '¡tonterías', '¡tonto', '¡traba', '¡trata', '¡tratá', '¡tregua', '¡tremendo', '¡tú', '¡un', '¡vale', '¡vamos', '¡vaya', '¡ve', '¡veamos', '¡ven', '¡venga', '¡venzamos', '¡vení', '¡vete', '¡visítenos', '¡volvé', '¡vote', '¡voy', '¡válgame', '¡vámonos', '¡váyanse', '¡y', '¡ya', '¡yo', '¡ábrete', '¡ánimo', '¡él', '¡ése', '¡ínguiesu', '¡órale', '¡última', '«¡mary»', '«¡tom»', 'ábrela', 'ácido', 'ándale', 'ángel', 'ánimos', 'árabe', 'árabes', 'árbol', 'átalo', 'échame', 'écheme', 'él', 'éramos', 'ésa', 'ésas', 'ése', 'ésos', 'ésta', 'éstas', 'éste', 'ésto', 'éstos', 'éxito', 'última', 'último', 'únete', 'únetenos', 'úsalo', '€']\n"
          ],
          "name": "stdout"
        }
      ]
    },
    {
      "cell_type": "markdown",
      "metadata": {
        "id": "CuQ7B78BhLrx"
      },
      "source": [
        "**Task 3 (15 marks)** \n",
        "\n",
        "---\n",
        "\n",
        "*  Assign each unique word an integer value (5 marks).\n",
        "*  Create word embedding for your vocabulary using pre-trained embeddings, for example GloVe or fastText (10 marks) (https://nlp.stanford.edu/projects/glove/ , https://fasttext.cc/docs/en/english-vectors.html)\n",
        "* Print the first line of the embeddings (see below) "
      ]
    },
    {
      "cell_type": "code",
      "metadata": {
        "id": "e-g6Z11GJBjl"
      },
      "source": [
        "# Assigning each word/token an integer value for both SOURCE and TARGET \n",
        "source_vocab_index = dict([(word,i) for i, word in enumerate(source_vocab)])                  # 2462 tokens --- same as above\n",
        "target_vocab_index = dict([(word,i) for i, word in enumerate(target_vocab)])                  # 4387 tokens --- same as above"
      ],
      "execution_count": 13,
      "outputs": []
    },
    {
      "cell_type": "markdown",
      "metadata": {
        "id": "26hAECPODtLG"
      },
      "source": [
        "Tried using various fastText word-embedding(smallest: \"wiki-news-300d-1M.vec.zip\") but the session always crashed after using all the available RAM on google colab.\n",
        "\n",
        "Thus using GloVe word-embedding --- Reference from Lab 2"
      ]
    },
    {
      "cell_type": "code",
      "metadata": {
        "id": "e8hLpA3WFQUx"
      },
      "source": [
        "# !wget http://nlp.stanford.edu/data/glove.6B.zip\n",
        "# !unzip -q glove.6B.zip"
      ],
      "execution_count": 14,
      "outputs": []
    },
    {
      "cell_type": "code",
      "metadata": {
        "id": "2JuZyeSoFU3K"
      },
      "source": [
        "path_to_glove_file = \"/content/drive/MyDrive/Embeddings/GloVe/glove.6B.300d.txt\"\n",
        "\n",
        "glove_embeddings = {}\n",
        "with open(path_to_glove_file) as f:\n",
        "    for line in f:\n",
        "        word, coefs = line.split(maxsplit=1)\n",
        "        coefs = np.fromstring(coefs, \"f\", sep=\" \")\n",
        "        glove_embeddings[word] = coefs"
      ],
      "execution_count": 15,
      "outputs": []
    },
    {
      "cell_type": "code",
      "metadata": {
        "id": "Ts9Gju9nMY4T"
      },
      "source": [
        "# Creating our own word-embedding from the pre-trained GloVe embedding\n",
        "\n",
        "# Embedding Shape - 300 - because the pretrained model selected has 300 dimensions\n",
        "# glove_embeddings['the'].shape\n",
        "embedding_shape = 300\n",
        "# source_embedding shape : (2580, 200) --- (source_tokens, vector dimensions)\n",
        "source_embedding = zeros((len(source_vocab_index), embedding_shape))\n",
        "\n",
        "# for every source token present in GloVe embedding\n",
        "# extract the vector and assign it to our own word-embedding\n",
        "for word, index in source_vocab_index.items():\n",
        "  try:\n",
        "    vector = glove_embeddings[word]\n",
        "    source_embedding[index] = vector\n",
        "  except:\n",
        "    continue"
      ],
      "execution_count": 17,
      "outputs": []
    },
    {
      "cell_type": "code",
      "metadata": {
        "colab": {
          "base_uri": "https://localhost:8080/"
        },
        "id": "Vx2hvFPI7szz",
        "outputId": "e8a15a60-1651-45fd-eb98-fa02899bafee"
      },
      "source": [
        "# Printing First line of embedding\n",
        "print(source_embedding[0])"
      ],
      "execution_count": 18,
      "outputs": [
        {
          "output_type": "stream",
          "text": [
            "[-2.86769986e-01  1.22570001e-01  2.42209993e-02  4.07350004e-01\n",
            " -4.48210001e-01  7.32349977e-02 -9.80560035e-02  3.57369989e-01\n",
            "  4.87350002e-02 -1.05470002e+00  7.07840025e-01  3.11280012e-01\n",
            "  5.99430017e-02  5.30600011e-01 -4.11579991e-03  4.27199990e-01\n",
            " -3.06369990e-01  1.53099999e-01 -3.58009994e-01 -3.45400006e-01\n",
            " -3.51500005e-01 -3.94410014e-01  1.47429993e-04  1.02849998e-01\n",
            " -1.02200001e-01  1.43830001e-01 -1.93800002e-01 -1.31219998e-01\n",
            " -4.26800013e-01 -5.49809992e-01 -5.20900011e-01  4.34170008e-01\n",
            "  5.72960004e-02  3.81639987e-01 -1.24979997e+00  1.11709997e-01\n",
            "  3.37190002e-01  5.81290007e-01 -3.85199994e-01  1.02820002e-01\n",
            "  1.78220004e-01 -3.29869986e-01 -4.63510007e-01  9.18649971e-01\n",
            " -1.91689998e-01 -1.90870002e-01  6.01069987e-01  5.15559971e-01\n",
            " -2.71519989e-01  1.22309998e-01 -1.12980001e-01  1.20660000e-01\n",
            " -5.50090015e-01  8.71890008e-01 -1.91349998e-01 -1.15879998e-01\n",
            "  1.15450002e-01 -3.15109998e-01  4.06069994e-01 -4.43120003e-01\n",
            "  4.93649989e-02  8.57139975e-02  2.86390007e-01 -6.11660004e-01\n",
            " -6.12049997e-02 -9.87160027e-01 -1.60879999e-01  3.29340011e-01\n",
            "  9.19369981e-02 -5.81839979e-01 -1.90670006e-02  8.04109991e-01\n",
            "  1.71570003e-01 -1.09190002e-01 -5.52760005e-01  4.81810004e-01\n",
            "  1.94309995e-01 -1.71800002e-01  2.63049990e-01 -1.23209998e-01\n",
            " -1.83540002e-01 -5.59369981e-01 -1.62579998e-01 -2.53529996e-01\n",
            " -1.12199999e-01 -2.80499995e-01 -6.88530028e-01  1.24179997e-01\n",
            " -1.48469999e-01 -3.08010012e-01  6.54700026e-02 -5.23119986e-01\n",
            " -5.97329997e-02 -4.63970006e-01  7.41600022e-02 -2.26129994e-01\n",
            " -2.32820004e-01  2.27310002e-01  1.77800000e-01 -1.08850002e-01\n",
            "  1.44749999e-01 -3.92320007e-01  5.23980021e-01 -4.70820010e-01\n",
            " -2.43120000e-01 -3.39910001e-01  2.37550005e-01 -1.94110006e-01\n",
            " -3.84770006e-01  2.88839996e-01  6.19920008e-02 -2.07240000e-01\n",
            "  4.43830013e-01  2.23010010e-03 -7.40639985e-01 -1.35179996e-01\n",
            " -3.04479986e-01  2.12789997e-01  6.64129972e-01 -2.45739996e-01\n",
            " -4.03589988e-03 -9.95019972e-02  4.85870004e-01 -1.61419995e-02\n",
            " -1.71159998e-01 -1.49529994e-01 -1.10969998e-01 -1.21380001e-01\n",
            " -1.31819993e-01  1.11450002e-01 -3.45750004e-01  8.43479991e-01\n",
            " -1.41090006e-01  3.60460013e-01 -5.08259982e-02 -2.85169989e-01\n",
            "  1.40530005e-01 -2.85549998e-01 -5.09389997e-01  6.00330010e-02\n",
            "  8.63320008e-02 -1.07819997e-01 -3.98730010e-01  4.53599989e-01\n",
            " -4.50859994e-01  2.74749994e-02 -1.36089996e-01  1.25039995e-01\n",
            "  4.78370011e-01 -1.46679997e-01  8.24959993e-01  1.13159999e-01\n",
            "  6.97700009e-02 -9.87050012e-02  1.79629996e-01 -8.71429965e-02\n",
            "  3.58170003e-01  1.73960000e-01 -4.56580013e-01  1.82780009e-02\n",
            "  4.92380001e-02  8.05059969e-02 -3.77059996e-01 -2.72810012e-01\n",
            "  4.25370008e-01  1.58299997e-01  5.96899986e-02  2.40770001e-02\n",
            " -4.17780012e-01 -1.56420007e-01  6.57440007e-01  2.34619994e-03\n",
            " -2.66160011e-01  3.46819997e-01  1.65250003e-01 -2.28890002e-01\n",
            "  3.39700013e-01  1.09099999e-01 -1.67140007e-01  1.02789998e+00\n",
            " -2.82350004e-01  2.01629996e-01 -3.23479995e-02 -5.28699994e-01\n",
            " -2.27960005e-01 -5.11759996e-01  1.64800003e-01  3.17880005e-01\n",
            "  1.19779997e-01  6.44249976e-01  6.28250003e-01  1.16349995e+00\n",
            "  2.79139996e-01  1.56320006e-01  1.48019999e-01 -5.80879986e-01\n",
            "  3.47880006e-01 -5.40730000e-01  4.74510014e-01 -2.41339996e-01\n",
            "  1.24109995e+00 -8.39919969e-02  1.53170004e-01  3.67799997e-01\n",
            "  7.19690025e-02  1.23489998e-01 -2.38130003e-01 -2.37399995e-01\n",
            "  1.83850005e-01 -2.11439997e-01 -2.07749993e-01 -8.02370012e-01\n",
            " -4.01039988e-01  4.59039986e-01 -1.35540003e-02 -1.67530000e-01\n",
            "  7.32259974e-02  8.13419968e-02 -2.01940000e-01 -4.52929996e-02\n",
            "  1.02849998e-01  1.33619994e-01 -7.52020001e-01  6.10999987e-02\n",
            "  1.43649997e-02 -3.89090002e-01  3.60089988e-01 -5.76340020e-01\n",
            "  2.23100007e-01  1.41230002e-01 -2.29440004e-01  3.50459993e-01\n",
            " -7.24140033e-02 -7.69820018e-03  4.94250000e-01  3.02460015e-01\n",
            "  3.86460006e-01  2.79780000e-01  2.46179998e-01  5.67100011e-02\n",
            " -3.64650011e-01 -4.92190003e-01  7.59150028e-01  1.63059998e-02\n",
            " -2.71450013e-01  4.11650017e-02  5.49470007e-01 -6.26649976e-01\n",
            "  1.94330007e-01 -4.43190008e-01 -1.97889999e-01  8.21750015e-02\n",
            "  3.80190015e-02  1.17859997e-01 -2.86300004e-01  1.51020005e-01\n",
            "  7.22339973e-02 -2.90369987e-01  5.32030016e-02  2.89440006e-01\n",
            "  2.02480003e-01  9.69559997e-02  1.39719993e-01 -1.81740001e-01\n",
            "  2.46189997e-01 -4.76170003e-01 -2.22800002e-01  1.04220003e-01\n",
            "  7.95610011e-01  3.68019998e-01  1.19649999e-01  4.56140004e-02\n",
            "  1.08110003e-01  1.75160006e-01 -1.48059994e-01  5.09169996e-01\n",
            " -1.20200002e+00 -5.53269982e-01  1.68620005e-01  2.35740006e-01\n",
            "  2.04850003e-01 -2.25869998e-01  8.41709971e-02 -1.86110005e-01\n",
            "  7.80320019e-02  5.18159986e-01 -5.53709984e-01 -2.66250014e-01\n",
            " -6.63350001e-02  4.87170011e-01 -6.25039995e-01  8.40719976e-03\n",
            " -2.90789992e-01 -3.41560006e-01  6.16419971e-01  6.54810011e-01\n",
            " -5.67529984e-02 -8.21600020e-01  5.89250028e-01  3.53199989e-01]\n"
          ],
          "name": "stdout"
        }
      ]
    },
    {
      "cell_type": "markdown",
      "metadata": {
        "id": "2QfLgKEgazro"
      },
      "source": [
        "## Section 2 Translation Model training\n",
        "\n",
        "\n",
        "\n",
        "---\n",
        "\n"
      ]
    },
    {
      "cell_type": "markdown",
      "metadata": {
        "id": "Y8WnlX8d0RVj"
      },
      "source": [
        "**Task 4 (15 marks)**\n",
        "* Provide code for the encoder using Keras LSTM (5 marks)\n",
        "* Provide code for the decoder using Keras LSTM (5 marks)\n",
        "* Train the sequence2sequence (encoder-decoder) model (5 marks) \n"
      ]
    },
    {
      "cell_type": "code",
      "metadata": {
        "id": "YLSCI_zJDxtI"
      },
      "source": [
        "# encoder input data : each source line (10K) is considered having sentence length = having max sentence length(18) \n",
        "# which is filled with 1-hot encoded tokens(2580)\n",
        "encoder_input_data   = np.zeros((len(source_lines), max_seq_len_source), dtype='float32')\n",
        "\n",
        "# decoder input data : each target line (10K) is considered having sentence length = having max sentence length(30) \n",
        "# which is filled with 1-hot encoded tokens(4650)\n",
        "decoder_input_data   = np.zeros((len(source_lines), max_seq_len_target), dtype='float32')\n",
        "\n",
        "# decoder target data : each target line (10K) is considered having sentence length = having max sentence length(30) \n",
        "# which is filled with 1-hot encoded tokens(4650)\n",
        "decoder_target_data  = np.zeros((len(source_lines), max_seq_len_target, len_target_vocab), dtype='float32')"
      ],
      "execution_count": 19,
      "outputs": []
    },
    {
      "cell_type": "code",
      "metadata": {
        "colab": {
          "base_uri": "https://localhost:8080/"
        },
        "id": "LbJv5P4vERND",
        "outputId": "4d243d2c-d04e-4610-d2fb-91ff4e2cc138"
      },
      "source": [
        "# One- hot encoding\n",
        "for line_index, (source_indv_line, target_indv_line) in enumerate(zip(source_lines, target_lines)):\n",
        "  for token_index, token in enumerate((source_indv_line).split()):\n",
        "    encoder_input_data[line_index, token_index] = source_vocab_index[token]\n",
        "\n",
        "  for token_index, token in enumerate((target_indv_line).split()):\n",
        "    decoder_input_data[line_index, token_index] = target_vocab_index[token]\n",
        "\n",
        "    if(token_index > 0):\n",
        "      decoder_target_data[line_index, token_index - 1, target_vocab_index[token]] = 1\n",
        "\n",
        "print(\"Encoder_input_data shape: \", encoder_input_data.shape, \",\\nsample: \", encoder_input_data[1])\n",
        "print(\"\\nDecoder_input_data shape: \", decoder_input_data.shape, \",\\nsample: \", decoder_input_data[1])\n",
        "print(\"\\nDecoder_output_data shape: \", decoder_target_data.shape, \",\\nsample: \", decoder_target_data[1])"
      ],
      "execution_count": 20,
      "outputs": [
        {
          "output_type": "stream",
          "text": [
            "Encoder_input_data shape:  (9000, 18) ,\n",
            "sample:  [1116.  973. 1911.    0.    0.    0.    0.    0.    0.    0.    0.    0.\n",
            "    0.    0.    0.    0.    0.    0.]\n",
            "\n",
            "Decoder_input_data shape:  (9000, 30) ,\n",
            "sample:  [  10. 1511. 1212.   11.    0.    0.    0.    0.    0.    0.    0.    0.\n",
            "    0.    0.    0.    0.    0.    0.    0.    0.    0.    0.    0.    0.\n",
            "    0.    0.    0.    0.    0.    0.]\n",
            "\n",
            "Decoder_output_data shape:  (9000, 30, 4387) ,\n",
            "sample:  [[0. 0. 0. ... 0. 0. 0.]\n",
            " [0. 0. 0. ... 0. 0. 0.]\n",
            " [0. 0. 0. ... 0. 0. 0.]\n",
            " ...\n",
            " [0. 0. 0. ... 0. 0. 0.]\n",
            " [0. 0. 0. ... 0. 0. 0.]\n",
            " [0. 0. 0. ... 0. 0. 0.]]\n"
          ],
          "name": "stdout"
        }
      ]
    },
    {
      "cell_type": "markdown",
      "metadata": {
        "id": "VXckXATMPGBz"
      },
      "source": [
        "Training Seq2Seq model"
      ]
    },
    {
      "cell_type": "code",
      "metadata": {
        "id": "IhrnpzAe_d5o"
      },
      "source": [
        "epochs          = 200 \n",
        "batch_size      = 200\n",
        "latent_dim      = 256\n",
        "embedding_shape = 300"
      ],
      "execution_count": 21,
      "outputs": []
    },
    {
      "cell_type": "code",
      "metadata": {
        "id": "1C7UCV1J1Rna"
      },
      "source": [
        "# Defining Encoder Architecture\n",
        "encoder_input    = Input(shape = (max_seq_len_source,), name = 'Encoder_input')\n",
        "embedded_encoder = Embedding(len_source_vocab, embedding_shape, weights=[source_embedding], mask_zero=True)(encoder_input)\n",
        "encoder_output, state_h, state_c = LSTM(latent_dim, return_state=True)(embedded_encoder)\n",
        "encoder_state = [state_h,state_c]"
      ],
      "execution_count": 22,
      "outputs": []
    },
    {
      "cell_type": "code",
      "metadata": {
        "id": "qIXiwJbJ8j1N"
      },
      "source": [
        "# Defining Decoder Architecture\n",
        "decoder_input    = Input(shape = (max_seq_len_target,), name = 'Decoder_input')\n",
        "embedded_decoder = Embedding(len_target_vocab, latent_dim,  mask_zero=True)(decoder_input)\n",
        "decoder_output, _, _ = LSTM(latent_dim, return_sequences=True, return_state=True)(embedded_decoder, initial_state = encoder_state)\n",
        "\n",
        "# Using Softmax activation\n",
        "decoder_dense = Dense(len_target_vocab, activation='softmax', name = 'Decoder_Dense')\n",
        "decoder_output = decoder_dense(decoder_output)"
      ],
      "execution_count": 23,
      "outputs": []
    },
    {
      "cell_type": "code",
      "metadata": {
        "colab": {
          "base_uri": "https://localhost:8080/"
        },
        "id": "PUXbw-K3BaCM",
        "outputId": "e7ad8ae8-529b-4d64-d12a-18c91df6b27c"
      },
      "source": [
        "model = Model(inputs = [encoder_input, decoder_input], outputs = decoder_output)\n",
        "model.summary()"
      ],
      "execution_count": 24,
      "outputs": [
        {
          "output_type": "stream",
          "text": [
            "Model: \"model\"\n",
            "__________________________________________________________________________________________________\n",
            "Layer (type)                    Output Shape         Param #     Connected to                     \n",
            "==================================================================================================\n",
            "Encoder_input (InputLayer)      [(None, 18)]         0                                            \n",
            "__________________________________________________________________________________________________\n",
            "Decoder_input (InputLayer)      [(None, 30)]         0                                            \n",
            "__________________________________________________________________________________________________\n",
            "embedding (Embedding)           (None, 18, 300)      738600      Encoder_input[0][0]              \n",
            "__________________________________________________________________________________________________\n",
            "embedding_1 (Embedding)         (None, 30, 256)      1123072     Decoder_input[0][0]              \n",
            "__________________________________________________________________________________________________\n",
            "lstm (LSTM)                     [(None, 256), (None, 570368      embedding[0][0]                  \n",
            "__________________________________________________________________________________________________\n",
            "lstm_1 (LSTM)                   [(None, 30, 256), (N 525312      embedding_1[0][0]                \n",
            "                                                                 lstm[0][1]                       \n",
            "                                                                 lstm[0][2]                       \n",
            "__________________________________________________________________________________________________\n",
            "Decoder_Dense (Dense)           (None, 30, 4387)     1127459     lstm_1[0][0]                     \n",
            "==================================================================================================\n",
            "Total params: 4,084,811\n",
            "Trainable params: 4,084,811\n",
            "Non-trainable params: 0\n",
            "__________________________________________________________________________________________________\n"
          ],
          "name": "stdout"
        }
      ]
    },
    {
      "cell_type": "code",
      "metadata": {
        "id": "zeZwoSHGBrry",
        "colab": {
          "base_uri": "https://localhost:8080/"
        },
        "outputId": "942d06f6-ed60-4728-994d-854239792411"
      },
      "source": [
        "model.compile(optimizer = 'rmsprop', loss = 'categorical_crossentropy', metrics=['accuracy'])\n",
        "\n",
        "# Callback to stop training the model when the validation loss has stopped improving\n",
        "early = keras.callbacks.EarlyStopping(monitor = 'val_loss', patience = 10, mode = 'min')\n",
        "\n",
        "# Fitting the model\n",
        "model_history = model.fit([encoder_input_data, decoder_input_data], decoder_target_data,\n",
        "                          batch_size = batch_size , epochs = epochs, validation_split=0.12,\n",
        "                          callbacks=[early])\n",
        "\n",
        "model.save('seq2seq_source_target.h5')"
      ],
      "execution_count": 30,
      "outputs": [
        {
          "output_type": "stream",
          "text": [
            "Epoch 1/200\n",
            "40/40 [==============================] - 34s 628ms/step - loss: 0.5928 - accuracy: 0.2629 - val_loss: 0.5916 - val_accuracy: 0.2779\n",
            "Epoch 2/200\n",
            "40/40 [==============================] - 22s 544ms/step - loss: 0.5391 - accuracy: 0.2904 - val_loss: 0.5617 - val_accuracy: 0.3037\n",
            "Epoch 3/200\n",
            "40/40 [==============================] - 22s 548ms/step - loss: 0.4962 - accuracy: 0.3129 - val_loss: 0.5310 - val_accuracy: 0.3188\n",
            "Epoch 4/200\n",
            "40/40 [==============================] - 21s 536ms/step - loss: 0.4596 - accuracy: 0.3329 - val_loss: 0.5075 - val_accuracy: 0.3323\n",
            "Epoch 5/200\n",
            "40/40 [==============================] - 22s 545ms/step - loss: 0.4218 - accuracy: 0.3509 - val_loss: 0.4865 - val_accuracy: 0.3486\n",
            "Epoch 6/200\n",
            "40/40 [==============================] - 22s 548ms/step - loss: 0.3902 - accuracy: 0.3706 - val_loss: 0.4674 - val_accuracy: 0.3612\n",
            "Epoch 7/200\n",
            "40/40 [==============================] - 22s 551ms/step - loss: 0.3625 - accuracy: 0.3839 - val_loss: 0.4601 - val_accuracy: 0.3631\n",
            "Epoch 8/200\n",
            "40/40 [==============================] - 22s 549ms/step - loss: 0.3366 - accuracy: 0.3984 - val_loss: 0.4412 - val_accuracy: 0.3781\n",
            "Epoch 9/200\n",
            "40/40 [==============================] - 22s 562ms/step - loss: 0.3098 - accuracy: 0.4135 - val_loss: 0.4272 - val_accuracy: 0.3874\n",
            "Epoch 10/200\n",
            "40/40 [==============================] - 22s 547ms/step - loss: 0.2880 - accuracy: 0.4325 - val_loss: 0.4218 - val_accuracy: 0.3953\n",
            "Epoch 11/200\n",
            "40/40 [==============================] - 22s 543ms/step - loss: 0.2699 - accuracy: 0.4420 - val_loss: 0.4094 - val_accuracy: 0.4031\n",
            "Epoch 12/200\n",
            "40/40 [==============================] - 21s 538ms/step - loss: 0.2496 - accuracy: 0.4618 - val_loss: 0.4051 - val_accuracy: 0.4093\n",
            "Epoch 13/200\n",
            "40/40 [==============================] - 22s 545ms/step - loss: 0.2330 - accuracy: 0.4761 - val_loss: 0.4001 - val_accuracy: 0.4124\n",
            "Epoch 14/200\n",
            "40/40 [==============================] - 22s 546ms/step - loss: 0.2157 - accuracy: 0.4931 - val_loss: 0.3972 - val_accuracy: 0.4180\n",
            "Epoch 15/200\n",
            "40/40 [==============================] - 22s 550ms/step - loss: 0.2010 - accuracy: 0.5127 - val_loss: 0.3883 - val_accuracy: 0.4291\n",
            "Epoch 16/200\n",
            "40/40 [==============================] - 22s 550ms/step - loss: 0.1882 - accuracy: 0.5262 - val_loss: 0.3852 - val_accuracy: 0.4305\n",
            "Epoch 17/200\n",
            "40/40 [==============================] - 22s 539ms/step - loss: 0.1738 - accuracy: 0.5448 - val_loss: 0.3846 - val_accuracy: 0.4297\n",
            "Epoch 18/200\n",
            "40/40 [==============================] - 22s 544ms/step - loss: 0.1623 - accuracy: 0.5574 - val_loss: 0.3738 - val_accuracy: 0.4427\n",
            "Epoch 19/200\n",
            "40/40 [==============================] - 22s 542ms/step - loss: 0.1495 - accuracy: 0.5738 - val_loss: 0.3740 - val_accuracy: 0.4444\n",
            "Epoch 20/200\n",
            "40/40 [==============================] - 22s 549ms/step - loss: 0.1382 - accuracy: 0.5906 - val_loss: 0.3735 - val_accuracy: 0.4446\n",
            "Epoch 21/200\n",
            "40/40 [==============================] - 22s 550ms/step - loss: 0.1290 - accuracy: 0.6048 - val_loss: 0.3711 - val_accuracy: 0.4474\n",
            "Epoch 22/200\n",
            "40/40 [==============================] - 22s 546ms/step - loss: 0.1190 - accuracy: 0.6190 - val_loss: 0.3708 - val_accuracy: 0.4478\n",
            "Epoch 23/200\n",
            "40/40 [==============================] - 22s 559ms/step - loss: 0.1113 - accuracy: 0.6280 - val_loss: 0.3677 - val_accuracy: 0.4554\n",
            "Epoch 24/200\n",
            "40/40 [==============================] - 22s 544ms/step - loss: 0.1028 - accuracy: 0.6407 - val_loss: 0.3689 - val_accuracy: 0.4560\n",
            "Epoch 25/200\n",
            "40/40 [==============================] - 22s 544ms/step - loss: 0.0956 - accuracy: 0.6484 - val_loss: 0.3659 - val_accuracy: 0.4566\n",
            "Epoch 26/200\n",
            "40/40 [==============================] - 22s 555ms/step - loss: 0.0893 - accuracy: 0.6585 - val_loss: 0.3674 - val_accuracy: 0.4603\n",
            "Epoch 27/200\n",
            "40/40 [==============================] - 22s 549ms/step - loss: 0.0822 - accuracy: 0.6673 - val_loss: 0.3712 - val_accuracy: 0.4568\n",
            "Epoch 28/200\n",
            "40/40 [==============================] - 22s 545ms/step - loss: 0.0792 - accuracy: 0.6690 - val_loss: 0.3683 - val_accuracy: 0.4588\n",
            "Epoch 29/200\n",
            "40/40 [==============================] - 22s 554ms/step - loss: 0.0727 - accuracy: 0.6787 - val_loss: 0.3696 - val_accuracy: 0.4586\n",
            "Epoch 30/200\n",
            "40/40 [==============================] - 22s 542ms/step - loss: 0.0674 - accuracy: 0.6839 - val_loss: 0.3710 - val_accuracy: 0.4657\n",
            "Epoch 31/200\n",
            "40/40 [==============================] - 22s 549ms/step - loss: 0.0639 - accuracy: 0.6872 - val_loss: 0.3743 - val_accuracy: 0.4611\n",
            "Epoch 32/200\n",
            "40/40 [==============================] - 22s 547ms/step - loss: 0.0609 - accuracy: 0.6894 - val_loss: 0.3814 - val_accuracy: 0.4560\n",
            "Epoch 33/200\n",
            "40/40 [==============================] - 22s 546ms/step - loss: 0.0587 - accuracy: 0.6935 - val_loss: 0.3766 - val_accuracy: 0.4643\n",
            "Epoch 34/200\n",
            "40/40 [==============================] - 21s 537ms/step - loss: 0.0537 - accuracy: 0.6980 - val_loss: 0.3766 - val_accuracy: 0.4627\n",
            "Epoch 35/200\n",
            "40/40 [==============================] - 22s 542ms/step - loss: 0.0524 - accuracy: 0.6979 - val_loss: 0.3797 - val_accuracy: 0.4615\n"
          ],
          "name": "stdout"
        }
      ]
    },
    {
      "cell_type": "code",
      "metadata": {
        "id": "w5CsKTHvaNFd",
        "colab": {
          "base_uri": "https://localhost:8080/",
          "height": 573
        },
        "outputId": "1cb5f14c-16c7-4fdf-9697-88dfc1276d69"
      },
      "source": [
        "# list all data in history\n",
        "# print(model_history.history.keys())\n",
        "\n",
        "# summarize history for accuracy\n",
        "plt.plot(model_history.history['accuracy'])\n",
        "plt.plot(model_history.history['val_accuracy'])\n",
        "plt.title('Model Accuracy')\n",
        "plt.ylabel('Accuracy')\n",
        "plt.xlabel('Epoch')\n",
        "# plt.ylim([0.60, 1.00])\n",
        "plt.legend(['Training', 'Validation'], loc='lower right')\n",
        "plt.show()\n",
        "\n",
        "# summarize history for loss\n",
        "plt.plot(model_history.history['loss'])\n",
        "plt.plot(model_history.history['val_loss'])\n",
        "plt.title('Model Loss')\n",
        "plt.ylabel('Loss')\n",
        "plt.xlabel('Epoch')\n",
        "plt.legend(['Training', 'Validation'], loc='best')\n",
        "plt.show()"
      ],
      "execution_count": 33,
      "outputs": [
        {
          "output_type": "display_data",
          "data": {
            "image/png": "[encoded data removed]",
            "text/plain": [
              "<Figure size 432x288 with 1 Axes>"
            ]
          },
          "metadata": {
            "tags": [],
            "needs_background": "light"
          }
        },
        {
          "output_type": "display_data",
          "data": {
            "image/png": "[encoded data removed]",
            "text/plain": [
              "<Figure size 432x288 with 1 Axes>"
            ]
          },
          "metadata": {
            "tags": [],
            "needs_background": "light"
          }
        }
      ]
    },
    {
      "cell_type": "markdown",
      "metadata": {
        "id": "0Sy_WCp31x79"
      },
      "source": [
        "## Section 3 Testing\n",
        "\n",
        "---\n",
        "\n",
        "**Task 5 (20 marks)**\n",
        "\n",
        "* Use the trained model to translate the text from the source into the target language (10 marks). \n",
        "* Use the test/evaluation set (see Section 1) and perform an automatic evaluation with the BLEU metric (10 marks). \n",
        "You can use the NLTK library to calculate BLEU."
      ]
    },
    {
      "cell_type": "code",
      "metadata": {
        "id": "lXg4Nacd253k"
      },
      "source": [
        "#Your code goes here"
      ],
      "execution_count": null,
      "outputs": []
    },
    {
      "cell_type": "markdown",
      "metadata": {
        "id": "wb4F1-a00Hw6"
      },
      "source": [
        "# Section 4 Attention\n",
        "\n",
        "---\n",
        "\n"
      ]
    },
    {
      "cell_type": "markdown",
      "metadata": {
        "id": "6XTD-fCC1yUA"
      },
      "source": [
        "**Task 5 (40 Marks)** Sequence2Sequence\n",
        "\n",
        "* Extend the existing Seq2Seq model with an attention mechanism [Discussed in Class]\n",
        "* Create sequence2sequence model with attention (15 marks)\n",
        "* Train the model with the same data from Section 1 (10 marks)\n",
        "* Translate the evaluation set using the sequence2sequence attention model (10 marks)\n",
        "* Evaluate the translations made with the sequence2sequence attention model and compare it with the model without attention using BLEU (5 marks)"
      ]
    },
    {
      "cell_type": "code",
      "metadata": {
        "id": "cddDQ4923cPY"
      },
      "source": [
        "#Your code goes here"
      ],
      "execution_count": null,
      "outputs": []
    }
  ]
}